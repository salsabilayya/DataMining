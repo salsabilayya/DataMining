{
  "nbformat": 4,
  "nbformat_minor": 0,
  "metadata": {
    "colab": {
      "provenance": [],
      "include_colab_link": true
    },
    "kernelspec": {
      "name": "python3",
      "display_name": "Python 3"
    },
    "language_info": {
      "name": "python"
    }
  },
  "cells": [
    {
      "cell_type": "markdown",
      "metadata": {
        "id": "view-in-github",
        "colab_type": "text"
      },
      "source": [
        "<a href=\"https://colab.research.google.com/github/salsabilayya/DataMining/blob/main/Checkpoint%20(2)_Tsurayya_Salsabila_(2209116076).ipynb\" target=\"_parent\"><img src=\"https://colab.research.google.com/assets/colab-badge.svg\" alt=\"Open In Colab\"/></a>"
      ]
    },
    {
      "cell_type": "markdown",
      "source": [
        "# **Which Ketchup is Best?**"
      ],
      "metadata": {
        "id": "h3AZjxo2ZxS6"
      }
    },
    {
      "cell_type": "markdown",
      "source": [
        "#**Import Library**"
      ],
      "metadata": {
        "id": "JNBmfbIjWxgM"
      }
    },
    {
      "cell_type": "code",
      "source": [
        "import numpy as np\n",
        "import pandas as pd\n",
        "\n",
        "df = pd.read_csv('Ketchup.csv')\n",
        "data = pd.DataFrame({'x':np.arange(1,101),'y':np.random.normal(0,4,100)})"
      ],
      "metadata": {
        "id": "JsnHJGLtW06a"
      },
      "execution_count": 1,
      "outputs": []
    },
    {
      "cell_type": "code",
      "source": [
        "import matplotlib.pyplot as plt\n",
        "import seaborn as sns\n",
        "import plotly.express as px"
      ],
      "metadata": {
        "id": "1E-DQMOmaa3u"
      },
      "execution_count": 2,
      "outputs": []
    },
    {
      "cell_type": "code",
      "source": [
        "df.info()"
      ],
      "metadata": {
        "colab": {
          "base_uri": "https://localhost:8080/"
        },
        "id": "s4ov5_CXlvjH",
        "outputId": "2c9f0695-bce4-47d8-c2a3-7d0c16bc0c5d"
      },
      "execution_count": 3,
      "outputs": [
        {
          "output_type": "stream",
          "name": "stdout",
          "text": [
            "<class 'pandas.core.frame.DataFrame'>\n",
            "RangeIndex: 4956 entries, 0 to 4955\n",
            "Data columns (total 8 columns):\n",
            " #   Column          Non-Null Count  Dtype  \n",
            "---  ------          --------------  -----  \n",
            " 0   Unnamed: 0      4956 non-null   int64  \n",
            " 1   Ketchup.hid     4956 non-null   int64  \n",
            " 2   Ketchup.id      4956 non-null   int64  \n",
            " 3   Ketchup.choice  4956 non-null   object \n",
            " 4   price.heinz     4956 non-null   float64\n",
            " 5   price.hunts     4956 non-null   float64\n",
            " 6   price.delmonte  4956 non-null   float64\n",
            " 7   price.stb       4956 non-null   float64\n",
            "dtypes: float64(4), int64(3), object(1)\n",
            "memory usage: 309.9+ KB\n"
          ]
        }
      ]
    },
    {
      "cell_type": "markdown",
      "source": [
        "#**BUSINESS UNDERSTANDING**"
      ],
      "metadata": {
        "id": "NjuQhrNyZtm3"
      }
    },
    {
      "cell_type": "markdown",
      "source": [
        "##**Business Objective**"
      ],
      "metadata": {
        "id": "qzSZy2KwZ4zx"
      }
    },
    {
      "cell_type": "markdown",
      "source": [
        "Masukkan Business Objective Kalian DisiniKetchup (saus tomat) banyak digunakan sebagai penambah rasa makanan. Namun, merk ketchup sangat banyak di minimarket, sehingga akan susah untuk mencari brand mana yang paling enak. Tujuan dataset ini adalah untuk mencari tahu preferensi ketchup pelanggan dan ketchup mana yang paling disukai oleh pelanggan."
      ],
      "metadata": {
        "id": "hU2-bH_KZ8Ge"
      }
    },
    {
      "cell_type": "markdown",
      "source": [
        "##**Assess Situation**"
      ],
      "metadata": {
        "id": "3dTYY-qjZ_Yz"
      }
    },
    {
      "cell_type": "markdown",
      "source": [
        "Semua brand ketchup yang beredar di minimarket saling bersaing, masing masing brand memiliki preferensi yang berbeda terhadap pelanggannya. Setiap pelanggan memiliki alasannya kenapa memilih ketchup tersebut, dan tanpa adanya paksaan."
      ],
      "metadata": {
        "id": "3mI7ZTjDaGnC"
      }
    },
    {
      "cell_type": "markdown",
      "source": [
        "##**Data Mining Goals**"
      ],
      "metadata": {
        "id": "Tqvpt5r-aJKs"
      }
    },
    {
      "cell_type": "markdown",
      "source": [
        "Tujuan analisis data ini untuk mengidentifikasi preferensi pelanggan dalam memilih ketchup berdasarkan seleranya. Data mining ini juga dapat membantu mengidentifikasi faktor tertentu yang berkaitan dengan persepsi kualitas ketchup. Selain itu, juga dapat menganalisis hubungan antara harga dan preferensi konsumen."
      ],
      "metadata": {
        "id": "GXsyNC0zaO-o"
      }
    },
    {
      "cell_type": "markdown",
      "source": [
        "##**Project Plan**"
      ],
      "metadata": {
        "id": "78Yvo7Q9aRTt"
      }
    },
    {
      "cell_type": "markdown",
      "source": [
        "Rencana proyek dalam melakukan analisis dataset ini dimulai dengan pengumpulan data dengan dilakukannya survey. Survey ini berisikan ketchup preferensi pelanggan, alasan dibalik pilihan mereka, dan informasi demografis karakteristik responden."
      ],
      "metadata": {
        "id": "H0uheBdyaUfH"
      }
    },
    {
      "cell_type": "markdown",
      "source": [
        "#**DATA UNDERSTANDING**"
      ],
      "metadata": {
        "id": "8yFrLpBtZXuy"
      }
    },
    {
      "cell_type": "markdown",
      "source": [
        "##**Collect Initial Data**"
      ],
      "metadata": {
        "id": "tjm5LzEuT0oe"
      }
    },
    {
      "cell_type": "markdown",
      "source": [
        "Jelaskan darimana sumber data kalian di sini, sertakan linknya juga ya"
      ],
      "metadata": {
        "id": "SsIGird1UBw8"
      }
    },
    {
      "cell_type": "code",
      "execution_count": 4,
      "metadata": {
        "id": "3ncBfThxSpiL",
        "colab": {
          "base_uri": "https://localhost:8080/",
          "height": 206
        },
        "outputId": "8a68bb25-ab09-4cb2-b770-e9aa37ceffb2"
      },
      "outputs": [
        {
          "output_type": "execute_result",
          "data": {
            "text/plain": [
              "   Unnamed: 0  Ketchup.hid  Ketchup.id Ketchup.choice  price.heinz  \\\n",
              "0           1            1           1          heinz         1.19   \n",
              "1           2            1           2          heinz         0.99   \n",
              "2           3            1           3          hunts         1.46   \n",
              "3           4            1           4          hunts         1.46   \n",
              "4           5            1           5            stb         1.46   \n",
              "\n",
              "   price.hunts  price.delmonte  price.stb  \n",
              "0         1.39            1.49       0.89  \n",
              "1         1.36            1.39       0.95  \n",
              "2         1.43            1.49       0.99  \n",
              "3         1.43            1.45       0.99  \n",
              "4         1.36            1.39       0.95  "
            ],
            "text/html": [
              "\n",
              "  <div id=\"df-eb34dc4b-e1e7-43be-ac3a-7773f2b729eb\" class=\"colab-df-container\">\n",
              "    <div>\n",
              "<style scoped>\n",
              "    .dataframe tbody tr th:only-of-type {\n",
              "        vertical-align: middle;\n",
              "    }\n",
              "\n",
              "    .dataframe tbody tr th {\n",
              "        vertical-align: top;\n",
              "    }\n",
              "\n",
              "    .dataframe thead th {\n",
              "        text-align: right;\n",
              "    }\n",
              "</style>\n",
              "<table border=\"1\" class=\"dataframe\">\n",
              "  <thead>\n",
              "    <tr style=\"text-align: right;\">\n",
              "      <th></th>\n",
              "      <th>Unnamed: 0</th>\n",
              "      <th>Ketchup.hid</th>\n",
              "      <th>Ketchup.id</th>\n",
              "      <th>Ketchup.choice</th>\n",
              "      <th>price.heinz</th>\n",
              "      <th>price.hunts</th>\n",
              "      <th>price.delmonte</th>\n",
              "      <th>price.stb</th>\n",
              "    </tr>\n",
              "  </thead>\n",
              "  <tbody>\n",
              "    <tr>\n",
              "      <th>0</th>\n",
              "      <td>1</td>\n",
              "      <td>1</td>\n",
              "      <td>1</td>\n",
              "      <td>heinz</td>\n",
              "      <td>1.19</td>\n",
              "      <td>1.39</td>\n",
              "      <td>1.49</td>\n",
              "      <td>0.89</td>\n",
              "    </tr>\n",
              "    <tr>\n",
              "      <th>1</th>\n",
              "      <td>2</td>\n",
              "      <td>1</td>\n",
              "      <td>2</td>\n",
              "      <td>heinz</td>\n",
              "      <td>0.99</td>\n",
              "      <td>1.36</td>\n",
              "      <td>1.39</td>\n",
              "      <td>0.95</td>\n",
              "    </tr>\n",
              "    <tr>\n",
              "      <th>2</th>\n",
              "      <td>3</td>\n",
              "      <td>1</td>\n",
              "      <td>3</td>\n",
              "      <td>hunts</td>\n",
              "      <td>1.46</td>\n",
              "      <td>1.43</td>\n",
              "      <td>1.49</td>\n",
              "      <td>0.99</td>\n",
              "    </tr>\n",
              "    <tr>\n",
              "      <th>3</th>\n",
              "      <td>4</td>\n",
              "      <td>1</td>\n",
              "      <td>4</td>\n",
              "      <td>hunts</td>\n",
              "      <td>1.46</td>\n",
              "      <td>1.43</td>\n",
              "      <td>1.45</td>\n",
              "      <td>0.99</td>\n",
              "    </tr>\n",
              "    <tr>\n",
              "      <th>4</th>\n",
              "      <td>5</td>\n",
              "      <td>1</td>\n",
              "      <td>5</td>\n",
              "      <td>stb</td>\n",
              "      <td>1.46</td>\n",
              "      <td>1.36</td>\n",
              "      <td>1.39</td>\n",
              "      <td>0.95</td>\n",
              "    </tr>\n",
              "  </tbody>\n",
              "</table>\n",
              "</div>\n",
              "    <div class=\"colab-df-buttons\">\n",
              "\n",
              "  <div class=\"colab-df-container\">\n",
              "    <button class=\"colab-df-convert\" onclick=\"convertToInteractive('df-eb34dc4b-e1e7-43be-ac3a-7773f2b729eb')\"\n",
              "            title=\"Convert this dataframe to an interactive table.\"\n",
              "            style=\"display:none;\">\n",
              "\n",
              "  <svg xmlns=\"http://www.w3.org/2000/svg\" height=\"24px\" viewBox=\"0 -960 960 960\">\n",
              "    <path d=\"M120-120v-720h720v720H120Zm60-500h600v-160H180v160Zm220 220h160v-160H400v160Zm0 220h160v-160H400v160ZM180-400h160v-160H180v160Zm440 0h160v-160H620v160ZM180-180h160v-160H180v160Zm440 0h160v-160H620v160Z\"/>\n",
              "  </svg>\n",
              "    </button>\n",
              "\n",
              "  <style>\n",
              "    .colab-df-container {\n",
              "      display:flex;\n",
              "      gap: 12px;\n",
              "    }\n",
              "\n",
              "    .colab-df-convert {\n",
              "      background-color: #E8F0FE;\n",
              "      border: none;\n",
              "      border-radius: 50%;\n",
              "      cursor: pointer;\n",
              "      display: none;\n",
              "      fill: #1967D2;\n",
              "      height: 32px;\n",
              "      padding: 0 0 0 0;\n",
              "      width: 32px;\n",
              "    }\n",
              "\n",
              "    .colab-df-convert:hover {\n",
              "      background-color: #E2EBFA;\n",
              "      box-shadow: 0px 1px 2px rgba(60, 64, 67, 0.3), 0px 1px 3px 1px rgba(60, 64, 67, 0.15);\n",
              "      fill: #174EA6;\n",
              "    }\n",
              "\n",
              "    .colab-df-buttons div {\n",
              "      margin-bottom: 4px;\n",
              "    }\n",
              "\n",
              "    [theme=dark] .colab-df-convert {\n",
              "      background-color: #3B4455;\n",
              "      fill: #D2E3FC;\n",
              "    }\n",
              "\n",
              "    [theme=dark] .colab-df-convert:hover {\n",
              "      background-color: #434B5C;\n",
              "      box-shadow: 0px 1px 3px 1px rgba(0, 0, 0, 0.15);\n",
              "      filter: drop-shadow(0px 1px 2px rgba(0, 0, 0, 0.3));\n",
              "      fill: #FFFFFF;\n",
              "    }\n",
              "  </style>\n",
              "\n",
              "    <script>\n",
              "      const buttonEl =\n",
              "        document.querySelector('#df-eb34dc4b-e1e7-43be-ac3a-7773f2b729eb button.colab-df-convert');\n",
              "      buttonEl.style.display =\n",
              "        google.colab.kernel.accessAllowed ? 'block' : 'none';\n",
              "\n",
              "      async function convertToInteractive(key) {\n",
              "        const element = document.querySelector('#df-eb34dc4b-e1e7-43be-ac3a-7773f2b729eb');\n",
              "        const dataTable =\n",
              "          await google.colab.kernel.invokeFunction('convertToInteractive',\n",
              "                                                    [key], {});\n",
              "        if (!dataTable) return;\n",
              "\n",
              "        const docLinkHtml = 'Like what you see? Visit the ' +\n",
              "          '<a target=\"_blank\" href=https://colab.research.google.com/notebooks/data_table.ipynb>data table notebook</a>'\n",
              "          + ' to learn more about interactive tables.';\n",
              "        element.innerHTML = '';\n",
              "        dataTable['output_type'] = 'display_data';\n",
              "        await google.colab.output.renderOutput(dataTable, element);\n",
              "        const docLink = document.createElement('div');\n",
              "        docLink.innerHTML = docLinkHtml;\n",
              "        element.appendChild(docLink);\n",
              "      }\n",
              "    </script>\n",
              "  </div>\n",
              "\n",
              "\n",
              "<div id=\"df-cae3b37c-b69e-4ddf-a6a9-7050bac538ba\">\n",
              "  <button class=\"colab-df-quickchart\" onclick=\"quickchart('df-cae3b37c-b69e-4ddf-a6a9-7050bac538ba')\"\n",
              "            title=\"Suggest charts\"\n",
              "            style=\"display:none;\">\n",
              "\n",
              "<svg xmlns=\"http://www.w3.org/2000/svg\" height=\"24px\"viewBox=\"0 0 24 24\"\n",
              "     width=\"24px\">\n",
              "    <g>\n",
              "        <path d=\"M19 3H5c-1.1 0-2 .9-2 2v14c0 1.1.9 2 2 2h14c1.1 0 2-.9 2-2V5c0-1.1-.9-2-2-2zM9 17H7v-7h2v7zm4 0h-2V7h2v10zm4 0h-2v-4h2v4z\"/>\n",
              "    </g>\n",
              "</svg>\n",
              "  </button>\n",
              "\n",
              "<style>\n",
              "  .colab-df-quickchart {\n",
              "      --bg-color: #E8F0FE;\n",
              "      --fill-color: #1967D2;\n",
              "      --hover-bg-color: #E2EBFA;\n",
              "      --hover-fill-color: #174EA6;\n",
              "      --disabled-fill-color: #AAA;\n",
              "      --disabled-bg-color: #DDD;\n",
              "  }\n",
              "\n",
              "  [theme=dark] .colab-df-quickchart {\n",
              "      --bg-color: #3B4455;\n",
              "      --fill-color: #D2E3FC;\n",
              "      --hover-bg-color: #434B5C;\n",
              "      --hover-fill-color: #FFFFFF;\n",
              "      --disabled-bg-color: #3B4455;\n",
              "      --disabled-fill-color: #666;\n",
              "  }\n",
              "\n",
              "  .colab-df-quickchart {\n",
              "    background-color: var(--bg-color);\n",
              "    border: none;\n",
              "    border-radius: 50%;\n",
              "    cursor: pointer;\n",
              "    display: none;\n",
              "    fill: var(--fill-color);\n",
              "    height: 32px;\n",
              "    padding: 0;\n",
              "    width: 32px;\n",
              "  }\n",
              "\n",
              "  .colab-df-quickchart:hover {\n",
              "    background-color: var(--hover-bg-color);\n",
              "    box-shadow: 0 1px 2px rgba(60, 64, 67, 0.3), 0 1px 3px 1px rgba(60, 64, 67, 0.15);\n",
              "    fill: var(--button-hover-fill-color);\n",
              "  }\n",
              "\n",
              "  .colab-df-quickchart-complete:disabled,\n",
              "  .colab-df-quickchart-complete:disabled:hover {\n",
              "    background-color: var(--disabled-bg-color);\n",
              "    fill: var(--disabled-fill-color);\n",
              "    box-shadow: none;\n",
              "  }\n",
              "\n",
              "  .colab-df-spinner {\n",
              "    border: 2px solid var(--fill-color);\n",
              "    border-color: transparent;\n",
              "    border-bottom-color: var(--fill-color);\n",
              "    animation:\n",
              "      spin 1s steps(1) infinite;\n",
              "  }\n",
              "\n",
              "  @keyframes spin {\n",
              "    0% {\n",
              "      border-color: transparent;\n",
              "      border-bottom-color: var(--fill-color);\n",
              "      border-left-color: var(--fill-color);\n",
              "    }\n",
              "    20% {\n",
              "      border-color: transparent;\n",
              "      border-left-color: var(--fill-color);\n",
              "      border-top-color: var(--fill-color);\n",
              "    }\n",
              "    30% {\n",
              "      border-color: transparent;\n",
              "      border-left-color: var(--fill-color);\n",
              "      border-top-color: var(--fill-color);\n",
              "      border-right-color: var(--fill-color);\n",
              "    }\n",
              "    40% {\n",
              "      border-color: transparent;\n",
              "      border-right-color: var(--fill-color);\n",
              "      border-top-color: var(--fill-color);\n",
              "    }\n",
              "    60% {\n",
              "      border-color: transparent;\n",
              "      border-right-color: var(--fill-color);\n",
              "    }\n",
              "    80% {\n",
              "      border-color: transparent;\n",
              "      border-right-color: var(--fill-color);\n",
              "      border-bottom-color: var(--fill-color);\n",
              "    }\n",
              "    90% {\n",
              "      border-color: transparent;\n",
              "      border-bottom-color: var(--fill-color);\n",
              "    }\n",
              "  }\n",
              "</style>\n",
              "\n",
              "  <script>\n",
              "    async function quickchart(key) {\n",
              "      const quickchartButtonEl =\n",
              "        document.querySelector('#' + key + ' button');\n",
              "      quickchartButtonEl.disabled = true;  // To prevent multiple clicks.\n",
              "      quickchartButtonEl.classList.add('colab-df-spinner');\n",
              "      try {\n",
              "        const charts = await google.colab.kernel.invokeFunction(\n",
              "            'suggestCharts', [key], {});\n",
              "      } catch (error) {\n",
              "        console.error('Error during call to suggestCharts:', error);\n",
              "      }\n",
              "      quickchartButtonEl.classList.remove('colab-df-spinner');\n",
              "      quickchartButtonEl.classList.add('colab-df-quickchart-complete');\n",
              "    }\n",
              "    (() => {\n",
              "      let quickchartButtonEl =\n",
              "        document.querySelector('#df-cae3b37c-b69e-4ddf-a6a9-7050bac538ba button');\n",
              "      quickchartButtonEl.style.display =\n",
              "        google.colab.kernel.accessAllowed ? 'block' : 'none';\n",
              "    })();\n",
              "  </script>\n",
              "</div>\n",
              "    </div>\n",
              "  </div>\n"
            ],
            "application/vnd.google.colaboratory.intrinsic+json": {
              "type": "dataframe",
              "summary": "{\n  \"name\": \"# https://www\",\n  \"rows\": 5,\n  \"fields\": [\n    {\n      \"column\": \"Unnamed: 0\",\n      \"properties\": {\n        \"dtype\": \"number\",\n        \"std\": 1,\n        \"min\": 1,\n        \"max\": 5,\n        \"num_unique_values\": 5,\n        \"samples\": [\n          2,\n          5,\n          3\n        ],\n        \"semantic_type\": \"\",\n        \"description\": \"\"\n      }\n    },\n    {\n      \"column\": \"Ketchup.hid\",\n      \"properties\": {\n        \"dtype\": \"number\",\n        \"std\": 0,\n        \"min\": 1,\n        \"max\": 1,\n        \"num_unique_values\": 1,\n        \"samples\": [\n          1\n        ],\n        \"semantic_type\": \"\",\n        \"description\": \"\"\n      }\n    },\n    {\n      \"column\": \"Ketchup.id\",\n      \"properties\": {\n        \"dtype\": \"number\",\n        \"std\": 1,\n        \"min\": 1,\n        \"max\": 5,\n        \"num_unique_values\": 5,\n        \"samples\": [\n          2\n        ],\n        \"semantic_type\": \"\",\n        \"description\": \"\"\n      }\n    },\n    {\n      \"column\": \"Ketchup.choice\",\n      \"properties\": {\n        \"dtype\": \"string\",\n        \"num_unique_values\": 3,\n        \"samples\": [\n          \"heinz\"\n        ],\n        \"semantic_type\": \"\",\n        \"description\": \"\"\n      }\n    },\n    {\n      \"column\": \"price.heinz\",\n      \"properties\": {\n        \"dtype\": \"number\",\n        \"std\": 0.21463923220138484,\n        \"min\": 0.99,\n        \"max\": 1.46,\n        \"num_unique_values\": 3,\n        \"samples\": [\n          1.19\n        ],\n        \"semantic_type\": \"\",\n        \"description\": \"\"\n      }\n    },\n    {\n      \"column\": \"price.hunts\",\n      \"properties\": {\n        \"dtype\": \"number\",\n        \"std\": 0.03507135583350029,\n        \"min\": 1.36,\n        \"max\": 1.43,\n        \"num_unique_values\": 3,\n        \"samples\": [\n          1.39\n        ],\n        \"semantic_type\": \"\",\n        \"description\": \"\"\n      }\n    },\n    {\n      \"column\": \"price.delmonte\",\n      \"properties\": {\n        \"dtype\": \"number\",\n        \"std\": 0.050199601592044577,\n        \"min\": 1.39,\n        \"max\": 1.49,\n        \"num_unique_values\": 3,\n        \"samples\": [\n          1.49\n        ],\n        \"semantic_type\": \"\",\n        \"description\": \"\"\n      }\n    },\n    {\n      \"column\": \"price.stb\",\n      \"properties\": {\n        \"dtype\": \"number\",\n        \"std\": 0.04098780306383839,\n        \"min\": 0.89,\n        \"max\": 0.99,\n        \"num_unique_values\": 3,\n        \"samples\": [\n          0.89\n        ],\n        \"semantic_type\": \"\",\n        \"description\": \"\"\n      }\n    }\n  ]\n}"
            }
          },
          "metadata": {},
          "execution_count": 4
        }
      ],
      "source": [
        "df = pd.read_csv(\"Ketchup.csv\")\n",
        "df.head()\n",
        "\n",
        "# https://www.kaggle.com/datasets/ulrikthygepedersen/which-ketchup-is-best"
      ]
    },
    {
      "cell_type": "markdown",
      "source": [
        "##**Describe Data**"
      ],
      "metadata": {
        "id": "-hy6_uvIVOGH"
      }
    },
    {
      "cell_type": "markdown",
      "source": [
        "####Informasi Dasar"
      ],
      "metadata": {
        "id": "nl6nccPmUZ6F"
      }
    },
    {
      "cell_type": "code",
      "source": [
        "df.shape"
      ],
      "metadata": {
        "id": "zEyDvT0EUcB2",
        "colab": {
          "base_uri": "https://localhost:8080/"
        },
        "outputId": "34ed346f-f783-4b54-c1ae-359de446146a"
      },
      "execution_count": 5,
      "outputs": [
        {
          "output_type": "execute_result",
          "data": {
            "text/plain": [
              "(4956, 8)"
            ]
          },
          "metadata": {},
          "execution_count": 5
        }
      ]
    },
    {
      "cell_type": "markdown",
      "source": [
        "Dari dataset yang ada, ditemukan sebanyak 4.956 baris dan 8 kolom."
      ],
      "metadata": {
        "id": "ZwH62IRTVXNL"
      }
    },
    {
      "cell_type": "markdown",
      "source": [
        "####Informasi Lanjutan"
      ],
      "metadata": {
        "id": "BXEzaPAHVMPd"
      }
    },
    {
      "cell_type": "code",
      "source": [
        "df.columns"
      ],
      "metadata": {
        "id": "L1CvPak8VHOF",
        "colab": {
          "base_uri": "https://localhost:8080/"
        },
        "outputId": "9d3cdb58-01f4-4ce7-f6de-97f8fad5391d"
      },
      "execution_count": 6,
      "outputs": [
        {
          "output_type": "execute_result",
          "data": {
            "text/plain": [
              "Index(['Unnamed: 0', 'Ketchup.hid', 'Ketchup.id', 'Ketchup.choice',\n",
              "       'price.heinz', 'price.hunts', 'price.delmonte', 'price.stb'],\n",
              "      dtype='object')"
            ]
          },
          "metadata": {},
          "execution_count": 6
        }
      ]
    },
    {
      "cell_type": "markdown",
      "source": [
        "Pada dataset Ketchup, terdapat 8 kolom, yaitu kolom Unnamed: 0, Ketchup.hid, Ketchup.id, Ketchup.choice, price.heinz, price.hunts, price.delmonte, dan price.stb.\n",
        "\n",
        "1. Unnamed: 0 = kolom tidak bernama dengan tipe data int64.\n",
        "2. Ketchup.hid = tipe data kolom ini adalah int64\n",
        "3. Ketchup.id = ini adalah kolom yang berisikan id ketchup dengan tipe data int64.\n",
        "4. Ketchup.choice = kolom ini berisi pilihan ketchup dengan tipe data object.\n",
        "5. Price.heinz = kolom harga ketchup heinz dengan tipe data float64.\n",
        "6. Price.hunts = kolom harga ketchup hunts dengan tipe data float64.\n",
        "7. Price.delmonte = kolom harga ketchup delmonte dengan tipe data float64.\n",
        "8. Price.stb = kolom harga ketchup stb dengan tipe data float64."
      ],
      "metadata": {
        "id": "-6miym5GVbaC"
      }
    },
    {
      "cell_type": "markdown",
      "source": [
        "####Informasi Statistik Deskriptif"
      ],
      "metadata": {
        "id": "D5GD3qzXVrF5"
      }
    },
    {
      "cell_type": "code",
      "source": [
        "df.describe()"
      ],
      "metadata": {
        "id": "rHdqc2OkVuPC",
        "colab": {
          "base_uri": "https://localhost:8080/",
          "height": 300
        },
        "outputId": "64818054-42aa-4b1b-8c3e-e2cb810cd4ae"
      },
      "execution_count": 7,
      "outputs": [
        {
          "output_type": "execute_result",
          "data": {
            "text/plain": [
              "        Unnamed: 0  Ketchup.hid   Ketchup.id  price.heinz  price.hunts  \\\n",
              "count  4956.000000  4956.000000  4956.000000  4956.000000  4956.000000   \n",
              "mean   2478.500000   936.721550     3.095642     1.248900     1.343860   \n",
              "std    1430.818297   549.104119     3.065865     0.204913     0.176185   \n",
              "min       1.000000     1.000000     1.000000     0.790000     0.790000   \n",
              "25%    1239.750000   463.750000     1.000000     0.990000     1.360000   \n",
              "50%    2478.500000   923.000000     2.000000     1.190000     1.390000   \n",
              "75%    3717.250000  1406.000000     4.000000     1.460000     1.430000   \n",
              "max    4956.000000  1956.000000    24.000000     1.470000     1.530000   \n",
              "\n",
              "       price.delmonte    price.stb  \n",
              "count     4956.000000  4956.000000  \n",
              "mean         1.426945     0.921178  \n",
              "std          0.114157     0.068198  \n",
              "min          0.890000     0.750000  \n",
              "25%          1.390000     0.890000  \n",
              "50%          1.460000     0.950000  \n",
              "75%          1.490000     0.950000  \n",
              "max          1.490000     0.990000  "
            ],
            "text/html": [
              "\n",
              "  <div id=\"df-f784ca2b-dc1e-4707-ba0e-d567a4eb7467\" class=\"colab-df-container\">\n",
              "    <div>\n",
              "<style scoped>\n",
              "    .dataframe tbody tr th:only-of-type {\n",
              "        vertical-align: middle;\n",
              "    }\n",
              "\n",
              "    .dataframe tbody tr th {\n",
              "        vertical-align: top;\n",
              "    }\n",
              "\n",
              "    .dataframe thead th {\n",
              "        text-align: right;\n",
              "    }\n",
              "</style>\n",
              "<table border=\"1\" class=\"dataframe\">\n",
              "  <thead>\n",
              "    <tr style=\"text-align: right;\">\n",
              "      <th></th>\n",
              "      <th>Unnamed: 0</th>\n",
              "      <th>Ketchup.hid</th>\n",
              "      <th>Ketchup.id</th>\n",
              "      <th>price.heinz</th>\n",
              "      <th>price.hunts</th>\n",
              "      <th>price.delmonte</th>\n",
              "      <th>price.stb</th>\n",
              "    </tr>\n",
              "  </thead>\n",
              "  <tbody>\n",
              "    <tr>\n",
              "      <th>count</th>\n",
              "      <td>4956.000000</td>\n",
              "      <td>4956.000000</td>\n",
              "      <td>4956.000000</td>\n",
              "      <td>4956.000000</td>\n",
              "      <td>4956.000000</td>\n",
              "      <td>4956.000000</td>\n",
              "      <td>4956.000000</td>\n",
              "    </tr>\n",
              "    <tr>\n",
              "      <th>mean</th>\n",
              "      <td>2478.500000</td>\n",
              "      <td>936.721550</td>\n",
              "      <td>3.095642</td>\n",
              "      <td>1.248900</td>\n",
              "      <td>1.343860</td>\n",
              "      <td>1.426945</td>\n",
              "      <td>0.921178</td>\n",
              "    </tr>\n",
              "    <tr>\n",
              "      <th>std</th>\n",
              "      <td>1430.818297</td>\n",
              "      <td>549.104119</td>\n",
              "      <td>3.065865</td>\n",
              "      <td>0.204913</td>\n",
              "      <td>0.176185</td>\n",
              "      <td>0.114157</td>\n",
              "      <td>0.068198</td>\n",
              "    </tr>\n",
              "    <tr>\n",
              "      <th>min</th>\n",
              "      <td>1.000000</td>\n",
              "      <td>1.000000</td>\n",
              "      <td>1.000000</td>\n",
              "      <td>0.790000</td>\n",
              "      <td>0.790000</td>\n",
              "      <td>0.890000</td>\n",
              "      <td>0.750000</td>\n",
              "    </tr>\n",
              "    <tr>\n",
              "      <th>25%</th>\n",
              "      <td>1239.750000</td>\n",
              "      <td>463.750000</td>\n",
              "      <td>1.000000</td>\n",
              "      <td>0.990000</td>\n",
              "      <td>1.360000</td>\n",
              "      <td>1.390000</td>\n",
              "      <td>0.890000</td>\n",
              "    </tr>\n",
              "    <tr>\n",
              "      <th>50%</th>\n",
              "      <td>2478.500000</td>\n",
              "      <td>923.000000</td>\n",
              "      <td>2.000000</td>\n",
              "      <td>1.190000</td>\n",
              "      <td>1.390000</td>\n",
              "      <td>1.460000</td>\n",
              "      <td>0.950000</td>\n",
              "    </tr>\n",
              "    <tr>\n",
              "      <th>75%</th>\n",
              "      <td>3717.250000</td>\n",
              "      <td>1406.000000</td>\n",
              "      <td>4.000000</td>\n",
              "      <td>1.460000</td>\n",
              "      <td>1.430000</td>\n",
              "      <td>1.490000</td>\n",
              "      <td>0.950000</td>\n",
              "    </tr>\n",
              "    <tr>\n",
              "      <th>max</th>\n",
              "      <td>4956.000000</td>\n",
              "      <td>1956.000000</td>\n",
              "      <td>24.000000</td>\n",
              "      <td>1.470000</td>\n",
              "      <td>1.530000</td>\n",
              "      <td>1.490000</td>\n",
              "      <td>0.990000</td>\n",
              "    </tr>\n",
              "  </tbody>\n",
              "</table>\n",
              "</div>\n",
              "    <div class=\"colab-df-buttons\">\n",
              "\n",
              "  <div class=\"colab-df-container\">\n",
              "    <button class=\"colab-df-convert\" onclick=\"convertToInteractive('df-f784ca2b-dc1e-4707-ba0e-d567a4eb7467')\"\n",
              "            title=\"Convert this dataframe to an interactive table.\"\n",
              "            style=\"display:none;\">\n",
              "\n",
              "  <svg xmlns=\"http://www.w3.org/2000/svg\" height=\"24px\" viewBox=\"0 -960 960 960\">\n",
              "    <path d=\"M120-120v-720h720v720H120Zm60-500h600v-160H180v160Zm220 220h160v-160H400v160Zm0 220h160v-160H400v160ZM180-400h160v-160H180v160Zm440 0h160v-160H620v160ZM180-180h160v-160H180v160Zm440 0h160v-160H620v160Z\"/>\n",
              "  </svg>\n",
              "    </button>\n",
              "\n",
              "  <style>\n",
              "    .colab-df-container {\n",
              "      display:flex;\n",
              "      gap: 12px;\n",
              "    }\n",
              "\n",
              "    .colab-df-convert {\n",
              "      background-color: #E8F0FE;\n",
              "      border: none;\n",
              "      border-radius: 50%;\n",
              "      cursor: pointer;\n",
              "      display: none;\n",
              "      fill: #1967D2;\n",
              "      height: 32px;\n",
              "      padding: 0 0 0 0;\n",
              "      width: 32px;\n",
              "    }\n",
              "\n",
              "    .colab-df-convert:hover {\n",
              "      background-color: #E2EBFA;\n",
              "      box-shadow: 0px 1px 2px rgba(60, 64, 67, 0.3), 0px 1px 3px 1px rgba(60, 64, 67, 0.15);\n",
              "      fill: #174EA6;\n",
              "    }\n",
              "\n",
              "    .colab-df-buttons div {\n",
              "      margin-bottom: 4px;\n",
              "    }\n",
              "\n",
              "    [theme=dark] .colab-df-convert {\n",
              "      background-color: #3B4455;\n",
              "      fill: #D2E3FC;\n",
              "    }\n",
              "\n",
              "    [theme=dark] .colab-df-convert:hover {\n",
              "      background-color: #434B5C;\n",
              "      box-shadow: 0px 1px 3px 1px rgba(0, 0, 0, 0.15);\n",
              "      filter: drop-shadow(0px 1px 2px rgba(0, 0, 0, 0.3));\n",
              "      fill: #FFFFFF;\n",
              "    }\n",
              "  </style>\n",
              "\n",
              "    <script>\n",
              "      const buttonEl =\n",
              "        document.querySelector('#df-f784ca2b-dc1e-4707-ba0e-d567a4eb7467 button.colab-df-convert');\n",
              "      buttonEl.style.display =\n",
              "        google.colab.kernel.accessAllowed ? 'block' : 'none';\n",
              "\n",
              "      async function convertToInteractive(key) {\n",
              "        const element = document.querySelector('#df-f784ca2b-dc1e-4707-ba0e-d567a4eb7467');\n",
              "        const dataTable =\n",
              "          await google.colab.kernel.invokeFunction('convertToInteractive',\n",
              "                                                    [key], {});\n",
              "        if (!dataTable) return;\n",
              "\n",
              "        const docLinkHtml = 'Like what you see? Visit the ' +\n",
              "          '<a target=\"_blank\" href=https://colab.research.google.com/notebooks/data_table.ipynb>data table notebook</a>'\n",
              "          + ' to learn more about interactive tables.';\n",
              "        element.innerHTML = '';\n",
              "        dataTable['output_type'] = 'display_data';\n",
              "        await google.colab.output.renderOutput(dataTable, element);\n",
              "        const docLink = document.createElement('div');\n",
              "        docLink.innerHTML = docLinkHtml;\n",
              "        element.appendChild(docLink);\n",
              "      }\n",
              "    </script>\n",
              "  </div>\n",
              "\n",
              "\n",
              "<div id=\"df-6c3a65a1-0740-414c-bf70-c918ef6dcb67\">\n",
              "  <button class=\"colab-df-quickchart\" onclick=\"quickchart('df-6c3a65a1-0740-414c-bf70-c918ef6dcb67')\"\n",
              "            title=\"Suggest charts\"\n",
              "            style=\"display:none;\">\n",
              "\n",
              "<svg xmlns=\"http://www.w3.org/2000/svg\" height=\"24px\"viewBox=\"0 0 24 24\"\n",
              "     width=\"24px\">\n",
              "    <g>\n",
              "        <path d=\"M19 3H5c-1.1 0-2 .9-2 2v14c0 1.1.9 2 2 2h14c1.1 0 2-.9 2-2V5c0-1.1-.9-2-2-2zM9 17H7v-7h2v7zm4 0h-2V7h2v10zm4 0h-2v-4h2v4z\"/>\n",
              "    </g>\n",
              "</svg>\n",
              "  </button>\n",
              "\n",
              "<style>\n",
              "  .colab-df-quickchart {\n",
              "      --bg-color: #E8F0FE;\n",
              "      --fill-color: #1967D2;\n",
              "      --hover-bg-color: #E2EBFA;\n",
              "      --hover-fill-color: #174EA6;\n",
              "      --disabled-fill-color: #AAA;\n",
              "      --disabled-bg-color: #DDD;\n",
              "  }\n",
              "\n",
              "  [theme=dark] .colab-df-quickchart {\n",
              "      --bg-color: #3B4455;\n",
              "      --fill-color: #D2E3FC;\n",
              "      --hover-bg-color: #434B5C;\n",
              "      --hover-fill-color: #FFFFFF;\n",
              "      --disabled-bg-color: #3B4455;\n",
              "      --disabled-fill-color: #666;\n",
              "  }\n",
              "\n",
              "  .colab-df-quickchart {\n",
              "    background-color: var(--bg-color);\n",
              "    border: none;\n",
              "    border-radius: 50%;\n",
              "    cursor: pointer;\n",
              "    display: none;\n",
              "    fill: var(--fill-color);\n",
              "    height: 32px;\n",
              "    padding: 0;\n",
              "    width: 32px;\n",
              "  }\n",
              "\n",
              "  .colab-df-quickchart:hover {\n",
              "    background-color: var(--hover-bg-color);\n",
              "    box-shadow: 0 1px 2px rgba(60, 64, 67, 0.3), 0 1px 3px 1px rgba(60, 64, 67, 0.15);\n",
              "    fill: var(--button-hover-fill-color);\n",
              "  }\n",
              "\n",
              "  .colab-df-quickchart-complete:disabled,\n",
              "  .colab-df-quickchart-complete:disabled:hover {\n",
              "    background-color: var(--disabled-bg-color);\n",
              "    fill: var(--disabled-fill-color);\n",
              "    box-shadow: none;\n",
              "  }\n",
              "\n",
              "  .colab-df-spinner {\n",
              "    border: 2px solid var(--fill-color);\n",
              "    border-color: transparent;\n",
              "    border-bottom-color: var(--fill-color);\n",
              "    animation:\n",
              "      spin 1s steps(1) infinite;\n",
              "  }\n",
              "\n",
              "  @keyframes spin {\n",
              "    0% {\n",
              "      border-color: transparent;\n",
              "      border-bottom-color: var(--fill-color);\n",
              "      border-left-color: var(--fill-color);\n",
              "    }\n",
              "    20% {\n",
              "      border-color: transparent;\n",
              "      border-left-color: var(--fill-color);\n",
              "      border-top-color: var(--fill-color);\n",
              "    }\n",
              "    30% {\n",
              "      border-color: transparent;\n",
              "      border-left-color: var(--fill-color);\n",
              "      border-top-color: var(--fill-color);\n",
              "      border-right-color: var(--fill-color);\n",
              "    }\n",
              "    40% {\n",
              "      border-color: transparent;\n",
              "      border-right-color: var(--fill-color);\n",
              "      border-top-color: var(--fill-color);\n",
              "    }\n",
              "    60% {\n",
              "      border-color: transparent;\n",
              "      border-right-color: var(--fill-color);\n",
              "    }\n",
              "    80% {\n",
              "      border-color: transparent;\n",
              "      border-right-color: var(--fill-color);\n",
              "      border-bottom-color: var(--fill-color);\n",
              "    }\n",
              "    90% {\n",
              "      border-color: transparent;\n",
              "      border-bottom-color: var(--fill-color);\n",
              "    }\n",
              "  }\n",
              "</style>\n",
              "\n",
              "  <script>\n",
              "    async function quickchart(key) {\n",
              "      const quickchartButtonEl =\n",
              "        document.querySelector('#' + key + ' button');\n",
              "      quickchartButtonEl.disabled = true;  // To prevent multiple clicks.\n",
              "      quickchartButtonEl.classList.add('colab-df-spinner');\n",
              "      try {\n",
              "        const charts = await google.colab.kernel.invokeFunction(\n",
              "            'suggestCharts', [key], {});\n",
              "      } catch (error) {\n",
              "        console.error('Error during call to suggestCharts:', error);\n",
              "      }\n",
              "      quickchartButtonEl.classList.remove('colab-df-spinner');\n",
              "      quickchartButtonEl.classList.add('colab-df-quickchart-complete');\n",
              "    }\n",
              "    (() => {\n",
              "      let quickchartButtonEl =\n",
              "        document.querySelector('#df-6c3a65a1-0740-414c-bf70-c918ef6dcb67 button');\n",
              "      quickchartButtonEl.style.display =\n",
              "        google.colab.kernel.accessAllowed ? 'block' : 'none';\n",
              "    })();\n",
              "  </script>\n",
              "</div>\n",
              "    </div>\n",
              "  </div>\n"
            ],
            "application/vnd.google.colaboratory.intrinsic+json": {
              "type": "dataframe",
              "summary": "{\n  \"name\": \"df\",\n  \"rows\": 8,\n  \"fields\": [\n    {\n      \"column\": \"Unnamed: 0\",\n      \"properties\": {\n        \"dtype\": \"number\",\n        \"std\": 1785.8615879683175,\n        \"min\": 1.0,\n        \"max\": 4956.0,\n        \"num_unique_values\": 6,\n        \"samples\": [\n          4956.0,\n          2478.5,\n          3717.25\n        ],\n        \"semantic_type\": \"\",\n        \"description\": \"\"\n      }\n    },\n    {\n      \"column\": \"Ketchup.hid\",\n      \"properties\": {\n        \"dtype\": \"number\",\n        \"std\": 1556.288805127486,\n        \"min\": 1.0,\n        \"max\": 4956.0,\n        \"num_unique_values\": 8,\n        \"samples\": [\n          936.7215496368038,\n          923.0,\n          4956.0\n        ],\n        \"semantic_type\": \"\",\n        \"description\": \"\"\n      }\n    },\n    {\n      \"column\": \"Ketchup.id\",\n      \"properties\": {\n        \"dtype\": \"number\",\n        \"std\": 1750.2998452537852,\n        \"min\": 1.0,\n        \"max\": 4956.0,\n        \"num_unique_values\": 7,\n        \"samples\": [\n          4956.0,\n          3.095641646489104,\n          4.0\n        ],\n        \"semantic_type\": \"\",\n        \"description\": \"\"\n      }\n    },\n    {\n      \"column\": \"price.heinz\",\n      \"properties\": {\n        \"dtype\": \"number\",\n        \"std\": 1751.8392286056885,\n        \"min\": 0.20491287152383075,\n        \"max\": 4956.0,\n        \"num_unique_values\": 8,\n        \"samples\": [\n          1.2489003228410007,\n          1.19,\n          4956.0\n        ],\n        \"semantic_type\": \"\",\n        \"description\": \"\"\n      }\n    },\n    {\n      \"column\": \"price.hunts\",\n      \"properties\": {\n        \"dtype\": \"number\",\n        \"std\": 1751.8055890732103,\n        \"min\": 0.17618450723266882,\n        \"max\": 4956.0,\n        \"num_unique_values\": 8,\n        \"samples\": [\n          1.3438599677159,\n          1.39,\n          4956.0\n        ],\n        \"semantic_type\": \"\",\n        \"description\": \"\"\n      }\n    },\n    {\n      \"column\": \"price.delmonte\",\n      \"properties\": {\n        \"dtype\": \"number\",\n        \"std\": 1751.7934202055405,\n        \"min\": 0.11415653836566307,\n        \"max\": 4956.0,\n        \"num_unique_values\": 7,\n        \"samples\": [\n          4956.0,\n          1.4269451170298628,\n          1.46\n        ],\n        \"semantic_type\": \"\",\n        \"description\": \"\"\n      }\n    },\n    {\n      \"column\": \"price.stb\",\n      \"properties\": {\n        \"dtype\": \"number\",\n        \"std\": 1751.9318593118642,\n        \"min\": 0.06819796423040723,\n        \"max\": 4956.0,\n        \"num_unique_values\": 7,\n        \"samples\": [\n          4956.0,\n          0.9211783696529461,\n          0.95\n        ],\n        \"semantic_type\": \"\",\n        \"description\": \"\"\n      }\n    }\n  ]\n}"
            }
          },
          "metadata": {},
          "execution_count": 7
        }
      ]
    },
    {
      "cell_type": "markdown",
      "source": [
        "Jumlah data yang ada pada tabel dataset adalah 4956.000000. Adapun hasil statistik deskriptif lainnya adalah sebagai berikut. (hasil dari setiap kolom berurutan: Unnamed:0, Ketchup.hid, Ketchup.id, Price.heinz, Price.hunts, Price.delmonte, Price.stb)\n",
        "1. Mean = 2478.500000, 936.721550,\t3.095642,\t1.248900,\t1.343860,\t1.426945,\t0.921178.\n",
        "\n",
        "2. STD = 1430.818297,\t549.104119,\t3.065865,\t0.204913,\t0.176185,\t0.114157,\t0.068198.\n",
        "\n",
        "3. Min = 1.000000,\t1.000000,\t1.000000,\t0.790000,\t0.790000,\t0.890000,\t0.750000.\n",
        "\n",
        "4. 25% = 1239.750000,\t463.750000,\t1.000000,\t0.990000,\t1.360000,\t1.390000,\t0.890000.\n",
        "\n",
        "5. 50% = 2478.500000,\t923.000000,\t2.000000,\t1.190000,\t1.390000,\t1.460000,\t0.950000.\n",
        "\n",
        "6. 75% = 3717.250000,\t1406.000000,\t4.000000,\t1.460000,\t1.430000,\t1.490000,\t0.950000.\n",
        "\n",
        "7. Max = 4956.000000,\t1956.000000,\t24.000000,\t1.470000,\t1.530000,\t1.490000,\t0.990000."
      ],
      "metadata": {
        "id": "q_OSzaKKV28E"
      }
    },
    {
      "cell_type": "markdown",
      "source": [
        "##**Exploratory Data Analysis**"
      ],
      "metadata": {
        "id": "YVd8wfBkV9OE"
      }
    },
    {
      "cell_type": "code",
      "source": [
        "fig = px.bar(df, x='Ketchup.choice', y='price.heinz', title='Ketchup Prices')\n",
        "\n",
        "fig.update_xaxes(title='Brand')\n",
        "fig.update_yaxes(title='Price')\n",
        "\n",
        "fig.show()"
      ],
      "metadata": {
        "id": "_ohZShs2Wv9r",
        "colab": {
          "base_uri": "https://localhost:8080/",
          "height": 542
        },
        "outputId": "0638acc4-0606-46df-8cd3-967a08a9c958"
      },
      "execution_count": 8,
      "outputs": [
        {
          "output_type": "display_data",
          "data": {
            "text/html": [
              "<html>\n",
              "<head><meta charset=\"utf-8\" /></head>\n",
              "<body>\n",
              "    <div>            <script src=\"https://cdnjs.cloudflare.com/ajax/libs/mathjax/2.7.5/MathJax.js?config=TeX-AMS-MML_SVG\"></script><script type=\"text/javascript\">if (window.MathJax && window.MathJax.Hub && window.MathJax.Hub.Config) {window.MathJax.Hub.Config({SVG: {font: \"STIX-Web\"}});}</script>                <script type=\"text/javascript\">window.PlotlyConfig = {MathJaxConfig: 'local'};</script>\n",
              "        <script charset=\"utf-8\" src=\"https://cdn.plot.ly/plotly-2.24.1.min.js\"></script>                <div id=\"aa9a09c2-ea42-497f-8c3f-1e3db0a4879d\" class=\"plotly-graph-div\" style=\"height:525px; width:100%;\"></div>            <script type=\"text/javascript\">                                    window.PLOTLYENV=window.PLOTLYENV || {};                                    if (document.getElementById(\"aa9a09c2-ea42-497f-8c3f-1e3db0a4879d\")) {                    Plotly.newPlot(                        \"aa9a09c2-ea42-497f-8c3f-1e3db0a4879d\",                        [{\"alignmentgroup\":\"True\",\"hovertemplate\":\"Ketchup.choice=%{x}\\u003cbr\\u003eprice.heinz=%{y}\\u003cextra\\u003e\\u003c\\u002fextra\\u003e\",\"legendgroup\":\"\",\"marker\":{\"color\":\"#636efa\",\"pattern\":{\"shape\":\"\"}},\"name\":\"\",\"offsetgroup\":\"\",\"orientation\":\"v\",\"showlegend\":false,\"textposition\":\"auto\",\"x\":[\"heinz\",\"heinz\",\"hunts\",\"hunts\",\"stb\",\"heinz\",\"heinz\",\"heinz\",\"stb\",\"heinz\",\"heinz\",\"stb\",\"heinz\",\"delmonte\",\"heinz\",\"heinz\",\"heinz\",\"stb\",\"stb\",\"stb\",\"hunts\",\"hunts\",\"hunts\",\"hunts\",\"heinz\",\"heinz\",\"heinz\",\"delmonte\",\"stb\",\"heinz\",\"hunts\",\"hunts\",\"heinz\",\"heinz\",\"hunts\",\"hunts\",\"delmonte\",\"heinz\",\"heinz\",\"heinz\",\"hunts\",\"heinz\",\"heinz\",\"stb\",\"heinz\",\"heinz\",\"heinz\",\"heinz\",\"heinz\",\"hunts\",\"hunts\",\"heinz\",\"hunts\",\"hunts\",\"hunts\",\"stb\",\"stb\",\"heinz\",\"hunts\",\"stb\",\"heinz\",\"heinz\",\"heinz\",\"heinz\",\"heinz\",\"hunts\",\"stb\",\"heinz\",\"stb\",\"stb\",\"heinz\",\"hunts\",\"heinz\",\"heinz\",\"heinz\",\"heinz\",\"heinz\",\"heinz\",\"heinz\",\"hunts\",\"hunts\",\"heinz\",\"heinz\",\"stb\",\"stb\",\"stb\",\"heinz\",\"delmonte\",\"heinz\",\"heinz\",\"heinz\",\"heinz\",\"hunts\",\"heinz\",\"heinz\",\"heinz\",\"delmonte\",\"heinz\",\"heinz\",\"heinz\",\"heinz\",\"heinz\",\"heinz\",\"hunts\",\"heinz\",\"hunts\",\"stb\",\"heinz\",\"heinz\",\"hunts\",\"hunts\",\"delmonte\",\"heinz\",\"heinz\",\"heinz\",\"heinz\",\"hunts\",\"heinz\",\"heinz\",\"hunts\",\"hunts\",\"hunts\",\"hunts\",\"hunts\",\"hunts\",\"delmonte\",\"heinz\",\"heinz\",\"heinz\",\"heinz\",\"hunts\",\"delmonte\",\"heinz\",\"heinz\",\"stb\",\"stb\",\"stb\",\"hunts\",\"stb\",\"heinz\",\"heinz\",\"heinz\",\"heinz\",\"heinz\",\"hunts\",\"stb\",\"stb\",\"heinz\",\"heinz\",\"hunts\",\"hunts\",\"stb\",\"heinz\",\"heinz\",\"stb\",\"stb\",\"heinz\",\"heinz\",\"heinz\",\"heinz\",\"heinz\",\"heinz\",\"heinz\",\"hunts\",\"heinz\",\"hunts\",\"heinz\",\"heinz\",\"heinz\",\"heinz\",\"heinz\",\"heinz\",\"hunts\",\"hunts\",\"hunts\",\"hunts\",\"heinz\",\"heinz\",\"heinz\",\"heinz\",\"heinz\",\"heinz\",\"heinz\",\"heinz\",\"heinz\",\"heinz\",\"heinz\",\"heinz\",\"heinz\",\"heinz\",\"hunts\",\"hunts\",\"hunts\",\"hunts\",\"stb\",\"stb\",\"hunts\",\"stb\",\"stb\",\"stb\",\"stb\",\"stb\",\"stb\",\"stb\",\"heinz\",\"heinz\",\"heinz\",\"heinz\",\"heinz\",\"heinz\",\"heinz\",\"heinz\",\"heinz\",\"hunts\",\"hunts\",\"hunts\",\"stb\",\"stb\",\"stb\",\"stb\",\"stb\",\"stb\",\"stb\",\"stb\",\"stb\",\"stb\",\"stb\",\"stb\",\"stb\",\"stb\",\"heinz\",\"heinz\",\"heinz\",\"heinz\",\"heinz\",\"heinz\",\"heinz\",\"hunts\",\"stb\",\"hunts\",\"stb\",\"heinz\",\"heinz\",\"stb\",\"delmonte\",\"heinz\",\"heinz\",\"heinz\",\"heinz\",\"stb\",\"stb\",\"hunts\",\"heinz\",\"stb\",\"heinz\",\"heinz\",\"heinz\",\"hunts\",\"delmonte\",\"stb\",\"heinz\",\"hunts\",\"hunts\",\"heinz\",\"heinz\",\"heinz\",\"heinz\",\"heinz\",\"heinz\",\"heinz\",\"hunts\",\"hunts\",\"hunts\",\"delmonte\",\"stb\",\"heinz\",\"hunts\",\"stb\",\"heinz\",\"heinz\",\"heinz\",\"heinz\",\"heinz\",\"heinz\",\"heinz\",\"heinz\",\"heinz\",\"heinz\",\"heinz\",\"heinz\",\"hunts\",\"heinz\",\"heinz\",\"heinz\",\"heinz\",\"hunts\",\"hunts\",\"heinz\",\"heinz\",\"hunts\",\"hunts\",\"stb\",\"heinz\",\"heinz\",\"heinz\",\"stb\",\"stb\",\"stb\",\"stb\",\"hunts\",\"heinz\",\"heinz\",\"heinz\",\"hunts\",\"hunts\",\"stb\",\"stb\",\"stb\",\"heinz\",\"stb\",\"stb\",\"stb\",\"stb\",\"hunts\",\"heinz\",\"heinz\",\"heinz\",\"hunts\",\"hunts\",\"hunts\",\"stb\",\"heinz\",\"hunts\",\"hunts\",\"hunts\",\"stb\",\"hunts\",\"heinz\",\"heinz\",\"heinz\",\"heinz\",\"heinz\",\"heinz\",\"heinz\",\"hunts\",\"stb\",\"stb\",\"stb\",\"stb\",\"stb\",\"stb\",\"stb\",\"stb\",\"stb\",\"heinz\",\"hunts\",\"heinz\",\"stb\",\"stb\",\"hunts\",\"heinz\",\"stb\",\"heinz\",\"heinz\",\"heinz\",\"hunts\",\"heinz\",\"hunts\",\"heinz\",\"heinz\",\"heinz\",\"heinz\",\"stb\",\"stb\",\"stb\",\"hunts\",\"hunts\",\"delmonte\",\"hunts\",\"delmonte\",\"heinz\",\"heinz\",\"heinz\",\"heinz\",\"heinz\",\"delmonte\",\"delmonte\",\"stb\",\"heinz\",\"stb\",\"heinz\",\"stb\",\"heinz\",\"heinz\",\"stb\",\"heinz\",\"stb\",\"stb\",\"stb\",\"stb\",\"stb\",\"stb\",\"delmonte\",\"heinz\",\"heinz\",\"heinz\",\"hunts\",\"hunts\",\"hunts\",\"hunts\",\"heinz\",\"stb\",\"heinz\",\"stb\",\"heinz\",\"hunts\",\"heinz\",\"heinz\",\"heinz\",\"heinz\",\"heinz\",\"heinz\",\"hunts\",\"hunts\",\"hunts\",\"stb\",\"stb\",\"hunts\",\"hunts\",\"hunts\",\"stb\",\"heinz\",\"heinz\",\"heinz\",\"heinz\",\"heinz\",\"hunts\",\"hunts\",\"hunts\",\"heinz\",\"hunts\",\"heinz\",\"heinz\",\"stb\",\"stb\",\"heinz\",\"heinz\",\"stb\",\"stb\",\"stb\",\"heinz\",\"heinz\",\"heinz\",\"heinz\",\"heinz\",\"heinz\",\"stb\",\"stb\",\"heinz\",\"heinz\",\"heinz\",\"heinz\",\"delmonte\",\"hunts\",\"heinz\",\"heinz\",\"heinz\",\"heinz\",\"heinz\",\"heinz\",\"heinz\",\"heinz\",\"heinz\",\"heinz\",\"heinz\",\"heinz\",\"hunts\",\"heinz\",\"hunts\",\"delmonte\",\"heinz\",\"heinz\",\"heinz\",\"hunts\",\"stb\",\"stb\",\"hunts\",\"hunts\",\"heinz\",\"heinz\",\"hunts\",\"heinz\",\"heinz\",\"stb\",\"delmonte\",\"stb\",\"stb\",\"stb\",\"stb\",\"stb\",\"stb\",\"stb\",\"stb\",\"stb\",\"stb\",\"stb\",\"stb\",\"stb\",\"heinz\",\"hunts\",\"hunts\",\"stb\",\"stb\",\"stb\",\"stb\",\"stb\",\"heinz\",\"hunts\",\"stb\",\"hunts\",\"heinz\",\"heinz\",\"hunts\",\"hunts\",\"hunts\",\"stb\",\"heinz\",\"heinz\",\"heinz\",\"heinz\",\"heinz\",\"heinz\",\"heinz\",\"stb\",\"heinz\",\"stb\",\"stb\",\"stb\",\"heinz\",\"stb\",\"stb\",\"heinz\",\"heinz\",\"heinz\",\"heinz\",\"heinz\",\"heinz\",\"heinz\",\"heinz\",\"heinz\",\"heinz\",\"heinz\",\"hunts\",\"hunts\",\"heinz\",\"stb\",\"stb\",\"stb\",\"stb\",\"stb\",\"stb\",\"stb\",\"stb\",\"stb\",\"stb\",\"stb\",\"stb\",\"stb\",\"stb\",\"heinz\",\"heinz\",\"heinz\",\"heinz\",\"heinz\",\"heinz\",\"stb\",\"stb\",\"heinz\",\"heinz\",\"delmonte\",\"delmonte\",\"heinz\",\"heinz\",\"heinz\",\"stb\",\"heinz\",\"heinz\",\"heinz\",\"heinz\",\"stb\",\"stb\",\"heinz\",\"heinz\",\"heinz\",\"heinz\",\"hunts\",\"hunts\",\"delmonte\",\"hunts\",\"hunts\",\"delmonte\",\"heinz\",\"heinz\",\"heinz\",\"hunts\",\"hunts\",\"delmonte\",\"heinz\",\"heinz\",\"heinz\",\"hunts\",\"delmonte\",\"heinz\",\"heinz\",\"stb\",\"heinz\",\"hunts\",\"hunts\",\"delmonte\",\"stb\",\"hunts\",\"stb\",\"heinz\",\"heinz\",\"heinz\",\"heinz\",\"heinz\",\"heinz\",\"heinz\",\"heinz\",\"heinz\",\"heinz\",\"delmonte\",\"heinz\",\"heinz\",\"heinz\",\"heinz\",\"heinz\",\"heinz\",\"delmonte\",\"stb\",\"stb\",\"heinz\",\"heinz\",\"heinz\",\"heinz\",\"heinz\",\"heinz\",\"delmonte\",\"heinz\",\"hunts\",\"hunts\",\"hunts\",\"heinz\",\"hunts\",\"hunts\",\"hunts\",\"heinz\",\"stb\",\"heinz\",\"stb\",\"stb\",\"stb\",\"heinz\",\"stb\",\"heinz\",\"stb\",\"stb\",\"stb\",\"stb\",\"hunts\",\"hunts\",\"hunts\",\"heinz\",\"hunts\",\"heinz\",\"delmonte\",\"stb\",\"heinz\",\"hunts\",\"stb\",\"stb\",\"stb\",\"heinz\",\"heinz\",\"heinz\",\"heinz\",\"heinz\",\"delmonte\",\"delmonte\",\"heinz\",\"heinz\",\"heinz\",\"hunts\",\"heinz\",\"heinz\",\"heinz\",\"heinz\",\"heinz\",\"hunts\",\"hunts\",\"heinz\",\"heinz\",\"heinz\",\"delmonte\",\"heinz\",\"heinz\",\"heinz\",\"heinz\",\"heinz\",\"hunts\",\"heinz\",\"heinz\",\"hunts\",\"stb\",\"heinz\",\"heinz\",\"stb\",\"stb\",\"heinz\",\"heinz\",\"hunts\",\"delmonte\",\"delmonte\",\"heinz\",\"heinz\",\"heinz\",\"heinz\",\"heinz\",\"heinz\",\"heinz\",\"heinz\",\"heinz\",\"hunts\",\"delmonte\",\"delmonte\",\"stb\",\"heinz\",\"heinz\",\"delmonte\",\"delmonte\",\"delmonte\",\"delmonte\",\"stb\",\"heinz\",\"heinz\",\"heinz\",\"heinz\",\"heinz\",\"heinz\",\"heinz\",\"heinz\",\"heinz\",\"hunts\",\"stb\",\"stb\",\"stb\",\"stb\",\"stb\",\"stb\",\"stb\",\"stb\",\"stb\",\"stb\",\"heinz\",\"delmonte\",\"stb\",\"heinz\",\"hunts\",\"stb\",\"heinz\",\"heinz\",\"heinz\",\"heinz\",\"heinz\",\"heinz\",\"heinz\",\"heinz\",\"heinz\",\"heinz\",\"heinz\",\"heinz\",\"heinz\",\"heinz\",\"hunts\",\"hunts\",\"delmonte\",\"heinz\",\"heinz\",\"heinz\",\"heinz\",\"hunts\",\"hunts\",\"hunts\",\"hunts\",\"heinz\",\"hunts\",\"heinz\",\"heinz\",\"delmonte\",\"delmonte\",\"heinz\",\"hunts\",\"stb\",\"stb\",\"stb\",\"stb\",\"stb\",\"stb\",\"heinz\",\"heinz\",\"heinz\",\"hunts\",\"hunts\",\"delmonte\",\"delmonte\",\"stb\",\"stb\",\"stb\",\"stb\",\"heinz\",\"heinz\",\"stb\",\"heinz\",\"hunts\",\"stb\",\"heinz\",\"heinz\",\"stb\",\"heinz\",\"hunts\",\"heinz\",\"heinz\",\"heinz\",\"hunts\",\"stb\",\"stb\",\"stb\",\"stb\",\"heinz\",\"heinz\",\"stb\",\"stb\",\"stb\",\"hunts\",\"hunts\",\"hunts\",\"hunts\",\"hunts\",\"heinz\",\"hunts\",\"heinz\",\"heinz\",\"heinz\",\"heinz\",\"heinz\",\"heinz\",\"heinz\",\"heinz\",\"heinz\",\"heinz\",\"hunts\",\"heinz\",\"hunts\",\"hunts\",\"stb\",\"stb\",\"heinz\",\"heinz\",\"heinz\",\"heinz\",\"heinz\",\"hunts\",\"heinz\",\"hunts\",\"stb\",\"heinz\",\"hunts\",\"hunts\",\"heinz\",\"heinz\",\"hunts\",\"delmonte\",\"hunts\",\"heinz\",\"heinz\",\"heinz\",\"heinz\",\"heinz\",\"heinz\",\"heinz\",\"heinz\",\"heinz\",\"heinz\",\"stb\",\"stb\",\"heinz\",\"heinz\",\"hunts\",\"heinz\",\"heinz\",\"heinz\",\"heinz\",\"heinz\",\"heinz\",\"heinz\",\"heinz\",\"heinz\",\"heinz\",\"heinz\",\"hunts\",\"hunts\",\"hunts\",\"hunts\",\"hunts\",\"delmonte\",\"heinz\",\"hunts\",\"hunts\",\"heinz\",\"heinz\",\"heinz\",\"heinz\",\"heinz\",\"heinz\",\"heinz\",\"hunts\",\"stb\",\"stb\",\"heinz\",\"heinz\",\"hunts\",\"delmonte\",\"heinz\",\"heinz\",\"heinz\",\"heinz\",\"heinz\",\"heinz\",\"heinz\",\"stb\",\"stb\",\"stb\",\"stb\",\"heinz\",\"hunts\",\"delmonte\",\"delmonte\",\"heinz\",\"heinz\",\"heinz\",\"delmonte\",\"hunts\",\"stb\",\"stb\",\"stb\",\"hunts\",\"heinz\",\"heinz\",\"heinz\",\"heinz\",\"heinz\",\"heinz\",\"heinz\",\"heinz\",\"heinz\",\"delmonte\",\"stb\",\"heinz\",\"stb\",\"heinz\",\"heinz\",\"hunts\",\"delmonte\",\"stb\",\"heinz\",\"heinz\",\"heinz\",\"heinz\",\"hunts\",\"hunts\",\"heinz\",\"heinz\",\"heinz\",\"heinz\",\"stb\",\"heinz\",\"heinz\",\"stb\",\"heinz\",\"heinz\",\"heinz\",\"heinz\",\"heinz\",\"heinz\",\"hunts\",\"stb\",\"stb\",\"stb\",\"heinz\",\"hunts\",\"stb\",\"heinz\",\"heinz\",\"heinz\",\"stb\",\"heinz\",\"stb\",\"heinz\",\"hunts\",\"heinz\",\"heinz\",\"heinz\",\"hunts\",\"hunts\",\"hunts\",\"hunts\",\"delmonte\",\"stb\",\"stb\",\"stb\",\"stb\",\"stb\",\"stb\",\"stb\",\"stb\",\"stb\",\"hunts\",\"stb\",\"heinz\",\"heinz\",\"hunts\",\"heinz\",\"stb\",\"hunts\",\"heinz\",\"heinz\",\"heinz\",\"heinz\",\"delmonte\",\"stb\",\"heinz\",\"stb\",\"heinz\",\"hunts\",\"heinz\",\"hunts\",\"hunts\",\"heinz\",\"hunts\",\"stb\",\"stb\",\"stb\",\"stb\",\"stb\",\"heinz\",\"heinz\",\"heinz\",\"heinz\",\"heinz\",\"heinz\",\"heinz\",\"heinz\",\"heinz\",\"heinz\",\"heinz\",\"heinz\",\"heinz\",\"heinz\",\"heinz\",\"hunts\",\"stb\",\"stb\",\"stb\",\"stb\",\"heinz\",\"hunts\",\"delmonte\",\"stb\",\"heinz\",\"heinz\",\"hunts\",\"hunts\",\"heinz\",\"hunts\",\"hunts\",\"hunts\",\"heinz\",\"hunts\",\"delmonte\",\"heinz\",\"hunts\",\"hunts\",\"heinz\",\"heinz\",\"heinz\",\"heinz\",\"heinz\",\"heinz\",\"hunts\",\"heinz\",\"heinz\",\"delmonte\",\"delmonte\",\"stb\",\"stb\",\"stb\",\"stb\",\"heinz\",\"heinz\",\"heinz\",\"heinz\",\"stb\",\"stb\",\"stb\",\"heinz\",\"heinz\",\"heinz\",\"stb\",\"heinz\",\"heinz\",\"heinz\",\"heinz\",\"hunts\",\"heinz\",\"heinz\",\"hunts\",\"stb\",\"stb\",\"heinz\",\"heinz\",\"heinz\",\"heinz\",\"heinz\",\"delmonte\",\"stb\",\"heinz\",\"delmonte\",\"hunts\",\"heinz\",\"heinz\",\"delmonte\",\"delmonte\",\"delmonte\",\"heinz\",\"heinz\",\"heinz\",\"heinz\",\"heinz\",\"heinz\",\"heinz\",\"heinz\",\"heinz\",\"hunts\",\"heinz\",\"heinz\",\"heinz\",\"heinz\",\"heinz\",\"heinz\",\"hunts\",\"heinz\",\"heinz\",\"heinz\",\"heinz\",\"heinz\",\"hunts\",\"heinz\",\"heinz\",\"stb\",\"stb\",\"heinz\",\"heinz\",\"stb\",\"delmonte\",\"hunts\",\"heinz\",\"heinz\",\"heinz\",\"stb\",\"stb\",\"stb\",\"stb\",\"stb\",\"stb\",\"heinz\",\"stb\",\"stb\",\"hunts\",\"hunts\",\"heinz\",\"heinz\",\"heinz\",\"heinz\",\"hunts\",\"delmonte\",\"stb\",\"stb\",\"stb\",\"stb\",\"heinz\",\"hunts\",\"heinz\",\"stb\",\"stb\",\"delmonte\",\"stb\",\"heinz\",\"heinz\",\"delmonte\",\"heinz\",\"stb\",\"heinz\",\"delmonte\",\"stb\",\"stb\",\"hunts\",\"stb\",\"stb\",\"stb\",\"stb\",\"heinz\",\"heinz\",\"hunts\",\"heinz\",\"heinz\",\"hunts\",\"hunts\",\"stb\",\"stb\",\"stb\",\"stb\",\"heinz\",\"heinz\",\"heinz\",\"hunts\",\"hunts\",\"hunts\",\"stb\",\"hunts\",\"heinz\",\"heinz\",\"heinz\",\"heinz\",\"hunts\",\"stb\",\"heinz\",\"delmonte\",\"heinz\",\"heinz\",\"heinz\",\"heinz\",\"heinz\",\"delmonte\",\"heinz\",\"heinz\",\"heinz\",\"hunts\",\"heinz\",\"heinz\",\"heinz\",\"heinz\",\"heinz\",\"heinz\",\"hunts\",\"heinz\",\"hunts\",\"delmonte\",\"delmonte\",\"heinz\",\"hunts\",\"delmonte\",\"heinz\",\"stb\",\"stb\",\"stb\",\"stb\",\"stb\",\"stb\",\"hunts\",\"stb\",\"heinz\",\"hunts\",\"hunts\",\"heinz\",\"hunts\",\"hunts\",\"delmonte\",\"stb\",\"heinz\",\"heinz\",\"heinz\",\"heinz\",\"heinz\",\"heinz\",\"heinz\",\"heinz\",\"heinz\",\"heinz\",\"stb\",\"stb\",\"stb\",\"stb\",\"stb\",\"stb\",\"heinz\",\"heinz\",\"heinz\",\"heinz\",\"hunts\",\"stb\",\"stb\",\"stb\",\"stb\",\"stb\",\"stb\",\"hunts\",\"stb\",\"heinz\",\"heinz\",\"heinz\",\"heinz\",\"heinz\",\"heinz\",\"heinz\",\"heinz\",\"heinz\",\"heinz\",\"heinz\",\"heinz\",\"heinz\",\"heinz\",\"heinz\",\"heinz\",\"heinz\",\"hunts\",\"stb\",\"heinz\",\"stb\",\"heinz\",\"heinz\",\"heinz\",\"heinz\",\"heinz\",\"heinz\",\"heinz\",\"heinz\",\"stb\",\"stb\",\"stb\",\"stb\",\"heinz\",\"heinz\",\"heinz\",\"stb\",\"stb\",\"heinz\",\"heinz\",\"delmonte\",\"heinz\",\"heinz\",\"heinz\",\"heinz\",\"hunts\",\"hunts\",\"hunts\",\"hunts\",\"hunts\",\"heinz\",\"hunts\",\"stb\",\"stb\",\"stb\",\"stb\",\"hunts\",\"hunts\",\"heinz\",\"heinz\",\"heinz\",\"hunts\",\"hunts\",\"heinz\",\"heinz\",\"hunts\",\"heinz\",\"hunts\",\"hunts\",\"heinz\",\"heinz\",\"heinz\",\"heinz\",\"hunts\",\"stb\",\"hunts\",\"heinz\",\"heinz\",\"hunts\",\"hunts\",\"heinz\",\"heinz\",\"hunts\",\"stb\",\"heinz\",\"heinz\",\"delmonte\",\"hunts\",\"heinz\",\"stb\",\"heinz\",\"heinz\",\"heinz\",\"stb\",\"heinz\",\"heinz\",\"heinz\",\"heinz\",\"heinz\",\"hunts\",\"delmonte\",\"heinz\",\"heinz\",\"stb\",\"stb\",\"stb\",\"stb\",\"stb\",\"hunts\",\"stb\",\"heinz\",\"hunts\",\"stb\",\"stb\",\"delmonte\",\"heinz\",\"heinz\",\"heinz\",\"heinz\",\"hunts\",\"hunts\",\"hunts\",\"hunts\",\"hunts\",\"delmonte\",\"stb\",\"stb\",\"stb\",\"heinz\",\"heinz\",\"heinz\",\"hunts\",\"heinz\",\"heinz\",\"hunts\",\"heinz\",\"heinz\",\"heinz\",\"heinz\",\"heinz\",\"heinz\",\"heinz\",\"heinz\",\"heinz\",\"heinz\",\"heinz\",\"heinz\",\"heinz\",\"hunts\",\"hunts\",\"stb\",\"stb\",\"stb\",\"stb\",\"stb\",\"stb\",\"stb\",\"stb\",\"stb\",\"hunts\",\"stb\",\"heinz\",\"stb\",\"hunts\",\"stb\",\"heinz\",\"heinz\",\"hunts\",\"hunts\",\"heinz\",\"stb\",\"stb\",\"stb\",\"stb\",\"stb\",\"stb\",\"heinz\",\"hunts\",\"heinz\",\"stb\",\"heinz\",\"stb\",\"heinz\",\"heinz\",\"hunts\",\"heinz\",\"heinz\",\"hunts\",\"stb\",\"heinz\",\"heinz\",\"delmonte\",\"heinz\",\"heinz\",\"heinz\",\"heinz\",\"heinz\",\"heinz\",\"heinz\",\"heinz\",\"heinz\",\"heinz\",\"heinz\",\"heinz\",\"heinz\",\"heinz\",\"hunts\",\"hunts\",\"hunts\",\"hunts\",\"hunts\",\"heinz\",\"heinz\",\"heinz\",\"stb\",\"heinz\",\"heinz\",\"heinz\",\"hunts\",\"heinz\",\"hunts\",\"stb\",\"stb\",\"stb\",\"stb\",\"heinz\",\"heinz\",\"heinz\",\"heinz\",\"heinz\",\"heinz\",\"stb\",\"stb\",\"stb\",\"delmonte\",\"stb\",\"stb\",\"hunts\",\"stb\",\"heinz\",\"heinz\",\"heinz\",\"stb\",\"stb\",\"heinz\",\"heinz\",\"heinz\",\"heinz\",\"heinz\",\"heinz\",\"heinz\",\"heinz\",\"heinz\",\"heinz\",\"stb\",\"heinz\",\"heinz\",\"heinz\",\"stb\",\"heinz\",\"hunts\",\"stb\",\"heinz\",\"stb\",\"hunts\",\"hunts\",\"heinz\",\"heinz\",\"heinz\",\"heinz\",\"hunts\",\"heinz\",\"heinz\",\"heinz\",\"stb\",\"stb\",\"hunts\",\"heinz\",\"heinz\",\"heinz\",\"stb\",\"heinz\",\"heinz\",\"heinz\",\"heinz\",\"hunts\",\"heinz\",\"heinz\",\"heinz\",\"hunts\",\"hunts\",\"heinz\",\"heinz\",\"heinz\",\"hunts\",\"stb\",\"hunts\",\"stb\",\"heinz\",\"heinz\",\"stb\",\"stb\",\"stb\",\"stb\",\"heinz\",\"hunts\",\"hunts\",\"stb\",\"heinz\",\"heinz\",\"heinz\",\"heinz\",\"heinz\",\"heinz\",\"heinz\",\"heinz\",\"heinz\",\"stb\",\"hunts\",\"heinz\",\"heinz\",\"hunts\",\"hunts\",\"hunts\",\"heinz\",\"heinz\",\"heinz\",\"hunts\",\"hunts\",\"hunts\",\"stb\",\"stb\",\"stb\",\"stb\",\"stb\",\"stb\",\"stb\",\"stb\",\"stb\",\"stb\",\"stb\",\"stb\",\"stb\",\"heinz\",\"hunts\",\"stb\",\"stb\",\"heinz\",\"heinz\",\"heinz\",\"heinz\",\"delmonte\",\"delmonte\",\"stb\",\"heinz\",\"heinz\",\"heinz\",\"hunts\",\"delmonte\",\"heinz\",\"heinz\",\"heinz\",\"heinz\",\"heinz\",\"heinz\",\"heinz\",\"heinz\",\"hunts\",\"heinz\",\"heinz\",\"heinz\",\"heinz\",\"heinz\",\"stb\",\"hunts\",\"heinz\",\"heinz\",\"heinz\",\"hunts\",\"heinz\",\"stb\",\"stb\",\"stb\",\"stb\",\"hunts\",\"hunts\",\"stb\",\"heinz\",\"heinz\",\"heinz\",\"heinz\",\"heinz\",\"hunts\",\"hunts\",\"hunts\",\"hunts\",\"hunts\",\"hunts\",\"delmonte\",\"stb\",\"stb\",\"stb\",\"stb\",\"stb\",\"stb\",\"stb\",\"heinz\",\"heinz\",\"heinz\",\"heinz\",\"delmonte\",\"heinz\",\"heinz\",\"hunts\",\"heinz\",\"heinz\",\"hunts\",\"hunts\",\"hunts\",\"stb\",\"stb\",\"stb\",\"delmonte\",\"hunts\",\"hunts\",\"heinz\",\"heinz\",\"heinz\",\"heinz\",\"stb\",\"stb\",\"heinz\",\"heinz\",\"heinz\",\"stb\",\"heinz\",\"stb\",\"stb\",\"heinz\",\"heinz\",\"delmonte\",\"heinz\",\"hunts\",\"stb\",\"hunts\",\"delmonte\",\"heinz\",\"heinz\",\"heinz\",\"heinz\",\"heinz\",\"heinz\",\"heinz\",\"heinz\",\"heinz\",\"heinz\",\"heinz\",\"hunts\",\"heinz\",\"heinz\",\"hunts\",\"heinz\",\"stb\",\"heinz\",\"heinz\",\"heinz\",\"hunts\",\"heinz\",\"heinz\",\"heinz\",\"hunts\",\"hunts\",\"heinz\",\"heinz\",\"heinz\",\"hunts\",\"hunts\",\"stb\",\"heinz\",\"hunts\",\"hunts\",\"stb\",\"stb\",\"heinz\",\"heinz\",\"heinz\",\"stb\",\"heinz\",\"stb\",\"heinz\",\"heinz\",\"heinz\",\"heinz\",\"heinz\",\"heinz\",\"heinz\",\"hunts\",\"hunts\",\"hunts\",\"delmonte\",\"delmonte\",\"heinz\",\"heinz\",\"hunts\",\"heinz\",\"stb\",\"heinz\",\"heinz\",\"heinz\",\"heinz\",\"heinz\",\"heinz\",\"heinz\",\"heinz\",\"heinz\",\"heinz\",\"heinz\",\"heinz\",\"heinz\",\"hunts\",\"stb\",\"heinz\",\"heinz\",\"heinz\",\"delmonte\",\"heinz\",\"hunts\",\"hunts\",\"hunts\",\"hunts\",\"hunts\",\"heinz\",\"hunts\",\"hunts\",\"hunts\",\"hunts\",\"heinz\",\"heinz\",\"heinz\",\"heinz\",\"stb\",\"hunts\",\"hunts\",\"heinz\",\"hunts\",\"hunts\",\"heinz\",\"heinz\",\"heinz\",\"heinz\",\"hunts\",\"stb\",\"heinz\",\"heinz\",\"heinz\",\"heinz\",\"delmonte\",\"delmonte\",\"delmonte\",\"delmonte\",\"heinz\",\"stb\",\"heinz\",\"heinz\",\"heinz\",\"heinz\",\"heinz\",\"hunts\",\"heinz\",\"hunts\",\"stb\",\"stb\",\"stb\",\"stb\",\"stb\",\"stb\",\"heinz\",\"delmonte\",\"stb\",\"heinz\",\"heinz\",\"heinz\",\"hunts\",\"stb\",\"heinz\",\"heinz\",\"hunts\",\"hunts\",\"heinz\",\"heinz\",\"heinz\",\"heinz\",\"heinz\",\"heinz\",\"heinz\",\"heinz\",\"heinz\",\"heinz\",\"hunts\",\"delmonte\",\"delmonte\",\"stb\",\"stb\",\"heinz\",\"heinz\",\"heinz\",\"heinz\",\"heinz\",\"heinz\",\"heinz\",\"heinz\",\"heinz\",\"heinz\",\"heinz\",\"heinz\",\"heinz\",\"heinz\",\"heinz\",\"heinz\",\"heinz\",\"heinz\",\"hunts\",\"stb\",\"heinz\",\"heinz\",\"heinz\",\"heinz\",\"hunts\",\"stb\",\"delmonte\",\"stb\",\"heinz\",\"heinz\",\"heinz\",\"heinz\",\"stb\",\"heinz\",\"heinz\",\"stb\",\"hunts\",\"hunts\",\"heinz\",\"stb\",\"heinz\",\"heinz\",\"hunts\",\"heinz\",\"hunts\",\"stb\",\"stb\",\"heinz\",\"heinz\",\"heinz\",\"heinz\",\"hunts\",\"hunts\",\"stb\",\"stb\",\"heinz\",\"heinz\",\"hunts\",\"hunts\",\"stb\",\"stb\",\"stb\",\"stb\",\"stb\",\"stb\",\"stb\",\"stb\",\"heinz\",\"heinz\",\"delmonte\",\"heinz\",\"heinz\",\"hunts\",\"heinz\",\"hunts\",\"heinz\",\"heinz\",\"heinz\",\"heinz\",\"stb\",\"stb\",\"stb\",\"hunts\",\"stb\",\"heinz\",\"heinz\",\"hunts\",\"stb\",\"stb\",\"hunts\",\"stb\",\"heinz\",\"heinz\",\"heinz\",\"heinz\",\"heinz\",\"heinz\",\"heinz\",\"heinz\",\"heinz\",\"heinz\",\"heinz\",\"heinz\",\"hunts\",\"hunts\",\"stb\",\"heinz\",\"heinz\",\"heinz\",\"heinz\",\"heinz\",\"heinz\",\"heinz\",\"heinz\",\"heinz\",\"heinz\",\"heinz\",\"heinz\",\"stb\",\"stb\",\"heinz\",\"stb\",\"hunts\",\"hunts\",\"hunts\",\"hunts\",\"heinz\",\"hunts\",\"hunts\",\"delmonte\",\"stb\",\"stb\",\"stb\",\"stb\",\"stb\",\"heinz\",\"stb\",\"heinz\",\"heinz\",\"heinz\",\"heinz\",\"heinz\",\"hunts\",\"delmonte\",\"heinz\",\"hunts\",\"heinz\",\"heinz\",\"hunts\",\"hunts\",\"hunts\",\"stb\",\"heinz\",\"heinz\",\"heinz\",\"delmonte\",\"heinz\",\"heinz\",\"hunts\",\"hunts\",\"hunts\",\"hunts\",\"hunts\",\"hunts\",\"hunts\",\"hunts\",\"hunts\",\"hunts\",\"hunts\",\"delmonte\",\"stb\",\"heinz\",\"hunts\",\"stb\",\"heinz\",\"heinz\",\"heinz\",\"hunts\",\"hunts\",\"stb\",\"heinz\",\"heinz\",\"heinz\",\"stb\",\"heinz\",\"heinz\",\"heinz\",\"heinz\",\"hunts\",\"hunts\",\"stb\",\"stb\",\"stb\",\"stb\",\"hunts\",\"heinz\",\"heinz\",\"hunts\",\"hunts\",\"stb\",\"stb\",\"heinz\",\"hunts\",\"heinz\",\"heinz\",\"heinz\",\"heinz\",\"heinz\",\"hunts\",\"stb\",\"heinz\",\"heinz\",\"heinz\",\"heinz\",\"stb\",\"heinz\",\"delmonte\",\"hunts\",\"heinz\",\"delmonte\",\"stb\",\"stb\",\"stb\",\"stb\",\"stb\",\"stb\",\"stb\",\"stb\",\"hunts\",\"stb\",\"heinz\",\"hunts\",\"stb\",\"heinz\",\"stb\",\"stb\",\"stb\",\"heinz\",\"heinz\",\"heinz\",\"heinz\",\"stb\",\"heinz\",\"heinz\",\"heinz\",\"hunts\",\"heinz\",\"heinz\",\"heinz\",\"heinz\",\"heinz\",\"heinz\",\"heinz\",\"heinz\",\"heinz\",\"hunts\",\"hunts\",\"hunts\",\"hunts\",\"hunts\",\"hunts\",\"heinz\",\"heinz\",\"stb\",\"stb\",\"stb\",\"stb\",\"heinz\",\"heinz\",\"heinz\",\"heinz\",\"heinz\",\"heinz\",\"hunts\",\"hunts\",\"hunts\",\"hunts\",\"heinz\",\"stb\",\"stb\",\"heinz\",\"stb\",\"hunts\",\"hunts\",\"stb\",\"hunts\",\"heinz\",\"stb\",\"heinz\",\"heinz\",\"stb\",\"hunts\",\"stb\",\"heinz\",\"heinz\",\"stb\",\"delmonte\",\"delmonte\",\"delmonte\",\"delmonte\",\"heinz\",\"heinz\",\"heinz\",\"heinz\",\"heinz\",\"heinz\",\"hunts\",\"stb\",\"heinz\",\"heinz\",\"hunts\",\"hunts\",\"heinz\",\"heinz\",\"heinz\",\"hunts\",\"hunts\",\"hunts\",\"hunts\",\"hunts\",\"hunts\",\"heinz\",\"heinz\",\"heinz\",\"heinz\",\"stb\",\"stb\",\"heinz\",\"hunts\",\"hunts\",\"hunts\",\"heinz\",\"hunts\",\"stb\",\"heinz\",\"heinz\",\"heinz\",\"hunts\",\"heinz\",\"hunts\",\"hunts\",\"stb\",\"stb\",\"hunts\",\"heinz\",\"hunts\",\"heinz\",\"hunts\",\"hunts\",\"stb\",\"heinz\",\"hunts\",\"stb\",\"stb\",\"heinz\",\"hunts\",\"hunts\",\"stb\",\"hunts\",\"stb\",\"stb\",\"hunts\",\"hunts\",\"stb\",\"heinz\",\"heinz\",\"delmonte\",\"heinz\",\"hunts\",\"heinz\",\"heinz\",\"heinz\",\"heinz\",\"stb\",\"stb\",\"heinz\",\"heinz\",\"heinz\",\"heinz\",\"heinz\",\"heinz\",\"heinz\",\"heinz\",\"heinz\",\"heinz\",\"hunts\",\"heinz\",\"heinz\",\"heinz\",\"hunts\",\"hunts\",\"heinz\",\"heinz\",\"heinz\",\"stb\",\"heinz\",\"heinz\",\"heinz\",\"hunts\",\"heinz\",\"heinz\",\"hunts\",\"hunts\",\"heinz\",\"heinz\",\"heinz\",\"heinz\",\"heinz\",\"heinz\",\"heinz\",\"heinz\",\"heinz\",\"heinz\",\"heinz\",\"heinz\",\"heinz\",\"heinz\",\"heinz\",\"heinz\",\"heinz\",\"heinz\",\"heinz\",\"heinz\",\"heinz\",\"heinz\",\"heinz\",\"hunts\",\"hunts\",\"stb\",\"stb\",\"stb\",\"stb\",\"stb\",\"stb\",\"stb\",\"stb\",\"stb\",\"stb\",\"stb\",\"stb\",\"stb\",\"stb\",\"stb\",\"heinz\",\"heinz\",\"hunts\",\"heinz\",\"delmonte\",\"delmonte\",\"hunts\",\"heinz\",\"heinz\",\"hunts\",\"delmonte\",\"stb\",\"stb\",\"stb\",\"heinz\",\"heinz\",\"heinz\",\"heinz\",\"heinz\",\"heinz\",\"heinz\",\"stb\",\"heinz\",\"heinz\",\"heinz\",\"heinz\",\"heinz\",\"hunts\",\"stb\",\"stb\",\"stb\",\"stb\",\"heinz\",\"stb\",\"stb\",\"stb\",\"stb\",\"heinz\",\"heinz\",\"heinz\",\"hunts\",\"stb\",\"stb\",\"stb\",\"stb\",\"heinz\",\"heinz\",\"heinz\",\"heinz\",\"heinz\",\"heinz\",\"hunts\",\"hunts\",\"heinz\",\"heinz\",\"heinz\",\"hunts\",\"stb\",\"heinz\",\"heinz\",\"hunts\",\"stb\",\"heinz\",\"heinz\",\"heinz\",\"heinz\",\"hunts\",\"heinz\",\"heinz\",\"heinz\",\"stb\",\"heinz\",\"heinz\",\"heinz\",\"heinz\",\"heinz\",\"stb\",\"heinz\",\"heinz\",\"heinz\",\"stb\",\"heinz\",\"heinz\",\"heinz\",\"heinz\",\"heinz\",\"heinz\",\"heinz\",\"heinz\",\"hunts\",\"hunts\",\"hunts\",\"hunts\",\"stb\",\"stb\",\"stb\",\"stb\",\"heinz\",\"heinz\",\"heinz\",\"heinz\",\"hunts\",\"heinz\",\"stb\",\"heinz\",\"heinz\",\"heinz\",\"heinz\",\"heinz\",\"hunts\",\"delmonte\",\"stb\",\"stb\",\"stb\",\"stb\",\"stb\",\"stb\",\"stb\",\"stb\",\"stb\",\"stb\",\"heinz\",\"hunts\",\"heinz\",\"hunts\",\"stb\",\"heinz\",\"heinz\",\"heinz\",\"heinz\",\"heinz\",\"heinz\",\"heinz\",\"heinz\",\"hunts\",\"stb\",\"stb\",\"stb\",\"heinz\",\"heinz\",\"stb\",\"stb\",\"stb\",\"heinz\",\"heinz\",\"heinz\",\"heinz\",\"heinz\",\"heinz\",\"heinz\",\"hunts\",\"heinz\",\"delmonte\",\"heinz\",\"heinz\",\"heinz\",\"hunts\",\"hunts\",\"hunts\",\"hunts\",\"hunts\",\"hunts\",\"hunts\",\"hunts\",\"hunts\",\"delmonte\",\"delmonte\",\"delmonte\",\"delmonte\",\"stb\",\"stb\",\"stb\",\"stb\",\"stb\",\"heinz\",\"hunts\",\"stb\",\"heinz\",\"heinz\",\"heinz\",\"heinz\",\"heinz\",\"heinz\",\"heinz\",\"stb\",\"stb\",\"heinz\",\"stb\",\"hunts\",\"heinz\",\"stb\",\"heinz\",\"heinz\",\"heinz\",\"heinz\",\"heinz\",\"hunts\",\"heinz\",\"heinz\",\"heinz\",\"heinz\",\"heinz\",\"heinz\",\"hunts\",\"stb\",\"stb\",\"heinz\",\"heinz\",\"heinz\",\"heinz\",\"heinz\",\"heinz\",\"heinz\",\"heinz\",\"heinz\",\"heinz\",\"heinz\",\"heinz\",\"hunts\",\"delmonte\",\"stb\",\"heinz\",\"hunts\",\"hunts\",\"hunts\",\"stb\",\"heinz\",\"heinz\",\"heinz\",\"stb\",\"stb\",\"heinz\",\"hunts\",\"heinz\",\"heinz\",\"delmonte\",\"stb\",\"stb\",\"stb\",\"heinz\",\"heinz\",\"heinz\",\"heinz\",\"heinz\",\"heinz\",\"heinz\",\"stb\",\"heinz\",\"heinz\",\"heinz\",\"heinz\",\"hunts\",\"stb\",\"heinz\",\"stb\",\"heinz\",\"hunts\",\"hunts\",\"stb\",\"heinz\",\"heinz\",\"stb\",\"hunts\",\"heinz\",\"heinz\",\"heinz\",\"heinz\",\"heinz\",\"heinz\",\"stb\",\"heinz\",\"stb\",\"heinz\",\"hunts\",\"hunts\",\"heinz\",\"hunts\",\"heinz\",\"hunts\",\"heinz\",\"hunts\",\"heinz\",\"heinz\",\"delmonte\",\"heinz\",\"heinz\",\"heinz\",\"heinz\",\"heinz\",\"heinz\",\"hunts\",\"heinz\",\"heinz\",\"heinz\",\"hunts\",\"stb\",\"stb\",\"heinz\",\"heinz\",\"heinz\",\"heinz\",\"delmonte\",\"delmonte\",\"heinz\",\"heinz\",\"heinz\",\"heinz\",\"stb\",\"stb\",\"heinz\",\"heinz\",\"heinz\",\"heinz\",\"heinz\",\"hunts\",\"heinz\",\"heinz\",\"heinz\",\"hunts\",\"heinz\",\"heinz\",\"heinz\",\"hunts\",\"hunts\",\"stb\",\"heinz\",\"heinz\",\"heinz\",\"hunts\",\"hunts\",\"hunts\",\"hunts\",\"hunts\",\"hunts\",\"hunts\",\"hunts\",\"stb\",\"stb\",\"hunts\",\"hunts\",\"hunts\",\"hunts\",\"hunts\",\"heinz\",\"heinz\",\"heinz\",\"stb\",\"delmonte\",\"heinz\",\"heinz\",\"stb\",\"heinz\",\"stb\",\"heinz\",\"heinz\",\"heinz\",\"heinz\",\"heinz\",\"heinz\",\"stb\",\"stb\",\"heinz\",\"heinz\",\"stb\",\"stb\",\"stb\",\"hunts\",\"hunts\",\"heinz\",\"heinz\",\"stb\",\"stb\",\"stb\",\"stb\",\"heinz\",\"heinz\",\"heinz\",\"heinz\",\"heinz\",\"heinz\",\"hunts\",\"delmonte\",\"stb\",\"stb\",\"hunts\",\"heinz\",\"stb\",\"heinz\",\"heinz\",\"stb\",\"hunts\",\"stb\",\"stb\",\"heinz\",\"heinz\",\"heinz\",\"heinz\",\"hunts\",\"hunts\",\"heinz\",\"heinz\",\"heinz\",\"heinz\",\"stb\",\"stb\",\"delmonte\",\"delmonte\",\"hunts\",\"stb\",\"heinz\",\"heinz\",\"hunts\",\"hunts\",\"hunts\",\"heinz\",\"stb\",\"stb\",\"heinz\",\"heinz\",\"heinz\",\"stb\",\"heinz\",\"delmonte\",\"stb\",\"heinz\",\"heinz\",\"stb\",\"stb\",\"stb\",\"hunts\",\"delmonte\",\"heinz\",\"stb\",\"heinz\",\"heinz\",\"stb\",\"heinz\",\"heinz\",\"heinz\",\"heinz\",\"hunts\",\"hunts\",\"hunts\",\"heinz\",\"heinz\",\"hunts\",\"stb\",\"stb\",\"stb\",\"heinz\",\"hunts\",\"delmonte\",\"stb\",\"heinz\",\"heinz\",\"heinz\",\"heinz\",\"heinz\",\"heinz\",\"heinz\",\"heinz\",\"heinz\",\"heinz\",\"stb\",\"stb\",\"heinz\",\"delmonte\",\"heinz\",\"stb\",\"hunts\",\"heinz\",\"heinz\",\"stb\",\"delmonte\",\"heinz\",\"heinz\",\"heinz\",\"heinz\",\"heinz\",\"heinz\",\"hunts\",\"hunts\",\"hunts\",\"hunts\",\"hunts\",\"heinz\",\"stb\",\"stb\",\"heinz\",\"hunts\",\"stb\",\"heinz\",\"heinz\",\"heinz\",\"heinz\",\"heinz\",\"heinz\",\"heinz\",\"heinz\",\"heinz\",\"heinz\",\"heinz\",\"heinz\",\"heinz\",\"heinz\",\"heinz\",\"heinz\",\"heinz\",\"heinz\",\"heinz\",\"heinz\",\"heinz\",\"heinz\",\"heinz\",\"heinz\",\"heinz\",\"heinz\",\"heinz\",\"heinz\",\"heinz\",\"hunts\",\"hunts\",\"stb\",\"heinz\",\"heinz\",\"heinz\",\"hunts\",\"delmonte\",\"stb\",\"heinz\",\"heinz\",\"heinz\",\"stb\",\"stb\",\"heinz\",\"heinz\",\"hunts\",\"heinz\",\"stb\",\"hunts\",\"delmonte\",\"heinz\",\"stb\",\"stb\",\"heinz\",\"heinz\",\"heinz\",\"stb\",\"stb\",\"stb\",\"stb\",\"stb\",\"heinz\",\"heinz\",\"stb\",\"heinz\",\"heinz\",\"stb\",\"heinz\",\"hunts\",\"heinz\",\"heinz\",\"delmonte\",\"stb\",\"heinz\",\"hunts\",\"stb\",\"heinz\",\"heinz\",\"heinz\",\"hunts\",\"heinz\",\"delmonte\",\"heinz\",\"hunts\",\"delmonte\",\"heinz\",\"heinz\",\"delmonte\",\"stb\",\"stb\",\"stb\",\"hunts\",\"hunts\",\"hunts\",\"hunts\",\"heinz\",\"stb\",\"stb\",\"heinz\",\"heinz\",\"heinz\",\"heinz\",\"heinz\",\"stb\",\"stb\",\"stb\",\"heinz\",\"stb\",\"stb\",\"heinz\",\"hunts\",\"stb\",\"hunts\",\"hunts\",\"heinz\",\"heinz\",\"heinz\",\"stb\",\"stb\",\"stb\",\"stb\",\"heinz\",\"heinz\",\"stb\",\"heinz\",\"delmonte\",\"heinz\",\"heinz\",\"stb\",\"hunts\",\"heinz\",\"heinz\",\"hunts\",\"hunts\",\"heinz\",\"heinz\",\"heinz\",\"delmonte\",\"stb\",\"stb\",\"stb\",\"heinz\",\"heinz\",\"heinz\",\"hunts\",\"hunts\",\"hunts\",\"hunts\",\"hunts\",\"hunts\",\"stb\",\"stb\",\"stb\",\"heinz\",\"stb\",\"heinz\",\"heinz\",\"heinz\",\"hunts\",\"heinz\",\"hunts\",\"stb\",\"stb\",\"heinz\",\"heinz\",\"stb\",\"stb\",\"heinz\",\"heinz\",\"hunts\",\"delmonte\",\"heinz\",\"heinz\",\"heinz\",\"heinz\",\"hunts\",\"stb\",\"heinz\",\"heinz\",\"hunts\",\"heinz\",\"heinz\",\"heinz\",\"heinz\",\"heinz\",\"heinz\",\"heinz\",\"heinz\",\"heinz\",\"heinz\",\"heinz\",\"heinz\",\"heinz\",\"heinz\",\"heinz\",\"heinz\",\"hunts\",\"stb\",\"stb\",\"stb\",\"heinz\",\"hunts\",\"heinz\",\"heinz\",\"hunts\",\"stb\",\"stb\",\"heinz\",\"heinz\",\"heinz\",\"heinz\",\"heinz\",\"heinz\",\"heinz\",\"heinz\",\"heinz\",\"delmonte\",\"hunts\",\"hunts\",\"hunts\",\"hunts\",\"heinz\",\"heinz\",\"stb\",\"heinz\",\"heinz\",\"heinz\",\"heinz\",\"heinz\",\"hunts\",\"delmonte\",\"stb\",\"stb\",\"stb\",\"heinz\",\"stb\",\"heinz\",\"heinz\",\"hunts\",\"delmonte\",\"stb\",\"heinz\",\"heinz\",\"stb\",\"hunts\",\"heinz\",\"heinz\",\"heinz\",\"hunts\",\"delmonte\",\"heinz\",\"hunts\",\"heinz\",\"heinz\",\"stb\",\"stb\",\"heinz\",\"heinz\",\"heinz\",\"heinz\",\"heinz\",\"hunts\",\"heinz\",\"heinz\",\"heinz\",\"stb\",\"stb\",\"heinz\",\"heinz\",\"heinz\",\"heinz\",\"heinz\",\"hunts\",\"hunts\",\"hunts\",\"stb\",\"hunts\",\"hunts\",\"hunts\",\"delmonte\",\"stb\",\"heinz\",\"stb\",\"heinz\",\"heinz\",\"hunts\",\"hunts\",\"hunts\",\"heinz\",\"heinz\",\"heinz\",\"stb\",\"stb\",\"heinz\",\"heinz\",\"heinz\",\"heinz\",\"heinz\",\"heinz\",\"heinz\",\"heinz\",\"heinz\",\"heinz\",\"hunts\",\"hunts\",\"hunts\",\"hunts\",\"hunts\",\"delmonte\",\"delmonte\",\"delmonte\",\"delmonte\",\"stb\",\"stb\",\"heinz\",\"heinz\",\"heinz\",\"stb\",\"heinz\",\"heinz\",\"heinz\",\"hunts\",\"delmonte\",\"stb\",\"heinz\",\"heinz\",\"heinz\",\"hunts\",\"stb\",\"hunts\",\"hunts\",\"hunts\",\"delmonte\",\"heinz\",\"heinz\",\"heinz\",\"stb\",\"stb\",\"stb\",\"hunts\",\"hunts\",\"hunts\",\"hunts\",\"delmonte\",\"heinz\",\"delmonte\",\"stb\",\"heinz\",\"heinz\",\"hunts\",\"delmonte\",\"stb\",\"delmonte\",\"hunts\",\"hunts\",\"stb\",\"stb\",\"stb\",\"stb\",\"heinz\",\"heinz\",\"heinz\",\"hunts\",\"heinz\",\"hunts\",\"stb\",\"heinz\",\"heinz\",\"heinz\",\"hunts\",\"stb\",\"stb\",\"heinz\",\"heinz\",\"hunts\",\"delmonte\",\"stb\",\"hunts\",\"hunts\",\"hunts\",\"heinz\",\"heinz\",\"heinz\",\"stb\",\"stb\",\"stb\",\"stb\",\"stb\",\"heinz\",\"heinz\",\"heinz\",\"heinz\",\"heinz\",\"heinz\",\"heinz\",\"hunts\",\"hunts\",\"hunts\",\"stb\",\"stb\",\"stb\",\"hunts\",\"stb\",\"heinz\",\"stb\",\"heinz\",\"heinz\",\"heinz\",\"heinz\",\"hunts\",\"heinz\",\"heinz\",\"heinz\",\"heinz\",\"stb\",\"heinz\",\"heinz\",\"hunts\",\"hunts\",\"heinz\",\"heinz\",\"heinz\",\"heinz\",\"heinz\",\"heinz\",\"heinz\",\"heinz\",\"heinz\",\"heinz\",\"heinz\",\"heinz\",\"delmonte\",\"delmonte\",\"stb\",\"heinz\",\"heinz\",\"heinz\",\"heinz\",\"heinz\",\"hunts\",\"heinz\",\"heinz\",\"heinz\",\"hunts\",\"stb\",\"stb\",\"stb\",\"stb\",\"stb\",\"heinz\",\"heinz\",\"hunts\",\"heinz\",\"heinz\",\"hunts\",\"hunts\",\"heinz\",\"hunts\",\"hunts\",\"stb\",\"stb\",\"stb\",\"stb\",\"stb\",\"heinz\",\"heinz\",\"heinz\",\"heinz\",\"hunts\",\"hunts\",\"hunts\",\"heinz\",\"heinz\",\"heinz\",\"hunts\",\"hunts\",\"hunts\",\"delmonte\",\"stb\",\"stb\",\"stb\",\"stb\",\"heinz\",\"heinz\",\"heinz\",\"hunts\",\"delmonte\",\"stb\",\"heinz\",\"hunts\",\"stb\",\"stb\",\"stb\",\"heinz\",\"delmonte\",\"hunts\",\"delmonte\",\"delmonte\",\"hunts\",\"hunts\",\"hunts\",\"hunts\",\"hunts\",\"hunts\",\"hunts\",\"heinz\",\"stb\",\"stb\",\"stb\",\"heinz\",\"heinz\",\"heinz\",\"heinz\",\"hunts\",\"heinz\",\"heinz\",\"heinz\",\"heinz\",\"heinz\",\"hunts\",\"stb\",\"hunts\",\"heinz\",\"hunts\",\"hunts\",\"heinz\",\"heinz\",\"heinz\",\"heinz\",\"heinz\",\"stb\",\"hunts\",\"stb\",\"stb\",\"heinz\",\"heinz\",\"stb\",\"heinz\",\"heinz\",\"heinz\",\"heinz\",\"stb\",\"heinz\",\"heinz\",\"heinz\",\"delmonte\",\"stb\",\"stb\",\"stb\",\"stb\",\"stb\",\"heinz\",\"hunts\",\"heinz\",\"heinz\",\"heinz\",\"heinz\",\"heinz\",\"heinz\",\"stb\",\"heinz\",\"heinz\",\"hunts\",\"stb\",\"stb\",\"heinz\",\"hunts\",\"hunts\",\"delmonte\",\"heinz\",\"heinz\",\"heinz\",\"heinz\",\"heinz\",\"heinz\",\"heinz\",\"heinz\",\"heinz\",\"heinz\",\"heinz\",\"heinz\",\"heinz\",\"hunts\",\"hunts\",\"hunts\",\"delmonte\",\"delmonte\",\"delmonte\",\"stb\",\"heinz\",\"heinz\",\"delmonte\",\"heinz\",\"hunts\",\"heinz\",\"heinz\",\"heinz\",\"heinz\",\"heinz\",\"heinz\",\"delmonte\",\"hunts\",\"delmonte\",\"heinz\",\"hunts\",\"hunts\",\"hunts\",\"heinz\",\"stb\",\"hunts\",\"heinz\",\"hunts\",\"stb\",\"stb\",\"heinz\",\"hunts\",\"hunts\",\"hunts\",\"heinz\",\"heinz\",\"heinz\",\"heinz\",\"heinz\",\"heinz\",\"hunts\",\"hunts\",\"hunts\",\"hunts\",\"hunts\",\"hunts\",\"stb\",\"stb\",\"stb\",\"stb\",\"stb\",\"stb\",\"delmonte\",\"heinz\",\"heinz\",\"heinz\",\"heinz\",\"heinz\",\"heinz\",\"heinz\",\"heinz\",\"heinz\",\"hunts\",\"hunts\",\"heinz\",\"hunts\",\"stb\",\"heinz\",\"hunts\",\"stb\",\"hunts\",\"hunts\",\"heinz\",\"heinz\",\"heinz\",\"heinz\",\"heinz\",\"heinz\",\"stb\",\"hunts\",\"heinz\",\"heinz\",\"stb\",\"heinz\",\"stb\",\"stb\",\"stb\",\"stb\",\"stb\",\"delmonte\",\"heinz\",\"stb\",\"heinz\",\"heinz\",\"heinz\",\"heinz\",\"heinz\",\"hunts\",\"stb\",\"heinz\",\"hunts\",\"heinz\",\"hunts\",\"hunts\",\"stb\",\"stb\",\"stb\",\"stb\",\"hunts\",\"hunts\",\"stb\",\"heinz\",\"heinz\",\"stb\",\"heinz\",\"hunts\",\"delmonte\",\"heinz\",\"hunts\",\"heinz\",\"heinz\",\"delmonte\",\"stb\",\"delmonte\",\"heinz\",\"heinz\",\"stb\",\"stb\",\"delmonte\",\"heinz\",\"heinz\",\"heinz\",\"heinz\",\"heinz\",\"heinz\",\"delmonte\",\"stb\",\"heinz\",\"heinz\",\"heinz\",\"stb\",\"heinz\",\"heinz\",\"heinz\",\"heinz\",\"heinz\",\"heinz\",\"heinz\",\"heinz\",\"hunts\",\"hunts\",\"delmonte\",\"delmonte\",\"heinz\",\"heinz\",\"heinz\",\"heinz\",\"hunts\",\"stb\",\"stb\",\"delmonte\",\"heinz\",\"heinz\",\"heinz\",\"hunts\",\"stb\",\"hunts\",\"hunts\",\"heinz\",\"stb\",\"heinz\",\"heinz\",\"heinz\",\"heinz\",\"delmonte\",\"stb\",\"heinz\",\"heinz\",\"heinz\",\"heinz\",\"heinz\",\"delmonte\",\"stb\",\"heinz\",\"heinz\",\"heinz\",\"stb\",\"delmonte\",\"heinz\",\"heinz\",\"heinz\",\"heinz\",\"heinz\",\"heinz\",\"hunts\",\"stb\",\"heinz\",\"heinz\",\"heinz\",\"stb\",\"stb\",\"heinz\",\"heinz\",\"heinz\",\"heinz\",\"heinz\",\"heinz\",\"heinz\",\"heinz\",\"hunts\",\"hunts\",\"hunts\",\"stb\",\"stb\",\"heinz\",\"heinz\",\"heinz\",\"hunts\",\"hunts\",\"hunts\",\"hunts\",\"stb\",\"heinz\",\"heinz\",\"heinz\",\"heinz\",\"stb\",\"stb\",\"heinz\",\"heinz\",\"hunts\",\"delmonte\",\"heinz\",\"heinz\",\"hunts\",\"hunts\",\"hunts\",\"delmonte\",\"heinz\",\"heinz\",\"heinz\",\"heinz\",\"heinz\",\"heinz\",\"heinz\",\"heinz\",\"heinz\",\"heinz\",\"heinz\",\"heinz\",\"heinz\",\"heinz\",\"heinz\",\"heinz\",\"heinz\",\"heinz\",\"hunts\",\"heinz\",\"heinz\",\"stb\",\"heinz\",\"heinz\",\"hunts\",\"hunts\",\"hunts\",\"heinz\",\"heinz\",\"hunts\",\"hunts\",\"hunts\",\"hunts\",\"delmonte\",\"stb\",\"stb\",\"heinz\",\"delmonte\",\"hunts\",\"hunts\",\"hunts\",\"stb\",\"stb\",\"stb\",\"heinz\",\"heinz\",\"heinz\",\"delmonte\",\"stb\",\"stb\",\"stb\",\"heinz\",\"hunts\",\"stb\",\"stb\",\"heinz\",\"heinz\",\"stb\",\"stb\",\"stb\",\"heinz\",\"heinz\",\"heinz\",\"heinz\",\"heinz\",\"heinz\",\"stb\",\"heinz\",\"heinz\",\"hunts\",\"hunts\",\"stb\",\"stb\",\"heinz\",\"hunts\",\"heinz\",\"heinz\",\"delmonte\",\"stb\",\"stb\",\"stb\",\"stb\",\"hunts\",\"hunts\",\"stb\",\"stb\",\"stb\",\"stb\",\"heinz\",\"heinz\",\"stb\",\"heinz\",\"delmonte\",\"stb\",\"heinz\",\"heinz\",\"hunts\",\"heinz\",\"heinz\",\"heinz\",\"hunts\",\"hunts\",\"delmonte\",\"stb\",\"stb\",\"stb\",\"stb\",\"stb\",\"stb\",\"stb\",\"stb\",\"stb\",\"heinz\",\"heinz\",\"hunts\",\"heinz\",\"heinz\",\"heinz\",\"heinz\",\"stb\",\"hunts\",\"heinz\",\"stb\",\"heinz\",\"heinz\",\"heinz\",\"heinz\",\"heinz\",\"heinz\",\"heinz\",\"delmonte\",\"delmonte\",\"heinz\",\"heinz\",\"heinz\",\"heinz\",\"hunts\",\"hunts\",\"stb\",\"stb\",\"heinz\",\"heinz\",\"heinz\",\"hunts\",\"hunts\",\"hunts\",\"hunts\",\"heinz\",\"hunts\",\"heinz\",\"hunts\",\"hunts\",\"hunts\",\"hunts\",\"delmonte\",\"heinz\",\"stb\",\"delmonte\",\"delmonte\",\"heinz\",\"heinz\",\"heinz\",\"hunts\",\"stb\",\"stb\",\"heinz\",\"heinz\",\"heinz\",\"heinz\",\"heinz\",\"heinz\",\"stb\",\"heinz\",\"heinz\",\"heinz\",\"heinz\",\"delmonte\",\"delmonte\",\"heinz\",\"heinz\",\"heinz\",\"heinz\",\"heinz\",\"heinz\",\"hunts\",\"stb\",\"hunts\",\"hunts\",\"hunts\",\"hunts\",\"hunts\",\"hunts\",\"hunts\",\"heinz\",\"stb\",\"hunts\",\"stb\",\"stb\",\"heinz\",\"heinz\",\"heinz\",\"heinz\",\"heinz\",\"heinz\",\"stb\",\"heinz\",\"delmonte\",\"stb\",\"heinz\",\"heinz\",\"hunts\",\"hunts\",\"hunts\",\"hunts\",\"heinz\",\"stb\",\"stb\",\"stb\",\"delmonte\",\"heinz\",\"heinz\",\"heinz\",\"heinz\",\"heinz\",\"heinz\",\"hunts\",\"hunts\",\"hunts\",\"heinz\",\"heinz\",\"heinz\",\"heinz\",\"heinz\",\"hunts\",\"heinz\",\"heinz\",\"heinz\",\"heinz\",\"heinz\",\"heinz\",\"hunts\",\"hunts\",\"delmonte\",\"stb\",\"heinz\",\"delmonte\",\"heinz\",\"stb\",\"heinz\",\"heinz\",\"heinz\",\"hunts\",\"delmonte\",\"stb\",\"hunts\",\"hunts\",\"heinz\",\"hunts\",\"heinz\",\"heinz\",\"heinz\",\"hunts\",\"hunts\",\"hunts\",\"delmonte\",\"heinz\",\"hunts\",\"heinz\",\"heinz\",\"heinz\",\"hunts\",\"hunts\",\"delmonte\",\"stb\",\"stb\",\"hunts\",\"stb\",\"hunts\",\"heinz\",\"hunts\",\"delmonte\",\"stb\",\"heinz\",\"heinz\",\"hunts\",\"hunts\",\"stb\",\"stb\",\"heinz\",\"delmonte\",\"heinz\",\"hunts\",\"hunts\",\"delmonte\",\"heinz\",\"heinz\",\"heinz\",\"heinz\",\"heinz\",\"heinz\",\"heinz\",\"hunts\",\"heinz\",\"heinz\",\"heinz\",\"heinz\",\"heinz\",\"delmonte\",\"heinz\",\"heinz\",\"hunts\",\"heinz\",\"heinz\",\"heinz\",\"heinz\",\"heinz\",\"heinz\",\"stb\",\"heinz\",\"heinz\",\"hunts\",\"heinz\",\"heinz\",\"heinz\",\"heinz\",\"heinz\",\"hunts\",\"stb\",\"heinz\",\"heinz\",\"heinz\",\"heinz\",\"hunts\",\"stb\",\"stb\",\"stb\",\"stb\",\"stb\",\"stb\",\"stb\",\"stb\",\"stb\",\"heinz\",\"hunts\",\"heinz\",\"heinz\",\"heinz\",\"heinz\",\"heinz\",\"hunts\",\"hunts\",\"hunts\",\"heinz\",\"hunts\",\"hunts\",\"stb\",\"heinz\",\"heinz\",\"heinz\",\"heinz\",\"heinz\",\"stb\",\"heinz\",\"heinz\",\"heinz\",\"stb\",\"stb\",\"stb\",\"stb\",\"hunts\",\"heinz\",\"delmonte\",\"stb\",\"stb\",\"stb\",\"stb\",\"heinz\",\"heinz\",\"hunts\",\"heinz\",\"hunts\",\"hunts\",\"stb\",\"hunts\",\"hunts\",\"hunts\",\"hunts\",\"hunts\",\"stb\",\"stb\",\"heinz\",\"heinz\",\"heinz\",\"heinz\",\"heinz\",\"heinz\",\"hunts\",\"stb\",\"hunts\",\"hunts\",\"heinz\",\"hunts\",\"stb\",\"heinz\",\"heinz\",\"heinz\",\"heinz\",\"heinz\",\"hunts\",\"hunts\",\"heinz\",\"heinz\",\"heinz\",\"heinz\",\"heinz\",\"heinz\",\"heinz\",\"hunts\",\"delmonte\",\"delmonte\",\"heinz\",\"delmonte\",\"heinz\",\"heinz\",\"heinz\",\"heinz\",\"heinz\",\"heinz\",\"heinz\",\"heinz\",\"hunts\",\"hunts\",\"stb\",\"stb\",\"stb\",\"stb\",\"heinz\",\"heinz\",\"stb\",\"stb\",\"heinz\",\"delmonte\",\"heinz\",\"heinz\",\"heinz\",\"heinz\",\"stb\",\"hunts\",\"hunts\",\"heinz\",\"heinz\",\"heinz\",\"heinz\",\"hunts\",\"hunts\",\"stb\",\"stb\",\"heinz\",\"delmonte\",\"heinz\",\"heinz\",\"heinz\",\"heinz\",\"heinz\",\"hunts\",\"stb\",\"stb\",\"stb\",\"stb\",\"stb\",\"stb\",\"stb\",\"stb\",\"stb\",\"heinz\",\"hunts\",\"hunts\",\"hunts\",\"heinz\",\"heinz\",\"heinz\",\"heinz\",\"heinz\",\"delmonte\",\"stb\",\"heinz\",\"heinz\",\"heinz\",\"hunts\",\"heinz\",\"heinz\",\"heinz\",\"stb\",\"heinz\",\"heinz\",\"heinz\",\"hunts\",\"hunts\",\"heinz\",\"heinz\",\"hunts\",\"hunts\",\"heinz\",\"heinz\",\"heinz\",\"hunts\",\"hunts\",\"heinz\",\"heinz\",\"stb\",\"stb\",\"stb\",\"heinz\",\"heinz\",\"heinz\",\"hunts\",\"stb\",\"stb\",\"stb\",\"stb\",\"stb\",\"heinz\",\"heinz\",\"hunts\",\"hunts\",\"stb\",\"stb\",\"stb\",\"heinz\",\"hunts\",\"delmonte\",\"heinz\",\"hunts\",\"heinz\",\"heinz\",\"heinz\",\"hunts\",\"delmonte\",\"heinz\",\"heinz\",\"heinz\",\"heinz\",\"heinz\",\"heinz\",\"heinz\",\"heinz\",\"stb\",\"heinz\",\"heinz\",\"stb\",\"stb\",\"stb\",\"stb\",\"hunts\",\"heinz\",\"heinz\",\"hunts\",\"hunts\",\"hunts\",\"stb\",\"heinz\",\"heinz\",\"heinz\",\"heinz\",\"heinz\",\"heinz\",\"heinz\",\"heinz\",\"heinz\",\"heinz\",\"hunts\",\"hunts\",\"stb\",\"stb\",\"stb\",\"hunts\",\"heinz\",\"heinz\",\"heinz\",\"hunts\",\"hunts\",\"hunts\",\"hunts\",\"stb\",\"heinz\",\"hunts\",\"heinz\",\"stb\",\"stb\",\"heinz\",\"hunts\",\"hunts\",\"hunts\",\"heinz\",\"stb\",\"heinz\",\"hunts\",\"stb\",\"heinz\",\"heinz\",\"hunts\",\"delmonte\",\"heinz\",\"hunts\",\"heinz\",\"hunts\",\"hunts\",\"stb\",\"stb\",\"heinz\",\"heinz\",\"heinz\",\"heinz\",\"heinz\",\"hunts\",\"hunts\",\"hunts\",\"heinz\",\"hunts\",\"heinz\",\"heinz\",\"stb\",\"stb\",\"stb\",\"stb\",\"heinz\",\"hunts\",\"hunts\",\"heinz\",\"heinz\",\"stb\",\"heinz\",\"heinz\",\"heinz\",\"hunts\",\"hunts\",\"hunts\",\"stb\",\"stb\",\"stb\",\"heinz\",\"stb\",\"hunts\",\"heinz\",\"heinz\",\"heinz\",\"heinz\",\"heinz\",\"heinz\",\"heinz\",\"stb\",\"heinz\",\"stb\",\"heinz\",\"heinz\",\"stb\",\"heinz\",\"heinz\",\"heinz\",\"heinz\",\"heinz\",\"heinz\",\"heinz\",\"stb\",\"hunts\",\"heinz\",\"heinz\",\"heinz\",\"heinz\",\"heinz\",\"heinz\",\"heinz\",\"heinz\",\"heinz\",\"heinz\",\"stb\",\"heinz\",\"hunts\",\"hunts\",\"heinz\",\"hunts\",\"heinz\",\"heinz\",\"heinz\",\"heinz\",\"stb\",\"heinz\",\"heinz\",\"heinz\",\"heinz\",\"stb\",\"heinz\",\"heinz\",\"stb\",\"hunts\",\"hunts\",\"heinz\",\"hunts\",\"stb\",\"heinz\",\"heinz\",\"heinz\",\"hunts\",\"heinz\",\"hunts\",\"heinz\",\"heinz\",\"hunts\",\"delmonte\",\"stb\",\"stb\",\"heinz\",\"stb\",\"heinz\",\"heinz\",\"heinz\",\"stb\",\"stb\",\"hunts\",\"stb\",\"stb\",\"stb\",\"stb\",\"heinz\",\"stb\",\"heinz\",\"hunts\",\"heinz\",\"heinz\",\"stb\",\"stb\",\"stb\",\"stb\",\"heinz\",\"heinz\",\"heinz\",\"heinz\",\"hunts\",\"delmonte\",\"stb\",\"stb\",\"heinz\",\"stb\",\"delmonte\",\"stb\",\"heinz\",\"heinz\",\"hunts\",\"heinz\",\"heinz\",\"heinz\",\"delmonte\",\"hunts\",\"hunts\",\"hunts\",\"stb\",\"heinz\",\"heinz\",\"heinz\",\"heinz\",\"hunts\",\"hunts\",\"stb\",\"stb\",\"stb\",\"heinz\",\"hunts\",\"hunts\",\"hunts\",\"hunts\",\"delmonte\",\"hunts\",\"heinz\",\"heinz\",\"hunts\",\"stb\",\"stb\",\"stb\",\"heinz\",\"heinz\",\"delmonte\",\"delmonte\",\"delmonte\",\"heinz\",\"hunts\",\"stb\",\"heinz\",\"heinz\",\"stb\",\"stb\",\"stb\",\"stb\",\"heinz\",\"heinz\",\"hunts\",\"stb\",\"heinz\",\"heinz\",\"heinz\",\"heinz\",\"stb\",\"stb\",\"stb\",\"stb\",\"heinz\",\"heinz\",\"heinz\",\"heinz\",\"hunts\",\"hunts\",\"stb\",\"heinz\",\"stb\",\"heinz\",\"stb\",\"heinz\",\"heinz\",\"hunts\",\"stb\",\"heinz\",\"stb\",\"stb\",\"hunts\",\"stb\",\"stb\",\"stb\",\"stb\",\"heinz\",\"stb\",\"delmonte\",\"heinz\",\"heinz\",\"heinz\",\"stb\",\"hunts\",\"stb\",\"hunts\",\"delmonte\",\"stb\",\"stb\",\"stb\",\"stb\",\"stb\",\"heinz\",\"hunts\",\"heinz\",\"heinz\",\"heinz\",\"hunts\",\"stb\",\"delmonte\",\"heinz\",\"hunts\",\"hunts\",\"hunts\",\"delmonte\",\"heinz\",\"hunts\",\"hunts\",\"stb\",\"hunts\",\"stb\",\"stb\",\"stb\",\"hunts\",\"stb\",\"stb\",\"heinz\",\"heinz\",\"hunts\",\"hunts\",\"heinz\",\"hunts\",\"hunts\",\"hunts\",\"hunts\",\"stb\",\"hunts\",\"heinz\",\"heinz\",\"hunts\",\"hunts\",\"heinz\",\"heinz\",\"heinz\",\"heinz\",\"heinz\",\"heinz\",\"heinz\",\"heinz\",\"hunts\",\"stb\",\"heinz\",\"stb\",\"heinz\",\"heinz\",\"hunts\",\"hunts\",\"stb\",\"heinz\",\"heinz\",\"stb\",\"heinz\",\"heinz\",\"heinz\",\"hunts\",\"stb\",\"heinz\",\"hunts\",\"heinz\",\"heinz\",\"hunts\",\"hunts\",\"stb\",\"stb\",\"stb\",\"heinz\",\"heinz\",\"heinz\",\"heinz\",\"heinz\",\"heinz\",\"heinz\",\"heinz\",\"hunts\",\"heinz\",\"heinz\",\"hunts\",\"hunts\",\"hunts\",\"hunts\",\"stb\",\"hunts\",\"hunts\",\"hunts\",\"hunts\",\"hunts\",\"heinz\",\"heinz\",\"stb\",\"stb\",\"hunts\",\"heinz\",\"heinz\",\"heinz\",\"heinz\",\"heinz\",\"heinz\",\"heinz\",\"hunts\",\"heinz\",\"heinz\",\"heinz\",\"heinz\",\"delmonte\",\"delmonte\",\"heinz\",\"heinz\",\"heinz\",\"heinz\",\"heinz\",\"heinz\",\"heinz\",\"heinz\",\"heinz\",\"heinz\",\"hunts\",\"hunts\",\"heinz\",\"heinz\",\"hunts\",\"delmonte\",\"heinz\",\"stb\",\"stb\",\"heinz\",\"stb\",\"heinz\",\"hunts\",\"hunts\",\"stb\",\"stb\",\"hunts\",\"heinz\",\"hunts\",\"hunts\",\"delmonte\",\"stb\",\"stb\",\"stb\",\"hunts\",\"hunts\",\"heinz\",\"heinz\",\"stb\",\"stb\",\"stb\",\"stb\",\"stb\",\"stb\",\"heinz\",\"hunts\",\"heinz\",\"hunts\",\"heinz\",\"heinz\",\"heinz\",\"stb\",\"heinz\",\"heinz\",\"heinz\",\"heinz\",\"heinz\",\"heinz\",\"heinz\",\"heinz\",\"heinz\",\"hunts\",\"heinz\",\"heinz\",\"heinz\",\"heinz\",\"heinz\",\"heinz\",\"heinz\",\"heinz\",\"heinz\",\"heinz\",\"heinz\",\"heinz\",\"heinz\",\"heinz\",\"hunts\",\"hunts\",\"delmonte\",\"stb\",\"stb\",\"stb\",\"hunts\",\"hunts\",\"heinz\",\"hunts\",\"heinz\",\"stb\",\"stb\",\"stb\",\"hunts\",\"hunts\",\"heinz\",\"hunts\",\"hunts\",\"hunts\",\"hunts\",\"stb\",\"stb\",\"heinz\",\"hunts\",\"hunts\",\"hunts\",\"hunts\",\"hunts\",\"hunts\",\"hunts\",\"hunts\",\"hunts\",\"hunts\",\"hunts\",\"hunts\",\"heinz\",\"hunts\",\"hunts\",\"hunts\",\"hunts\",\"hunts\",\"hunts\",\"hunts\",\"hunts\",\"hunts\",\"heinz\",\"heinz\",\"heinz\",\"heinz\",\"heinz\",\"stb\",\"stb\",\"stb\",\"stb\",\"stb\",\"stb\",\"stb\",\"stb\",\"stb\",\"stb\",\"stb\",\"stb\",\"stb\",\"heinz\",\"hunts\",\"stb\",\"heinz\",\"hunts\",\"heinz\",\"heinz\",\"delmonte\",\"heinz\",\"heinz\",\"heinz\",\"heinz\",\"hunts\",\"heinz\",\"heinz\",\"heinz\",\"heinz\",\"heinz\",\"hunts\",\"hunts\",\"heinz\",\"stb\",\"heinz\",\"hunts\",\"stb\",\"stb\",\"heinz\",\"heinz\",\"heinz\",\"stb\",\"heinz\",\"heinz\",\"heinz\",\"hunts\",\"heinz\",\"heinz\",\"heinz\",\"heinz\",\"heinz\",\"heinz\",\"heinz\",\"heinz\",\"heinz\",\"heinz\",\"heinz\",\"hunts\",\"stb\",\"stb\",\"stb\",\"stb\",\"stb\",\"stb\",\"stb\",\"stb\",\"stb\",\"stb\",\"stb\",\"heinz\",\"heinz\",\"heinz\",\"hunts\",\"stb\",\"hunts\",\"heinz\",\"heinz\",\"heinz\",\"heinz\",\"stb\",\"heinz\",\"heinz\",\"hunts\",\"heinz\",\"heinz\",\"hunts\",\"stb\",\"stb\",\"stb\",\"stb\",\"stb\",\"stb\",\"stb\",\"heinz\",\"heinz\",\"heinz\",\"heinz\",\"stb\",\"hunts\",\"hunts\",\"heinz\",\"heinz\",\"delmonte\",\"heinz\",\"heinz\",\"hunts\",\"heinz\",\"heinz\",\"heinz\",\"heinz\",\"heinz\",\"delmonte\",\"heinz\",\"heinz\",\"stb\",\"heinz\",\"heinz\",\"heinz\",\"heinz\",\"heinz\",\"hunts\",\"heinz\",\"delmonte\",\"heinz\",\"heinz\",\"heinz\",\"heinz\",\"hunts\",\"stb\",\"heinz\",\"hunts\",\"heinz\",\"hunts\",\"heinz\",\"hunts\",\"heinz\",\"heinz\",\"heinz\",\"delmonte\",\"heinz\",\"heinz\",\"heinz\",\"heinz\",\"heinz\",\"delmonte\",\"delmonte\",\"heinz\",\"heinz\",\"stb\",\"hunts\",\"heinz\",\"heinz\",\"heinz\",\"heinz\",\"heinz\",\"heinz\",\"heinz\",\"heinz\",\"heinz\",\"delmonte\",\"hunts\",\"stb\",\"hunts\",\"hunts\",\"heinz\",\"heinz\",\"heinz\",\"heinz\",\"heinz\",\"heinz\",\"heinz\",\"delmonte\",\"heinz\",\"heinz\",\"stb\",\"delmonte\",\"heinz\",\"heinz\",\"hunts\",\"heinz\",\"delmonte\",\"heinz\",\"heinz\",\"heinz\",\"heinz\",\"heinz\",\"delmonte\",\"heinz\",\"hunts\",\"heinz\",\"stb\",\"heinz\",\"stb\",\"stb\",\"stb\"],\"xaxis\":\"x\",\"y\":[1.19,0.99,1.46,1.46,1.46,0.99,1.19,1.19,1.47,0.79,1.19,1.19,1.39,1.39,1.39,0.99,1.19,1.39,1.39,0.99,1.46,1.39,1.39,1.39,0.99,1.19,0.99,1.46,1.19,0.99,0.99,1.19,1.19,1.19,1.46,1.39,1.39,1.46,1.19,1.19,1.19,0.99,0.99,0.99,1.39,1.39,0.99,1.46,1.19,0.99,1.46,1.19,1.46,1.46,1.19,1.46,1.39,0.99,1.19,1.19,0.99,1.19,1.39,1.19,1.39,1.46,1.46,1.19,1.46,1.46,1.39,1.47,1.46,1.19,1.39,1.39,1.39,1.46,0.99,1.46,1.39,0.99,1.19,1.46,1.46,1.46,0.99,1.39,1.39,1.19,0.99,0.99,1.39,1.19,1.46,0.99,1.39,1.46,0.99,0.99,0.99,1.39,1.19,1.39,1.19,1.46,0.99,1.19,1.47,1.19,1.46,0.99,1.39,1.19,1.19,1.46,1.46,1.19,1.46,1.19,1.46,1.19,1.19,1.46,1.46,1.39,0.99,1.19,1.19,0.99,1.46,1.19,1.19,1.39,0.99,1.19,1.46,1.46,1.46,0.99,0.99,0.79,0.99,1.19,1.46,1.39,1.46,0.99,1.19,0.99,1.19,1.46,1.19,1.19,1.39,1.39,0.99,0.99,1.39,1.19,1.19,1.39,1.39,1.46,1.39,1.39,0.99,0.99,1.46,1.19,1.19,0.79,1.39,1.46,1.46,1.46,0.99,1.19,1.19,0.99,1.39,1.19,0.99,1.39,1.19,1.19,1.19,1.19,1.19,1.19,1.46,1.39,1.19,1.46,1.19,1.19,1.19,1.19,1.19,1.46,1.46,1.46,1.39,1.39,1.19,1.19,1.19,0.99,1.19,0.79,0.99,1.39,1.39,1.46,1.39,1.39,1.39,0.99,1.39,0.99,1.46,1.46,0.99,1.46,1.19,1.19,1.19,1.46,1.46,1.46,0.99,0.99,1.39,1.46,1.46,1.19,1.39,1.46,1.46,1.46,1.19,1.47,0.99,1.39,1.46,1.19,0.99,1.19,1.19,1.39,0.99,1.19,1.39,0.99,1.39,0.99,0.79,1.39,0.99,1.46,1.46,1.19,0.99,0.99,0.99,1.46,0.99,0.99,1.46,0.79,1.19,1.19,1.39,1.46,1.39,1.39,1.46,1.39,0.99,1.46,1.46,0.99,0.99,1.19,0.99,1.46,1.46,0.99,0.99,0.99,1.46,0.79,0.99,1.39,1.39,1.39,1.39,1.46,1.39,1.39,1.46,1.46,0.99,0.99,1.39,1.19,1.46,1.46,1.19,1.19,1.39,0.99,0.79,1.46,1.19,1.19,1.39,1.46,0.99,1.46,0.99,1.39,1.39,1.46,0.99,1.39,1.19,0.99,1.47,1.47,1.39,1.39,1.46,1.46,1.46,1.39,1.47,1.19,1.19,1.39,0.99,1.46,0.99,0.99,1.39,1.19,1.39,1.39,1.39,1.19,1.39,1.39,1.39,1.39,0.99,1.39,0.99,1.46,1.46,1.19,1.46,1.39,0.99,0.99,1.39,1.19,1.39,1.47,1.39,1.19,1.46,0.99,1.19,1.19,1.19,1.19,1.19,1.46,1.39,1.19,1.19,0.99,0.99,0.99,1.39,0.99,1.46,0.99,1.39,1.19,0.99,1.46,1.39,1.19,1.19,1.39,1.19,1.46,1.46,1.46,1.39,1.46,1.46,0.99,0.99,0.99,1.39,1.19,1.46,1.19,1.46,0.99,0.99,1.19,0.99,1.46,0.99,1.46,1.19,1.19,1.19,1.19,1.46,1.47,1.47,1.19,1.39,1.46,1.46,1.39,1.46,1.39,1.19,1.39,1.19,0.99,1.19,1.19,1.46,1.19,0.99,1.19,0.99,1.19,1.39,1.39,1.19,1.39,1.39,0.99,1.46,1.46,1.39,1.39,0.99,1.19,1.19,1.39,0.99,0.99,1.46,1.19,1.46,1.39,1.39,1.19,1.19,0.99,1.19,1.19,1.46,1.46,1.46,1.46,1.46,1.39,1.19,0.99,1.39,1.39,1.39,0.99,0.99,1.39,1.19,1.46,1.39,1.39,0.99,1.46,1.46,0.99,1.46,1.39,1.39,0.99,1.19,1.19,1.46,0.99,1.39,1.39,1.39,1.19,1.19,1.19,1.39,1.19,0.99,1.39,1.39,1.19,1.46,1.19,1.39,0.99,0.99,1.46,1.39,1.39,1.19,1.46,1.19,1.19,1.46,1.19,1.19,1.39,1.19,1.39,1.39,1.19,1.46,1.39,0.99,0.99,0.99,1.19,0.79,1.19,1.39,0.99,1.39,1.19,1.19,1.19,1.46,0.99,0.99,0.79,0.99,0.99,1.46,1.46,0.79,0.99,1.19,1.39,1.39,1.39,1.19,0.99,1.46,1.19,1.46,1.46,1.46,1.46,0.99,0.99,1.19,1.19,1.19,0.99,1.46,1.19,1.39,0.99,1.47,1.47,1.47,0.99,1.19,1.19,1.46,0.99,0.99,0.79,0.99,1.39,1.46,1.19,0.99,1.19,0.79,1.39,1.39,1.46,1.46,0.99,1.46,0.99,0.99,0.99,1.39,1.46,1.46,1.39,1.19,0.79,1.19,1.46,0.99,0.79,1.19,0.99,1.46,1.46,0.99,1.19,1.39,1.46,1.19,1.19,1.46,1.19,1.19,1.19,1.46,1.19,1.46,1.46,1.39,0.99,0.99,1.19,1.46,0.99,1.0,1.47,1.46,0.99,1.39,0.99,0.99,1.19,1.46,0.99,1.46,1.39,1.19,1.39,1.19,0.99,1.39,1.46,1.19,1.19,0.99,0.99,1.39,1.46,1.19,0.99,1.46,0.99,1.19,1.46,1.46,1.46,1.39,1.46,1.46,1.46,0.99,1.19,1.46,1.19,1.46,1.46,1.39,0.99,1.46,1.19,1.19,1.46,1.19,0.79,1.19,0.99,1.19,0.79,0.99,1.46,1.19,0.99,1.19,1.19,1.39,1.46,1.46,1.39,0.99,0.79,1.46,1.19,0.99,1.19,0.99,0.99,1.46,0.99,1.19,1.19,1.19,1.39,1.39,1.47,1.19,0.99,1.19,1.46,1.39,1.39,0.99,1.19,1.39,1.19,0.99,1.46,1.47,1.39,1.19,1.39,1.39,1.19,1.47,1.19,1.19,1.39,1.39,0.99,1.46,0.99,1.19,1.19,0.99,1.19,1.19,1.19,1.46,0.99,1.39,1.39,1.19,0.99,1.39,1.19,1.19,1.46,1.46,1.46,1.46,1.46,1.19,0.99,0.99,0.79,1.39,1.39,1.19,1.39,1.39,1.46,1.46,0.99,0.99,0.99,1.19,0.99,0.99,1.19,1.46,0.79,1.39,1.39,1.46,1.39,0.99,0.99,1.46,1.46,1.19,1.39,1.39,1.39,1.19,1.46,1.19,1.19,0.99,1.39,1.39,1.19,1.39,1.39,0.99,1.39,1.39,1.46,0.99,1.46,0.99,1.46,1.19,1.39,1.39,0.99,1.46,1.19,1.19,1.19,1.39,0.99,1.39,1.39,1.19,0.99,1.39,0.99,0.99,0.99,0.99,0.99,1.39,1.46,1.39,1.46,1.46,1.46,1.39,1.46,1.19,1.46,1.39,1.39,1.19,1.19,1.46,0.99,0.99,1.19,1.39,1.19,0.99,1.19,1.19,0.99,0.99,1.19,1.46,1.46,0.79,1.19,1.46,1.39,1.46,0.99,1.19,1.19,1.46,1.46,1.46,1.19,1.39,1.39,1.39,1.39,1.46,1.39,1.46,1.46,1.39,1.39,1.19,1.39,1.46,0.99,1.19,1.19,0.99,1.46,1.39,0.99,1.39,1.39,1.19,1.19,1.46,0.99,1.39,1.46,0.99,1.46,1.46,1.46,0.79,0.79,1.39,1.46,1.46,0.99,0.99,1.39,1.39,0.99,1.19,1.19,1.19,0.79,0.99,0.99,0.99,0.99,1.46,1.46,1.46,1.46,1.46,0.99,1.19,1.39,0.99,0.99,0.79,0.99,0.99,0.99,1.19,0.99,1.19,1.39,1.19,1.46,1.19,1.39,1.39,1.47,0.99,0.79,1.19,1.39,1.19,1.19,1.39,1.19,1.19,1.39,1.39,0.99,1.39,0.99,1.46,1.46,1.39,1.19,1.19,1.39,1.47,1.19,0.99,0.79,1.46,1.46,1.46,0.99,1.39,0.99,1.46,1.46,1.39,1.19,0.99,1.46,1.0,1.19,0.99,1.46,1.19,1.19,1.19,0.99,0.99,1.19,1.29,1.39,1.39,1.19,1.19,0.99,1.46,1.46,1.46,1.46,0.79,1.39,0.99,1.19,1.46,1.46,0.99,0.99,0.79,1.39,1.39,1.39,1.39,1.46,1.39,1.19,1.46,0.99,0.99,0.99,1.39,0.99,1.46,1.39,0.99,1.19,1.39,1.39,0.99,0.99,1.19,0.99,1.46,0.79,1.19,1.19,1.46,0.99,1.19,0.79,1.39,0.79,1.39,1.19,0.99,1.39,1.46,1.39,1.39,1.46,0.79,1.19,1.19,1.19,1.46,1.19,0.99,1.19,1.19,1.19,0.99,1.46,0.99,0.99,1.19,1.19,1.19,1.39,1.19,1.46,1.39,0.99,1.39,1.39,1.39,0.99,1.39,1.46,1.46,1.39,1.46,1.46,1.39,0.99,1.19,1.39,1.46,1.19,1.39,1.39,1.19,1.46,1.46,1.39,1.46,1.39,1.19,0.99,1.19,1.19,1.39,1.39,1.39,1.46,1.19,0.99,1.39,1.46,1.46,1.46,1.46,0.99,0.99,1.19,1.46,0.99,1.19,0.99,1.46,1.19,1.19,0.99,1.46,1.46,1.39,1.19,0.99,1.19,1.19,0.99,1.19,1.19,1.46,1.46,1.46,1.39,1.19,1.39,0.99,1.46,1.19,0.99,1.46,1.29,1.39,1.46,0.99,0.79,0.99,1.39,0.79,0.99,0.99,1.46,1.19,1.47,0.99,1.39,0.99,0.99,1.19,1.39,1.39,1.19,1.19,0.99,1.39,1.46,1.19,1.46,1.46,1.46,1.19,0.99,1.46,1.19,1.19,1.39,1.46,1.46,1.46,1.19,1.39,1.46,1.19,1.19,0.99,1.19,1.39,0.99,1.19,1.29,1.46,1.46,1.39,1.19,1.19,1.39,0.79,1.19,1.46,1.46,1.39,1.19,1.46,0.99,1.39,1.19,0.79,1.19,1.46,1.46,1.39,1.19,1.46,0.99,0.99,1.46,0.99,1.46,0.99,1.46,1.19,1.39,1.46,1.46,0.99,1.47,1.46,1.39,0.79,1.46,1.46,1.46,1.46,1.19,1.39,0.99,0.79,0.79,1.39,1.46,0.99,0.99,1.19,0.99,1.46,1.46,0.79,1.46,0.99,0.99,0.99,1.39,0.99,0.99,0.99,0.99,0.99,1.46,1.39,1.19,1.39,1.39,1.39,1.39,1.39,1.39,0.99,1.39,1.19,1.19,1.19,1.19,1.39,1.19,1.39,1.46,1.39,1.46,1.19,1.19,1.19,1.39,1.19,0.99,1.19,1.39,1.39,1.39,1.19,1.46,1.19,0.99,0.79,1.39,1.46,1.46,1.46,1.46,1.46,0.99,1.19,1.19,1.46,1.39,1.39,1.46,1.46,1.46,1.19,1.39,1.19,1.39,1.39,1.39,1.39,1.39,1.46,1.46,1.46,1.29,1.46,1.39,1.19,0.99,0.99,1.19,0.99,1.19,0.99,1.46,1.39,0.99,1.39,1.19,1.19,0.99,0.99,1.39,0.99,0.99,0.79,1.19,1.46,0.99,1.47,0.99,1.19,1.19,0.99,1.46,1.39,1.39,1.46,1.39,1.39,1.39,1.46,1.46,1.46,1.46,1.46,1.29,0.99,1.39,1.39,0.99,1.39,1.19,1.19,0.99,1.19,1.47,1.29,1.39,1.46,1.19,1.39,1.46,0.79,1.46,1.47,1.46,1.39,0.99,1.19,1.39,1.46,1.39,0.99,1.39,1.46,1.39,1.46,0.99,1.39,1.46,1.46,0.99,0.99,1.19,1.46,1.46,0.99,0.79,1.39,1.46,1.19,1.19,1.46,1.39,1.39,1.39,1.19,1.39,0.99,1.39,1.19,1.46,1.46,1.46,1.39,1.39,1.19,1.46,1.39,1.19,0.99,0.99,1.39,0.99,0.99,1.46,1.39,1.39,1.46,1.19,0.99,1.39,1.39,1.19,1.19,1.19,0.99,1.46,1.19,1.39,1.39,0.79,1.19,1.19,0.99,0.99,1.19,0.99,0.79,1.29,0.99,0.99,1.46,1.19,1.39,1.39,1.46,1.19,1.39,1.19,1.39,1.19,1.19,1.46,1.46,1.39,1.39,1.19,1.19,1.46,1.39,1.39,1.19,1.19,1.19,1.19,1.39,1.19,1.46,1.46,0.99,1.46,0.99,1.39,1.39,1.19,0.99,0.99,1.19,0.99,1.19,1.19,1.46,1.46,1.46,0.99,1.39,1.39,1.19,1.19,1.19,1.19,1.46,1.46,1.46,1.46,1.46,1.46,0.99,0.99,0.99,0.99,1.19,1.39,1.39,1.46,1.46,0.99,0.99,1.19,1.39,0.99,1.19,1.19,1.39,0.99,1.47,1.19,1.46,1.47,1.19,1.39,1.19,1.19,0.99,1.46,0.99,1.39,0.99,0.99,1.19,0.99,0.79,1.46,1.39,0.99,1.19,1.46,1.19,0.99,1.19,1.46,1.46,0.79,0.99,0.99,0.99,1.39,1.19,0.79,1.46,1.39,0.99,1.19,1.19,1.19,1.39,0.99,0.99,1.39,0.99,1.19,1.39,1.19,1.46,1.46,1.19,0.99,1.39,1.19,1.46,1.46,1.39,1.19,1.19,1.19,1.39,1.19,1.39,1.19,0.99,1.46,1.19,1.19,1.46,1.39,1.39,0.99,1.47,1.39,1.46,1.46,1.46,1.19,1.19,1.19,1.19,1.19,1.19,1.46,0.79,1.19,1.46,1.39,1.19,1.39,1.39,1.19,1.46,1.46,1.46,1.46,1.39,1.39,1.46,0.99,0.79,0.99,1.46,1.46,1.19,0.79,1.46,1.19,1.46,1.19,0.99,1.39,1.39,1.19,1.46,1.39,1.46,1.46,1.46,1.46,0.99,1.46,1.46,1.19,1.39,1.19,1.46,0.99,1.39,1.19,1.39,1.19,1.19,1.19,0.99,0.99,0.99,1.46,1.46,0.99,1.39,1.39,1.19,1.19,0.99,1.46,1.46,1.19,1.46,0.99,0.99,0.79,0.79,1.46,1.46,0.99,0.99,1.19,1.46,0.99,0.99,1.46,1.46,1.19,0.99,1.39,1.19,0.99,1.19,1.19,1.46,0.99,1.39,1.46,1.19,0.99,1.46,1.46,1.39,1.39,1.39,1.19,1.46,1.46,0.99,1.39,0.99,0.99,0.99,1.46,1.39,1.39,1.19,1.46,0.99,0.99,1.39,1.39,1.19,1.39,1.39,1.46,1.19,1.39,0.99,1.46,1.39,1.19,0.99,1.46,1.39,1.19,1.46,1.47,0.99,1.19,1.19,1.39,1.19,0.99,1.19,0.99,1.19,1.39,1.19,1.46,1.39,0.99,0.79,0.79,1.46,1.19,1.46,1.19,1.46,0.99,0.99,1.46,0.99,1.19,1.46,1.46,1.46,0.99,1.39,0.99,0.99,0.79,0.99,0.79,1.39,1.39,0.99,1.46,1.19,0.99,1.46,0.99,1.39,0.99,1.19,1.46,1.46,1.39,1.19,1.39,1.39,1.46,0.99,1.19,1.19,0.99,1.39,0.99,0.99,0.79,1.39,1.39,1.47,1.39,1.39,0.99,0.99,1.19,0.99,0.99,1.39,1.39,1.39,0.99,0.99,0.79,0.99,0.99,0.99,0.79,0.99,1.39,1.19,1.46,0.99,0.99,0.99,0.99,1.46,1.19,1.39,1.46,1.39,1.19,0.99,1.39,1.46,1.46,1.46,1.46,1.19,1.39,0.99,0.79,1.46,1.46,1.46,1.19,1.46,1.39,1.19,1.19,0.99,0.99,1.39,1.39,0.99,1.19,0.99,1.47,0.99,1.19,1.46,1.19,1.19,1.46,1.46,0.99,1.19,0.99,0.79,1.39,0.99,1.39,1.39,1.39,1.46,1.46,1.46,1.19,1.46,1.46,1.39,0.99,0.99,0.79,1.19,1.39,1.19,0.79,1.46,1.19,0.99,1.19,1.46,0.99,1.46,0.99,0.99,1.46,1.46,0.79,1.39,1.19,1.46,1.19,1.39,1.19,1.39,0.99,1.39,1.19,1.39,1.39,1.19,0.99,1.39,1.39,1.39,1.39,1.39,1.39,1.46,1.19,1.46,1.19,1.47,0.99,1.46,0.99,0.79,1.19,1.39,1.19,1.46,0.99,0.99,0.99,1.19,1.39,0.79,0.99,1.39,0.99,1.39,1.19,1.46,1.39,1.39,1.19,1.19,1.39,1.19,1.46,0.99,1.19,1.46,0.99,1.39,1.46,1.39,1.46,1.46,1.46,1.46,1.39,1.39,1.19,0.99,1.46,1.46,0.99,0.99,1.47,1.19,1.19,1.39,1.19,0.99,1.46,1.19,1.39,1.46,0.79,0.99,1.19,1.46,1.19,1.46,1.19,1.19,0.99,1.46,1.39,1.19,1.39,1.39,0.99,1.46,1.46,1.46,1.46,1.46,1.46,0.99,1.46,0.79,0.99,0.99,0.99,1.39,1.46,1.19,0.99,1.19,1.46,1.19,1.46,0.79,0.99,1.39,1.19,1.46,0.79,0.99,1.39,1.19,1.39,1.46,1.39,1.19,1.46,1.47,1.19,1.39,1.39,1.39,1.46,1.46,1.46,1.19,1.46,1.46,1.39,0.99,0.99,0.99,0.99,0.79,1.19,1.46,0.99,0.99,1.19,1.19,1.19,1.46,1.46,1.19,1.19,0.99,0.99,1.19,0.99,0.99,1.19,1.19,1.46,1.46,1.46,0.99,1.47,1.47,1.47,1.47,1.29,0.99,0.99,0.99,1.39,1.19,1.19,1.46,1.19,1.19,0.99,1.39,1.19,1.19,0.79,1.46,1.19,0.99,0.99,0.79,1.39,1.39,1.39,1.46,1.39,1.46,1.19,1.19,1.19,1.29,1.19,1.39,1.19,1.19,1.39,1.19,1.46,1.39,0.99,0.79,1.46,1.39,0.99,1.46,1.46,1.19,1.19,0.99,0.99,1.46,0.99,1.39,1.39,1.19,1.19,1.46,1.46,1.46,1.19,1.19,1.46,1.46,1.19,1.39,0.99,1.46,1.39,1.46,1.46,0.79,1.19,0.99,0.99,1.19,1.39,1.39,1.19,1.46,1.19,1.19,1.39,1.39,0.99,0.99,1.19,1.46,1.46,1.46,0.99,1.19,1.19,1.46,1.46,0.99,0.99,1.39,0.99,1.39,1.19,1.19,1.19,1.19,1.46,1.46,1.46,1.46,1.46,1.46,0.99,0.99,1.19,1.46,0.99,1.46,1.46,1.46,1.39,1.19,1.39,1.46,1.46,1.19,1.46,1.46,1.46,1.19,1.46,1.19,0.99,1.19,1.46,1.39,0.79,1.19,1.39,0.99,1.19,0.99,1.19,1.46,1.39,1.46,0.79,1.39,1.19,0.99,1.19,1.39,1.19,1.46,1.46,1.46,1.46,1.19,0.99,1.19,1.19,1.19,0.99,1.46,1.46,0.99,1.46,1.39,1.39,0.99,0.99,1.46,0.79,1.39,0.99,1.46,1.19,1.39,1.46,0.99,0.99,1.46,1.19,1.46,1.39,1.46,0.99,1.39,1.39,1.39,0.99,1.19,1.46,1.46,1.46,1.46,0.99,0.99,1.19,1.39,1.19,1.19,1.46,1.19,1.19,1.19,1.19,1.39,1.39,1.19,1.46,1.39,1.19,1.39,1.39,1.46,1.46,1.46,1.46,0.79,1.39,1.19,1.19,1.19,0.99,1.19,1.46,0.99,0.99,0.99,1.46,0.99,1.19,1.46,1.19,1.46,0.99,1.39,1.46,1.19,1.19,0.99,1.39,1.39,1.19,0.99,1.19,1.39,1.19,1.46,0.99,0.99,1.46,1.46,1.46,0.99,0.79,1.47,1.47,1.19,1.19,0.99,1.39,1.19,1.19,1.39,1.39,0.99,1.39,1.19,1.46,1.19,1.46,1.46,1.46,1.46,1.46,1.46,0.99,1.39,1.19,1.46,0.99,1.19,1.46,1.46,0.99,0.79,1.39,1.39,1.39,1.46,1.19,0.99,1.46,1.39,1.46,0.99,1.19,0.99,1.46,1.39,1.19,1.19,1.46,0.79,1.39,1.46,1.46,1.39,1.46,0.99,1.19,1.39,1.46,1.46,0.99,1.19,1.39,1.46,1.39,1.39,1.46,0.99,1.19,1.46,1.39,1.19,1.19,1.19,0.99,1.39,1.47,1.39,0.99,1.46,1.19,1.19,1.19,1.39,1.39,1.46,1.46,0.99,0.99,1.39,0.99,1.39,1.19,0.99,1.39,0.99,1.19,1.46,1.46,1.39,0.99,0.99,0.99,1.19,1.47,0.99,0.79,0.99,1.39,1.39,0.99,1.19,1.46,1.29,1.39,1.19,1.46,1.39,1.39,1.19,1.19,0.99,0.99,1.19,1.46,1.19,1.19,1.19,0.99,1.39,0.99,0.99,1.39,1.39,1.19,1.39,1.39,1.46,1.46,1.46,1.46,1.46,1.46,1.46,1.19,1.46,0.99,1.46,1.46,0.99,0.99,1.46,0.99,0.99,0.99,0.79,0.99,1.46,1.46,1.19,1.19,0.99,0.99,1.39,1.39,1.39,1.19,0.99,0.99,1.39,1.39,0.99,1.46,1.46,1.46,1.46,1.19,1.19,0.99,0.99,1.39,1.39,1.39,1.39,1.39,0.99,1.46,1.19,1.19,1.46,1.19,1.46,1.39,1.39,1.19,1.46,1.46,0.79,1.46,1.46,1.19,1.46,1.39,0.99,1.19,1.19,0.99,1.46,1.39,0.99,1.46,0.99,1.19,1.19,0.99,1.19,1.19,1.19,0.99,1.46,0.99,1.19,1.19,0.99,1.46,1.46,1.39,1.46,1.46,0.99,1.19,1.46,1.46,1.39,0.99,1.19,1.19,0.99,0.99,0.99,0.79,1.39,1.46,1.19,0.99,1.46,1.46,1.46,1.19,1.19,1.29,0.99,1.39,1.19,0.99,1.39,1.46,1.46,1.19,1.19,1.39,1.19,1.39,1.39,0.99,1.46,1.19,0.79,1.19,1.46,0.99,1.39,0.99,1.46,1.46,0.99,0.99,1.46,0.99,1.46,1.46,1.39,0.99,1.39,0.99,1.39,0.99,1.19,1.46,1.46,1.46,0.79,1.46,0.99,1.19,1.39,1.46,1.19,1.19,1.46,1.19,1.19,1.19,1.46,1.46,1.46,0.99,1.19,0.99,1.39,1.39,1.39,1.19,1.39,0.99,0.99,0.99,0.99,1.19,1.46,1.19,1.19,1.46,1.39,1.19,1.46,0.99,1.46,0.79,0.99,1.39,1.46,0.99,1.19,1.46,1.46,0.99,1.39,1.39,1.46,1.46,1.46,0.99,1.19,0.79,0.99,1.47,1.39,0.99,0.99,1.46,1.46,0.99,1.46,1.19,1.46,1.46,0.79,1.46,1.39,1.46,1.19,1.19,1.46,1.19,1.46,1.46,0.99,0.79,1.46,1.46,1.39,1.39,1.46,0.99,1.39,1.46,1.39,0.99,1.46,0.79,0.99,1.46,1.46,1.46,1.19,1.19,1.46,1.46,1.46,1.46,1.39,0.99,1.39,1.39,1.19,1.46,0.99,1.19,0.99,1.47,0.99,0.99,1.39,1.39,1.39,0.99,1.46,0.99,1.39,0.79,0.99,1.39,1.19,1.46,1.46,0.99,1.19,1.19,1.46,1.19,1.19,1.46,0.99,1.39,0.99,1.39,0.99,0.99,1.46,1.46,1.39,1.19,0.99,0.99,1.19,1.19,1.19,1.19,1.46,1.19,1.46,1.46,1.46,1.46,1.46,1.46,0.99,1.19,1.46,1.19,1.19,1.46,1.46,1.39,1.39,0.99,1.39,1.39,1.19,0.79,1.39,1.19,1.46,1.46,1.39,0.99,1.39,1.39,1.39,1.46,0.99,0.99,1.39,1.46,1.39,1.39,0.99,1.39,1.39,1.39,1.39,1.19,1.46,1.19,0.79,1.46,1.46,1.19,1.39,0.99,1.39,0.99,0.99,0.99,1.39,1.39,1.19,1.19,1.19,1.19,0.99,0.79,1.39,1.19,1.46,0.99,0.99,0.99,1.46,1.46,0.99,1.46,1.19,0.99,1.19,1.19,0.99,0.99,0.99,0.99,1.39,1.39,1.19,0.99,0.99,1.39,1.39,1.39,1.19,1.19,0.99,1.19,1.19,1.19,0.99,0.99,1.19,0.99,0.79,1.19,1.46,1.19,1.46,1.46,0.99,0.99,0.99,0.79,1.19,1.46,1.19,0.99,0.99,0.99,1.46,1.47,1.19,1.19,1.39,1.19,1.46,0.99,1.46,0.99,1.39,1.39,1.39,1.19,1.19,1.19,1.39,1.39,0.99,0.99,1.19,0.99,0.99,0.79,1.19,1.46,0.99,1.46,0.99,1.39,1.19,1.19,0.99,1.39,1.19,1.19,1.19,0.99,0.99,1.39,1.46,0.99,1.46,1.46,0.99,0.99,1.39,1.39,1.19,1.19,1.46,1.46,1.39,0.99,1.39,1.39,1.46,0.99,1.19,0.79,1.19,1.39,1.39,1.39,0.99,1.39,1.39,1.19,0.79,1.46,1.39,1.46,1.19,0.99,1.19,0.99,1.46,1.46,1.19,1.46,0.99,0.99,1.39,0.99,1.29,1.19,1.46,1.39,1.19,1.46,0.79,1.19,1.46,0.99,1.46,0.79,1.19,1.39,1.46,1.46,1.46,1.19,0.99,1.46,1.46,1.46,1.46,1.46,1.46,1.19,1.46,1.46,1.46,1.39,1.46,1.19,0.99,1.39,0.99,1.19,1.39,1.19,1.19,1.19,1.39,1.46,1.19,1.19,1.46,1.46,0.99,1.19,1.19,1.19,1.39,1.39,0.99,0.99,1.19,1.19,0.99,0.99,1.19,0.99,1.19,1.39,1.46,1.46,1.19,1.19,0.99,0.99,1.39,0.99,0.99,1.46,1.39,1.19,0.99,1.19,0.99,1.19,1.19,1.39,1.39,1.39,1.39,1.39,1.46,1.46,1.46,0.99,0.99,1.19,0.99,1.46,1.46,1.39,1.46,0.99,1.39,1.47,1.39,1.39,1.19,0.99,1.46,0.79,1.39,1.39,1.46,1.46,1.46,0.79,1.19,1.19,0.99,1.19,1.19,1.47,0.79,1.19,1.19,1.46,0.99,0.99,0.99,1.39,1.46,1.46,1.39,0.99,0.99,0.99,1.39,1.46,0.99,1.19,1.46,1.46,1.39,0.99,1.39,1.39,1.39,1.46,0.99,0.99,1.39,1.19,0.99,0.99,1.46,1.46,1.19,1.19,1.19,1.46,0.99,1.46,1.19,1.46,1.39,0.99,1.19,0.99,1.19,0.79,1.46,1.19,1.19,1.19,1.46,0.99,0.99,1.19,1.19,0.99,0.99,0.79,1.46,1.19,1.39,1.39,1.19,1.46,1.46,1.19,1.39,1.46,0.99,1.19,1.46,1.19,1.19,0.99,1.39,1.19,1.46,1.46,1.19,1.19,1.46,1.39,1.19,1.19,1.19,1.39,1.46,1.46,1.46,1.46,0.99,0.99,0.99,1.39,0.99,1.19,1.39,1.19,1.46,0.99,1.39,1.39,1.39,1.46,1.46,0.99,1.46,1.46,1.46,1.29,1.19,1.19,0.99,0.99,1.46,1.46,0.99,1.19,0.99,1.19,0.99,1.39,1.46,0.99,1.46,1.19,1.39,1.46,0.99,1.46,0.79,1.46,1.39,1.19,1.39,0.99,1.19,1.19,1.19,0.79,1.39,1.46,1.39,1.46,1.39,0.99,1.39,1.19,1.19,1.46,1.46,1.46,1.39,1.39,1.39,1.39,1.39,1.19,1.39,1.46,0.99,1.46,0.99,1.19,0.99,1.19,1.46,0.99,1.19,1.19,0.99,1.19,1.19,0.99,1.39,1.39,1.46,0.99,1.39,1.39,0.99,0.99,1.19,0.99,1.39,0.99,0.79,1.46,1.46,1.39,1.46,0.99,1.39,0.99,1.39,1.19,1.39,1.39,0.99,1.39,1.39,1.39,1.19,1.19,1.46,0.99,1.39,0.99,1.19,0.99,0.99,1.19,1.19,1.19,1.46,1.46,1.39,1.39,1.19,1.19,1.39,0.99,0.99,1.46,0.79,1.19,1.39,1.39,0.99,1.46,0.99,1.39,1.46,1.46,1.39,0.99,0.99,1.19,1.46,0.99,0.99,0.99,1.39,1.46,1.46,0.99,1.39,1.39,1.46,1.46,0.99,1.19,1.39,0.99,1.39,1.39,1.19,1.39,1.39,1.39,0.99,1.46,0.79,1.39,1.39,1.46,0.99,0.99,1.19,0.99,1.39,1.19,0.99,1.19,0.99,1.47,1.39,1.39,1.39,1.19,0.99,1.46,1.39,0.79,1.19,1.46,0.79,1.19,1.39,1.39,1.19,1.39,1.39,1.39,1.39,1.19,1.19,1.39,1.46,1.39,1.19,1.39,1.19,0.99,1.39,1.39,1.39,1.19,0.99,1.46,0.99,1.46,1.19,1.39,1.19,1.19,1.46,0.99,1.19,1.46,0.99,1.39,0.99,1.19,1.46,1.19,0.99,0.99,1.19,1.19,0.99,1.19,1.19,0.99,0.99,0.99,1.46,0.79,0.79,1.39,1.19,1.46,1.19,1.39,1.46,1.39,1.19,1.19,1.39,1.39,1.46,1.19,0.99,0.79,1.46,1.39,1.39,1.46,1.46,1.46,1.19,1.19,1.46,1.46,0.99,1.39,1.46,1.39,1.46,1.39,1.19,0.99,1.46,0.99,1.19,0.99,1.19,1.19,1.46,1.19,0.99,1.39,1.19,1.46,1.19,1.46,1.46,1.39,1.19,0.99,1.39,1.39,1.19,0.99,1.19,1.19,1.39,0.99,1.19,0.99,1.19,1.19,1.19,1.46,1.46,1.19,0.99,1.39,1.19,1.46,1.39,1.19,1.19,1.39,1.19,0.99,0.99,0.99,0.99,1.19,1.46,0.99,1.19,1.39,1.19,1.39,1.19,1.19,1.46,1.19,0.99,1.46,1.19,1.46,1.19,1.46,0.79,1.46,1.46,1.39,1.39,1.39,0.99,1.46,1.46,1.19,1.46,1.46,1.46,1.39,1.39,0.99,0.99,0.79,1.19,0.99,1.39,1.39,1.39,1.46,0.99,0.99,1.46,1.19,1.39,1.39,0.79,1.47,1.47,1.46,1.19,0.99,0.99,0.99,0.99,1.19,1.46,1.19,1.19,0.99,1.46,1.46,1.39,0.99,1.46,0.99,1.46,1.46,1.46,1.19,1.46,1.39,1.19,1.39,0.99,1.39,0.99,0.99,1.39,1.39,1.39,1.39,1.19,0.79,1.47,1.47,0.99,1.46,1.39,0.99,1.46,1.19,0.99,1.19,1.39,1.39,0.99,1.19,0.79,1.19,0.99,0.99,1.46,1.46,1.39,0.99,1.46,1.46,1.19,0.99,1.39,0.99,1.19,0.79,1.46,1.19,1.46,1.19,1.19,0.99,0.99,1.46,1.19,1.19,0.99,0.99,0.99,1.46,0.79,0.99,1.39,1.46,1.46,1.19,1.46,0.99,0.99,1.19,1.39,1.46,0.99,1.46,1.19,0.99,0.99,1.19,1.46,1.19,1.39,1.19,1.46,1.19,0.99,0.99,1.19,1.46,1.46,1.39,1.46,0.79,1.39,0.99,0.99,1.46,1.46,1.19,0.99,0.99,0.99,1.39,0.99,1.19,0.99,1.19,1.19,1.46,0.99,1.47,0.99,1.46,1.39,0.99,1.19,1.19,1.19,1.39,1.19,0.99,1.19,1.46,1.46,0.99,1.47,1.39,1.39,0.79,1.46,1.19,1.39,1.46,1.19,1.19,1.39,1.39,0.99,1.46,1.39,1.46,1.19,1.46,1.19,1.39,1.19,1.19,1.19,1.19,1.46,1.46,1.46,0.99,1.19,1.19,1.19,1.46,1.19,1.46,1.19,0.99,1.19,1.19,1.19,1.19,0.99,1.39,1.39,0.79,1.39,1.39,1.19,1.19,1.46,1.19,1.39,1.39,1.19,1.46,1.19,1.46,1.46,1.39,0.99,1.39,1.19,1.19,0.99,1.39,1.19,0.99,1.46,0.99,1.39,1.46,1.46,1.19,1.19,1.19,1.39,1.19,1.19,1.46,1.46,1.46,0.99,1.39,1.19,0.99,0.99,1.19,1.39,0.99,0.99,1.19,1.19,1.19,0.99,1.46,1.46,1.46,1.39,1.39,1.39,0.99,0.99,1.19,1.46,0.99,1.46,1.19,1.19,1.19,0.99,0.99,1.39,0.99,1.19,1.19,0.99,1.19,1.19,1.39,1.39,1.46,1.39,0.99,1.39,1.19,0.99,1.39,0.99,0.99,0.79,0.99,1.46,1.47,0.99,1.19,1.19,1.46,1.19,0.99,1.39,1.39,1.46,1.46,1.46,1.46,1.46,0.99,1.19,1.19,1.19,0.99,0.79,1.46,1.46,1.19,1.19,1.19,1.46,0.99,1.47,1.47,1.19,1.46,1.39,1.46,1.39,1.19,1.19,1.39,1.39,0.99,0.99,0.99,0.99,1.46,1.46,0.99,1.19,1.39,1.39,1.46,1.46,1.19,1.19,1.46,1.46,1.39,1.19,1.39,0.99,0.99,1.19,0.79,1.39,1.46,1.46,0.99,0.99,0.99,1.46,1.46,1.19,0.99,1.39,1.19,0.99,0.99,0.79,1.39,1.19,1.39,1.46,1.19,1.39,0.99,1.19,1.19,1.19,1.46,1.39,1.39,1.19,1.46,1.39,1.19,1.19,1.19,0.79,0.99,1.19,1.46,1.46,1.19,0.99,1.46,0.99,1.39,1.19,1.19,1.19,1.19,1.19,1.39,1.19,0.99,0.99,0.99,1.39,1.19,1.39,1.46,1.46,1.46,1.46,1.46,0.99,1.19,1.46,1.19,1.46,1.46,1.46,0.99,0.99,0.99,0.99,0.99,1.19,1.46,1.39,0.99,1.39,1.39,1.19,0.99,0.99,1.19,0.99,1.46,1.19,0.99,1.46,0.99,1.46,1.19,1.19,0.79,1.19,1.39,1.46,0.79,0.99,1.19,0.99,1.46,1.19,0.99,1.19,0.99,1.19,1.19,1.39,1.39,1.19,1.19,1.46,1.46,1.46,1.46,1.46,1.46,1.39,0.99,0.99,0.99,0.99,1.19,1.39,1.46,0.99,1.39,1.46,1.39,1.19,0.99,1.19,1.39,0.99,0.99,1.46,1.39,0.99,0.79,1.46,0.99,1.46,1.39,1.39,0.99,1.46,1.39,1.46,1.19,1.46,0.79,0.99,1.39,1.39,1.39,1.19,0.99,1.39,1.19,1.39,1.19,1.46,1.19,1.19,1.39,1.19,1.19,1.46,0.99,0.79,1.46,0.99,0.99,1.46,1.19,1.39,1.39,1.19,1.19,1.46,1.46,0.79,0.99,1.46,1.39,1.19,1.46,1.46,0.99,1.46,0.79,1.39,1.46,1.19,1.19,0.99,1.39,1.39,1.19,0.99,1.46,0.99,1.46,1.46,0.99,1.19,1.46,1.19,1.46,0.99,1.19,1.46,1.46,1.46,1.19,1.46,1.19,1.46,1.19,1.46,0.99,1.39,1.46,1.39,1.46,1.46,1.46,1.39,1.19,1.39,1.46,0.99,1.47,1.19,1.19,0.79,0.99,0.99,1.46,1.19,1.39,1.39,1.46,1.46,1.46,1.46,1.46,1.46,0.99,1.19,1.47,1.46,1.39,1.39,1.19,1.46,0.79,1.46,1.46,1.46,0.99,1.19,1.46,1.46,1.19,1.19,1.46,0.99,1.19,1.46,1.46,1.46,0.99,0.99,1.46,0.99,1.46,1.46,1.46,1.19,1.39,0.99,1.46,1.39,1.39,1.19,0.99,0.79,0.99,1.46,1.39,1.19,1.19,1.46,1.46,1.19,0.99,1.39,1.46,1.19,1.46,1.46,1.0,1.39,1.46,1.39,1.46,0.99,1.46,1.46,1.19,1.46,0.99,0.99,1.19,1.19,1.19,1.19,0.99,1.46,1.46,1.39,0.99,1.46,1.46,1.46,1.46,1.46,0.99,1.19,1.46,1.19,1.46,1.46,1.19,1.19,1.46,1.29,1.46,1.19,1.46,0.99,0.99,0.99,0.99,1.46,1.46,1.46,1.19,1.46,1.39,0.79,0.99,1.39,1.39,1.46,1.39,1.46,0.79,1.46,1.19,1.46,1.46,0.79,1.46,1.46,1.46,1.19,1.19,1.19,1.39,1.46,1.19,0.99,1.39,1.39,0.99,1.39,0.99,1.39,0.99,1.46,1.46,1.19,1.46,1.46,0.99,0.99,1.46,1.46,1.39,0.99,1.46,0.99,1.46,1.19,1.46,1.46,1.46,1.46,1.46,1.46,1.39,1.39,1.19,1.19,1.46,0.99,1.39,1.46,1.46,1.39,1.46,1.46,1.19,1.46,1.46,0.79,0.99,1.46,1.46,0.79,0.99,0.99,1.46,1.29,1.46,1.46,0.79,1.46,0.99,0.99,1.19,1.19,1.39,1.19,1.39,1.46,1.46,0.99,1.19,1.46,0.99,0.79,0.79,1.46,0.99,1.46,1.19,0.99,1.19,1.46,1.46,1.46,1.19,1.19,1.19,1.19,0.99,1.46,1.46,1.19,1.19,0.79,1.46,1.46,1.19,1.46,1.46,1.46,1.19,1.46,1.46,1.19,0.99,0.79,1.46,0.99,0.99,1.46,1.29,1.46,1.46,1.46,1.46,0.99,0.99,1.46,1.46,1.19,1.46,0.99,1.46,1.46,1.46,1.19,0.99,1.19,0.99,1.46,1.46,0.99,0.79,1.19,1.46,0.99,1.46,1.19,1.46,0.99,0.79,0.99,1.46,1.46,1.19,1.19,1.46,1.46,1.46,0.79,1.46,1.46,1.46,1.46,0.79,1.46,1.46,0.99,1.46,1.19,1.19,0.79,1.47,1.19,1.46,1.46,0.99,1.19,1.46,1.46,1.46,0.99,0.99,0.99,1.46,1.46,1.19,1.46,1.46,1.46,1.46,1.46,0.99,0.79,1.46,1.39,1.46,1.19,1.46,1.46,1.46,0.99,0.99,1.46,0.99,0.99,1.46,0.99,1.46,1.46,1.46,0.99,1.19,0.99,1.46,1.19,1.46,1.46,1.46,1.46,0.79,1.46,1.46,1.46,1.46,0.99,1.46,0.99,0.99,0.99,0.99,0.99,1.46,0.99,0.99,1.46,1.46,1.46,1.46,1.46,1.46,0.99,1.46,1.46,1.19,0.99,1.46,1.46,1.19,1.46,1.46,1.39,0.99,1.46,1.46,1.46,1.46,0.79,1.46,1.19,1.19,0.79,1.46,1.19,0.99,0.99,1.46,0.99,0.99,0.99,1.46,1.46,1.46,1.46,1.46,1.46,1.46,1.46,1.46,1.39,1.46,1.46,1.46,1.46,1.19,0.99,1.46,0.99,1.46,1.46,0.99,1.19,0.79,0.79,1.46,1.46,0.99,1.46,1.46,1.19,1.46,0.99,1.47,0.79,0.99,1.47,1.46,1.46,1.46,1.46,0.99,1.46,1.46,0.99,1.46,1.46,1.19,1.46,0.79,1.46,1.19,0.99,1.19,0.79,0.99,1.46,1.46,1.46,1.46,1.46,1.19,1.46,0.99,1.19,1.46,1.46,0.99,1.19,1.46,1.46,1.19,0.99,1.46,0.99,1.39,1.46,1.46,1.19,0.99,1.46,1.46,0.79,0.99,1.46,1.46,1.19,0.99,1.19,1.19,0.99,0.99,0.99,1.47,1.46,0.79,1.19,0.99,0.79,1.46,1.46,1.46,0.99,1.46,1.46,1.19,1.46,1.46,0.99,0.99,1.39,1.19,1.46,0.99,1.29,1.19,1.46,0.99,1.46,1.19,0.99,1.46,1.46,1.46,1.19,1.46,1.19,1.46,0.99,1.19,1.46,0.99,1.46,1.46,1.19,1.46,0.99,0.99,0.79,1.46,1.46,1.46,1.46,1.46,1.46,1.46,1.46,1.46,1.46,0.79,1.19,1.46,1.46,1.46,1.46,1.46,1.19,1.46,1.46,1.46,1.46,1.46,1.46,1.46,1.19,0.99,1.19,1.46,1.46,0.99,1.46,1.46,1.46,1.46,1.46,0.99,1.19,1.46,1.46,1.46,1.46,1.46,1.46,1.19,0.99,1.19,1.46,1.46,0.99,1.46,1.46,1.46,1.46,1.46,1.19,1.46,0.99,1.19,1.46,1.19,0.99,1.46,1.46,0.99,1.46,1.46,1.46,1.46,1.46,1.46,1.46,1.46,1.46,0.99,1.19,1.19,1.46,1.46,1.19,1.46,1.46,1.39,1.46,1.46,0.79,1.19,0.79,1.46,1.46,1.46,1.46,1.46,1.46,1.46,1.46,1.46,1.46,1.46,1.19,1.19,1.46,1.46,1.39,1.19,0.99,1.46,0.99,0.79,0.99,1.19,1.19,0.79,0.99,1.19,1.46,1.19,1.19,0.99,0.79,1.46,1.46,0.79,1.19,1.39,1.46,1.46,1.46,0.99,1.46,0.79,1.46,0.99,0.99,0.79,1.19,0.99,1.46,1.19,0.99,0.99,0.79,0.79,0.99,1.46,0.99,0.99,1.46,1.46,1.46,0.99,1.46,1.46,1.19,1.46,1.46,1.46,1.46,0.99,0.99,0.99,0.99,1.46,1.46,1.19,0.99,0.79,1.47,1.46,1.46,0.99,0.79,1.46,0.79,1.47,1.47,1.46,1.46,1.46,1.46,0.99,1.47,1.39,1.46,0.79,0.99,0.79,0.99,1.19,1.46,0.99,1.46,1.47,1.47,0.99,1.46,1.46,1.46,1.46,1.46,1.39,1.46,1.46,0.79,1.47,0.79,0.99,0.79,1.46,1.46,1.46,0.79,1.46,1.47,1.46,1.46,0.79,1.46,1.46,0.79,1.47,0.99,1.47,0.79,1.46,0.99,0.79,0.99,1.46,0.79,0.99,1.46,1.39,1.46,1.46,1.39,0.79,0.99,1.39,1.46,1.39,0.99,0.79,0.79,1.46,1.46,1.29,1.46,1.46,1.39,1.47,1.46,0.99,1.39,0.99,1.46,1.47,0.79,0.99,0.79,1.29,1.46,0.79,1.39,1.46,1.46,0.79,0.99,1.46,0.99,1.46,0.99,0.99,1.47,1.39,1.47,1.47,0.99,0.99,1.39,1.39,1.39,1.39,1.39,1.39],\"yaxis\":\"y\",\"type\":\"bar\"}],                        {\"template\":{\"data\":{\"histogram2dcontour\":[{\"type\":\"histogram2dcontour\",\"colorbar\":{\"outlinewidth\":0,\"ticks\":\"\"},\"colorscale\":[[0.0,\"#0d0887\"],[0.1111111111111111,\"#46039f\"],[0.2222222222222222,\"#7201a8\"],[0.3333333333333333,\"#9c179e\"],[0.4444444444444444,\"#bd3786\"],[0.5555555555555556,\"#d8576b\"],[0.6666666666666666,\"#ed7953\"],[0.7777777777777778,\"#fb9f3a\"],[0.8888888888888888,\"#fdca26\"],[1.0,\"#f0f921\"]]}],\"choropleth\":[{\"type\":\"choropleth\",\"colorbar\":{\"outlinewidth\":0,\"ticks\":\"\"}}],\"histogram2d\":[{\"type\":\"histogram2d\",\"colorbar\":{\"outlinewidth\":0,\"ticks\":\"\"},\"colorscale\":[[0.0,\"#0d0887\"],[0.1111111111111111,\"#46039f\"],[0.2222222222222222,\"#7201a8\"],[0.3333333333333333,\"#9c179e\"],[0.4444444444444444,\"#bd3786\"],[0.5555555555555556,\"#d8576b\"],[0.6666666666666666,\"#ed7953\"],[0.7777777777777778,\"#fb9f3a\"],[0.8888888888888888,\"#fdca26\"],[1.0,\"#f0f921\"]]}],\"heatmap\":[{\"type\":\"heatmap\",\"colorbar\":{\"outlinewidth\":0,\"ticks\":\"\"},\"colorscale\":[[0.0,\"#0d0887\"],[0.1111111111111111,\"#46039f\"],[0.2222222222222222,\"#7201a8\"],[0.3333333333333333,\"#9c179e\"],[0.4444444444444444,\"#bd3786\"],[0.5555555555555556,\"#d8576b\"],[0.6666666666666666,\"#ed7953\"],[0.7777777777777778,\"#fb9f3a\"],[0.8888888888888888,\"#fdca26\"],[1.0,\"#f0f921\"]]}],\"heatmapgl\":[{\"type\":\"heatmapgl\",\"colorbar\":{\"outlinewidth\":0,\"ticks\":\"\"},\"colorscale\":[[0.0,\"#0d0887\"],[0.1111111111111111,\"#46039f\"],[0.2222222222222222,\"#7201a8\"],[0.3333333333333333,\"#9c179e\"],[0.4444444444444444,\"#bd3786\"],[0.5555555555555556,\"#d8576b\"],[0.6666666666666666,\"#ed7953\"],[0.7777777777777778,\"#fb9f3a\"],[0.8888888888888888,\"#fdca26\"],[1.0,\"#f0f921\"]]}],\"contourcarpet\":[{\"type\":\"contourcarpet\",\"colorbar\":{\"outlinewidth\":0,\"ticks\":\"\"}}],\"contour\":[{\"type\":\"contour\",\"colorbar\":{\"outlinewidth\":0,\"ticks\":\"\"},\"colorscale\":[[0.0,\"#0d0887\"],[0.1111111111111111,\"#46039f\"],[0.2222222222222222,\"#7201a8\"],[0.3333333333333333,\"#9c179e\"],[0.4444444444444444,\"#bd3786\"],[0.5555555555555556,\"#d8576b\"],[0.6666666666666666,\"#ed7953\"],[0.7777777777777778,\"#fb9f3a\"],[0.8888888888888888,\"#fdca26\"],[1.0,\"#f0f921\"]]}],\"surface\":[{\"type\":\"surface\",\"colorbar\":{\"outlinewidth\":0,\"ticks\":\"\"},\"colorscale\":[[0.0,\"#0d0887\"],[0.1111111111111111,\"#46039f\"],[0.2222222222222222,\"#7201a8\"],[0.3333333333333333,\"#9c179e\"],[0.4444444444444444,\"#bd3786\"],[0.5555555555555556,\"#d8576b\"],[0.6666666666666666,\"#ed7953\"],[0.7777777777777778,\"#fb9f3a\"],[0.8888888888888888,\"#fdca26\"],[1.0,\"#f0f921\"]]}],\"mesh3d\":[{\"type\":\"mesh3d\",\"colorbar\":{\"outlinewidth\":0,\"ticks\":\"\"}}],\"scatter\":[{\"fillpattern\":{\"fillmode\":\"overlay\",\"size\":10,\"solidity\":0.2},\"type\":\"scatter\"}],\"parcoords\":[{\"type\":\"parcoords\",\"line\":{\"colorbar\":{\"outlinewidth\":0,\"ticks\":\"\"}}}],\"scatterpolargl\":[{\"type\":\"scatterpolargl\",\"marker\":{\"colorbar\":{\"outlinewidth\":0,\"ticks\":\"\"}}}],\"bar\":[{\"error_x\":{\"color\":\"#2a3f5f\"},\"error_y\":{\"color\":\"#2a3f5f\"},\"marker\":{\"line\":{\"color\":\"#E5ECF6\",\"width\":0.5},\"pattern\":{\"fillmode\":\"overlay\",\"size\":10,\"solidity\":0.2}},\"type\":\"bar\"}],\"scattergeo\":[{\"type\":\"scattergeo\",\"marker\":{\"colorbar\":{\"outlinewidth\":0,\"ticks\":\"\"}}}],\"scatterpolar\":[{\"type\":\"scatterpolar\",\"marker\":{\"colorbar\":{\"outlinewidth\":0,\"ticks\":\"\"}}}],\"histogram\":[{\"marker\":{\"pattern\":{\"fillmode\":\"overlay\",\"size\":10,\"solidity\":0.2}},\"type\":\"histogram\"}],\"scattergl\":[{\"type\":\"scattergl\",\"marker\":{\"colorbar\":{\"outlinewidth\":0,\"ticks\":\"\"}}}],\"scatter3d\":[{\"type\":\"scatter3d\",\"line\":{\"colorbar\":{\"outlinewidth\":0,\"ticks\":\"\"}},\"marker\":{\"colorbar\":{\"outlinewidth\":0,\"ticks\":\"\"}}}],\"scattermapbox\":[{\"type\":\"scattermapbox\",\"marker\":{\"colorbar\":{\"outlinewidth\":0,\"ticks\":\"\"}}}],\"scatterternary\":[{\"type\":\"scatterternary\",\"marker\":{\"colorbar\":{\"outlinewidth\":0,\"ticks\":\"\"}}}],\"scattercarpet\":[{\"type\":\"scattercarpet\",\"marker\":{\"colorbar\":{\"outlinewidth\":0,\"ticks\":\"\"}}}],\"carpet\":[{\"aaxis\":{\"endlinecolor\":\"#2a3f5f\",\"gridcolor\":\"white\",\"linecolor\":\"white\",\"minorgridcolor\":\"white\",\"startlinecolor\":\"#2a3f5f\"},\"baxis\":{\"endlinecolor\":\"#2a3f5f\",\"gridcolor\":\"white\",\"linecolor\":\"white\",\"minorgridcolor\":\"white\",\"startlinecolor\":\"#2a3f5f\"},\"type\":\"carpet\"}],\"table\":[{\"cells\":{\"fill\":{\"color\":\"#EBF0F8\"},\"line\":{\"color\":\"white\"}},\"header\":{\"fill\":{\"color\":\"#C8D4E3\"},\"line\":{\"color\":\"white\"}},\"type\":\"table\"}],\"barpolar\":[{\"marker\":{\"line\":{\"color\":\"#E5ECF6\",\"width\":0.5},\"pattern\":{\"fillmode\":\"overlay\",\"size\":10,\"solidity\":0.2}},\"type\":\"barpolar\"}],\"pie\":[{\"automargin\":true,\"type\":\"pie\"}]},\"layout\":{\"autotypenumbers\":\"strict\",\"colorway\":[\"#636efa\",\"#EF553B\",\"#00cc96\",\"#ab63fa\",\"#FFA15A\",\"#19d3f3\",\"#FF6692\",\"#B6E880\",\"#FF97FF\",\"#FECB52\"],\"font\":{\"color\":\"#2a3f5f\"},\"hovermode\":\"closest\",\"hoverlabel\":{\"align\":\"left\"},\"paper_bgcolor\":\"white\",\"plot_bgcolor\":\"#E5ECF6\",\"polar\":{\"bgcolor\":\"#E5ECF6\",\"angularaxis\":{\"gridcolor\":\"white\",\"linecolor\":\"white\",\"ticks\":\"\"},\"radialaxis\":{\"gridcolor\":\"white\",\"linecolor\":\"white\",\"ticks\":\"\"}},\"ternary\":{\"bgcolor\":\"#E5ECF6\",\"aaxis\":{\"gridcolor\":\"white\",\"linecolor\":\"white\",\"ticks\":\"\"},\"baxis\":{\"gridcolor\":\"white\",\"linecolor\":\"white\",\"ticks\":\"\"},\"caxis\":{\"gridcolor\":\"white\",\"linecolor\":\"white\",\"ticks\":\"\"}},\"coloraxis\":{\"colorbar\":{\"outlinewidth\":0,\"ticks\":\"\"}},\"colorscale\":{\"sequential\":[[0.0,\"#0d0887\"],[0.1111111111111111,\"#46039f\"],[0.2222222222222222,\"#7201a8\"],[0.3333333333333333,\"#9c179e\"],[0.4444444444444444,\"#bd3786\"],[0.5555555555555556,\"#d8576b\"],[0.6666666666666666,\"#ed7953\"],[0.7777777777777778,\"#fb9f3a\"],[0.8888888888888888,\"#fdca26\"],[1.0,\"#f0f921\"]],\"sequentialminus\":[[0.0,\"#0d0887\"],[0.1111111111111111,\"#46039f\"],[0.2222222222222222,\"#7201a8\"],[0.3333333333333333,\"#9c179e\"],[0.4444444444444444,\"#bd3786\"],[0.5555555555555556,\"#d8576b\"],[0.6666666666666666,\"#ed7953\"],[0.7777777777777778,\"#fb9f3a\"],[0.8888888888888888,\"#fdca26\"],[1.0,\"#f0f921\"]],\"diverging\":[[0,\"#8e0152\"],[0.1,\"#c51b7d\"],[0.2,\"#de77ae\"],[0.3,\"#f1b6da\"],[0.4,\"#fde0ef\"],[0.5,\"#f7f7f7\"],[0.6,\"#e6f5d0\"],[0.7,\"#b8e186\"],[0.8,\"#7fbc41\"],[0.9,\"#4d9221\"],[1,\"#276419\"]]},\"xaxis\":{\"gridcolor\":\"white\",\"linecolor\":\"white\",\"ticks\":\"\",\"title\":{\"standoff\":15},\"zerolinecolor\":\"white\",\"automargin\":true,\"zerolinewidth\":2},\"yaxis\":{\"gridcolor\":\"white\",\"linecolor\":\"white\",\"ticks\":\"\",\"title\":{\"standoff\":15},\"zerolinecolor\":\"white\",\"automargin\":true,\"zerolinewidth\":2},\"scene\":{\"xaxis\":{\"backgroundcolor\":\"#E5ECF6\",\"gridcolor\":\"white\",\"linecolor\":\"white\",\"showbackground\":true,\"ticks\":\"\",\"zerolinecolor\":\"white\",\"gridwidth\":2},\"yaxis\":{\"backgroundcolor\":\"#E5ECF6\",\"gridcolor\":\"white\",\"linecolor\":\"white\",\"showbackground\":true,\"ticks\":\"\",\"zerolinecolor\":\"white\",\"gridwidth\":2},\"zaxis\":{\"backgroundcolor\":\"#E5ECF6\",\"gridcolor\":\"white\",\"linecolor\":\"white\",\"showbackground\":true,\"ticks\":\"\",\"zerolinecolor\":\"white\",\"gridwidth\":2}},\"shapedefaults\":{\"line\":{\"color\":\"#2a3f5f\"}},\"annotationdefaults\":{\"arrowcolor\":\"#2a3f5f\",\"arrowhead\":0,\"arrowwidth\":1},\"geo\":{\"bgcolor\":\"white\",\"landcolor\":\"#E5ECF6\",\"subunitcolor\":\"white\",\"showland\":true,\"showlakes\":true,\"lakecolor\":\"white\"},\"title\":{\"x\":0.05},\"mapbox\":{\"style\":\"light\"}}},\"xaxis\":{\"anchor\":\"y\",\"domain\":[0.0,1.0],\"title\":{\"text\":\"Brand\"}},\"yaxis\":{\"anchor\":\"x\",\"domain\":[0.0,1.0],\"title\":{\"text\":\"Price\"}},\"legend\":{\"tracegroupgap\":0},\"title\":{\"text\":\"Ketchup Prices\"},\"barmode\":\"relative\"},                        {\"responsive\": true}                    ).then(function(){\n",
              "                            \n",
              "var gd = document.getElementById('aa9a09c2-ea42-497f-8c3f-1e3db0a4879d');\n",
              "var x = new MutationObserver(function (mutations, observer) {{\n",
              "        var display = window.getComputedStyle(gd).display;\n",
              "        if (!display || display === 'none') {{\n",
              "            console.log([gd, 'removed!']);\n",
              "            Plotly.purge(gd);\n",
              "            observer.disconnect();\n",
              "        }}\n",
              "}});\n",
              "\n",
              "// Listen for the removal of the full notebook cells\n",
              "var notebookContainer = gd.closest('#notebook-container');\n",
              "if (notebookContainer) {{\n",
              "    x.observe(notebookContainer, {childList: true});\n",
              "}}\n",
              "\n",
              "// Listen for the clearing of the current output cell\n",
              "var outputEl = gd.closest('.output');\n",
              "if (outputEl) {{\n",
              "    x.observe(outputEl, {childList: true});\n",
              "}}\n",
              "\n",
              "                        })                };                            </script>        </div>\n",
              "</body>\n",
              "</html>"
            ]
          },
          "metadata": {}
        }
      ]
    },
    {
      "cell_type": "code",
      "source": [
        "df['preference_count'] = df.groupby('Ketchup.choice')['Ketchup.choice'].transform('count')\n",
        "df['preference_percent'] = (df['preference_count'] / df['preference_count'].sum()) * 100\n",
        "\n",
        "fig = px.pie(df, values='preference_percent', names='Ketchup.choice', title='Ketchup Preference')\n",
        "fig.show()\n"
      ],
      "metadata": {
        "colab": {
          "base_uri": "https://localhost:8080/",
          "height": 542
        },
        "id": "Y9IMdkeg-wTT",
        "outputId": "3ccdd8b6-3e5d-4d4f-b0f4-846860db0a9a"
      },
      "execution_count": 9,
      "outputs": [
        {
          "output_type": "display_data",
          "data": {
            "text/html": [
              "<html>\n",
              "<head><meta charset=\"utf-8\" /></head>\n",
              "<body>\n",
              "    <div>            <script src=\"https://cdnjs.cloudflare.com/ajax/libs/mathjax/2.7.5/MathJax.js?config=TeX-AMS-MML_SVG\"></script><script type=\"text/javascript\">if (window.MathJax && window.MathJax.Hub && window.MathJax.Hub.Config) {window.MathJax.Hub.Config({SVG: {font: \"STIX-Web\"}});}</script>                <script type=\"text/javascript\">window.PlotlyConfig = {MathJaxConfig: 'local'};</script>\n",
              "        <script charset=\"utf-8\" src=\"https://cdn.plot.ly/plotly-2.24.1.min.js\"></script>                <div id=\"69f385e8-1f3a-4ced-8554-c652cf4e8a8f\" class=\"plotly-graph-div\" style=\"height:525px; width:100%;\"></div>            <script type=\"text/javascript\">                                    window.PLOTLYENV=window.PLOTLYENV || {};                                    if (document.getElementById(\"69f385e8-1f3a-4ced-8554-c652cf4e8a8f\")) {                    Plotly.newPlot(                        \"69f385e8-1f3a-4ced-8554-c652cf4e8a8f\",                        [{\"domain\":{\"x\":[0.0,1.0],\"y\":[0.0,1.0]},\"hovertemplate\":\"Ketchup.choice=%{label}\\u003cbr\\u003epreference_percent=%{value}\\u003cextra\\u003e\\u003c\\u002fextra\\u003e\",\"labels\":[\"heinz\",\"heinz\",\"hunts\",\"hunts\",\"stb\",\"heinz\",\"heinz\",\"heinz\",\"stb\",\"heinz\",\"heinz\",\"stb\",\"heinz\",\"delmonte\",\"heinz\",\"heinz\",\"heinz\",\"stb\",\"stb\",\"stb\",\"hunts\",\"hunts\",\"hunts\",\"hunts\",\"heinz\",\"heinz\",\"heinz\",\"delmonte\",\"stb\",\"heinz\",\"hunts\",\"hunts\",\"heinz\",\"heinz\",\"hunts\",\"hunts\",\"delmonte\",\"heinz\",\"heinz\",\"heinz\",\"hunts\",\"heinz\",\"heinz\",\"stb\",\"heinz\",\"heinz\",\"heinz\",\"heinz\",\"heinz\",\"hunts\",\"hunts\",\"heinz\",\"hunts\",\"hunts\",\"hunts\",\"stb\",\"stb\",\"heinz\",\"hunts\",\"stb\",\"heinz\",\"heinz\",\"heinz\",\"heinz\",\"heinz\",\"hunts\",\"stb\",\"heinz\",\"stb\",\"stb\",\"heinz\",\"hunts\",\"heinz\",\"heinz\",\"heinz\",\"heinz\",\"heinz\",\"heinz\",\"heinz\",\"hunts\",\"hunts\",\"heinz\",\"heinz\",\"stb\",\"stb\",\"stb\",\"heinz\",\"delmonte\",\"heinz\",\"heinz\",\"heinz\",\"heinz\",\"hunts\",\"heinz\",\"heinz\",\"heinz\",\"delmonte\",\"heinz\",\"heinz\",\"heinz\",\"heinz\",\"heinz\",\"heinz\",\"hunts\",\"heinz\",\"hunts\",\"stb\",\"heinz\",\"heinz\",\"hunts\",\"hunts\",\"delmonte\",\"heinz\",\"heinz\",\"heinz\",\"heinz\",\"hunts\",\"heinz\",\"heinz\",\"hunts\",\"hunts\",\"hunts\",\"hunts\",\"hunts\",\"hunts\",\"delmonte\",\"heinz\",\"heinz\",\"heinz\",\"heinz\",\"hunts\",\"delmonte\",\"heinz\",\"heinz\",\"stb\",\"stb\",\"stb\",\"hunts\",\"stb\",\"heinz\",\"heinz\",\"heinz\",\"heinz\",\"heinz\",\"hunts\",\"stb\",\"stb\",\"heinz\",\"heinz\",\"hunts\",\"hunts\",\"stb\",\"heinz\",\"heinz\",\"stb\",\"stb\",\"heinz\",\"heinz\",\"heinz\",\"heinz\",\"heinz\",\"heinz\",\"heinz\",\"hunts\",\"heinz\",\"hunts\",\"heinz\",\"heinz\",\"heinz\",\"heinz\",\"heinz\",\"heinz\",\"hunts\",\"hunts\",\"hunts\",\"hunts\",\"heinz\",\"heinz\",\"heinz\",\"heinz\",\"heinz\",\"heinz\",\"heinz\",\"heinz\",\"heinz\",\"heinz\",\"heinz\",\"heinz\",\"heinz\",\"heinz\",\"hunts\",\"hunts\",\"hunts\",\"hunts\",\"stb\",\"stb\",\"hunts\",\"stb\",\"stb\",\"stb\",\"stb\",\"stb\",\"stb\",\"stb\",\"heinz\",\"heinz\",\"heinz\",\"heinz\",\"heinz\",\"heinz\",\"heinz\",\"heinz\",\"heinz\",\"hunts\",\"hunts\",\"hunts\",\"stb\",\"stb\",\"stb\",\"stb\",\"stb\",\"stb\",\"stb\",\"stb\",\"stb\",\"stb\",\"stb\",\"stb\",\"stb\",\"stb\",\"heinz\",\"heinz\",\"heinz\",\"heinz\",\"heinz\",\"heinz\",\"heinz\",\"hunts\",\"stb\",\"hunts\",\"stb\",\"heinz\",\"heinz\",\"stb\",\"delmonte\",\"heinz\",\"heinz\",\"heinz\",\"heinz\",\"stb\",\"stb\",\"hunts\",\"heinz\",\"stb\",\"heinz\",\"heinz\",\"heinz\",\"hunts\",\"delmonte\",\"stb\",\"heinz\",\"hunts\",\"hunts\",\"heinz\",\"heinz\",\"heinz\",\"heinz\",\"heinz\",\"heinz\",\"heinz\",\"hunts\",\"hunts\",\"hunts\",\"delmonte\",\"stb\",\"heinz\",\"hunts\",\"stb\",\"heinz\",\"heinz\",\"heinz\",\"heinz\",\"heinz\",\"heinz\",\"heinz\",\"heinz\",\"heinz\",\"heinz\",\"heinz\",\"heinz\",\"hunts\",\"heinz\",\"heinz\",\"heinz\",\"heinz\",\"hunts\",\"hunts\",\"heinz\",\"heinz\",\"hunts\",\"hunts\",\"stb\",\"heinz\",\"heinz\",\"heinz\",\"stb\",\"stb\",\"stb\",\"stb\",\"hunts\",\"heinz\",\"heinz\",\"heinz\",\"hunts\",\"hunts\",\"stb\",\"stb\",\"stb\",\"heinz\",\"stb\",\"stb\",\"stb\",\"stb\",\"hunts\",\"heinz\",\"heinz\",\"heinz\",\"hunts\",\"hunts\",\"hunts\",\"stb\",\"heinz\",\"hunts\",\"hunts\",\"hunts\",\"stb\",\"hunts\",\"heinz\",\"heinz\",\"heinz\",\"heinz\",\"heinz\",\"heinz\",\"heinz\",\"hunts\",\"stb\",\"stb\",\"stb\",\"stb\",\"stb\",\"stb\",\"stb\",\"stb\",\"stb\",\"heinz\",\"hunts\",\"heinz\",\"stb\",\"stb\",\"hunts\",\"heinz\",\"stb\",\"heinz\",\"heinz\",\"heinz\",\"hunts\",\"heinz\",\"hunts\",\"heinz\",\"heinz\",\"heinz\",\"heinz\",\"stb\",\"stb\",\"stb\",\"hunts\",\"hunts\",\"delmonte\",\"hunts\",\"delmonte\",\"heinz\",\"heinz\",\"heinz\",\"heinz\",\"heinz\",\"delmonte\",\"delmonte\",\"stb\",\"heinz\",\"stb\",\"heinz\",\"stb\",\"heinz\",\"heinz\",\"stb\",\"heinz\",\"stb\",\"stb\",\"stb\",\"stb\",\"stb\",\"stb\",\"delmonte\",\"heinz\",\"heinz\",\"heinz\",\"hunts\",\"hunts\",\"hunts\",\"hunts\",\"heinz\",\"stb\",\"heinz\",\"stb\",\"heinz\",\"hunts\",\"heinz\",\"heinz\",\"heinz\",\"heinz\",\"heinz\",\"heinz\",\"hunts\",\"hunts\",\"hunts\",\"stb\",\"stb\",\"hunts\",\"hunts\",\"hunts\",\"stb\",\"heinz\",\"heinz\",\"heinz\",\"heinz\",\"heinz\",\"hunts\",\"hunts\",\"hunts\",\"heinz\",\"hunts\",\"heinz\",\"heinz\",\"stb\",\"stb\",\"heinz\",\"heinz\",\"stb\",\"stb\",\"stb\",\"heinz\",\"heinz\",\"heinz\",\"heinz\",\"heinz\",\"heinz\",\"stb\",\"stb\",\"heinz\",\"heinz\",\"heinz\",\"heinz\",\"delmonte\",\"hunts\",\"heinz\",\"heinz\",\"heinz\",\"heinz\",\"heinz\",\"heinz\",\"heinz\",\"heinz\",\"heinz\",\"heinz\",\"heinz\",\"heinz\",\"hunts\",\"heinz\",\"hunts\",\"delmonte\",\"heinz\",\"heinz\",\"heinz\",\"hunts\",\"stb\",\"stb\",\"hunts\",\"hunts\",\"heinz\",\"heinz\",\"hunts\",\"heinz\",\"heinz\",\"stb\",\"delmonte\",\"stb\",\"stb\",\"stb\",\"stb\",\"stb\",\"stb\",\"stb\",\"stb\",\"stb\",\"stb\",\"stb\",\"stb\",\"stb\",\"heinz\",\"hunts\",\"hunts\",\"stb\",\"stb\",\"stb\",\"stb\",\"stb\",\"heinz\",\"hunts\",\"stb\",\"hunts\",\"heinz\",\"heinz\",\"hunts\",\"hunts\",\"hunts\",\"stb\",\"heinz\",\"heinz\",\"heinz\",\"heinz\",\"heinz\",\"heinz\",\"heinz\",\"stb\",\"heinz\",\"stb\",\"stb\",\"stb\",\"heinz\",\"stb\",\"stb\",\"heinz\",\"heinz\",\"heinz\",\"heinz\",\"heinz\",\"heinz\",\"heinz\",\"heinz\",\"heinz\",\"heinz\",\"heinz\",\"hunts\",\"hunts\",\"heinz\",\"stb\",\"stb\",\"stb\",\"stb\",\"stb\",\"stb\",\"stb\",\"stb\",\"stb\",\"stb\",\"stb\",\"stb\",\"stb\",\"stb\",\"heinz\",\"heinz\",\"heinz\",\"heinz\",\"heinz\",\"heinz\",\"stb\",\"stb\",\"heinz\",\"heinz\",\"delmonte\",\"delmonte\",\"heinz\",\"heinz\",\"heinz\",\"stb\",\"heinz\",\"heinz\",\"heinz\",\"heinz\",\"stb\",\"stb\",\"heinz\",\"heinz\",\"heinz\",\"heinz\",\"hunts\",\"hunts\",\"delmonte\",\"hunts\",\"hunts\",\"delmonte\",\"heinz\",\"heinz\",\"heinz\",\"hunts\",\"hunts\",\"delmonte\",\"heinz\",\"heinz\",\"heinz\",\"hunts\",\"delmonte\",\"heinz\",\"heinz\",\"stb\",\"heinz\",\"hunts\",\"hunts\",\"delmonte\",\"stb\",\"hunts\",\"stb\",\"heinz\",\"heinz\",\"heinz\",\"heinz\",\"heinz\",\"heinz\",\"heinz\",\"heinz\",\"heinz\",\"heinz\",\"delmonte\",\"heinz\",\"heinz\",\"heinz\",\"heinz\",\"heinz\",\"heinz\",\"delmonte\",\"stb\",\"stb\",\"heinz\",\"heinz\",\"heinz\",\"heinz\",\"heinz\",\"heinz\",\"delmonte\",\"heinz\",\"hunts\",\"hunts\",\"hunts\",\"heinz\",\"hunts\",\"hunts\",\"hunts\",\"heinz\",\"stb\",\"heinz\",\"stb\",\"stb\",\"stb\",\"heinz\",\"stb\",\"heinz\",\"stb\",\"stb\",\"stb\",\"stb\",\"hunts\",\"hunts\",\"hunts\",\"heinz\",\"hunts\",\"heinz\",\"delmonte\",\"stb\",\"heinz\",\"hunts\",\"stb\",\"stb\",\"stb\",\"heinz\",\"heinz\",\"heinz\",\"heinz\",\"heinz\",\"delmonte\",\"delmonte\",\"heinz\",\"heinz\",\"heinz\",\"hunts\",\"heinz\",\"heinz\",\"heinz\",\"heinz\",\"heinz\",\"hunts\",\"hunts\",\"heinz\",\"heinz\",\"heinz\",\"delmonte\",\"heinz\",\"heinz\",\"heinz\",\"heinz\",\"heinz\",\"hunts\",\"heinz\",\"heinz\",\"hunts\",\"stb\",\"heinz\",\"heinz\",\"stb\",\"stb\",\"heinz\",\"heinz\",\"hunts\",\"delmonte\",\"delmonte\",\"heinz\",\"heinz\",\"heinz\",\"heinz\",\"heinz\",\"heinz\",\"heinz\",\"heinz\",\"heinz\",\"hunts\",\"delmonte\",\"delmonte\",\"stb\",\"heinz\",\"heinz\",\"delmonte\",\"delmonte\",\"delmonte\",\"delmonte\",\"stb\",\"heinz\",\"heinz\",\"heinz\",\"heinz\",\"heinz\",\"heinz\",\"heinz\",\"heinz\",\"heinz\",\"hunts\",\"stb\",\"stb\",\"stb\",\"stb\",\"stb\",\"stb\",\"stb\",\"stb\",\"stb\",\"stb\",\"heinz\",\"delmonte\",\"stb\",\"heinz\",\"hunts\",\"stb\",\"heinz\",\"heinz\",\"heinz\",\"heinz\",\"heinz\",\"heinz\",\"heinz\",\"heinz\",\"heinz\",\"heinz\",\"heinz\",\"heinz\",\"heinz\",\"heinz\",\"hunts\",\"hunts\",\"delmonte\",\"heinz\",\"heinz\",\"heinz\",\"heinz\",\"hunts\",\"hunts\",\"hunts\",\"hunts\",\"heinz\",\"hunts\",\"heinz\",\"heinz\",\"delmonte\",\"delmonte\",\"heinz\",\"hunts\",\"stb\",\"stb\",\"stb\",\"stb\",\"stb\",\"stb\",\"heinz\",\"heinz\",\"heinz\",\"hunts\",\"hunts\",\"delmonte\",\"delmonte\",\"stb\",\"stb\",\"stb\",\"stb\",\"heinz\",\"heinz\",\"stb\",\"heinz\",\"hunts\",\"stb\",\"heinz\",\"heinz\",\"stb\",\"heinz\",\"hunts\",\"heinz\",\"heinz\",\"heinz\",\"hunts\",\"stb\",\"stb\",\"stb\",\"stb\",\"heinz\",\"heinz\",\"stb\",\"stb\",\"stb\",\"hunts\",\"hunts\",\"hunts\",\"hunts\",\"hunts\",\"heinz\",\"hunts\",\"heinz\",\"heinz\",\"heinz\",\"heinz\",\"heinz\",\"heinz\",\"heinz\",\"heinz\",\"heinz\",\"heinz\",\"hunts\",\"heinz\",\"hunts\",\"hunts\",\"stb\",\"stb\",\"heinz\",\"heinz\",\"heinz\",\"heinz\",\"heinz\",\"hunts\",\"heinz\",\"hunts\",\"stb\",\"heinz\",\"hunts\",\"hunts\",\"heinz\",\"heinz\",\"hunts\",\"delmonte\",\"hunts\",\"heinz\",\"heinz\",\"heinz\",\"heinz\",\"heinz\",\"heinz\",\"heinz\",\"heinz\",\"heinz\",\"heinz\",\"stb\",\"stb\",\"heinz\",\"heinz\",\"hunts\",\"heinz\",\"heinz\",\"heinz\",\"heinz\",\"heinz\",\"heinz\",\"heinz\",\"heinz\",\"heinz\",\"heinz\",\"heinz\",\"hunts\",\"hunts\",\"hunts\",\"hunts\",\"hunts\",\"delmonte\",\"heinz\",\"hunts\",\"hunts\",\"heinz\",\"heinz\",\"heinz\",\"heinz\",\"heinz\",\"heinz\",\"heinz\",\"hunts\",\"stb\",\"stb\",\"heinz\",\"heinz\",\"hunts\",\"delmonte\",\"heinz\",\"heinz\",\"heinz\",\"heinz\",\"heinz\",\"heinz\",\"heinz\",\"stb\",\"stb\",\"stb\",\"stb\",\"heinz\",\"hunts\",\"delmonte\",\"delmonte\",\"heinz\",\"heinz\",\"heinz\",\"delmonte\",\"hunts\",\"stb\",\"stb\",\"stb\",\"hunts\",\"heinz\",\"heinz\",\"heinz\",\"heinz\",\"heinz\",\"heinz\",\"heinz\",\"heinz\",\"heinz\",\"delmonte\",\"stb\",\"heinz\",\"stb\",\"heinz\",\"heinz\",\"hunts\",\"delmonte\",\"stb\",\"heinz\",\"heinz\",\"heinz\",\"heinz\",\"hunts\",\"hunts\",\"heinz\",\"heinz\",\"heinz\",\"heinz\",\"stb\",\"heinz\",\"heinz\",\"stb\",\"heinz\",\"heinz\",\"heinz\",\"heinz\",\"heinz\",\"heinz\",\"hunts\",\"stb\",\"stb\",\"stb\",\"heinz\",\"hunts\",\"stb\",\"heinz\",\"heinz\",\"heinz\",\"stb\",\"heinz\",\"stb\",\"heinz\",\"hunts\",\"heinz\",\"heinz\",\"heinz\",\"hunts\",\"hunts\",\"hunts\",\"hunts\",\"delmonte\",\"stb\",\"stb\",\"stb\",\"stb\",\"stb\",\"stb\",\"stb\",\"stb\",\"stb\",\"hunts\",\"stb\",\"heinz\",\"heinz\",\"hunts\",\"heinz\",\"stb\",\"hunts\",\"heinz\",\"heinz\",\"heinz\",\"heinz\",\"delmonte\",\"stb\",\"heinz\",\"stb\",\"heinz\",\"hunts\",\"heinz\",\"hunts\",\"hunts\",\"heinz\",\"hunts\",\"stb\",\"stb\",\"stb\",\"stb\",\"stb\",\"heinz\",\"heinz\",\"heinz\",\"heinz\",\"heinz\",\"heinz\",\"heinz\",\"heinz\",\"heinz\",\"heinz\",\"heinz\",\"heinz\",\"heinz\",\"heinz\",\"heinz\",\"hunts\",\"stb\",\"stb\",\"stb\",\"stb\",\"heinz\",\"hunts\",\"delmonte\",\"stb\",\"heinz\",\"heinz\",\"hunts\",\"hunts\",\"heinz\",\"hunts\",\"hunts\",\"hunts\",\"heinz\",\"hunts\",\"delmonte\",\"heinz\",\"hunts\",\"hunts\",\"heinz\",\"heinz\",\"heinz\",\"heinz\",\"heinz\",\"heinz\",\"hunts\",\"heinz\",\"heinz\",\"delmonte\",\"delmonte\",\"stb\",\"stb\",\"stb\",\"stb\",\"heinz\",\"heinz\",\"heinz\",\"heinz\",\"stb\",\"stb\",\"stb\",\"heinz\",\"heinz\",\"heinz\",\"stb\",\"heinz\",\"heinz\",\"heinz\",\"heinz\",\"hunts\",\"heinz\",\"heinz\",\"hunts\",\"stb\",\"stb\",\"heinz\",\"heinz\",\"heinz\",\"heinz\",\"heinz\",\"delmonte\",\"stb\",\"heinz\",\"delmonte\",\"hunts\",\"heinz\",\"heinz\",\"delmonte\",\"delmonte\",\"delmonte\",\"heinz\",\"heinz\",\"heinz\",\"heinz\",\"heinz\",\"heinz\",\"heinz\",\"heinz\",\"heinz\",\"hunts\",\"heinz\",\"heinz\",\"heinz\",\"heinz\",\"heinz\",\"heinz\",\"hunts\",\"heinz\",\"heinz\",\"heinz\",\"heinz\",\"heinz\",\"hunts\",\"heinz\",\"heinz\",\"stb\",\"stb\",\"heinz\",\"heinz\",\"stb\",\"delmonte\",\"hunts\",\"heinz\",\"heinz\",\"heinz\",\"stb\",\"stb\",\"stb\",\"stb\",\"stb\",\"stb\",\"heinz\",\"stb\",\"stb\",\"hunts\",\"hunts\",\"heinz\",\"heinz\",\"heinz\",\"heinz\",\"hunts\",\"delmonte\",\"stb\",\"stb\",\"stb\",\"stb\",\"heinz\",\"hunts\",\"heinz\",\"stb\",\"stb\",\"delmonte\",\"stb\",\"heinz\",\"heinz\",\"delmonte\",\"heinz\",\"stb\",\"heinz\",\"delmonte\",\"stb\",\"stb\",\"hunts\",\"stb\",\"stb\",\"stb\",\"stb\",\"heinz\",\"heinz\",\"hunts\",\"heinz\",\"heinz\",\"hunts\",\"hunts\",\"stb\",\"stb\",\"stb\",\"stb\",\"heinz\",\"heinz\",\"heinz\",\"hunts\",\"hunts\",\"hunts\",\"stb\",\"hunts\",\"heinz\",\"heinz\",\"heinz\",\"heinz\",\"hunts\",\"stb\",\"heinz\",\"delmonte\",\"heinz\",\"heinz\",\"heinz\",\"heinz\",\"heinz\",\"delmonte\",\"heinz\",\"heinz\",\"heinz\",\"hunts\",\"heinz\",\"heinz\",\"heinz\",\"heinz\",\"heinz\",\"heinz\",\"hunts\",\"heinz\",\"hunts\",\"delmonte\",\"delmonte\",\"heinz\",\"hunts\",\"delmonte\",\"heinz\",\"stb\",\"stb\",\"stb\",\"stb\",\"stb\",\"stb\",\"hunts\",\"stb\",\"heinz\",\"hunts\",\"hunts\",\"heinz\",\"hunts\",\"hunts\",\"delmonte\",\"stb\",\"heinz\",\"heinz\",\"heinz\",\"heinz\",\"heinz\",\"heinz\",\"heinz\",\"heinz\",\"heinz\",\"heinz\",\"stb\",\"stb\",\"stb\",\"stb\",\"stb\",\"stb\",\"heinz\",\"heinz\",\"heinz\",\"heinz\",\"hunts\",\"stb\",\"stb\",\"stb\",\"stb\",\"stb\",\"stb\",\"hunts\",\"stb\",\"heinz\",\"heinz\",\"heinz\",\"heinz\",\"heinz\",\"heinz\",\"heinz\",\"heinz\",\"heinz\",\"heinz\",\"heinz\",\"heinz\",\"heinz\",\"heinz\",\"heinz\",\"heinz\",\"heinz\",\"hunts\",\"stb\",\"heinz\",\"stb\",\"heinz\",\"heinz\",\"heinz\",\"heinz\",\"heinz\",\"heinz\",\"heinz\",\"heinz\",\"stb\",\"stb\",\"stb\",\"stb\",\"heinz\",\"heinz\",\"heinz\",\"stb\",\"stb\",\"heinz\",\"heinz\",\"delmonte\",\"heinz\",\"heinz\",\"heinz\",\"heinz\",\"hunts\",\"hunts\",\"hunts\",\"hunts\",\"hunts\",\"heinz\",\"hunts\",\"stb\",\"stb\",\"stb\",\"stb\",\"hunts\",\"hunts\",\"heinz\",\"heinz\",\"heinz\",\"hunts\",\"hunts\",\"heinz\",\"heinz\",\"hunts\",\"heinz\",\"hunts\",\"hunts\",\"heinz\",\"heinz\",\"heinz\",\"heinz\",\"hunts\",\"stb\",\"hunts\",\"heinz\",\"heinz\",\"hunts\",\"hunts\",\"heinz\",\"heinz\",\"hunts\",\"stb\",\"heinz\",\"heinz\",\"delmonte\",\"hunts\",\"heinz\",\"stb\",\"heinz\",\"heinz\",\"heinz\",\"stb\",\"heinz\",\"heinz\",\"heinz\",\"heinz\",\"heinz\",\"hunts\",\"delmonte\",\"heinz\",\"heinz\",\"stb\",\"stb\",\"stb\",\"stb\",\"stb\",\"hunts\",\"stb\",\"heinz\",\"hunts\",\"stb\",\"stb\",\"delmonte\",\"heinz\",\"heinz\",\"heinz\",\"heinz\",\"hunts\",\"hunts\",\"hunts\",\"hunts\",\"hunts\",\"delmonte\",\"stb\",\"stb\",\"stb\",\"heinz\",\"heinz\",\"heinz\",\"hunts\",\"heinz\",\"heinz\",\"hunts\",\"heinz\",\"heinz\",\"heinz\",\"heinz\",\"heinz\",\"heinz\",\"heinz\",\"heinz\",\"heinz\",\"heinz\",\"heinz\",\"heinz\",\"heinz\",\"hunts\",\"hunts\",\"stb\",\"stb\",\"stb\",\"stb\",\"stb\",\"stb\",\"stb\",\"stb\",\"stb\",\"hunts\",\"stb\",\"heinz\",\"stb\",\"hunts\",\"stb\",\"heinz\",\"heinz\",\"hunts\",\"hunts\",\"heinz\",\"stb\",\"stb\",\"stb\",\"stb\",\"stb\",\"stb\",\"heinz\",\"hunts\",\"heinz\",\"stb\",\"heinz\",\"stb\",\"heinz\",\"heinz\",\"hunts\",\"heinz\",\"heinz\",\"hunts\",\"stb\",\"heinz\",\"heinz\",\"delmonte\",\"heinz\",\"heinz\",\"heinz\",\"heinz\",\"heinz\",\"heinz\",\"heinz\",\"heinz\",\"heinz\",\"heinz\",\"heinz\",\"heinz\",\"heinz\",\"heinz\",\"hunts\",\"hunts\",\"hunts\",\"hunts\",\"hunts\",\"heinz\",\"heinz\",\"heinz\",\"stb\",\"heinz\",\"heinz\",\"heinz\",\"hunts\",\"heinz\",\"hunts\",\"stb\",\"stb\",\"stb\",\"stb\",\"heinz\",\"heinz\",\"heinz\",\"heinz\",\"heinz\",\"heinz\",\"stb\",\"stb\",\"stb\",\"delmonte\",\"stb\",\"stb\",\"hunts\",\"stb\",\"heinz\",\"heinz\",\"heinz\",\"stb\",\"stb\",\"heinz\",\"heinz\",\"heinz\",\"heinz\",\"heinz\",\"heinz\",\"heinz\",\"heinz\",\"heinz\",\"heinz\",\"stb\",\"heinz\",\"heinz\",\"heinz\",\"stb\",\"heinz\",\"hunts\",\"stb\",\"heinz\",\"stb\",\"hunts\",\"hunts\",\"heinz\",\"heinz\",\"heinz\",\"heinz\",\"hunts\",\"heinz\",\"heinz\",\"heinz\",\"stb\",\"stb\",\"hunts\",\"heinz\",\"heinz\",\"heinz\",\"stb\",\"heinz\",\"heinz\",\"heinz\",\"heinz\",\"hunts\",\"heinz\",\"heinz\",\"heinz\",\"hunts\",\"hunts\",\"heinz\",\"heinz\",\"heinz\",\"hunts\",\"stb\",\"hunts\",\"stb\",\"heinz\",\"heinz\",\"stb\",\"stb\",\"stb\",\"stb\",\"heinz\",\"hunts\",\"hunts\",\"stb\",\"heinz\",\"heinz\",\"heinz\",\"heinz\",\"heinz\",\"heinz\",\"heinz\",\"heinz\",\"heinz\",\"stb\",\"hunts\",\"heinz\",\"heinz\",\"hunts\",\"hunts\",\"hunts\",\"heinz\",\"heinz\",\"heinz\",\"hunts\",\"hunts\",\"hunts\",\"stb\",\"stb\",\"stb\",\"stb\",\"stb\",\"stb\",\"stb\",\"stb\",\"stb\",\"stb\",\"stb\",\"stb\",\"stb\",\"heinz\",\"hunts\",\"stb\",\"stb\",\"heinz\",\"heinz\",\"heinz\",\"heinz\",\"delmonte\",\"delmonte\",\"stb\",\"heinz\",\"heinz\",\"heinz\",\"hunts\",\"delmonte\",\"heinz\",\"heinz\",\"heinz\",\"heinz\",\"heinz\",\"heinz\",\"heinz\",\"heinz\",\"hunts\",\"heinz\",\"heinz\",\"heinz\",\"heinz\",\"heinz\",\"stb\",\"hunts\",\"heinz\",\"heinz\",\"heinz\",\"hunts\",\"heinz\",\"stb\",\"stb\",\"stb\",\"stb\",\"hunts\",\"hunts\",\"stb\",\"heinz\",\"heinz\",\"heinz\",\"heinz\",\"heinz\",\"hunts\",\"hunts\",\"hunts\",\"hunts\",\"hunts\",\"hunts\",\"delmonte\",\"stb\",\"stb\",\"stb\",\"stb\",\"stb\",\"stb\",\"stb\",\"heinz\",\"heinz\",\"heinz\",\"heinz\",\"delmonte\",\"heinz\",\"heinz\",\"hunts\",\"heinz\",\"heinz\",\"hunts\",\"hunts\",\"hunts\",\"stb\",\"stb\",\"stb\",\"delmonte\",\"hunts\",\"hunts\",\"heinz\",\"heinz\",\"heinz\",\"heinz\",\"stb\",\"stb\",\"heinz\",\"heinz\",\"heinz\",\"stb\",\"heinz\",\"stb\",\"stb\",\"heinz\",\"heinz\",\"delmonte\",\"heinz\",\"hunts\",\"stb\",\"hunts\",\"delmonte\",\"heinz\",\"heinz\",\"heinz\",\"heinz\",\"heinz\",\"heinz\",\"heinz\",\"heinz\",\"heinz\",\"heinz\",\"heinz\",\"hunts\",\"heinz\",\"heinz\",\"hunts\",\"heinz\",\"stb\",\"heinz\",\"heinz\",\"heinz\",\"hunts\",\"heinz\",\"heinz\",\"heinz\",\"hunts\",\"hunts\",\"heinz\",\"heinz\",\"heinz\",\"hunts\",\"hunts\",\"stb\",\"heinz\",\"hunts\",\"hunts\",\"stb\",\"stb\",\"heinz\",\"heinz\",\"heinz\",\"stb\",\"heinz\",\"stb\",\"heinz\",\"heinz\",\"heinz\",\"heinz\",\"heinz\",\"heinz\",\"heinz\",\"hunts\",\"hunts\",\"hunts\",\"delmonte\",\"delmonte\",\"heinz\",\"heinz\",\"hunts\",\"heinz\",\"stb\",\"heinz\",\"heinz\",\"heinz\",\"heinz\",\"heinz\",\"heinz\",\"heinz\",\"heinz\",\"heinz\",\"heinz\",\"heinz\",\"heinz\",\"heinz\",\"hunts\",\"stb\",\"heinz\",\"heinz\",\"heinz\",\"delmonte\",\"heinz\",\"hunts\",\"hunts\",\"hunts\",\"hunts\",\"hunts\",\"heinz\",\"hunts\",\"hunts\",\"hunts\",\"hunts\",\"heinz\",\"heinz\",\"heinz\",\"heinz\",\"stb\",\"hunts\",\"hunts\",\"heinz\",\"hunts\",\"hunts\",\"heinz\",\"heinz\",\"heinz\",\"heinz\",\"hunts\",\"stb\",\"heinz\",\"heinz\",\"heinz\",\"heinz\",\"delmonte\",\"delmonte\",\"delmonte\",\"delmonte\",\"heinz\",\"stb\",\"heinz\",\"heinz\",\"heinz\",\"heinz\",\"heinz\",\"hunts\",\"heinz\",\"hunts\",\"stb\",\"stb\",\"stb\",\"stb\",\"stb\",\"stb\",\"heinz\",\"delmonte\",\"stb\",\"heinz\",\"heinz\",\"heinz\",\"hunts\",\"stb\",\"heinz\",\"heinz\",\"hunts\",\"hunts\",\"heinz\",\"heinz\",\"heinz\",\"heinz\",\"heinz\",\"heinz\",\"heinz\",\"heinz\",\"heinz\",\"heinz\",\"hunts\",\"delmonte\",\"delmonte\",\"stb\",\"stb\",\"heinz\",\"heinz\",\"heinz\",\"heinz\",\"heinz\",\"heinz\",\"heinz\",\"heinz\",\"heinz\",\"heinz\",\"heinz\",\"heinz\",\"heinz\",\"heinz\",\"heinz\",\"heinz\",\"heinz\",\"heinz\",\"hunts\",\"stb\",\"heinz\",\"heinz\",\"heinz\",\"heinz\",\"hunts\",\"stb\",\"delmonte\",\"stb\",\"heinz\",\"heinz\",\"heinz\",\"heinz\",\"stb\",\"heinz\",\"heinz\",\"stb\",\"hunts\",\"hunts\",\"heinz\",\"stb\",\"heinz\",\"heinz\",\"hunts\",\"heinz\",\"hunts\",\"stb\",\"stb\",\"heinz\",\"heinz\",\"heinz\",\"heinz\",\"hunts\",\"hunts\",\"stb\",\"stb\",\"heinz\",\"heinz\",\"hunts\",\"hunts\",\"stb\",\"stb\",\"stb\",\"stb\",\"stb\",\"stb\",\"stb\",\"stb\",\"heinz\",\"heinz\",\"delmonte\",\"heinz\",\"heinz\",\"hunts\",\"heinz\",\"hunts\",\"heinz\",\"heinz\",\"heinz\",\"heinz\",\"stb\",\"stb\",\"stb\",\"hunts\",\"stb\",\"heinz\",\"heinz\",\"hunts\",\"stb\",\"stb\",\"hunts\",\"stb\",\"heinz\",\"heinz\",\"heinz\",\"heinz\",\"heinz\",\"heinz\",\"heinz\",\"heinz\",\"heinz\",\"heinz\",\"heinz\",\"heinz\",\"hunts\",\"hunts\",\"stb\",\"heinz\",\"heinz\",\"heinz\",\"heinz\",\"heinz\",\"heinz\",\"heinz\",\"heinz\",\"heinz\",\"heinz\",\"heinz\",\"heinz\",\"stb\",\"stb\",\"heinz\",\"stb\",\"hunts\",\"hunts\",\"hunts\",\"hunts\",\"heinz\",\"hunts\",\"hunts\",\"delmonte\",\"stb\",\"stb\",\"stb\",\"stb\",\"stb\",\"heinz\",\"stb\",\"heinz\",\"heinz\",\"heinz\",\"heinz\",\"heinz\",\"hunts\",\"delmonte\",\"heinz\",\"hunts\",\"heinz\",\"heinz\",\"hunts\",\"hunts\",\"hunts\",\"stb\",\"heinz\",\"heinz\",\"heinz\",\"delmonte\",\"heinz\",\"heinz\",\"hunts\",\"hunts\",\"hunts\",\"hunts\",\"hunts\",\"hunts\",\"hunts\",\"hunts\",\"hunts\",\"hunts\",\"hunts\",\"delmonte\",\"stb\",\"heinz\",\"hunts\",\"stb\",\"heinz\",\"heinz\",\"heinz\",\"hunts\",\"hunts\",\"stb\",\"heinz\",\"heinz\",\"heinz\",\"stb\",\"heinz\",\"heinz\",\"heinz\",\"heinz\",\"hunts\",\"hunts\",\"stb\",\"stb\",\"stb\",\"stb\",\"hunts\",\"heinz\",\"heinz\",\"hunts\",\"hunts\",\"stb\",\"stb\",\"heinz\",\"hunts\",\"heinz\",\"heinz\",\"heinz\",\"heinz\",\"heinz\",\"hunts\",\"stb\",\"heinz\",\"heinz\",\"heinz\",\"heinz\",\"stb\",\"heinz\",\"delmonte\",\"hunts\",\"heinz\",\"delmonte\",\"stb\",\"stb\",\"stb\",\"stb\",\"stb\",\"stb\",\"stb\",\"stb\",\"hunts\",\"stb\",\"heinz\",\"hunts\",\"stb\",\"heinz\",\"stb\",\"stb\",\"stb\",\"heinz\",\"heinz\",\"heinz\",\"heinz\",\"stb\",\"heinz\",\"heinz\",\"heinz\",\"hunts\",\"heinz\",\"heinz\",\"heinz\",\"heinz\",\"heinz\",\"heinz\",\"heinz\",\"heinz\",\"heinz\",\"hunts\",\"hunts\",\"hunts\",\"hunts\",\"hunts\",\"hunts\",\"heinz\",\"heinz\",\"stb\",\"stb\",\"stb\",\"stb\",\"heinz\",\"heinz\",\"heinz\",\"heinz\",\"heinz\",\"heinz\",\"hunts\",\"hunts\",\"hunts\",\"hunts\",\"heinz\",\"stb\",\"stb\",\"heinz\",\"stb\",\"hunts\",\"hunts\",\"stb\",\"hunts\",\"heinz\",\"stb\",\"heinz\",\"heinz\",\"stb\",\"hunts\",\"stb\",\"heinz\",\"heinz\",\"stb\",\"delmonte\",\"delmonte\",\"delmonte\",\"delmonte\",\"heinz\",\"heinz\",\"heinz\",\"heinz\",\"heinz\",\"heinz\",\"hunts\",\"stb\",\"heinz\",\"heinz\",\"hunts\",\"hunts\",\"heinz\",\"heinz\",\"heinz\",\"hunts\",\"hunts\",\"hunts\",\"hunts\",\"hunts\",\"hunts\",\"heinz\",\"heinz\",\"heinz\",\"heinz\",\"stb\",\"stb\",\"heinz\",\"hunts\",\"hunts\",\"hunts\",\"heinz\",\"hunts\",\"stb\",\"heinz\",\"heinz\",\"heinz\",\"hunts\",\"heinz\",\"hunts\",\"hunts\",\"stb\",\"stb\",\"hunts\",\"heinz\",\"hunts\",\"heinz\",\"hunts\",\"hunts\",\"stb\",\"heinz\",\"hunts\",\"stb\",\"stb\",\"heinz\",\"hunts\",\"hunts\",\"stb\",\"hunts\",\"stb\",\"stb\",\"hunts\",\"hunts\",\"stb\",\"heinz\",\"heinz\",\"delmonte\",\"heinz\",\"hunts\",\"heinz\",\"heinz\",\"heinz\",\"heinz\",\"stb\",\"stb\",\"heinz\",\"heinz\",\"heinz\",\"heinz\",\"heinz\",\"heinz\",\"heinz\",\"heinz\",\"heinz\",\"heinz\",\"hunts\",\"heinz\",\"heinz\",\"heinz\",\"hunts\",\"hunts\",\"heinz\",\"heinz\",\"heinz\",\"stb\",\"heinz\",\"heinz\",\"heinz\",\"hunts\",\"heinz\",\"heinz\",\"hunts\",\"hunts\",\"heinz\",\"heinz\",\"heinz\",\"heinz\",\"heinz\",\"heinz\",\"heinz\",\"heinz\",\"heinz\",\"heinz\",\"heinz\",\"heinz\",\"heinz\",\"heinz\",\"heinz\",\"heinz\",\"heinz\",\"heinz\",\"heinz\",\"heinz\",\"heinz\",\"heinz\",\"heinz\",\"hunts\",\"hunts\",\"stb\",\"stb\",\"stb\",\"stb\",\"stb\",\"stb\",\"stb\",\"stb\",\"stb\",\"stb\",\"stb\",\"stb\",\"stb\",\"stb\",\"stb\",\"heinz\",\"heinz\",\"hunts\",\"heinz\",\"delmonte\",\"delmonte\",\"hunts\",\"heinz\",\"heinz\",\"hunts\",\"delmonte\",\"stb\",\"stb\",\"stb\",\"heinz\",\"heinz\",\"heinz\",\"heinz\",\"heinz\",\"heinz\",\"heinz\",\"stb\",\"heinz\",\"heinz\",\"heinz\",\"heinz\",\"heinz\",\"hunts\",\"stb\",\"stb\",\"stb\",\"stb\",\"heinz\",\"stb\",\"stb\",\"stb\",\"stb\",\"heinz\",\"heinz\",\"heinz\",\"hunts\",\"stb\",\"stb\",\"stb\",\"stb\",\"heinz\",\"heinz\",\"heinz\",\"heinz\",\"heinz\",\"heinz\",\"hunts\",\"hunts\",\"heinz\",\"heinz\",\"heinz\",\"hunts\",\"stb\",\"heinz\",\"heinz\",\"hunts\",\"stb\",\"heinz\",\"heinz\",\"heinz\",\"heinz\",\"hunts\",\"heinz\",\"heinz\",\"heinz\",\"stb\",\"heinz\",\"heinz\",\"heinz\",\"heinz\",\"heinz\",\"stb\",\"heinz\",\"heinz\",\"heinz\",\"stb\",\"heinz\",\"heinz\",\"heinz\",\"heinz\",\"heinz\",\"heinz\",\"heinz\",\"heinz\",\"hunts\",\"hunts\",\"hunts\",\"hunts\",\"stb\",\"stb\",\"stb\",\"stb\",\"heinz\",\"heinz\",\"heinz\",\"heinz\",\"hunts\",\"heinz\",\"stb\",\"heinz\",\"heinz\",\"heinz\",\"heinz\",\"heinz\",\"hunts\",\"delmonte\",\"stb\",\"stb\",\"stb\",\"stb\",\"stb\",\"stb\",\"stb\",\"stb\",\"stb\",\"stb\",\"heinz\",\"hunts\",\"heinz\",\"hunts\",\"stb\",\"heinz\",\"heinz\",\"heinz\",\"heinz\",\"heinz\",\"heinz\",\"heinz\",\"heinz\",\"hunts\",\"stb\",\"stb\",\"stb\",\"heinz\",\"heinz\",\"stb\",\"stb\",\"stb\",\"heinz\",\"heinz\",\"heinz\",\"heinz\",\"heinz\",\"heinz\",\"heinz\",\"hunts\",\"heinz\",\"delmonte\",\"heinz\",\"heinz\",\"heinz\",\"hunts\",\"hunts\",\"hunts\",\"hunts\",\"hunts\",\"hunts\",\"hunts\",\"hunts\",\"hunts\",\"delmonte\",\"delmonte\",\"delmonte\",\"delmonte\",\"stb\",\"stb\",\"stb\",\"stb\",\"stb\",\"heinz\",\"hunts\",\"stb\",\"heinz\",\"heinz\",\"heinz\",\"heinz\",\"heinz\",\"heinz\",\"heinz\",\"stb\",\"stb\",\"heinz\",\"stb\",\"hunts\",\"heinz\",\"stb\",\"heinz\",\"heinz\",\"heinz\",\"heinz\",\"heinz\",\"hunts\",\"heinz\",\"heinz\",\"heinz\",\"heinz\",\"heinz\",\"heinz\",\"hunts\",\"stb\",\"stb\",\"heinz\",\"heinz\",\"heinz\",\"heinz\",\"heinz\",\"heinz\",\"heinz\",\"heinz\",\"heinz\",\"heinz\",\"heinz\",\"heinz\",\"hunts\",\"delmonte\",\"stb\",\"heinz\",\"hunts\",\"hunts\",\"hunts\",\"stb\",\"heinz\",\"heinz\",\"heinz\",\"stb\",\"stb\",\"heinz\",\"hunts\",\"heinz\",\"heinz\",\"delmonte\",\"stb\",\"stb\",\"stb\",\"heinz\",\"heinz\",\"heinz\",\"heinz\",\"heinz\",\"heinz\",\"heinz\",\"stb\",\"heinz\",\"heinz\",\"heinz\",\"heinz\",\"hunts\",\"stb\",\"heinz\",\"stb\",\"heinz\",\"hunts\",\"hunts\",\"stb\",\"heinz\",\"heinz\",\"stb\",\"hunts\",\"heinz\",\"heinz\",\"heinz\",\"heinz\",\"heinz\",\"heinz\",\"stb\",\"heinz\",\"stb\",\"heinz\",\"hunts\",\"hunts\",\"heinz\",\"hunts\",\"heinz\",\"hunts\",\"heinz\",\"hunts\",\"heinz\",\"heinz\",\"delmonte\",\"heinz\",\"heinz\",\"heinz\",\"heinz\",\"heinz\",\"heinz\",\"hunts\",\"heinz\",\"heinz\",\"heinz\",\"hunts\",\"stb\",\"stb\",\"heinz\",\"heinz\",\"heinz\",\"heinz\",\"delmonte\",\"delmonte\",\"heinz\",\"heinz\",\"heinz\",\"heinz\",\"stb\",\"stb\",\"heinz\",\"heinz\",\"heinz\",\"heinz\",\"heinz\",\"hunts\",\"heinz\",\"heinz\",\"heinz\",\"hunts\",\"heinz\",\"heinz\",\"heinz\",\"hunts\",\"hunts\",\"stb\",\"heinz\",\"heinz\",\"heinz\",\"hunts\",\"hunts\",\"hunts\",\"hunts\",\"hunts\",\"hunts\",\"hunts\",\"hunts\",\"stb\",\"stb\",\"hunts\",\"hunts\",\"hunts\",\"hunts\",\"hunts\",\"heinz\",\"heinz\",\"heinz\",\"stb\",\"delmonte\",\"heinz\",\"heinz\",\"stb\",\"heinz\",\"stb\",\"heinz\",\"heinz\",\"heinz\",\"heinz\",\"heinz\",\"heinz\",\"stb\",\"stb\",\"heinz\",\"heinz\",\"stb\",\"stb\",\"stb\",\"hunts\",\"hunts\",\"heinz\",\"heinz\",\"stb\",\"stb\",\"stb\",\"stb\",\"heinz\",\"heinz\",\"heinz\",\"heinz\",\"heinz\",\"heinz\",\"hunts\",\"delmonte\",\"stb\",\"stb\",\"hunts\",\"heinz\",\"stb\",\"heinz\",\"heinz\",\"stb\",\"hunts\",\"stb\",\"stb\",\"heinz\",\"heinz\",\"heinz\",\"heinz\",\"hunts\",\"hunts\",\"heinz\",\"heinz\",\"heinz\",\"heinz\",\"stb\",\"stb\",\"delmonte\",\"delmonte\",\"hunts\",\"stb\",\"heinz\",\"heinz\",\"hunts\",\"hunts\",\"hunts\",\"heinz\",\"stb\",\"stb\",\"heinz\",\"heinz\",\"heinz\",\"stb\",\"heinz\",\"delmonte\",\"stb\",\"heinz\",\"heinz\",\"stb\",\"stb\",\"stb\",\"hunts\",\"delmonte\",\"heinz\",\"stb\",\"heinz\",\"heinz\",\"stb\",\"heinz\",\"heinz\",\"heinz\",\"heinz\",\"hunts\",\"hunts\",\"hunts\",\"heinz\",\"heinz\",\"hunts\",\"stb\",\"stb\",\"stb\",\"heinz\",\"hunts\",\"delmonte\",\"stb\",\"heinz\",\"heinz\",\"heinz\",\"heinz\",\"heinz\",\"heinz\",\"heinz\",\"heinz\",\"heinz\",\"heinz\",\"stb\",\"stb\",\"heinz\",\"delmonte\",\"heinz\",\"stb\",\"hunts\",\"heinz\",\"heinz\",\"stb\",\"delmonte\",\"heinz\",\"heinz\",\"heinz\",\"heinz\",\"heinz\",\"heinz\",\"hunts\",\"hunts\",\"hunts\",\"hunts\",\"hunts\",\"heinz\",\"stb\",\"stb\",\"heinz\",\"hunts\",\"stb\",\"heinz\",\"heinz\",\"heinz\",\"heinz\",\"heinz\",\"heinz\",\"heinz\",\"heinz\",\"heinz\",\"heinz\",\"heinz\",\"heinz\",\"heinz\",\"heinz\",\"heinz\",\"heinz\",\"heinz\",\"heinz\",\"heinz\",\"heinz\",\"heinz\",\"heinz\",\"heinz\",\"heinz\",\"heinz\",\"heinz\",\"heinz\",\"heinz\",\"heinz\",\"hunts\",\"hunts\",\"stb\",\"heinz\",\"heinz\",\"heinz\",\"hunts\",\"delmonte\",\"stb\",\"heinz\",\"heinz\",\"heinz\",\"stb\",\"stb\",\"heinz\",\"heinz\",\"hunts\",\"heinz\",\"stb\",\"hunts\",\"delmonte\",\"heinz\",\"stb\",\"stb\",\"heinz\",\"heinz\",\"heinz\",\"stb\",\"stb\",\"stb\",\"stb\",\"stb\",\"heinz\",\"heinz\",\"stb\",\"heinz\",\"heinz\",\"stb\",\"heinz\",\"hunts\",\"heinz\",\"heinz\",\"delmonte\",\"stb\",\"heinz\",\"hunts\",\"stb\",\"heinz\",\"heinz\",\"heinz\",\"hunts\",\"heinz\",\"delmonte\",\"heinz\",\"hunts\",\"delmonte\",\"heinz\",\"heinz\",\"delmonte\",\"stb\",\"stb\",\"stb\",\"hunts\",\"hunts\",\"hunts\",\"hunts\",\"heinz\",\"stb\",\"stb\",\"heinz\",\"heinz\",\"heinz\",\"heinz\",\"heinz\",\"stb\",\"stb\",\"stb\",\"heinz\",\"stb\",\"stb\",\"heinz\",\"hunts\",\"stb\",\"hunts\",\"hunts\",\"heinz\",\"heinz\",\"heinz\",\"stb\",\"stb\",\"stb\",\"stb\",\"heinz\",\"heinz\",\"stb\",\"heinz\",\"delmonte\",\"heinz\",\"heinz\",\"stb\",\"hunts\",\"heinz\",\"heinz\",\"hunts\",\"hunts\",\"heinz\",\"heinz\",\"heinz\",\"delmonte\",\"stb\",\"stb\",\"stb\",\"heinz\",\"heinz\",\"heinz\",\"hunts\",\"hunts\",\"hunts\",\"hunts\",\"hunts\",\"hunts\",\"stb\",\"stb\",\"stb\",\"heinz\",\"stb\",\"heinz\",\"heinz\",\"heinz\",\"hunts\",\"heinz\",\"hunts\",\"stb\",\"stb\",\"heinz\",\"heinz\",\"stb\",\"stb\",\"heinz\",\"heinz\",\"hunts\",\"delmonte\",\"heinz\",\"heinz\",\"heinz\",\"heinz\",\"hunts\",\"stb\",\"heinz\",\"heinz\",\"hunts\",\"heinz\",\"heinz\",\"heinz\",\"heinz\",\"heinz\",\"heinz\",\"heinz\",\"heinz\",\"heinz\",\"heinz\",\"heinz\",\"heinz\",\"heinz\",\"heinz\",\"heinz\",\"heinz\",\"hunts\",\"stb\",\"stb\",\"stb\",\"heinz\",\"hunts\",\"heinz\",\"heinz\",\"hunts\",\"stb\",\"stb\",\"heinz\",\"heinz\",\"heinz\",\"heinz\",\"heinz\",\"heinz\",\"heinz\",\"heinz\",\"heinz\",\"delmonte\",\"hunts\",\"hunts\",\"hunts\",\"hunts\",\"heinz\",\"heinz\",\"stb\",\"heinz\",\"heinz\",\"heinz\",\"heinz\",\"heinz\",\"hunts\",\"delmonte\",\"stb\",\"stb\",\"stb\",\"heinz\",\"stb\",\"heinz\",\"heinz\",\"hunts\",\"delmonte\",\"stb\",\"heinz\",\"heinz\",\"stb\",\"hunts\",\"heinz\",\"heinz\",\"heinz\",\"hunts\",\"delmonte\",\"heinz\",\"hunts\",\"heinz\",\"heinz\",\"stb\",\"stb\",\"heinz\",\"heinz\",\"heinz\",\"heinz\",\"heinz\",\"hunts\",\"heinz\",\"heinz\",\"heinz\",\"stb\",\"stb\",\"heinz\",\"heinz\",\"heinz\",\"heinz\",\"heinz\",\"hunts\",\"hunts\",\"hunts\",\"stb\",\"hunts\",\"hunts\",\"hunts\",\"delmonte\",\"stb\",\"heinz\",\"stb\",\"heinz\",\"heinz\",\"hunts\",\"hunts\",\"hunts\",\"heinz\",\"heinz\",\"heinz\",\"stb\",\"stb\",\"heinz\",\"heinz\",\"heinz\",\"heinz\",\"heinz\",\"heinz\",\"heinz\",\"heinz\",\"heinz\",\"heinz\",\"hunts\",\"hunts\",\"hunts\",\"hunts\",\"hunts\",\"delmonte\",\"delmonte\",\"delmonte\",\"delmonte\",\"stb\",\"stb\",\"heinz\",\"heinz\",\"heinz\",\"stb\",\"heinz\",\"heinz\",\"heinz\",\"hunts\",\"delmonte\",\"stb\",\"heinz\",\"heinz\",\"heinz\",\"hunts\",\"stb\",\"hunts\",\"hunts\",\"hunts\",\"delmonte\",\"heinz\",\"heinz\",\"heinz\",\"stb\",\"stb\",\"stb\",\"hunts\",\"hunts\",\"hunts\",\"hunts\",\"delmonte\",\"heinz\",\"delmonte\",\"stb\",\"heinz\",\"heinz\",\"hunts\",\"delmonte\",\"stb\",\"delmonte\",\"hunts\",\"hunts\",\"stb\",\"stb\",\"stb\",\"stb\",\"heinz\",\"heinz\",\"heinz\",\"hunts\",\"heinz\",\"hunts\",\"stb\",\"heinz\",\"heinz\",\"heinz\",\"hunts\",\"stb\",\"stb\",\"heinz\",\"heinz\",\"hunts\",\"delmonte\",\"stb\",\"hunts\",\"hunts\",\"hunts\",\"heinz\",\"heinz\",\"heinz\",\"stb\",\"stb\",\"stb\",\"stb\",\"stb\",\"heinz\",\"heinz\",\"heinz\",\"heinz\",\"heinz\",\"heinz\",\"heinz\",\"hunts\",\"hunts\",\"hunts\",\"stb\",\"stb\",\"stb\",\"hunts\",\"stb\",\"heinz\",\"stb\",\"heinz\",\"heinz\",\"heinz\",\"heinz\",\"hunts\",\"heinz\",\"heinz\",\"heinz\",\"heinz\",\"stb\",\"heinz\",\"heinz\",\"hunts\",\"hunts\",\"heinz\",\"heinz\",\"heinz\",\"heinz\",\"heinz\",\"heinz\",\"heinz\",\"heinz\",\"heinz\",\"heinz\",\"heinz\",\"heinz\",\"delmonte\",\"delmonte\",\"stb\",\"heinz\",\"heinz\",\"heinz\",\"heinz\",\"heinz\",\"hunts\",\"heinz\",\"heinz\",\"heinz\",\"hunts\",\"stb\",\"stb\",\"stb\",\"stb\",\"stb\",\"heinz\",\"heinz\",\"hunts\",\"heinz\",\"heinz\",\"hunts\",\"hunts\",\"heinz\",\"hunts\",\"hunts\",\"stb\",\"stb\",\"stb\",\"stb\",\"stb\",\"heinz\",\"heinz\",\"heinz\",\"heinz\",\"hunts\",\"hunts\",\"hunts\",\"heinz\",\"heinz\",\"heinz\",\"hunts\",\"hunts\",\"hunts\",\"delmonte\",\"stb\",\"stb\",\"stb\",\"stb\",\"heinz\",\"heinz\",\"heinz\",\"hunts\",\"delmonte\",\"stb\",\"heinz\",\"hunts\",\"stb\",\"stb\",\"stb\",\"heinz\",\"delmonte\",\"hunts\",\"delmonte\",\"delmonte\",\"hunts\",\"hunts\",\"hunts\",\"hunts\",\"hunts\",\"hunts\",\"hunts\",\"heinz\",\"stb\",\"stb\",\"stb\",\"heinz\",\"heinz\",\"heinz\",\"heinz\",\"hunts\",\"heinz\",\"heinz\",\"heinz\",\"heinz\",\"heinz\",\"hunts\",\"stb\",\"hunts\",\"heinz\",\"hunts\",\"hunts\",\"heinz\",\"heinz\",\"heinz\",\"heinz\",\"heinz\",\"stb\",\"hunts\",\"stb\",\"stb\",\"heinz\",\"heinz\",\"stb\",\"heinz\",\"heinz\",\"heinz\",\"heinz\",\"stb\",\"heinz\",\"heinz\",\"heinz\",\"delmonte\",\"stb\",\"stb\",\"stb\",\"stb\",\"stb\",\"heinz\",\"hunts\",\"heinz\",\"heinz\",\"heinz\",\"heinz\",\"heinz\",\"heinz\",\"stb\",\"heinz\",\"heinz\",\"hunts\",\"stb\",\"stb\",\"heinz\",\"hunts\",\"hunts\",\"delmonte\",\"heinz\",\"heinz\",\"heinz\",\"heinz\",\"heinz\",\"heinz\",\"heinz\",\"heinz\",\"heinz\",\"heinz\",\"heinz\",\"heinz\",\"heinz\",\"hunts\",\"hunts\",\"hunts\",\"delmonte\",\"delmonte\",\"delmonte\",\"stb\",\"heinz\",\"heinz\",\"delmonte\",\"heinz\",\"hunts\",\"heinz\",\"heinz\",\"heinz\",\"heinz\",\"heinz\",\"heinz\",\"delmonte\",\"hunts\",\"delmonte\",\"heinz\",\"hunts\",\"hunts\",\"hunts\",\"heinz\",\"stb\",\"hunts\",\"heinz\",\"hunts\",\"stb\",\"stb\",\"heinz\",\"hunts\",\"hunts\",\"hunts\",\"heinz\",\"heinz\",\"heinz\",\"heinz\",\"heinz\",\"heinz\",\"hunts\",\"hunts\",\"hunts\",\"hunts\",\"hunts\",\"hunts\",\"stb\",\"stb\",\"stb\",\"stb\",\"stb\",\"stb\",\"delmonte\",\"heinz\",\"heinz\",\"heinz\",\"heinz\",\"heinz\",\"heinz\",\"heinz\",\"heinz\",\"heinz\",\"hunts\",\"hunts\",\"heinz\",\"hunts\",\"stb\",\"heinz\",\"hunts\",\"stb\",\"hunts\",\"hunts\",\"heinz\",\"heinz\",\"heinz\",\"heinz\",\"heinz\",\"heinz\",\"stb\",\"hunts\",\"heinz\",\"heinz\",\"stb\",\"heinz\",\"stb\",\"stb\",\"stb\",\"stb\",\"stb\",\"delmonte\",\"heinz\",\"stb\",\"heinz\",\"heinz\",\"heinz\",\"heinz\",\"heinz\",\"hunts\",\"stb\",\"heinz\",\"hunts\",\"heinz\",\"hunts\",\"hunts\",\"stb\",\"stb\",\"stb\",\"stb\",\"hunts\",\"hunts\",\"stb\",\"heinz\",\"heinz\",\"stb\",\"heinz\",\"hunts\",\"delmonte\",\"heinz\",\"hunts\",\"heinz\",\"heinz\",\"delmonte\",\"stb\",\"delmonte\",\"heinz\",\"heinz\",\"stb\",\"stb\",\"delmonte\",\"heinz\",\"heinz\",\"heinz\",\"heinz\",\"heinz\",\"heinz\",\"delmonte\",\"stb\",\"heinz\",\"heinz\",\"heinz\",\"stb\",\"heinz\",\"heinz\",\"heinz\",\"heinz\",\"heinz\",\"heinz\",\"heinz\",\"heinz\",\"hunts\",\"hunts\",\"delmonte\",\"delmonte\",\"heinz\",\"heinz\",\"heinz\",\"heinz\",\"hunts\",\"stb\",\"stb\",\"delmonte\",\"heinz\",\"heinz\",\"heinz\",\"hunts\",\"stb\",\"hunts\",\"hunts\",\"heinz\",\"stb\",\"heinz\",\"heinz\",\"heinz\",\"heinz\",\"delmonte\",\"stb\",\"heinz\",\"heinz\",\"heinz\",\"heinz\",\"heinz\",\"delmonte\",\"stb\",\"heinz\",\"heinz\",\"heinz\",\"stb\",\"delmonte\",\"heinz\",\"heinz\",\"heinz\",\"heinz\",\"heinz\",\"heinz\",\"hunts\",\"stb\",\"heinz\",\"heinz\",\"heinz\",\"stb\",\"stb\",\"heinz\",\"heinz\",\"heinz\",\"heinz\",\"heinz\",\"heinz\",\"heinz\",\"heinz\",\"hunts\",\"hunts\",\"hunts\",\"stb\",\"stb\",\"heinz\",\"heinz\",\"heinz\",\"hunts\",\"hunts\",\"hunts\",\"hunts\",\"stb\",\"heinz\",\"heinz\",\"heinz\",\"heinz\",\"stb\",\"stb\",\"heinz\",\"heinz\",\"hunts\",\"delmonte\",\"heinz\",\"heinz\",\"hunts\",\"hunts\",\"hunts\",\"delmonte\",\"heinz\",\"heinz\",\"heinz\",\"heinz\",\"heinz\",\"heinz\",\"heinz\",\"heinz\",\"heinz\",\"heinz\",\"heinz\",\"heinz\",\"heinz\",\"heinz\",\"heinz\",\"heinz\",\"heinz\",\"heinz\",\"hunts\",\"heinz\",\"heinz\",\"stb\",\"heinz\",\"heinz\",\"hunts\",\"hunts\",\"hunts\",\"heinz\",\"heinz\",\"hunts\",\"hunts\",\"hunts\",\"hunts\",\"delmonte\",\"stb\",\"stb\",\"heinz\",\"delmonte\",\"hunts\",\"hunts\",\"hunts\",\"stb\",\"stb\",\"stb\",\"heinz\",\"heinz\",\"heinz\",\"delmonte\",\"stb\",\"stb\",\"stb\",\"heinz\",\"hunts\",\"stb\",\"stb\",\"heinz\",\"heinz\",\"stb\",\"stb\",\"stb\",\"heinz\",\"heinz\",\"heinz\",\"heinz\",\"heinz\",\"heinz\",\"stb\",\"heinz\",\"heinz\",\"hunts\",\"hunts\",\"stb\",\"stb\",\"heinz\",\"hunts\",\"heinz\",\"heinz\",\"delmonte\",\"stb\",\"stb\",\"stb\",\"stb\",\"hunts\",\"hunts\",\"stb\",\"stb\",\"stb\",\"stb\",\"heinz\",\"heinz\",\"stb\",\"heinz\",\"delmonte\",\"stb\",\"heinz\",\"heinz\",\"hunts\",\"heinz\",\"heinz\",\"heinz\",\"hunts\",\"hunts\",\"delmonte\",\"stb\",\"stb\",\"stb\",\"stb\",\"stb\",\"stb\",\"stb\",\"stb\",\"stb\",\"heinz\",\"heinz\",\"hunts\",\"heinz\",\"heinz\",\"heinz\",\"heinz\",\"stb\",\"hunts\",\"heinz\",\"stb\",\"heinz\",\"heinz\",\"heinz\",\"heinz\",\"heinz\",\"heinz\",\"heinz\",\"delmonte\",\"delmonte\",\"heinz\",\"heinz\",\"heinz\",\"heinz\",\"hunts\",\"hunts\",\"stb\",\"stb\",\"heinz\",\"heinz\",\"heinz\",\"hunts\",\"hunts\",\"hunts\",\"hunts\",\"heinz\",\"hunts\",\"heinz\",\"hunts\",\"hunts\",\"hunts\",\"hunts\",\"delmonte\",\"heinz\",\"stb\",\"delmonte\",\"delmonte\",\"heinz\",\"heinz\",\"heinz\",\"hunts\",\"stb\",\"stb\",\"heinz\",\"heinz\",\"heinz\",\"heinz\",\"heinz\",\"heinz\",\"stb\",\"heinz\",\"heinz\",\"heinz\",\"heinz\",\"delmonte\",\"delmonte\",\"heinz\",\"heinz\",\"heinz\",\"heinz\",\"heinz\",\"heinz\",\"hunts\",\"stb\",\"hunts\",\"hunts\",\"hunts\",\"hunts\",\"hunts\",\"hunts\",\"hunts\",\"heinz\",\"stb\",\"hunts\",\"stb\",\"stb\",\"heinz\",\"heinz\",\"heinz\",\"heinz\",\"heinz\",\"heinz\",\"stb\",\"heinz\",\"delmonte\",\"stb\",\"heinz\",\"heinz\",\"hunts\",\"hunts\",\"hunts\",\"hunts\",\"heinz\",\"stb\",\"stb\",\"stb\",\"delmonte\",\"heinz\",\"heinz\",\"heinz\",\"heinz\",\"heinz\",\"heinz\",\"hunts\",\"hunts\",\"hunts\",\"heinz\",\"heinz\",\"heinz\",\"heinz\",\"heinz\",\"hunts\",\"heinz\",\"heinz\",\"heinz\",\"heinz\",\"heinz\",\"heinz\",\"hunts\",\"hunts\",\"delmonte\",\"stb\",\"heinz\",\"delmonte\",\"heinz\",\"stb\",\"heinz\",\"heinz\",\"heinz\",\"hunts\",\"delmonte\",\"stb\",\"hunts\",\"hunts\",\"heinz\",\"hunts\",\"heinz\",\"heinz\",\"heinz\",\"hunts\",\"hunts\",\"hunts\",\"delmonte\",\"heinz\",\"hunts\",\"heinz\",\"heinz\",\"heinz\",\"hunts\",\"hunts\",\"delmonte\",\"stb\",\"stb\",\"hunts\",\"stb\",\"hunts\",\"heinz\",\"hunts\",\"delmonte\",\"stb\",\"heinz\",\"heinz\",\"hunts\",\"hunts\",\"stb\",\"stb\",\"heinz\",\"delmonte\",\"heinz\",\"hunts\",\"hunts\",\"delmonte\",\"heinz\",\"heinz\",\"heinz\",\"heinz\",\"heinz\",\"heinz\",\"heinz\",\"hunts\",\"heinz\",\"heinz\",\"heinz\",\"heinz\",\"heinz\",\"delmonte\",\"heinz\",\"heinz\",\"hunts\",\"heinz\",\"heinz\",\"heinz\",\"heinz\",\"heinz\",\"heinz\",\"stb\",\"heinz\",\"heinz\",\"hunts\",\"heinz\",\"heinz\",\"heinz\",\"heinz\",\"heinz\",\"hunts\",\"stb\",\"heinz\",\"heinz\",\"heinz\",\"heinz\",\"hunts\",\"stb\",\"stb\",\"stb\",\"stb\",\"stb\",\"stb\",\"stb\",\"stb\",\"stb\",\"heinz\",\"hunts\",\"heinz\",\"heinz\",\"heinz\",\"heinz\",\"heinz\",\"hunts\",\"hunts\",\"hunts\",\"heinz\",\"hunts\",\"hunts\",\"stb\",\"heinz\",\"heinz\",\"heinz\",\"heinz\",\"heinz\",\"stb\",\"heinz\",\"heinz\",\"heinz\",\"stb\",\"stb\",\"stb\",\"stb\",\"hunts\",\"heinz\",\"delmonte\",\"stb\",\"stb\",\"stb\",\"stb\",\"heinz\",\"heinz\",\"hunts\",\"heinz\",\"hunts\",\"hunts\",\"stb\",\"hunts\",\"hunts\",\"hunts\",\"hunts\",\"hunts\",\"stb\",\"stb\",\"heinz\",\"heinz\",\"heinz\",\"heinz\",\"heinz\",\"heinz\",\"hunts\",\"stb\",\"hunts\",\"hunts\",\"heinz\",\"hunts\",\"stb\",\"heinz\",\"heinz\",\"heinz\",\"heinz\",\"heinz\",\"hunts\",\"hunts\",\"heinz\",\"heinz\",\"heinz\",\"heinz\",\"heinz\",\"heinz\",\"heinz\",\"hunts\",\"delmonte\",\"delmonte\",\"heinz\",\"delmonte\",\"heinz\",\"heinz\",\"heinz\",\"heinz\",\"heinz\",\"heinz\",\"heinz\",\"heinz\",\"hunts\",\"hunts\",\"stb\",\"stb\",\"stb\",\"stb\",\"heinz\",\"heinz\",\"stb\",\"stb\",\"heinz\",\"delmonte\",\"heinz\",\"heinz\",\"heinz\",\"heinz\",\"stb\",\"hunts\",\"hunts\",\"heinz\",\"heinz\",\"heinz\",\"heinz\",\"hunts\",\"hunts\",\"stb\",\"stb\",\"heinz\",\"delmonte\",\"heinz\",\"heinz\",\"heinz\",\"heinz\",\"heinz\",\"hunts\",\"stb\",\"stb\",\"stb\",\"stb\",\"stb\",\"stb\",\"stb\",\"stb\",\"stb\",\"heinz\",\"hunts\",\"hunts\",\"hunts\",\"heinz\",\"heinz\",\"heinz\",\"heinz\",\"heinz\",\"delmonte\",\"stb\",\"heinz\",\"heinz\",\"heinz\",\"hunts\",\"heinz\",\"heinz\",\"heinz\",\"stb\",\"heinz\",\"heinz\",\"heinz\",\"hunts\",\"hunts\",\"heinz\",\"heinz\",\"hunts\",\"hunts\",\"heinz\",\"heinz\",\"heinz\",\"hunts\",\"hunts\",\"heinz\",\"heinz\",\"stb\",\"stb\",\"stb\",\"heinz\",\"heinz\",\"heinz\",\"hunts\",\"stb\",\"stb\",\"stb\",\"stb\",\"stb\",\"heinz\",\"heinz\",\"hunts\",\"hunts\",\"stb\",\"stb\",\"stb\",\"heinz\",\"hunts\",\"delmonte\",\"heinz\",\"hunts\",\"heinz\",\"heinz\",\"heinz\",\"hunts\",\"delmonte\",\"heinz\",\"heinz\",\"heinz\",\"heinz\",\"heinz\",\"heinz\",\"heinz\",\"heinz\",\"stb\",\"heinz\",\"heinz\",\"stb\",\"stb\",\"stb\",\"stb\",\"hunts\",\"heinz\",\"heinz\",\"hunts\",\"hunts\",\"hunts\",\"stb\",\"heinz\",\"heinz\",\"heinz\",\"heinz\",\"heinz\",\"heinz\",\"heinz\",\"heinz\",\"heinz\",\"heinz\",\"hunts\",\"hunts\",\"stb\",\"stb\",\"stb\",\"hunts\",\"heinz\",\"heinz\",\"heinz\",\"hunts\",\"hunts\",\"hunts\",\"hunts\",\"stb\",\"heinz\",\"hunts\",\"heinz\",\"stb\",\"stb\",\"heinz\",\"hunts\",\"hunts\",\"hunts\",\"heinz\",\"stb\",\"heinz\",\"hunts\",\"stb\",\"heinz\",\"heinz\",\"hunts\",\"delmonte\",\"heinz\",\"hunts\",\"heinz\",\"hunts\",\"hunts\",\"stb\",\"stb\",\"heinz\",\"heinz\",\"heinz\",\"heinz\",\"heinz\",\"hunts\",\"hunts\",\"hunts\",\"heinz\",\"hunts\",\"heinz\",\"heinz\",\"stb\",\"stb\",\"stb\",\"stb\",\"heinz\",\"hunts\",\"hunts\",\"heinz\",\"heinz\",\"stb\",\"heinz\",\"heinz\",\"heinz\",\"hunts\",\"hunts\",\"hunts\",\"stb\",\"stb\",\"stb\",\"heinz\",\"stb\",\"hunts\",\"heinz\",\"heinz\",\"heinz\",\"heinz\",\"heinz\",\"heinz\",\"heinz\",\"stb\",\"heinz\",\"stb\",\"heinz\",\"heinz\",\"stb\",\"heinz\",\"heinz\",\"heinz\",\"heinz\",\"heinz\",\"heinz\",\"heinz\",\"stb\",\"hunts\",\"heinz\",\"heinz\",\"heinz\",\"heinz\",\"heinz\",\"heinz\",\"heinz\",\"heinz\",\"heinz\",\"heinz\",\"stb\",\"heinz\",\"hunts\",\"hunts\",\"heinz\",\"hunts\",\"heinz\",\"heinz\",\"heinz\",\"heinz\",\"stb\",\"heinz\",\"heinz\",\"heinz\",\"heinz\",\"stb\",\"heinz\",\"heinz\",\"stb\",\"hunts\",\"hunts\",\"heinz\",\"hunts\",\"stb\",\"heinz\",\"heinz\",\"heinz\",\"hunts\",\"heinz\",\"hunts\",\"heinz\",\"heinz\",\"hunts\",\"delmonte\",\"stb\",\"stb\",\"heinz\",\"stb\",\"heinz\",\"heinz\",\"heinz\",\"stb\",\"stb\",\"hunts\",\"stb\",\"stb\",\"stb\",\"stb\",\"heinz\",\"stb\",\"heinz\",\"hunts\",\"heinz\",\"heinz\",\"stb\",\"stb\",\"stb\",\"stb\",\"heinz\",\"heinz\",\"heinz\",\"heinz\",\"hunts\",\"delmonte\",\"stb\",\"stb\",\"heinz\",\"stb\",\"delmonte\",\"stb\",\"heinz\",\"heinz\",\"hunts\",\"heinz\",\"heinz\",\"heinz\",\"delmonte\",\"hunts\",\"hunts\",\"hunts\",\"stb\",\"heinz\",\"heinz\",\"heinz\",\"heinz\",\"hunts\",\"hunts\",\"stb\",\"stb\",\"stb\",\"heinz\",\"hunts\",\"hunts\",\"hunts\",\"hunts\",\"delmonte\",\"hunts\",\"heinz\",\"heinz\",\"hunts\",\"stb\",\"stb\",\"stb\",\"heinz\",\"heinz\",\"delmonte\",\"delmonte\",\"delmonte\",\"heinz\",\"hunts\",\"stb\",\"heinz\",\"heinz\",\"stb\",\"stb\",\"stb\",\"stb\",\"heinz\",\"heinz\",\"hunts\",\"stb\",\"heinz\",\"heinz\",\"heinz\",\"heinz\",\"stb\",\"stb\",\"stb\",\"stb\",\"heinz\",\"heinz\",\"heinz\",\"heinz\",\"hunts\",\"hunts\",\"stb\",\"heinz\",\"stb\",\"heinz\",\"stb\",\"heinz\",\"heinz\",\"hunts\",\"stb\",\"heinz\",\"stb\",\"stb\",\"hunts\",\"stb\",\"stb\",\"stb\",\"stb\",\"heinz\",\"stb\",\"delmonte\",\"heinz\",\"heinz\",\"heinz\",\"stb\",\"hunts\",\"stb\",\"hunts\",\"delmonte\",\"stb\",\"stb\",\"stb\",\"stb\",\"stb\",\"heinz\",\"hunts\",\"heinz\",\"heinz\",\"heinz\",\"hunts\",\"stb\",\"delmonte\",\"heinz\",\"hunts\",\"hunts\",\"hunts\",\"delmonte\",\"heinz\",\"hunts\",\"hunts\",\"stb\",\"hunts\",\"stb\",\"stb\",\"stb\",\"hunts\",\"stb\",\"stb\",\"heinz\",\"heinz\",\"hunts\",\"hunts\",\"heinz\",\"hunts\",\"hunts\",\"hunts\",\"hunts\",\"stb\",\"hunts\",\"heinz\",\"heinz\",\"hunts\",\"hunts\",\"heinz\",\"heinz\",\"heinz\",\"heinz\",\"heinz\",\"heinz\",\"heinz\",\"heinz\",\"hunts\",\"stb\",\"heinz\",\"stb\",\"heinz\",\"heinz\",\"hunts\",\"hunts\",\"stb\",\"heinz\",\"heinz\",\"stb\",\"heinz\",\"heinz\",\"heinz\",\"hunts\",\"stb\",\"heinz\",\"hunts\",\"heinz\",\"heinz\",\"hunts\",\"hunts\",\"stb\",\"stb\",\"stb\",\"heinz\",\"heinz\",\"heinz\",\"heinz\",\"heinz\",\"heinz\",\"heinz\",\"heinz\",\"hunts\",\"heinz\",\"heinz\",\"hunts\",\"hunts\",\"hunts\",\"hunts\",\"stb\",\"hunts\",\"hunts\",\"hunts\",\"hunts\",\"hunts\",\"heinz\",\"heinz\",\"stb\",\"stb\",\"hunts\",\"heinz\",\"heinz\",\"heinz\",\"heinz\",\"heinz\",\"heinz\",\"heinz\",\"hunts\",\"heinz\",\"heinz\",\"heinz\",\"heinz\",\"delmonte\",\"delmonte\",\"heinz\",\"heinz\",\"heinz\",\"heinz\",\"heinz\",\"heinz\",\"heinz\",\"heinz\",\"heinz\",\"heinz\",\"hunts\",\"hunts\",\"heinz\",\"heinz\",\"hunts\",\"delmonte\",\"heinz\",\"stb\",\"stb\",\"heinz\",\"stb\",\"heinz\",\"hunts\",\"hunts\",\"stb\",\"stb\",\"hunts\",\"heinz\",\"hunts\",\"hunts\",\"delmonte\",\"stb\",\"stb\",\"stb\",\"hunts\",\"hunts\",\"heinz\",\"heinz\",\"stb\",\"stb\",\"stb\",\"stb\",\"stb\",\"stb\",\"heinz\",\"hunts\",\"heinz\",\"hunts\",\"heinz\",\"heinz\",\"heinz\",\"stb\",\"heinz\",\"heinz\",\"heinz\",\"heinz\",\"heinz\",\"heinz\",\"heinz\",\"heinz\",\"heinz\",\"hunts\",\"heinz\",\"heinz\",\"heinz\",\"heinz\",\"heinz\",\"heinz\",\"heinz\",\"heinz\",\"heinz\",\"heinz\",\"heinz\",\"heinz\",\"heinz\",\"heinz\",\"hunts\",\"hunts\",\"delmonte\",\"stb\",\"stb\",\"stb\",\"hunts\",\"hunts\",\"heinz\",\"hunts\",\"heinz\",\"stb\",\"stb\",\"stb\",\"hunts\",\"hunts\",\"heinz\",\"hunts\",\"hunts\",\"hunts\",\"hunts\",\"stb\",\"stb\",\"heinz\",\"hunts\",\"hunts\",\"hunts\",\"hunts\",\"hunts\",\"hunts\",\"hunts\",\"hunts\",\"hunts\",\"hunts\",\"hunts\",\"hunts\",\"heinz\",\"hunts\",\"hunts\",\"hunts\",\"hunts\",\"hunts\",\"hunts\",\"hunts\",\"hunts\",\"hunts\",\"heinz\",\"heinz\",\"heinz\",\"heinz\",\"heinz\",\"stb\",\"stb\",\"stb\",\"stb\",\"stb\",\"stb\",\"stb\",\"stb\",\"stb\",\"stb\",\"stb\",\"stb\",\"stb\",\"heinz\",\"hunts\",\"stb\",\"heinz\",\"hunts\",\"heinz\",\"heinz\",\"delmonte\",\"heinz\",\"heinz\",\"heinz\",\"heinz\",\"hunts\",\"heinz\",\"heinz\",\"heinz\",\"heinz\",\"heinz\",\"hunts\",\"hunts\",\"heinz\",\"stb\",\"heinz\",\"hunts\",\"stb\",\"stb\",\"heinz\",\"heinz\",\"heinz\",\"stb\",\"heinz\",\"heinz\",\"heinz\",\"hunts\",\"heinz\",\"heinz\",\"heinz\",\"heinz\",\"heinz\",\"heinz\",\"heinz\",\"heinz\",\"heinz\",\"heinz\",\"heinz\",\"hunts\",\"stb\",\"stb\",\"stb\",\"stb\",\"stb\",\"stb\",\"stb\",\"stb\",\"stb\",\"stb\",\"stb\",\"heinz\",\"heinz\",\"heinz\",\"hunts\",\"stb\",\"hunts\",\"heinz\",\"heinz\",\"heinz\",\"heinz\",\"stb\",\"heinz\",\"heinz\",\"hunts\",\"heinz\",\"heinz\",\"hunts\",\"stb\",\"stb\",\"stb\",\"stb\",\"stb\",\"stb\",\"stb\",\"heinz\",\"heinz\",\"heinz\",\"heinz\",\"stb\",\"hunts\",\"hunts\",\"heinz\",\"heinz\",\"delmonte\",\"heinz\",\"heinz\",\"hunts\",\"heinz\",\"heinz\",\"heinz\",\"heinz\",\"heinz\",\"delmonte\",\"heinz\",\"heinz\",\"stb\",\"heinz\",\"heinz\",\"heinz\",\"heinz\",\"heinz\",\"hunts\",\"heinz\",\"delmonte\",\"heinz\",\"heinz\",\"heinz\",\"heinz\",\"hunts\",\"stb\",\"heinz\",\"hunts\",\"heinz\",\"hunts\",\"heinz\",\"hunts\",\"heinz\",\"heinz\",\"heinz\",\"delmonte\",\"heinz\",\"heinz\",\"heinz\",\"heinz\",\"heinz\",\"delmonte\",\"delmonte\",\"heinz\",\"heinz\",\"stb\",\"hunts\",\"heinz\",\"heinz\",\"heinz\",\"heinz\",\"heinz\",\"heinz\",\"heinz\",\"heinz\",\"heinz\",\"delmonte\",\"hunts\",\"stb\",\"hunts\",\"hunts\",\"heinz\",\"heinz\",\"heinz\",\"heinz\",\"heinz\",\"heinz\",\"heinz\",\"delmonte\",\"heinz\",\"heinz\",\"stb\",\"delmonte\",\"heinz\",\"heinz\",\"hunts\",\"heinz\",\"delmonte\",\"heinz\",\"heinz\",\"heinz\",\"heinz\",\"heinz\",\"delmonte\",\"heinz\",\"hunts\",\"heinz\",\"stb\",\"heinz\",\"stb\",\"stb\",\"stb\"],\"legendgroup\":\"\",\"name\":\"\",\"showlegend\":true,\"values\":[0.028644008945639662,0.028644008945639662,0.011555124748854636,0.011555124748854636,0.013097320004835235,0.028644008945639662,0.028644008945639662,0.028644008945639662,0.013097320004835235,0.028644008945639662,0.028644008945639662,0.013097320004835235,0.028644008945639662,0.0029029557759634806,0.028644008945639662,0.028644008945639662,0.028644008945639662,0.013097320004835235,0.013097320004835235,0.013097320004835235,0.011555124748854636,0.011555124748854636,0.011555124748854636,0.011555124748854636,0.028644008945639662,0.028644008945639662,0.028644008945639662,0.0029029557759634806,0.013097320004835235,0.028644008945639662,0.011555124748854636,0.011555124748854636,0.028644008945639662,0.028644008945639662,0.011555124748854636,0.011555124748854636,0.0029029557759634806,0.028644008945639662,0.028644008945639662,0.028644008945639662,0.011555124748854636,0.028644008945639662,0.028644008945639662,0.013097320004835235,0.028644008945639662,0.028644008945639662,0.028644008945639662,0.028644008945639662,0.028644008945639662,0.011555124748854636,0.011555124748854636,0.028644008945639662,0.011555124748854636,0.011555124748854636,0.011555124748854636,0.013097320004835235,0.013097320004835235,0.028644008945639662,0.011555124748854636,0.013097320004835235,0.028644008945639662,0.028644008945639662,0.028644008945639662,0.028644008945639662,0.028644008945639662,0.011555124748854636,0.013097320004835235,0.028644008945639662,0.013097320004835235,0.013097320004835235,0.028644008945639662,0.011555124748854636,0.028644008945639662,0.028644008945639662,0.028644008945639662,0.028644008945639662,0.028644008945639662,0.028644008945639662,0.028644008945639662,0.011555124748854636,0.011555124748854636,0.028644008945639662,0.028644008945639662,0.013097320004835235,0.013097320004835235,0.013097320004835235,0.028644008945639662,0.0029029557759634806,0.028644008945639662,0.028644008945639662,0.028644008945639662,0.028644008945639662,0.011555124748854636,0.028644008945639662,0.028644008945639662,0.028644008945639662,0.0029029557759634806,0.028644008945639662,0.028644008945639662,0.028644008945639662,0.028644008945639662,0.028644008945639662,0.028644008945639662,0.011555124748854636,0.028644008945639662,0.011555124748854636,0.013097320004835235,0.028644008945639662,0.028644008945639662,0.011555124748854636,0.011555124748854636,0.0029029557759634806,0.028644008945639662,0.028644008945639662,0.028644008945639662,0.028644008945639662,0.011555124748854636,0.028644008945639662,0.028644008945639662,0.011555124748854636,0.011555124748854636,0.011555124748854636,0.011555124748854636,0.011555124748854636,0.011555124748854636,0.0029029557759634806,0.028644008945639662,0.028644008945639662,0.028644008945639662,0.028644008945639662,0.011555124748854636,0.0029029557759634806,0.028644008945639662,0.028644008945639662,0.013097320004835235,0.013097320004835235,0.013097320004835235,0.011555124748854636,0.013097320004835235,0.028644008945639662,0.028644008945639662,0.028644008945639662,0.028644008945639662,0.028644008945639662,0.011555124748854636,0.013097320004835235,0.013097320004835235,0.028644008945639662,0.028644008945639662,0.011555124748854636,0.011555124748854636,0.013097320004835235,0.028644008945639662,0.028644008945639662,0.013097320004835235,0.013097320004835235,0.028644008945639662,0.028644008945639662,0.028644008945639662,0.028644008945639662,0.028644008945639662,0.028644008945639662,0.028644008945639662,0.011555124748854636,0.028644008945639662,0.011555124748854636,0.028644008945639662,0.028644008945639662,0.028644008945639662,0.028644008945639662,0.028644008945639662,0.028644008945639662,0.011555124748854636,0.011555124748854636,0.011555124748854636,0.011555124748854636,0.028644008945639662,0.028644008945639662,0.028644008945639662,0.028644008945639662,0.028644008945639662,0.028644008945639662,0.028644008945639662,0.028644008945639662,0.028644008945639662,0.028644008945639662,0.028644008945639662,0.028644008945639662,0.028644008945639662,0.028644008945639662,0.011555124748854636,0.011555124748854636,0.011555124748854636,0.011555124748854636,0.013097320004835235,0.013097320004835235,0.011555124748854636,0.013097320004835235,0.013097320004835235,0.013097320004835235,0.013097320004835235,0.013097320004835235,0.013097320004835235,0.013097320004835235,0.028644008945639662,0.028644008945639662,0.028644008945639662,0.028644008945639662,0.028644008945639662,0.028644008945639662,0.028644008945639662,0.028644008945639662,0.028644008945639662,0.011555124748854636,0.011555124748854636,0.011555124748854636,0.013097320004835235,0.013097320004835235,0.013097320004835235,0.013097320004835235,0.013097320004835235,0.013097320004835235,0.013097320004835235,0.013097320004835235,0.013097320004835235,0.013097320004835235,0.013097320004835235,0.013097320004835235,0.013097320004835235,0.013097320004835235,0.028644008945639662,0.028644008945639662,0.028644008945639662,0.028644008945639662,0.028644008945639662,0.028644008945639662,0.028644008945639662,0.011555124748854636,0.013097320004835235,0.011555124748854636,0.013097320004835235,0.028644008945639662,0.028644008945639662,0.013097320004835235,0.0029029557759634806,0.028644008945639662,0.028644008945639662,0.028644008945639662,0.028644008945639662,0.013097320004835235,0.013097320004835235,0.011555124748854636,0.028644008945639662,0.013097320004835235,0.028644008945639662,0.028644008945639662,0.028644008945639662,0.011555124748854636,0.0029029557759634806,0.013097320004835235,0.028644008945639662,0.011555124748854636,0.011555124748854636,0.028644008945639662,0.028644008945639662,0.028644008945639662,0.028644008945639662,0.028644008945639662,0.028644008945639662,0.028644008945639662,0.011555124748854636,0.011555124748854636,0.011555124748854636,0.0029029557759634806,0.013097320004835235,0.028644008945639662,0.011555124748854636,0.013097320004835235,0.028644008945639662,0.028644008945639662,0.028644008945639662,0.028644008945639662,0.028644008945639662,0.028644008945639662,0.028644008945639662,0.028644008945639662,0.028644008945639662,0.028644008945639662,0.028644008945639662,0.028644008945639662,0.011555124748854636,0.028644008945639662,0.028644008945639662,0.028644008945639662,0.028644008945639662,0.011555124748854636,0.011555124748854636,0.028644008945639662,0.028644008945639662,0.011555124748854636,0.011555124748854636,0.013097320004835235,0.028644008945639662,0.028644008945639662,0.028644008945639662,0.013097320004835235,0.013097320004835235,0.013097320004835235,0.013097320004835235,0.011555124748854636,0.028644008945639662,0.028644008945639662,0.028644008945639662,0.011555124748854636,0.011555124748854636,0.013097320004835235,0.013097320004835235,0.013097320004835235,0.028644008945639662,0.013097320004835235,0.013097320004835235,0.013097320004835235,0.013097320004835235,0.011555124748854636,0.028644008945639662,0.028644008945639662,0.028644008945639662,0.011555124748854636,0.011555124748854636,0.011555124748854636,0.013097320004835235,0.028644008945639662,0.011555124748854636,0.011555124748854636,0.011555124748854636,0.013097320004835235,0.011555124748854636,0.028644008945639662,0.028644008945639662,0.028644008945639662,0.028644008945639662,0.028644008945639662,0.028644008945639662,0.028644008945639662,0.011555124748854636,0.013097320004835235,0.013097320004835235,0.013097320004835235,0.013097320004835235,0.013097320004835235,0.013097320004835235,0.013097320004835235,0.013097320004835235,0.013097320004835235,0.028644008945639662,0.011555124748854636,0.028644008945639662,0.013097320004835235,0.013097320004835235,0.011555124748854636,0.028644008945639662,0.013097320004835235,0.028644008945639662,0.028644008945639662,0.028644008945639662,0.011555124748854636,0.028644008945639662,0.011555124748854636,0.028644008945639662,0.028644008945639662,0.028644008945639662,0.028644008945639662,0.013097320004835235,0.013097320004835235,0.013097320004835235,0.011555124748854636,0.011555124748854636,0.0029029557759634806,0.011555124748854636,0.0029029557759634806,0.028644008945639662,0.028644008945639662,0.028644008945639662,0.028644008945639662,0.028644008945639662,0.0029029557759634806,0.0029029557759634806,0.013097320004835235,0.028644008945639662,0.013097320004835235,0.028644008945639662,0.013097320004835235,0.028644008945639662,0.028644008945639662,0.013097320004835235,0.028644008945639662,0.013097320004835235,0.013097320004835235,0.013097320004835235,0.013097320004835235,0.013097320004835235,0.013097320004835235,0.0029029557759634806,0.028644008945639662,0.028644008945639662,0.028644008945639662,0.011555124748854636,0.011555124748854636,0.011555124748854636,0.011555124748854636,0.028644008945639662,0.013097320004835235,0.028644008945639662,0.013097320004835235,0.028644008945639662,0.011555124748854636,0.028644008945639662,0.028644008945639662,0.028644008945639662,0.028644008945639662,0.028644008945639662,0.028644008945639662,0.011555124748854636,0.011555124748854636,0.011555124748854636,0.013097320004835235,0.013097320004835235,0.011555124748854636,0.011555124748854636,0.011555124748854636,0.013097320004835235,0.028644008945639662,0.028644008945639662,0.028644008945639662,0.028644008945639662,0.028644008945639662,0.011555124748854636,0.011555124748854636,0.011555124748854636,0.028644008945639662,0.011555124748854636,0.028644008945639662,0.028644008945639662,0.013097320004835235,0.013097320004835235,0.028644008945639662,0.028644008945639662,0.013097320004835235,0.013097320004835235,0.013097320004835235,0.028644008945639662,0.028644008945639662,0.028644008945639662,0.028644008945639662,0.028644008945639662,0.028644008945639662,0.013097320004835235,0.013097320004835235,0.028644008945639662,0.028644008945639662,0.028644008945639662,0.028644008945639662,0.0029029557759634806,0.011555124748854636,0.028644008945639662,0.028644008945639662,0.028644008945639662,0.028644008945639662,0.028644008945639662,0.028644008945639662,0.028644008945639662,0.028644008945639662,0.028644008945639662,0.028644008945639662,0.028644008945639662,0.028644008945639662,0.011555124748854636,0.028644008945639662,0.011555124748854636,0.0029029557759634806,0.028644008945639662,0.028644008945639662,0.028644008945639662,0.011555124748854636,0.013097320004835235,0.013097320004835235,0.011555124748854636,0.011555124748854636,0.028644008945639662,0.028644008945639662,0.011555124748854636,0.028644008945639662,0.028644008945639662,0.013097320004835235,0.0029029557759634806,0.013097320004835235,0.013097320004835235,0.013097320004835235,0.013097320004835235,0.013097320004835235,0.013097320004835235,0.013097320004835235,0.013097320004835235,0.013097320004835235,0.013097320004835235,0.013097320004835235,0.013097320004835235,0.013097320004835235,0.028644008945639662,0.011555124748854636,0.011555124748854636,0.013097320004835235,0.013097320004835235,0.013097320004835235,0.013097320004835235,0.013097320004835235,0.028644008945639662,0.011555124748854636,0.013097320004835235,0.011555124748854636,0.028644008945639662,0.028644008945639662,0.011555124748854636,0.011555124748854636,0.011555124748854636,0.013097320004835235,0.028644008945639662,0.028644008945639662,0.028644008945639662,0.028644008945639662,0.028644008945639662,0.028644008945639662,0.028644008945639662,0.013097320004835235,0.028644008945639662,0.013097320004835235,0.013097320004835235,0.013097320004835235,0.028644008945639662,0.013097320004835235,0.013097320004835235,0.028644008945639662,0.028644008945639662,0.028644008945639662,0.028644008945639662,0.028644008945639662,0.028644008945639662,0.028644008945639662,0.028644008945639662,0.028644008945639662,0.028644008945639662,0.028644008945639662,0.011555124748854636,0.011555124748854636,0.028644008945639662,0.013097320004835235,0.013097320004835235,0.013097320004835235,0.013097320004835235,0.013097320004835235,0.013097320004835235,0.013097320004835235,0.013097320004835235,0.013097320004835235,0.013097320004835235,0.013097320004835235,0.013097320004835235,0.013097320004835235,0.013097320004835235,0.028644008945639662,0.028644008945639662,0.028644008945639662,0.028644008945639662,0.028644008945639662,0.028644008945639662,0.013097320004835235,0.013097320004835235,0.028644008945639662,0.028644008945639662,0.0029029557759634806,0.0029029557759634806,0.028644008945639662,0.028644008945639662,0.028644008945639662,0.013097320004835235,0.028644008945639662,0.028644008945639662,0.028644008945639662,0.028644008945639662,0.013097320004835235,0.013097320004835235,0.028644008945639662,0.028644008945639662,0.028644008945639662,0.028644008945639662,0.011555124748854636,0.011555124748854636,0.0029029557759634806,0.011555124748854636,0.011555124748854636,0.0029029557759634806,0.028644008945639662,0.028644008945639662,0.028644008945639662,0.011555124748854636,0.011555124748854636,0.0029029557759634806,0.028644008945639662,0.028644008945639662,0.028644008945639662,0.011555124748854636,0.0029029557759634806,0.028644008945639662,0.028644008945639662,0.013097320004835235,0.028644008945639662,0.011555124748854636,0.011555124748854636,0.0029029557759634806,0.013097320004835235,0.011555124748854636,0.013097320004835235,0.028644008945639662,0.028644008945639662,0.028644008945639662,0.028644008945639662,0.028644008945639662,0.028644008945639662,0.028644008945639662,0.028644008945639662,0.028644008945639662,0.028644008945639662,0.0029029557759634806,0.028644008945639662,0.028644008945639662,0.028644008945639662,0.028644008945639662,0.028644008945639662,0.028644008945639662,0.0029029557759634806,0.013097320004835235,0.013097320004835235,0.028644008945639662,0.028644008945639662,0.028644008945639662,0.028644008945639662,0.028644008945639662,0.028644008945639662,0.0029029557759634806,0.028644008945639662,0.011555124748854636,0.011555124748854636,0.011555124748854636,0.028644008945639662,0.011555124748854636,0.011555124748854636,0.011555124748854636,0.028644008945639662,0.013097320004835235,0.028644008945639662,0.013097320004835235,0.013097320004835235,0.013097320004835235,0.028644008945639662,0.013097320004835235,0.028644008945639662,0.013097320004835235,0.013097320004835235,0.013097320004835235,0.013097320004835235,0.011555124748854636,0.011555124748854636,0.011555124748854636,0.028644008945639662,0.011555124748854636,0.028644008945639662,0.0029029557759634806,0.013097320004835235,0.028644008945639662,0.011555124748854636,0.013097320004835235,0.013097320004835235,0.013097320004835235,0.028644008945639662,0.028644008945639662,0.028644008945639662,0.028644008945639662,0.028644008945639662,0.0029029557759634806,0.0029029557759634806,0.028644008945639662,0.028644008945639662,0.028644008945639662,0.011555124748854636,0.028644008945639662,0.028644008945639662,0.028644008945639662,0.028644008945639662,0.028644008945639662,0.011555124748854636,0.011555124748854636,0.028644008945639662,0.028644008945639662,0.028644008945639662,0.0029029557759634806,0.028644008945639662,0.028644008945639662,0.028644008945639662,0.028644008945639662,0.028644008945639662,0.011555124748854636,0.028644008945639662,0.028644008945639662,0.011555124748854636,0.013097320004835235,0.028644008945639662,0.028644008945639662,0.013097320004835235,0.013097320004835235,0.028644008945639662,0.028644008945639662,0.011555124748854636,0.0029029557759634806,0.0029029557759634806,0.028644008945639662,0.028644008945639662,0.028644008945639662,0.028644008945639662,0.028644008945639662,0.028644008945639662,0.028644008945639662,0.028644008945639662,0.028644008945639662,0.011555124748854636,0.0029029557759634806,0.0029029557759634806,0.013097320004835235,0.028644008945639662,0.028644008945639662,0.0029029557759634806,0.0029029557759634806,0.0029029557759634806,0.0029029557759634806,0.013097320004835235,0.028644008945639662,0.028644008945639662,0.028644008945639662,0.028644008945639662,0.028644008945639662,0.028644008945639662,0.028644008945639662,0.028644008945639662,0.028644008945639662,0.011555124748854636,0.013097320004835235,0.013097320004835235,0.013097320004835235,0.013097320004835235,0.013097320004835235,0.013097320004835235,0.013097320004835235,0.013097320004835235,0.013097320004835235,0.013097320004835235,0.028644008945639662,0.0029029557759634806,0.013097320004835235,0.028644008945639662,0.011555124748854636,0.013097320004835235,0.028644008945639662,0.028644008945639662,0.028644008945639662,0.028644008945639662,0.028644008945639662,0.028644008945639662,0.028644008945639662,0.028644008945639662,0.028644008945639662,0.028644008945639662,0.028644008945639662,0.028644008945639662,0.028644008945639662,0.028644008945639662,0.011555124748854636,0.011555124748854636,0.0029029557759634806,0.028644008945639662,0.028644008945639662,0.028644008945639662,0.028644008945639662,0.011555124748854636,0.011555124748854636,0.011555124748854636,0.011555124748854636,0.028644008945639662,0.011555124748854636,0.028644008945639662,0.028644008945639662,0.0029029557759634806,0.0029029557759634806,0.028644008945639662,0.011555124748854636,0.013097320004835235,0.013097320004835235,0.013097320004835235,0.013097320004835235,0.013097320004835235,0.013097320004835235,0.028644008945639662,0.028644008945639662,0.028644008945639662,0.011555124748854636,0.011555124748854636,0.0029029557759634806,0.0029029557759634806,0.013097320004835235,0.013097320004835235,0.013097320004835235,0.013097320004835235,0.028644008945639662,0.028644008945639662,0.013097320004835235,0.028644008945639662,0.011555124748854636,0.013097320004835235,0.028644008945639662,0.028644008945639662,0.013097320004835235,0.028644008945639662,0.011555124748854636,0.028644008945639662,0.028644008945639662,0.028644008945639662,0.011555124748854636,0.013097320004835235,0.013097320004835235,0.013097320004835235,0.013097320004835235,0.028644008945639662,0.028644008945639662,0.013097320004835235,0.013097320004835235,0.013097320004835235,0.011555124748854636,0.011555124748854636,0.011555124748854636,0.011555124748854636,0.011555124748854636,0.028644008945639662,0.011555124748854636,0.028644008945639662,0.028644008945639662,0.028644008945639662,0.028644008945639662,0.028644008945639662,0.028644008945639662,0.028644008945639662,0.028644008945639662,0.028644008945639662,0.028644008945639662,0.011555124748854636,0.028644008945639662,0.011555124748854636,0.011555124748854636,0.013097320004835235,0.013097320004835235,0.028644008945639662,0.028644008945639662,0.028644008945639662,0.028644008945639662,0.028644008945639662,0.011555124748854636,0.028644008945639662,0.011555124748854636,0.013097320004835235,0.028644008945639662,0.011555124748854636,0.011555124748854636,0.028644008945639662,0.028644008945639662,0.011555124748854636,0.0029029557759634806,0.011555124748854636,0.028644008945639662,0.028644008945639662,0.028644008945639662,0.028644008945639662,0.028644008945639662,0.028644008945639662,0.028644008945639662,0.028644008945639662,0.028644008945639662,0.028644008945639662,0.013097320004835235,0.013097320004835235,0.028644008945639662,0.028644008945639662,0.011555124748854636,0.028644008945639662,0.028644008945639662,0.028644008945639662,0.028644008945639662,0.028644008945639662,0.028644008945639662,0.028644008945639662,0.028644008945639662,0.028644008945639662,0.028644008945639662,0.028644008945639662,0.011555124748854636,0.011555124748854636,0.011555124748854636,0.011555124748854636,0.011555124748854636,0.0029029557759634806,0.028644008945639662,0.011555124748854636,0.011555124748854636,0.028644008945639662,0.028644008945639662,0.028644008945639662,0.028644008945639662,0.028644008945639662,0.028644008945639662,0.028644008945639662,0.011555124748854636,0.013097320004835235,0.013097320004835235,0.028644008945639662,0.028644008945639662,0.011555124748854636,0.0029029557759634806,0.028644008945639662,0.028644008945639662,0.028644008945639662,0.028644008945639662,0.028644008945639662,0.028644008945639662,0.028644008945639662,0.013097320004835235,0.013097320004835235,0.013097320004835235,0.013097320004835235,0.028644008945639662,0.011555124748854636,0.0029029557759634806,0.0029029557759634806,0.028644008945639662,0.028644008945639662,0.028644008945639662,0.0029029557759634806,0.011555124748854636,0.013097320004835235,0.013097320004835235,0.013097320004835235,0.011555124748854636,0.028644008945639662,0.028644008945639662,0.028644008945639662,0.028644008945639662,0.028644008945639662,0.028644008945639662,0.028644008945639662,0.028644008945639662,0.028644008945639662,0.0029029557759634806,0.013097320004835235,0.028644008945639662,0.013097320004835235,0.028644008945639662,0.028644008945639662,0.011555124748854636,0.0029029557759634806,0.013097320004835235,0.028644008945639662,0.028644008945639662,0.028644008945639662,0.028644008945639662,0.011555124748854636,0.011555124748854636,0.028644008945639662,0.028644008945639662,0.028644008945639662,0.028644008945639662,0.013097320004835235,0.028644008945639662,0.028644008945639662,0.013097320004835235,0.028644008945639662,0.028644008945639662,0.028644008945639662,0.028644008945639662,0.028644008945639662,0.028644008945639662,0.011555124748854636,0.013097320004835235,0.013097320004835235,0.013097320004835235,0.028644008945639662,0.011555124748854636,0.013097320004835235,0.028644008945639662,0.028644008945639662,0.028644008945639662,0.013097320004835235,0.028644008945639662,0.013097320004835235,0.028644008945639662,0.011555124748854636,0.028644008945639662,0.028644008945639662,0.028644008945639662,0.011555124748854636,0.011555124748854636,0.011555124748854636,0.011555124748854636,0.0029029557759634806,0.013097320004835235,0.013097320004835235,0.013097320004835235,0.013097320004835235,0.013097320004835235,0.013097320004835235,0.013097320004835235,0.013097320004835235,0.013097320004835235,0.011555124748854636,0.013097320004835235,0.028644008945639662,0.028644008945639662,0.011555124748854636,0.028644008945639662,0.013097320004835235,0.011555124748854636,0.028644008945639662,0.028644008945639662,0.028644008945639662,0.028644008945639662,0.0029029557759634806,0.013097320004835235,0.028644008945639662,0.013097320004835235,0.028644008945639662,0.011555124748854636,0.028644008945639662,0.011555124748854636,0.011555124748854636,0.028644008945639662,0.011555124748854636,0.013097320004835235,0.013097320004835235,0.013097320004835235,0.013097320004835235,0.013097320004835235,0.028644008945639662,0.028644008945639662,0.028644008945639662,0.028644008945639662,0.028644008945639662,0.028644008945639662,0.028644008945639662,0.028644008945639662,0.028644008945639662,0.028644008945639662,0.028644008945639662,0.028644008945639662,0.028644008945639662,0.028644008945639662,0.028644008945639662,0.011555124748854636,0.013097320004835235,0.013097320004835235,0.013097320004835235,0.013097320004835235,0.028644008945639662,0.011555124748854636,0.0029029557759634806,0.013097320004835235,0.028644008945639662,0.028644008945639662,0.011555124748854636,0.011555124748854636,0.028644008945639662,0.011555124748854636,0.011555124748854636,0.011555124748854636,0.028644008945639662,0.011555124748854636,0.0029029557759634806,0.028644008945639662,0.011555124748854636,0.011555124748854636,0.028644008945639662,0.028644008945639662,0.028644008945639662,0.028644008945639662,0.028644008945639662,0.028644008945639662,0.011555124748854636,0.028644008945639662,0.028644008945639662,0.0029029557759634806,0.0029029557759634806,0.013097320004835235,0.013097320004835235,0.013097320004835235,0.013097320004835235,0.028644008945639662,0.028644008945639662,0.028644008945639662,0.028644008945639662,0.013097320004835235,0.013097320004835235,0.013097320004835235,0.028644008945639662,0.028644008945639662,0.028644008945639662,0.013097320004835235,0.028644008945639662,0.028644008945639662,0.028644008945639662,0.028644008945639662,0.011555124748854636,0.028644008945639662,0.028644008945639662,0.011555124748854636,0.013097320004835235,0.013097320004835235,0.028644008945639662,0.028644008945639662,0.028644008945639662,0.028644008945639662,0.028644008945639662,0.0029029557759634806,0.013097320004835235,0.028644008945639662,0.0029029557759634806,0.011555124748854636,0.028644008945639662,0.028644008945639662,0.0029029557759634806,0.0029029557759634806,0.0029029557759634806,0.028644008945639662,0.028644008945639662,0.028644008945639662,0.028644008945639662,0.028644008945639662,0.028644008945639662,0.028644008945639662,0.028644008945639662,0.028644008945639662,0.011555124748854636,0.028644008945639662,0.028644008945639662,0.028644008945639662,0.028644008945639662,0.028644008945639662,0.028644008945639662,0.011555124748854636,0.028644008945639662,0.028644008945639662,0.028644008945639662,0.028644008945639662,0.028644008945639662,0.011555124748854636,0.028644008945639662,0.028644008945639662,0.013097320004835235,0.013097320004835235,0.028644008945639662,0.028644008945639662,0.013097320004835235,0.0029029557759634806,0.011555124748854636,0.028644008945639662,0.028644008945639662,0.028644008945639662,0.013097320004835235,0.013097320004835235,0.013097320004835235,0.013097320004835235,0.013097320004835235,0.013097320004835235,0.028644008945639662,0.013097320004835235,0.013097320004835235,0.011555124748854636,0.011555124748854636,0.028644008945639662,0.028644008945639662,0.028644008945639662,0.028644008945639662,0.011555124748854636,0.0029029557759634806,0.013097320004835235,0.013097320004835235,0.013097320004835235,0.013097320004835235,0.028644008945639662,0.011555124748854636,0.028644008945639662,0.013097320004835235,0.013097320004835235,0.0029029557759634806,0.013097320004835235,0.028644008945639662,0.028644008945639662,0.0029029557759634806,0.028644008945639662,0.013097320004835235,0.028644008945639662,0.0029029557759634806,0.013097320004835235,0.013097320004835235,0.011555124748854636,0.013097320004835235,0.013097320004835235,0.013097320004835235,0.013097320004835235,0.028644008945639662,0.028644008945639662,0.011555124748854636,0.028644008945639662,0.028644008945639662,0.011555124748854636,0.011555124748854636,0.013097320004835235,0.013097320004835235,0.013097320004835235,0.013097320004835235,0.028644008945639662,0.028644008945639662,0.028644008945639662,0.011555124748854636,0.011555124748854636,0.011555124748854636,0.013097320004835235,0.011555124748854636,0.028644008945639662,0.028644008945639662,0.028644008945639662,0.028644008945639662,0.011555124748854636,0.013097320004835235,0.028644008945639662,0.0029029557759634806,0.028644008945639662,0.028644008945639662,0.028644008945639662,0.028644008945639662,0.028644008945639662,0.0029029557759634806,0.028644008945639662,0.028644008945639662,0.028644008945639662,0.011555124748854636,0.028644008945639662,0.028644008945639662,0.028644008945639662,0.028644008945639662,0.028644008945639662,0.028644008945639662,0.011555124748854636,0.028644008945639662,0.011555124748854636,0.0029029557759634806,0.0029029557759634806,0.028644008945639662,0.011555124748854636,0.0029029557759634806,0.028644008945639662,0.013097320004835235,0.013097320004835235,0.013097320004835235,0.013097320004835235,0.013097320004835235,0.013097320004835235,0.011555124748854636,0.013097320004835235,0.028644008945639662,0.011555124748854636,0.011555124748854636,0.028644008945639662,0.011555124748854636,0.011555124748854636,0.0029029557759634806,0.013097320004835235,0.028644008945639662,0.028644008945639662,0.028644008945639662,0.028644008945639662,0.028644008945639662,0.028644008945639662,0.028644008945639662,0.028644008945639662,0.028644008945639662,0.028644008945639662,0.013097320004835235,0.013097320004835235,0.013097320004835235,0.013097320004835235,0.013097320004835235,0.013097320004835235,0.028644008945639662,0.028644008945639662,0.028644008945639662,0.028644008945639662,0.011555124748854636,0.013097320004835235,0.013097320004835235,0.013097320004835235,0.013097320004835235,0.013097320004835235,0.013097320004835235,0.011555124748854636,0.013097320004835235,0.028644008945639662,0.028644008945639662,0.028644008945639662,0.028644008945639662,0.028644008945639662,0.028644008945639662,0.028644008945639662,0.028644008945639662,0.028644008945639662,0.028644008945639662,0.028644008945639662,0.028644008945639662,0.028644008945639662,0.028644008945639662,0.028644008945639662,0.028644008945639662,0.028644008945639662,0.011555124748854636,0.013097320004835235,0.028644008945639662,0.013097320004835235,0.028644008945639662,0.028644008945639662,0.028644008945639662,0.028644008945639662,0.028644008945639662,0.028644008945639662,0.028644008945639662,0.028644008945639662,0.013097320004835235,0.013097320004835235,0.013097320004835235,0.013097320004835235,0.028644008945639662,0.028644008945639662,0.028644008945639662,0.013097320004835235,0.013097320004835235,0.028644008945639662,0.028644008945639662,0.0029029557759634806,0.028644008945639662,0.028644008945639662,0.028644008945639662,0.028644008945639662,0.011555124748854636,0.011555124748854636,0.011555124748854636,0.011555124748854636,0.011555124748854636,0.028644008945639662,0.011555124748854636,0.013097320004835235,0.013097320004835235,0.013097320004835235,0.013097320004835235,0.011555124748854636,0.011555124748854636,0.028644008945639662,0.028644008945639662,0.028644008945639662,0.011555124748854636,0.011555124748854636,0.028644008945639662,0.028644008945639662,0.011555124748854636,0.028644008945639662,0.011555124748854636,0.011555124748854636,0.028644008945639662,0.028644008945639662,0.028644008945639662,0.028644008945639662,0.011555124748854636,0.013097320004835235,0.011555124748854636,0.028644008945639662,0.028644008945639662,0.011555124748854636,0.011555124748854636,0.028644008945639662,0.028644008945639662,0.011555124748854636,0.013097320004835235,0.028644008945639662,0.028644008945639662,0.0029029557759634806,0.011555124748854636,0.028644008945639662,0.013097320004835235,0.028644008945639662,0.028644008945639662,0.028644008945639662,0.013097320004835235,0.028644008945639662,0.028644008945639662,0.028644008945639662,0.028644008945639662,0.028644008945639662,0.011555124748854636,0.0029029557759634806,0.028644008945639662,0.028644008945639662,0.013097320004835235,0.013097320004835235,0.013097320004835235,0.013097320004835235,0.013097320004835235,0.011555124748854636,0.013097320004835235,0.028644008945639662,0.011555124748854636,0.013097320004835235,0.013097320004835235,0.0029029557759634806,0.028644008945639662,0.028644008945639662,0.028644008945639662,0.028644008945639662,0.011555124748854636,0.011555124748854636,0.011555124748854636,0.011555124748854636,0.011555124748854636,0.0029029557759634806,0.013097320004835235,0.013097320004835235,0.013097320004835235,0.028644008945639662,0.028644008945639662,0.028644008945639662,0.011555124748854636,0.028644008945639662,0.028644008945639662,0.011555124748854636,0.028644008945639662,0.028644008945639662,0.028644008945639662,0.028644008945639662,0.028644008945639662,0.028644008945639662,0.028644008945639662,0.028644008945639662,0.028644008945639662,0.028644008945639662,0.028644008945639662,0.028644008945639662,0.028644008945639662,0.011555124748854636,0.011555124748854636,0.013097320004835235,0.013097320004835235,0.013097320004835235,0.013097320004835235,0.013097320004835235,0.013097320004835235,0.013097320004835235,0.013097320004835235,0.013097320004835235,0.011555124748854636,0.013097320004835235,0.028644008945639662,0.013097320004835235,0.011555124748854636,0.013097320004835235,0.028644008945639662,0.028644008945639662,0.011555124748854636,0.011555124748854636,0.028644008945639662,0.013097320004835235,0.013097320004835235,0.013097320004835235,0.013097320004835235,0.013097320004835235,0.013097320004835235,0.028644008945639662,0.011555124748854636,0.028644008945639662,0.013097320004835235,0.028644008945639662,0.013097320004835235,0.028644008945639662,0.028644008945639662,0.011555124748854636,0.028644008945639662,0.028644008945639662,0.011555124748854636,0.013097320004835235,0.028644008945639662,0.028644008945639662,0.0029029557759634806,0.028644008945639662,0.028644008945639662,0.028644008945639662,0.028644008945639662,0.028644008945639662,0.028644008945639662,0.028644008945639662,0.028644008945639662,0.028644008945639662,0.028644008945639662,0.028644008945639662,0.028644008945639662,0.028644008945639662,0.028644008945639662,0.011555124748854636,0.011555124748854636,0.011555124748854636,0.011555124748854636,0.011555124748854636,0.028644008945639662,0.028644008945639662,0.028644008945639662,0.013097320004835235,0.028644008945639662,0.028644008945639662,0.028644008945639662,0.011555124748854636,0.028644008945639662,0.011555124748854636,0.013097320004835235,0.013097320004835235,0.013097320004835235,0.013097320004835235,0.028644008945639662,0.028644008945639662,0.028644008945639662,0.028644008945639662,0.028644008945639662,0.028644008945639662,0.013097320004835235,0.013097320004835235,0.013097320004835235,0.0029029557759634806,0.013097320004835235,0.013097320004835235,0.011555124748854636,0.013097320004835235,0.028644008945639662,0.028644008945639662,0.028644008945639662,0.013097320004835235,0.013097320004835235,0.028644008945639662,0.028644008945639662,0.028644008945639662,0.028644008945639662,0.028644008945639662,0.028644008945639662,0.028644008945639662,0.028644008945639662,0.028644008945639662,0.028644008945639662,0.013097320004835235,0.028644008945639662,0.028644008945639662,0.028644008945639662,0.013097320004835235,0.028644008945639662,0.011555124748854636,0.013097320004835235,0.028644008945639662,0.013097320004835235,0.011555124748854636,0.011555124748854636,0.028644008945639662,0.028644008945639662,0.028644008945639662,0.028644008945639662,0.011555124748854636,0.028644008945639662,0.028644008945639662,0.028644008945639662,0.013097320004835235,0.013097320004835235,0.011555124748854636,0.028644008945639662,0.028644008945639662,0.028644008945639662,0.013097320004835235,0.028644008945639662,0.028644008945639662,0.028644008945639662,0.028644008945639662,0.011555124748854636,0.028644008945639662,0.028644008945639662,0.028644008945639662,0.011555124748854636,0.011555124748854636,0.028644008945639662,0.028644008945639662,0.028644008945639662,0.011555124748854636,0.013097320004835235,0.011555124748854636,0.013097320004835235,0.028644008945639662,0.028644008945639662,0.013097320004835235,0.013097320004835235,0.013097320004835235,0.013097320004835235,0.028644008945639662,0.011555124748854636,0.011555124748854636,0.013097320004835235,0.028644008945639662,0.028644008945639662,0.028644008945639662,0.028644008945639662,0.028644008945639662,0.028644008945639662,0.028644008945639662,0.028644008945639662,0.028644008945639662,0.013097320004835235,0.011555124748854636,0.028644008945639662,0.028644008945639662,0.011555124748854636,0.011555124748854636,0.011555124748854636,0.028644008945639662,0.028644008945639662,0.028644008945639662,0.011555124748854636,0.011555124748854636,0.011555124748854636,0.013097320004835235,0.013097320004835235,0.013097320004835235,0.013097320004835235,0.013097320004835235,0.013097320004835235,0.013097320004835235,0.013097320004835235,0.013097320004835235,0.013097320004835235,0.013097320004835235,0.013097320004835235,0.013097320004835235,0.028644008945639662,0.011555124748854636,0.013097320004835235,0.013097320004835235,0.028644008945639662,0.028644008945639662,0.028644008945639662,0.028644008945639662,0.0029029557759634806,0.0029029557759634806,0.013097320004835235,0.028644008945639662,0.028644008945639662,0.028644008945639662,0.011555124748854636,0.0029029557759634806,0.028644008945639662,0.028644008945639662,0.028644008945639662,0.028644008945639662,0.028644008945639662,0.028644008945639662,0.028644008945639662,0.028644008945639662,0.011555124748854636,0.028644008945639662,0.028644008945639662,0.028644008945639662,0.028644008945639662,0.028644008945639662,0.013097320004835235,0.011555124748854636,0.028644008945639662,0.028644008945639662,0.028644008945639662,0.011555124748854636,0.028644008945639662,0.013097320004835235,0.013097320004835235,0.013097320004835235,0.013097320004835235,0.011555124748854636,0.011555124748854636,0.013097320004835235,0.028644008945639662,0.028644008945639662,0.028644008945639662,0.028644008945639662,0.028644008945639662,0.011555124748854636,0.011555124748854636,0.011555124748854636,0.011555124748854636,0.011555124748854636,0.011555124748854636,0.0029029557759634806,0.013097320004835235,0.013097320004835235,0.013097320004835235,0.013097320004835235,0.013097320004835235,0.013097320004835235,0.013097320004835235,0.028644008945639662,0.028644008945639662,0.028644008945639662,0.028644008945639662,0.0029029557759634806,0.028644008945639662,0.028644008945639662,0.011555124748854636,0.028644008945639662,0.028644008945639662,0.011555124748854636,0.011555124748854636,0.011555124748854636,0.013097320004835235,0.013097320004835235,0.013097320004835235,0.0029029557759634806,0.011555124748854636,0.011555124748854636,0.028644008945639662,0.028644008945639662,0.028644008945639662,0.028644008945639662,0.013097320004835235,0.013097320004835235,0.028644008945639662,0.028644008945639662,0.028644008945639662,0.013097320004835235,0.028644008945639662,0.013097320004835235,0.013097320004835235,0.028644008945639662,0.028644008945639662,0.0029029557759634806,0.028644008945639662,0.011555124748854636,0.013097320004835235,0.011555124748854636,0.0029029557759634806,0.028644008945639662,0.028644008945639662,0.028644008945639662,0.028644008945639662,0.028644008945639662,0.028644008945639662,0.028644008945639662,0.028644008945639662,0.028644008945639662,0.028644008945639662,0.028644008945639662,0.011555124748854636,0.028644008945639662,0.028644008945639662,0.011555124748854636,0.028644008945639662,0.013097320004835235,0.028644008945639662,0.028644008945639662,0.028644008945639662,0.011555124748854636,0.028644008945639662,0.028644008945639662,0.028644008945639662,0.011555124748854636,0.011555124748854636,0.028644008945639662,0.028644008945639662,0.028644008945639662,0.011555124748854636,0.011555124748854636,0.013097320004835235,0.028644008945639662,0.011555124748854636,0.011555124748854636,0.013097320004835235,0.013097320004835235,0.028644008945639662,0.028644008945639662,0.028644008945639662,0.013097320004835235,0.028644008945639662,0.013097320004835235,0.028644008945639662,0.028644008945639662,0.028644008945639662,0.028644008945639662,0.028644008945639662,0.028644008945639662,0.028644008945639662,0.011555124748854636,0.011555124748854636,0.011555124748854636,0.0029029557759634806,0.0029029557759634806,0.028644008945639662,0.028644008945639662,0.011555124748854636,0.028644008945639662,0.013097320004835235,0.028644008945639662,0.028644008945639662,0.028644008945639662,0.028644008945639662,0.028644008945639662,0.028644008945639662,0.028644008945639662,0.028644008945639662,0.028644008945639662,0.028644008945639662,0.028644008945639662,0.028644008945639662,0.028644008945639662,0.011555124748854636,0.013097320004835235,0.028644008945639662,0.028644008945639662,0.028644008945639662,0.0029029557759634806,0.028644008945639662,0.011555124748854636,0.011555124748854636,0.011555124748854636,0.011555124748854636,0.011555124748854636,0.028644008945639662,0.011555124748854636,0.011555124748854636,0.011555124748854636,0.011555124748854636,0.028644008945639662,0.028644008945639662,0.028644008945639662,0.028644008945639662,0.013097320004835235,0.011555124748854636,0.011555124748854636,0.028644008945639662,0.011555124748854636,0.011555124748854636,0.028644008945639662,0.028644008945639662,0.028644008945639662,0.028644008945639662,0.011555124748854636,0.013097320004835235,0.028644008945639662,0.028644008945639662,0.028644008945639662,0.028644008945639662,0.0029029557759634806,0.0029029557759634806,0.0029029557759634806,0.0029029557759634806,0.028644008945639662,0.013097320004835235,0.028644008945639662,0.028644008945639662,0.028644008945639662,0.028644008945639662,0.028644008945639662,0.011555124748854636,0.028644008945639662,0.011555124748854636,0.013097320004835235,0.013097320004835235,0.013097320004835235,0.013097320004835235,0.013097320004835235,0.013097320004835235,0.028644008945639662,0.0029029557759634806,0.013097320004835235,0.028644008945639662,0.028644008945639662,0.028644008945639662,0.011555124748854636,0.013097320004835235,0.028644008945639662,0.028644008945639662,0.011555124748854636,0.011555124748854636,0.028644008945639662,0.028644008945639662,0.028644008945639662,0.028644008945639662,0.028644008945639662,0.028644008945639662,0.028644008945639662,0.028644008945639662,0.028644008945639662,0.028644008945639662,0.011555124748854636,0.0029029557759634806,0.0029029557759634806,0.013097320004835235,0.013097320004835235,0.028644008945639662,0.028644008945639662,0.028644008945639662,0.028644008945639662,0.028644008945639662,0.028644008945639662,0.028644008945639662,0.028644008945639662,0.028644008945639662,0.028644008945639662,0.028644008945639662,0.028644008945639662,0.028644008945639662,0.028644008945639662,0.028644008945639662,0.028644008945639662,0.028644008945639662,0.028644008945639662,0.011555124748854636,0.013097320004835235,0.028644008945639662,0.028644008945639662,0.028644008945639662,0.028644008945639662,0.011555124748854636,0.013097320004835235,0.0029029557759634806,0.013097320004835235,0.028644008945639662,0.028644008945639662,0.028644008945639662,0.028644008945639662,0.013097320004835235,0.028644008945639662,0.028644008945639662,0.013097320004835235,0.011555124748854636,0.011555124748854636,0.028644008945639662,0.013097320004835235,0.028644008945639662,0.028644008945639662,0.011555124748854636,0.028644008945639662,0.011555124748854636,0.013097320004835235,0.013097320004835235,0.028644008945639662,0.028644008945639662,0.028644008945639662,0.028644008945639662,0.011555124748854636,0.011555124748854636,0.013097320004835235,0.013097320004835235,0.028644008945639662,0.028644008945639662,0.011555124748854636,0.011555124748854636,0.013097320004835235,0.013097320004835235,0.013097320004835235,0.013097320004835235,0.013097320004835235,0.013097320004835235,0.013097320004835235,0.013097320004835235,0.028644008945639662,0.028644008945639662,0.0029029557759634806,0.028644008945639662,0.028644008945639662,0.011555124748854636,0.028644008945639662,0.011555124748854636,0.028644008945639662,0.028644008945639662,0.028644008945639662,0.028644008945639662,0.013097320004835235,0.013097320004835235,0.013097320004835235,0.011555124748854636,0.013097320004835235,0.028644008945639662,0.028644008945639662,0.011555124748854636,0.013097320004835235,0.013097320004835235,0.011555124748854636,0.013097320004835235,0.028644008945639662,0.028644008945639662,0.028644008945639662,0.028644008945639662,0.028644008945639662,0.028644008945639662,0.028644008945639662,0.028644008945639662,0.028644008945639662,0.028644008945639662,0.028644008945639662,0.028644008945639662,0.011555124748854636,0.011555124748854636,0.013097320004835235,0.028644008945639662,0.028644008945639662,0.028644008945639662,0.028644008945639662,0.028644008945639662,0.028644008945639662,0.028644008945639662,0.028644008945639662,0.028644008945639662,0.028644008945639662,0.028644008945639662,0.028644008945639662,0.013097320004835235,0.013097320004835235,0.028644008945639662,0.013097320004835235,0.011555124748854636,0.011555124748854636,0.011555124748854636,0.011555124748854636,0.028644008945639662,0.011555124748854636,0.011555124748854636,0.0029029557759634806,0.013097320004835235,0.013097320004835235,0.013097320004835235,0.013097320004835235,0.013097320004835235,0.028644008945639662,0.013097320004835235,0.028644008945639662,0.028644008945639662,0.028644008945639662,0.028644008945639662,0.028644008945639662,0.011555124748854636,0.0029029557759634806,0.028644008945639662,0.011555124748854636,0.028644008945639662,0.028644008945639662,0.011555124748854636,0.011555124748854636,0.011555124748854636,0.013097320004835235,0.028644008945639662,0.028644008945639662,0.028644008945639662,0.0029029557759634806,0.028644008945639662,0.028644008945639662,0.011555124748854636,0.011555124748854636,0.011555124748854636,0.011555124748854636,0.011555124748854636,0.011555124748854636,0.011555124748854636,0.011555124748854636,0.011555124748854636,0.011555124748854636,0.011555124748854636,0.0029029557759634806,0.013097320004835235,0.028644008945639662,0.011555124748854636,0.013097320004835235,0.028644008945639662,0.028644008945639662,0.028644008945639662,0.011555124748854636,0.011555124748854636,0.013097320004835235,0.028644008945639662,0.028644008945639662,0.028644008945639662,0.013097320004835235,0.028644008945639662,0.028644008945639662,0.028644008945639662,0.028644008945639662,0.011555124748854636,0.011555124748854636,0.013097320004835235,0.013097320004835235,0.013097320004835235,0.013097320004835235,0.011555124748854636,0.028644008945639662,0.028644008945639662,0.011555124748854636,0.011555124748854636,0.013097320004835235,0.013097320004835235,0.028644008945639662,0.011555124748854636,0.028644008945639662,0.028644008945639662,0.028644008945639662,0.028644008945639662,0.028644008945639662,0.011555124748854636,0.013097320004835235,0.028644008945639662,0.028644008945639662,0.028644008945639662,0.028644008945639662,0.013097320004835235,0.028644008945639662,0.0029029557759634806,0.011555124748854636,0.028644008945639662,0.0029029557759634806,0.013097320004835235,0.013097320004835235,0.013097320004835235,0.013097320004835235,0.013097320004835235,0.013097320004835235,0.013097320004835235,0.013097320004835235,0.011555124748854636,0.013097320004835235,0.028644008945639662,0.011555124748854636,0.013097320004835235,0.028644008945639662,0.013097320004835235,0.013097320004835235,0.013097320004835235,0.028644008945639662,0.028644008945639662,0.028644008945639662,0.028644008945639662,0.013097320004835235,0.028644008945639662,0.028644008945639662,0.028644008945639662,0.011555124748854636,0.028644008945639662,0.028644008945639662,0.028644008945639662,0.028644008945639662,0.028644008945639662,0.028644008945639662,0.028644008945639662,0.028644008945639662,0.028644008945639662,0.011555124748854636,0.011555124748854636,0.011555124748854636,0.011555124748854636,0.011555124748854636,0.011555124748854636,0.028644008945639662,0.028644008945639662,0.013097320004835235,0.013097320004835235,0.013097320004835235,0.013097320004835235,0.028644008945639662,0.028644008945639662,0.028644008945639662,0.028644008945639662,0.028644008945639662,0.028644008945639662,0.011555124748854636,0.011555124748854636,0.011555124748854636,0.011555124748854636,0.028644008945639662,0.013097320004835235,0.013097320004835235,0.028644008945639662,0.013097320004835235,0.011555124748854636,0.011555124748854636,0.013097320004835235,0.011555124748854636,0.028644008945639662,0.013097320004835235,0.028644008945639662,0.028644008945639662,0.013097320004835235,0.011555124748854636,0.013097320004835235,0.028644008945639662,0.028644008945639662,0.013097320004835235,0.0029029557759634806,0.0029029557759634806,0.0029029557759634806,0.0029029557759634806,0.028644008945639662,0.028644008945639662,0.028644008945639662,0.028644008945639662,0.028644008945639662,0.028644008945639662,0.011555124748854636,0.013097320004835235,0.028644008945639662,0.028644008945639662,0.011555124748854636,0.011555124748854636,0.028644008945639662,0.028644008945639662,0.028644008945639662,0.011555124748854636,0.011555124748854636,0.011555124748854636,0.011555124748854636,0.011555124748854636,0.011555124748854636,0.028644008945639662,0.028644008945639662,0.028644008945639662,0.028644008945639662,0.013097320004835235,0.013097320004835235,0.028644008945639662,0.011555124748854636,0.011555124748854636,0.011555124748854636,0.028644008945639662,0.011555124748854636,0.013097320004835235,0.028644008945639662,0.028644008945639662,0.028644008945639662,0.011555124748854636,0.028644008945639662,0.011555124748854636,0.011555124748854636,0.013097320004835235,0.013097320004835235,0.011555124748854636,0.028644008945639662,0.011555124748854636,0.028644008945639662,0.011555124748854636,0.011555124748854636,0.013097320004835235,0.028644008945639662,0.011555124748854636,0.013097320004835235,0.013097320004835235,0.028644008945639662,0.011555124748854636,0.011555124748854636,0.013097320004835235,0.011555124748854636,0.013097320004835235,0.013097320004835235,0.011555124748854636,0.011555124748854636,0.013097320004835235,0.028644008945639662,0.028644008945639662,0.0029029557759634806,0.028644008945639662,0.011555124748854636,0.028644008945639662,0.028644008945639662,0.028644008945639662,0.028644008945639662,0.013097320004835235,0.013097320004835235,0.028644008945639662,0.028644008945639662,0.028644008945639662,0.028644008945639662,0.028644008945639662,0.028644008945639662,0.028644008945639662,0.028644008945639662,0.028644008945639662,0.028644008945639662,0.011555124748854636,0.028644008945639662,0.028644008945639662,0.028644008945639662,0.011555124748854636,0.011555124748854636,0.028644008945639662,0.028644008945639662,0.028644008945639662,0.013097320004835235,0.028644008945639662,0.028644008945639662,0.028644008945639662,0.011555124748854636,0.028644008945639662,0.028644008945639662,0.011555124748854636,0.011555124748854636,0.028644008945639662,0.028644008945639662,0.028644008945639662,0.028644008945639662,0.028644008945639662,0.028644008945639662,0.028644008945639662,0.028644008945639662,0.028644008945639662,0.028644008945639662,0.028644008945639662,0.028644008945639662,0.028644008945639662,0.028644008945639662,0.028644008945639662,0.028644008945639662,0.028644008945639662,0.028644008945639662,0.028644008945639662,0.028644008945639662,0.028644008945639662,0.028644008945639662,0.028644008945639662,0.011555124748854636,0.011555124748854636,0.013097320004835235,0.013097320004835235,0.013097320004835235,0.013097320004835235,0.013097320004835235,0.013097320004835235,0.013097320004835235,0.013097320004835235,0.013097320004835235,0.013097320004835235,0.013097320004835235,0.013097320004835235,0.013097320004835235,0.013097320004835235,0.013097320004835235,0.028644008945639662,0.028644008945639662,0.011555124748854636,0.028644008945639662,0.0029029557759634806,0.0029029557759634806,0.011555124748854636,0.028644008945639662,0.028644008945639662,0.011555124748854636,0.0029029557759634806,0.013097320004835235,0.013097320004835235,0.013097320004835235,0.028644008945639662,0.028644008945639662,0.028644008945639662,0.028644008945639662,0.028644008945639662,0.028644008945639662,0.028644008945639662,0.013097320004835235,0.028644008945639662,0.028644008945639662,0.028644008945639662,0.028644008945639662,0.028644008945639662,0.011555124748854636,0.013097320004835235,0.013097320004835235,0.013097320004835235,0.013097320004835235,0.028644008945639662,0.013097320004835235,0.013097320004835235,0.013097320004835235,0.013097320004835235,0.028644008945639662,0.028644008945639662,0.028644008945639662,0.011555124748854636,0.013097320004835235,0.013097320004835235,0.013097320004835235,0.013097320004835235,0.028644008945639662,0.028644008945639662,0.028644008945639662,0.028644008945639662,0.028644008945639662,0.028644008945639662,0.011555124748854636,0.011555124748854636,0.028644008945639662,0.028644008945639662,0.028644008945639662,0.011555124748854636,0.013097320004835235,0.028644008945639662,0.028644008945639662,0.011555124748854636,0.013097320004835235,0.028644008945639662,0.028644008945639662,0.028644008945639662,0.028644008945639662,0.011555124748854636,0.028644008945639662,0.028644008945639662,0.028644008945639662,0.013097320004835235,0.028644008945639662,0.028644008945639662,0.028644008945639662,0.028644008945639662,0.028644008945639662,0.013097320004835235,0.028644008945639662,0.028644008945639662,0.028644008945639662,0.013097320004835235,0.028644008945639662,0.028644008945639662,0.028644008945639662,0.028644008945639662,0.028644008945639662,0.028644008945639662,0.028644008945639662,0.028644008945639662,0.011555124748854636,0.011555124748854636,0.011555124748854636,0.011555124748854636,0.013097320004835235,0.013097320004835235,0.013097320004835235,0.013097320004835235,0.028644008945639662,0.028644008945639662,0.028644008945639662,0.028644008945639662,0.011555124748854636,0.028644008945639662,0.013097320004835235,0.028644008945639662,0.028644008945639662,0.028644008945639662,0.028644008945639662,0.028644008945639662,0.011555124748854636,0.0029029557759634806,0.013097320004835235,0.013097320004835235,0.013097320004835235,0.013097320004835235,0.013097320004835235,0.013097320004835235,0.013097320004835235,0.013097320004835235,0.013097320004835235,0.013097320004835235,0.028644008945639662,0.011555124748854636,0.028644008945639662,0.011555124748854636,0.013097320004835235,0.028644008945639662,0.028644008945639662,0.028644008945639662,0.028644008945639662,0.028644008945639662,0.028644008945639662,0.028644008945639662,0.028644008945639662,0.011555124748854636,0.013097320004835235,0.013097320004835235,0.013097320004835235,0.028644008945639662,0.028644008945639662,0.013097320004835235,0.013097320004835235,0.013097320004835235,0.028644008945639662,0.028644008945639662,0.028644008945639662,0.028644008945639662,0.028644008945639662,0.028644008945639662,0.028644008945639662,0.011555124748854636,0.028644008945639662,0.0029029557759634806,0.028644008945639662,0.028644008945639662,0.028644008945639662,0.011555124748854636,0.011555124748854636,0.011555124748854636,0.011555124748854636,0.011555124748854636,0.011555124748854636,0.011555124748854636,0.011555124748854636,0.011555124748854636,0.0029029557759634806,0.0029029557759634806,0.0029029557759634806,0.0029029557759634806,0.013097320004835235,0.013097320004835235,0.013097320004835235,0.013097320004835235,0.013097320004835235,0.028644008945639662,0.011555124748854636,0.013097320004835235,0.028644008945639662,0.028644008945639662,0.028644008945639662,0.028644008945639662,0.028644008945639662,0.028644008945639662,0.028644008945639662,0.013097320004835235,0.013097320004835235,0.028644008945639662,0.013097320004835235,0.011555124748854636,0.028644008945639662,0.013097320004835235,0.028644008945639662,0.028644008945639662,0.028644008945639662,0.028644008945639662,0.028644008945639662,0.011555124748854636,0.028644008945639662,0.028644008945639662,0.028644008945639662,0.028644008945639662,0.028644008945639662,0.028644008945639662,0.011555124748854636,0.013097320004835235,0.013097320004835235,0.028644008945639662,0.028644008945639662,0.028644008945639662,0.028644008945639662,0.028644008945639662,0.028644008945639662,0.028644008945639662,0.028644008945639662,0.028644008945639662,0.028644008945639662,0.028644008945639662,0.028644008945639662,0.011555124748854636,0.0029029557759634806,0.013097320004835235,0.028644008945639662,0.011555124748854636,0.011555124748854636,0.011555124748854636,0.013097320004835235,0.028644008945639662,0.028644008945639662,0.028644008945639662,0.013097320004835235,0.013097320004835235,0.028644008945639662,0.011555124748854636,0.028644008945639662,0.028644008945639662,0.0029029557759634806,0.013097320004835235,0.013097320004835235,0.013097320004835235,0.028644008945639662,0.028644008945639662,0.028644008945639662,0.028644008945639662,0.028644008945639662,0.028644008945639662,0.028644008945639662,0.013097320004835235,0.028644008945639662,0.028644008945639662,0.028644008945639662,0.028644008945639662,0.011555124748854636,0.013097320004835235,0.028644008945639662,0.013097320004835235,0.028644008945639662,0.011555124748854636,0.011555124748854636,0.013097320004835235,0.028644008945639662,0.028644008945639662,0.013097320004835235,0.011555124748854636,0.028644008945639662,0.028644008945639662,0.028644008945639662,0.028644008945639662,0.028644008945639662,0.028644008945639662,0.013097320004835235,0.028644008945639662,0.013097320004835235,0.028644008945639662,0.011555124748854636,0.011555124748854636,0.028644008945639662,0.011555124748854636,0.028644008945639662,0.011555124748854636,0.028644008945639662,0.011555124748854636,0.028644008945639662,0.028644008945639662,0.0029029557759634806,0.028644008945639662,0.028644008945639662,0.028644008945639662,0.028644008945639662,0.028644008945639662,0.028644008945639662,0.011555124748854636,0.028644008945639662,0.028644008945639662,0.028644008945639662,0.011555124748854636,0.013097320004835235,0.013097320004835235,0.028644008945639662,0.028644008945639662,0.028644008945639662,0.028644008945639662,0.0029029557759634806,0.0029029557759634806,0.028644008945639662,0.028644008945639662,0.028644008945639662,0.028644008945639662,0.013097320004835235,0.013097320004835235,0.028644008945639662,0.028644008945639662,0.028644008945639662,0.028644008945639662,0.028644008945639662,0.011555124748854636,0.028644008945639662,0.028644008945639662,0.028644008945639662,0.011555124748854636,0.028644008945639662,0.028644008945639662,0.028644008945639662,0.011555124748854636,0.011555124748854636,0.013097320004835235,0.028644008945639662,0.028644008945639662,0.028644008945639662,0.011555124748854636,0.011555124748854636,0.011555124748854636,0.011555124748854636,0.011555124748854636,0.011555124748854636,0.011555124748854636,0.011555124748854636,0.013097320004835235,0.013097320004835235,0.011555124748854636,0.011555124748854636,0.011555124748854636,0.011555124748854636,0.011555124748854636,0.028644008945639662,0.028644008945639662,0.028644008945639662,0.013097320004835235,0.0029029557759634806,0.028644008945639662,0.028644008945639662,0.013097320004835235,0.028644008945639662,0.013097320004835235,0.028644008945639662,0.028644008945639662,0.028644008945639662,0.028644008945639662,0.028644008945639662,0.028644008945639662,0.013097320004835235,0.013097320004835235,0.028644008945639662,0.028644008945639662,0.013097320004835235,0.013097320004835235,0.013097320004835235,0.011555124748854636,0.011555124748854636,0.028644008945639662,0.028644008945639662,0.013097320004835235,0.013097320004835235,0.013097320004835235,0.013097320004835235,0.028644008945639662,0.028644008945639662,0.028644008945639662,0.028644008945639662,0.028644008945639662,0.028644008945639662,0.011555124748854636,0.0029029557759634806,0.013097320004835235,0.013097320004835235,0.011555124748854636,0.028644008945639662,0.013097320004835235,0.028644008945639662,0.028644008945639662,0.013097320004835235,0.011555124748854636,0.013097320004835235,0.013097320004835235,0.028644008945639662,0.028644008945639662,0.028644008945639662,0.028644008945639662,0.011555124748854636,0.011555124748854636,0.028644008945639662,0.028644008945639662,0.028644008945639662,0.028644008945639662,0.013097320004835235,0.013097320004835235,0.0029029557759634806,0.0029029557759634806,0.011555124748854636,0.013097320004835235,0.028644008945639662,0.028644008945639662,0.011555124748854636,0.011555124748854636,0.011555124748854636,0.028644008945639662,0.013097320004835235,0.013097320004835235,0.028644008945639662,0.028644008945639662,0.028644008945639662,0.013097320004835235,0.028644008945639662,0.0029029557759634806,0.013097320004835235,0.028644008945639662,0.028644008945639662,0.013097320004835235,0.013097320004835235,0.013097320004835235,0.011555124748854636,0.0029029557759634806,0.028644008945639662,0.013097320004835235,0.028644008945639662,0.028644008945639662,0.013097320004835235,0.028644008945639662,0.028644008945639662,0.028644008945639662,0.028644008945639662,0.011555124748854636,0.011555124748854636,0.011555124748854636,0.028644008945639662,0.028644008945639662,0.011555124748854636,0.013097320004835235,0.013097320004835235,0.013097320004835235,0.028644008945639662,0.011555124748854636,0.0029029557759634806,0.013097320004835235,0.028644008945639662,0.028644008945639662,0.028644008945639662,0.028644008945639662,0.028644008945639662,0.028644008945639662,0.028644008945639662,0.028644008945639662,0.028644008945639662,0.028644008945639662,0.013097320004835235,0.013097320004835235,0.028644008945639662,0.0029029557759634806,0.028644008945639662,0.013097320004835235,0.011555124748854636,0.028644008945639662,0.028644008945639662,0.013097320004835235,0.0029029557759634806,0.028644008945639662,0.028644008945639662,0.028644008945639662,0.028644008945639662,0.028644008945639662,0.028644008945639662,0.011555124748854636,0.011555124748854636,0.011555124748854636,0.011555124748854636,0.011555124748854636,0.028644008945639662,0.013097320004835235,0.013097320004835235,0.028644008945639662,0.011555124748854636,0.013097320004835235,0.028644008945639662,0.028644008945639662,0.028644008945639662,0.028644008945639662,0.028644008945639662,0.028644008945639662,0.028644008945639662,0.028644008945639662,0.028644008945639662,0.028644008945639662,0.028644008945639662,0.028644008945639662,0.028644008945639662,0.028644008945639662,0.028644008945639662,0.028644008945639662,0.028644008945639662,0.028644008945639662,0.028644008945639662,0.028644008945639662,0.028644008945639662,0.028644008945639662,0.028644008945639662,0.028644008945639662,0.028644008945639662,0.028644008945639662,0.028644008945639662,0.028644008945639662,0.028644008945639662,0.011555124748854636,0.011555124748854636,0.013097320004835235,0.028644008945639662,0.028644008945639662,0.028644008945639662,0.011555124748854636,0.0029029557759634806,0.013097320004835235,0.028644008945639662,0.028644008945639662,0.028644008945639662,0.013097320004835235,0.013097320004835235,0.028644008945639662,0.028644008945639662,0.011555124748854636,0.028644008945639662,0.013097320004835235,0.011555124748854636,0.0029029557759634806,0.028644008945639662,0.013097320004835235,0.013097320004835235,0.028644008945639662,0.028644008945639662,0.028644008945639662,0.013097320004835235,0.013097320004835235,0.013097320004835235,0.013097320004835235,0.013097320004835235,0.028644008945639662,0.028644008945639662,0.013097320004835235,0.028644008945639662,0.028644008945639662,0.013097320004835235,0.028644008945639662,0.011555124748854636,0.028644008945639662,0.028644008945639662,0.0029029557759634806,0.013097320004835235,0.028644008945639662,0.011555124748854636,0.013097320004835235,0.028644008945639662,0.028644008945639662,0.028644008945639662,0.011555124748854636,0.028644008945639662,0.0029029557759634806,0.028644008945639662,0.011555124748854636,0.0029029557759634806,0.028644008945639662,0.028644008945639662,0.0029029557759634806,0.013097320004835235,0.013097320004835235,0.013097320004835235,0.011555124748854636,0.011555124748854636,0.011555124748854636,0.011555124748854636,0.028644008945639662,0.013097320004835235,0.013097320004835235,0.028644008945639662,0.028644008945639662,0.028644008945639662,0.028644008945639662,0.028644008945639662,0.013097320004835235,0.013097320004835235,0.013097320004835235,0.028644008945639662,0.013097320004835235,0.013097320004835235,0.028644008945639662,0.011555124748854636,0.013097320004835235,0.011555124748854636,0.011555124748854636,0.028644008945639662,0.028644008945639662,0.028644008945639662,0.013097320004835235,0.013097320004835235,0.013097320004835235,0.013097320004835235,0.028644008945639662,0.028644008945639662,0.013097320004835235,0.028644008945639662,0.0029029557759634806,0.028644008945639662,0.028644008945639662,0.013097320004835235,0.011555124748854636,0.028644008945639662,0.028644008945639662,0.011555124748854636,0.011555124748854636,0.028644008945639662,0.028644008945639662,0.028644008945639662,0.0029029557759634806,0.013097320004835235,0.013097320004835235,0.013097320004835235,0.028644008945639662,0.028644008945639662,0.028644008945639662,0.011555124748854636,0.011555124748854636,0.011555124748854636,0.011555124748854636,0.011555124748854636,0.011555124748854636,0.013097320004835235,0.013097320004835235,0.013097320004835235,0.028644008945639662,0.013097320004835235,0.028644008945639662,0.028644008945639662,0.028644008945639662,0.011555124748854636,0.028644008945639662,0.011555124748854636,0.013097320004835235,0.013097320004835235,0.028644008945639662,0.028644008945639662,0.013097320004835235,0.013097320004835235,0.028644008945639662,0.028644008945639662,0.011555124748854636,0.0029029557759634806,0.028644008945639662,0.028644008945639662,0.028644008945639662,0.028644008945639662,0.011555124748854636,0.013097320004835235,0.028644008945639662,0.028644008945639662,0.011555124748854636,0.028644008945639662,0.028644008945639662,0.028644008945639662,0.028644008945639662,0.028644008945639662,0.028644008945639662,0.028644008945639662,0.028644008945639662,0.028644008945639662,0.028644008945639662,0.028644008945639662,0.028644008945639662,0.028644008945639662,0.028644008945639662,0.028644008945639662,0.028644008945639662,0.011555124748854636,0.013097320004835235,0.013097320004835235,0.013097320004835235,0.028644008945639662,0.011555124748854636,0.028644008945639662,0.028644008945639662,0.011555124748854636,0.013097320004835235,0.013097320004835235,0.028644008945639662,0.028644008945639662,0.028644008945639662,0.028644008945639662,0.028644008945639662,0.028644008945639662,0.028644008945639662,0.028644008945639662,0.028644008945639662,0.0029029557759634806,0.011555124748854636,0.011555124748854636,0.011555124748854636,0.011555124748854636,0.028644008945639662,0.028644008945639662,0.013097320004835235,0.028644008945639662,0.028644008945639662,0.028644008945639662,0.028644008945639662,0.028644008945639662,0.011555124748854636,0.0029029557759634806,0.013097320004835235,0.013097320004835235,0.013097320004835235,0.028644008945639662,0.013097320004835235,0.028644008945639662,0.028644008945639662,0.011555124748854636,0.0029029557759634806,0.013097320004835235,0.028644008945639662,0.028644008945639662,0.013097320004835235,0.011555124748854636,0.028644008945639662,0.028644008945639662,0.028644008945639662,0.011555124748854636,0.0029029557759634806,0.028644008945639662,0.011555124748854636,0.028644008945639662,0.028644008945639662,0.013097320004835235,0.013097320004835235,0.028644008945639662,0.028644008945639662,0.028644008945639662,0.028644008945639662,0.028644008945639662,0.011555124748854636,0.028644008945639662,0.028644008945639662,0.028644008945639662,0.013097320004835235,0.013097320004835235,0.028644008945639662,0.028644008945639662,0.028644008945639662,0.028644008945639662,0.028644008945639662,0.011555124748854636,0.011555124748854636,0.011555124748854636,0.013097320004835235,0.011555124748854636,0.011555124748854636,0.011555124748854636,0.0029029557759634806,0.013097320004835235,0.028644008945639662,0.013097320004835235,0.028644008945639662,0.028644008945639662,0.011555124748854636,0.011555124748854636,0.011555124748854636,0.028644008945639662,0.028644008945639662,0.028644008945639662,0.013097320004835235,0.013097320004835235,0.028644008945639662,0.028644008945639662,0.028644008945639662,0.028644008945639662,0.028644008945639662,0.028644008945639662,0.028644008945639662,0.028644008945639662,0.028644008945639662,0.028644008945639662,0.011555124748854636,0.011555124748854636,0.011555124748854636,0.011555124748854636,0.011555124748854636,0.0029029557759634806,0.0029029557759634806,0.0029029557759634806,0.0029029557759634806,0.013097320004835235,0.013097320004835235,0.028644008945639662,0.028644008945639662,0.028644008945639662,0.013097320004835235,0.028644008945639662,0.028644008945639662,0.028644008945639662,0.011555124748854636,0.0029029557759634806,0.013097320004835235,0.028644008945639662,0.028644008945639662,0.028644008945639662,0.011555124748854636,0.013097320004835235,0.011555124748854636,0.011555124748854636,0.011555124748854636,0.0029029557759634806,0.028644008945639662,0.028644008945639662,0.028644008945639662,0.013097320004835235,0.013097320004835235,0.013097320004835235,0.011555124748854636,0.011555124748854636,0.011555124748854636,0.011555124748854636,0.0029029557759634806,0.028644008945639662,0.0029029557759634806,0.013097320004835235,0.028644008945639662,0.028644008945639662,0.011555124748854636,0.0029029557759634806,0.013097320004835235,0.0029029557759634806,0.011555124748854636,0.011555124748854636,0.013097320004835235,0.013097320004835235,0.013097320004835235,0.013097320004835235,0.028644008945639662,0.028644008945639662,0.028644008945639662,0.011555124748854636,0.028644008945639662,0.011555124748854636,0.013097320004835235,0.028644008945639662,0.028644008945639662,0.028644008945639662,0.011555124748854636,0.013097320004835235,0.013097320004835235,0.028644008945639662,0.028644008945639662,0.011555124748854636,0.0029029557759634806,0.013097320004835235,0.011555124748854636,0.011555124748854636,0.011555124748854636,0.028644008945639662,0.028644008945639662,0.028644008945639662,0.013097320004835235,0.013097320004835235,0.013097320004835235,0.013097320004835235,0.013097320004835235,0.028644008945639662,0.028644008945639662,0.028644008945639662,0.028644008945639662,0.028644008945639662,0.028644008945639662,0.028644008945639662,0.011555124748854636,0.011555124748854636,0.011555124748854636,0.013097320004835235,0.013097320004835235,0.013097320004835235,0.011555124748854636,0.013097320004835235,0.028644008945639662,0.013097320004835235,0.028644008945639662,0.028644008945639662,0.028644008945639662,0.028644008945639662,0.011555124748854636,0.028644008945639662,0.028644008945639662,0.028644008945639662,0.028644008945639662,0.013097320004835235,0.028644008945639662,0.028644008945639662,0.011555124748854636,0.011555124748854636,0.028644008945639662,0.028644008945639662,0.028644008945639662,0.028644008945639662,0.028644008945639662,0.028644008945639662,0.028644008945639662,0.028644008945639662,0.028644008945639662,0.028644008945639662,0.028644008945639662,0.028644008945639662,0.0029029557759634806,0.0029029557759634806,0.013097320004835235,0.028644008945639662,0.028644008945639662,0.028644008945639662,0.028644008945639662,0.028644008945639662,0.011555124748854636,0.028644008945639662,0.028644008945639662,0.028644008945639662,0.011555124748854636,0.013097320004835235,0.013097320004835235,0.013097320004835235,0.013097320004835235,0.013097320004835235,0.028644008945639662,0.028644008945639662,0.011555124748854636,0.028644008945639662,0.028644008945639662,0.011555124748854636,0.011555124748854636,0.028644008945639662,0.011555124748854636,0.011555124748854636,0.013097320004835235,0.013097320004835235,0.013097320004835235,0.013097320004835235,0.013097320004835235,0.028644008945639662,0.028644008945639662,0.028644008945639662,0.028644008945639662,0.011555124748854636,0.011555124748854636,0.011555124748854636,0.028644008945639662,0.028644008945639662,0.028644008945639662,0.011555124748854636,0.011555124748854636,0.011555124748854636,0.0029029557759634806,0.013097320004835235,0.013097320004835235,0.013097320004835235,0.013097320004835235,0.028644008945639662,0.028644008945639662,0.028644008945639662,0.011555124748854636,0.0029029557759634806,0.013097320004835235,0.028644008945639662,0.011555124748854636,0.013097320004835235,0.013097320004835235,0.013097320004835235,0.028644008945639662,0.0029029557759634806,0.011555124748854636,0.0029029557759634806,0.0029029557759634806,0.011555124748854636,0.011555124748854636,0.011555124748854636,0.011555124748854636,0.011555124748854636,0.011555124748854636,0.011555124748854636,0.028644008945639662,0.013097320004835235,0.013097320004835235,0.013097320004835235,0.028644008945639662,0.028644008945639662,0.028644008945639662,0.028644008945639662,0.011555124748854636,0.028644008945639662,0.028644008945639662,0.028644008945639662,0.028644008945639662,0.028644008945639662,0.011555124748854636,0.013097320004835235,0.011555124748854636,0.028644008945639662,0.011555124748854636,0.011555124748854636,0.028644008945639662,0.028644008945639662,0.028644008945639662,0.028644008945639662,0.028644008945639662,0.013097320004835235,0.011555124748854636,0.013097320004835235,0.013097320004835235,0.028644008945639662,0.028644008945639662,0.013097320004835235,0.028644008945639662,0.028644008945639662,0.028644008945639662,0.028644008945639662,0.013097320004835235,0.028644008945639662,0.028644008945639662,0.028644008945639662,0.0029029557759634806,0.013097320004835235,0.013097320004835235,0.013097320004835235,0.013097320004835235,0.013097320004835235,0.028644008945639662,0.011555124748854636,0.028644008945639662,0.028644008945639662,0.028644008945639662,0.028644008945639662,0.028644008945639662,0.028644008945639662,0.013097320004835235,0.028644008945639662,0.028644008945639662,0.011555124748854636,0.013097320004835235,0.013097320004835235,0.028644008945639662,0.011555124748854636,0.011555124748854636,0.0029029557759634806,0.028644008945639662,0.028644008945639662,0.028644008945639662,0.028644008945639662,0.028644008945639662,0.028644008945639662,0.028644008945639662,0.028644008945639662,0.028644008945639662,0.028644008945639662,0.028644008945639662,0.028644008945639662,0.028644008945639662,0.011555124748854636,0.011555124748854636,0.011555124748854636,0.0029029557759634806,0.0029029557759634806,0.0029029557759634806,0.013097320004835235,0.028644008945639662,0.028644008945639662,0.0029029557759634806,0.028644008945639662,0.011555124748854636,0.028644008945639662,0.028644008945639662,0.028644008945639662,0.028644008945639662,0.028644008945639662,0.028644008945639662,0.0029029557759634806,0.011555124748854636,0.0029029557759634806,0.028644008945639662,0.011555124748854636,0.011555124748854636,0.011555124748854636,0.028644008945639662,0.013097320004835235,0.011555124748854636,0.028644008945639662,0.011555124748854636,0.013097320004835235,0.013097320004835235,0.028644008945639662,0.011555124748854636,0.011555124748854636,0.011555124748854636,0.028644008945639662,0.028644008945639662,0.028644008945639662,0.028644008945639662,0.028644008945639662,0.028644008945639662,0.011555124748854636,0.011555124748854636,0.011555124748854636,0.011555124748854636,0.011555124748854636,0.011555124748854636,0.013097320004835235,0.013097320004835235,0.013097320004835235,0.013097320004835235,0.013097320004835235,0.013097320004835235,0.0029029557759634806,0.028644008945639662,0.028644008945639662,0.028644008945639662,0.028644008945639662,0.028644008945639662,0.028644008945639662,0.028644008945639662,0.028644008945639662,0.028644008945639662,0.011555124748854636,0.011555124748854636,0.028644008945639662,0.011555124748854636,0.013097320004835235,0.028644008945639662,0.011555124748854636,0.013097320004835235,0.011555124748854636,0.011555124748854636,0.028644008945639662,0.028644008945639662,0.028644008945639662,0.028644008945639662,0.028644008945639662,0.028644008945639662,0.013097320004835235,0.011555124748854636,0.028644008945639662,0.028644008945639662,0.013097320004835235,0.028644008945639662,0.013097320004835235,0.013097320004835235,0.013097320004835235,0.013097320004835235,0.013097320004835235,0.0029029557759634806,0.028644008945639662,0.013097320004835235,0.028644008945639662,0.028644008945639662,0.028644008945639662,0.028644008945639662,0.028644008945639662,0.011555124748854636,0.013097320004835235,0.028644008945639662,0.011555124748854636,0.028644008945639662,0.011555124748854636,0.011555124748854636,0.013097320004835235,0.013097320004835235,0.013097320004835235,0.013097320004835235,0.011555124748854636,0.011555124748854636,0.013097320004835235,0.028644008945639662,0.028644008945639662,0.013097320004835235,0.028644008945639662,0.011555124748854636,0.0029029557759634806,0.028644008945639662,0.011555124748854636,0.028644008945639662,0.028644008945639662,0.0029029557759634806,0.013097320004835235,0.0029029557759634806,0.028644008945639662,0.028644008945639662,0.013097320004835235,0.013097320004835235,0.0029029557759634806,0.028644008945639662,0.028644008945639662,0.028644008945639662,0.028644008945639662,0.028644008945639662,0.028644008945639662,0.0029029557759634806,0.013097320004835235,0.028644008945639662,0.028644008945639662,0.028644008945639662,0.013097320004835235,0.028644008945639662,0.028644008945639662,0.028644008945639662,0.028644008945639662,0.028644008945639662,0.028644008945639662,0.028644008945639662,0.028644008945639662,0.011555124748854636,0.011555124748854636,0.0029029557759634806,0.0029029557759634806,0.028644008945639662,0.028644008945639662,0.028644008945639662,0.028644008945639662,0.011555124748854636,0.013097320004835235,0.013097320004835235,0.0029029557759634806,0.028644008945639662,0.028644008945639662,0.028644008945639662,0.011555124748854636,0.013097320004835235,0.011555124748854636,0.011555124748854636,0.028644008945639662,0.013097320004835235,0.028644008945639662,0.028644008945639662,0.028644008945639662,0.028644008945639662,0.0029029557759634806,0.013097320004835235,0.028644008945639662,0.028644008945639662,0.028644008945639662,0.028644008945639662,0.028644008945639662,0.0029029557759634806,0.013097320004835235,0.028644008945639662,0.028644008945639662,0.028644008945639662,0.013097320004835235,0.0029029557759634806,0.028644008945639662,0.028644008945639662,0.028644008945639662,0.028644008945639662,0.028644008945639662,0.028644008945639662,0.011555124748854636,0.013097320004835235,0.028644008945639662,0.028644008945639662,0.028644008945639662,0.013097320004835235,0.013097320004835235,0.028644008945639662,0.028644008945639662,0.028644008945639662,0.028644008945639662,0.028644008945639662,0.028644008945639662,0.028644008945639662,0.028644008945639662,0.011555124748854636,0.011555124748854636,0.011555124748854636,0.013097320004835235,0.013097320004835235,0.028644008945639662,0.028644008945639662,0.028644008945639662,0.011555124748854636,0.011555124748854636,0.011555124748854636,0.011555124748854636,0.013097320004835235,0.028644008945639662,0.028644008945639662,0.028644008945639662,0.028644008945639662,0.013097320004835235,0.013097320004835235,0.028644008945639662,0.028644008945639662,0.011555124748854636,0.0029029557759634806,0.028644008945639662,0.028644008945639662,0.011555124748854636,0.011555124748854636,0.011555124748854636,0.0029029557759634806,0.028644008945639662,0.028644008945639662,0.028644008945639662,0.028644008945639662,0.028644008945639662,0.028644008945639662,0.028644008945639662,0.028644008945639662,0.028644008945639662,0.028644008945639662,0.028644008945639662,0.028644008945639662,0.028644008945639662,0.028644008945639662,0.028644008945639662,0.028644008945639662,0.028644008945639662,0.028644008945639662,0.011555124748854636,0.028644008945639662,0.028644008945639662,0.013097320004835235,0.028644008945639662,0.028644008945639662,0.011555124748854636,0.011555124748854636,0.011555124748854636,0.028644008945639662,0.028644008945639662,0.011555124748854636,0.011555124748854636,0.011555124748854636,0.011555124748854636,0.0029029557759634806,0.013097320004835235,0.013097320004835235,0.028644008945639662,0.0029029557759634806,0.011555124748854636,0.011555124748854636,0.011555124748854636,0.013097320004835235,0.013097320004835235,0.013097320004835235,0.028644008945639662,0.028644008945639662,0.028644008945639662,0.0029029557759634806,0.013097320004835235,0.013097320004835235,0.013097320004835235,0.028644008945639662,0.011555124748854636,0.013097320004835235,0.013097320004835235,0.028644008945639662,0.028644008945639662,0.013097320004835235,0.013097320004835235,0.013097320004835235,0.028644008945639662,0.028644008945639662,0.028644008945639662,0.028644008945639662,0.028644008945639662,0.028644008945639662,0.013097320004835235,0.028644008945639662,0.028644008945639662,0.011555124748854636,0.011555124748854636,0.013097320004835235,0.013097320004835235,0.028644008945639662,0.011555124748854636,0.028644008945639662,0.028644008945639662,0.0029029557759634806,0.013097320004835235,0.013097320004835235,0.013097320004835235,0.013097320004835235,0.011555124748854636,0.011555124748854636,0.013097320004835235,0.013097320004835235,0.013097320004835235,0.013097320004835235,0.028644008945639662,0.028644008945639662,0.013097320004835235,0.028644008945639662,0.0029029557759634806,0.013097320004835235,0.028644008945639662,0.028644008945639662,0.011555124748854636,0.028644008945639662,0.028644008945639662,0.028644008945639662,0.011555124748854636,0.011555124748854636,0.0029029557759634806,0.013097320004835235,0.013097320004835235,0.013097320004835235,0.013097320004835235,0.013097320004835235,0.013097320004835235,0.013097320004835235,0.013097320004835235,0.013097320004835235,0.028644008945639662,0.028644008945639662,0.011555124748854636,0.028644008945639662,0.028644008945639662,0.028644008945639662,0.028644008945639662,0.013097320004835235,0.011555124748854636,0.028644008945639662,0.013097320004835235,0.028644008945639662,0.028644008945639662,0.028644008945639662,0.028644008945639662,0.028644008945639662,0.028644008945639662,0.028644008945639662,0.0029029557759634806,0.0029029557759634806,0.028644008945639662,0.028644008945639662,0.028644008945639662,0.028644008945639662,0.011555124748854636,0.011555124748854636,0.013097320004835235,0.013097320004835235,0.028644008945639662,0.028644008945639662,0.028644008945639662,0.011555124748854636,0.011555124748854636,0.011555124748854636,0.011555124748854636,0.028644008945639662,0.011555124748854636,0.028644008945639662,0.011555124748854636,0.011555124748854636,0.011555124748854636,0.011555124748854636,0.0029029557759634806,0.028644008945639662,0.013097320004835235,0.0029029557759634806,0.0029029557759634806,0.028644008945639662,0.028644008945639662,0.028644008945639662,0.011555124748854636,0.013097320004835235,0.013097320004835235,0.028644008945639662,0.028644008945639662,0.028644008945639662,0.028644008945639662,0.028644008945639662,0.028644008945639662,0.013097320004835235,0.028644008945639662,0.028644008945639662,0.028644008945639662,0.028644008945639662,0.0029029557759634806,0.0029029557759634806,0.028644008945639662,0.028644008945639662,0.028644008945639662,0.028644008945639662,0.028644008945639662,0.028644008945639662,0.011555124748854636,0.013097320004835235,0.011555124748854636,0.011555124748854636,0.011555124748854636,0.011555124748854636,0.011555124748854636,0.011555124748854636,0.011555124748854636,0.028644008945639662,0.013097320004835235,0.011555124748854636,0.013097320004835235,0.013097320004835235,0.028644008945639662,0.028644008945639662,0.028644008945639662,0.028644008945639662,0.028644008945639662,0.028644008945639662,0.013097320004835235,0.028644008945639662,0.0029029557759634806,0.013097320004835235,0.028644008945639662,0.028644008945639662,0.011555124748854636,0.011555124748854636,0.011555124748854636,0.011555124748854636,0.028644008945639662,0.013097320004835235,0.013097320004835235,0.013097320004835235,0.0029029557759634806,0.028644008945639662,0.028644008945639662,0.028644008945639662,0.028644008945639662,0.028644008945639662,0.028644008945639662,0.011555124748854636,0.011555124748854636,0.011555124748854636,0.028644008945639662,0.028644008945639662,0.028644008945639662,0.028644008945639662,0.028644008945639662,0.011555124748854636,0.028644008945639662,0.028644008945639662,0.028644008945639662,0.028644008945639662,0.028644008945639662,0.028644008945639662,0.011555124748854636,0.011555124748854636,0.0029029557759634806,0.013097320004835235,0.028644008945639662,0.0029029557759634806,0.028644008945639662,0.013097320004835235,0.028644008945639662,0.028644008945639662,0.028644008945639662,0.011555124748854636,0.0029029557759634806,0.013097320004835235,0.011555124748854636,0.011555124748854636,0.028644008945639662,0.011555124748854636,0.028644008945639662,0.028644008945639662,0.028644008945639662,0.011555124748854636,0.011555124748854636,0.011555124748854636,0.0029029557759634806,0.028644008945639662,0.011555124748854636,0.028644008945639662,0.028644008945639662,0.028644008945639662,0.011555124748854636,0.011555124748854636,0.0029029557759634806,0.013097320004835235,0.013097320004835235,0.011555124748854636,0.013097320004835235,0.011555124748854636,0.028644008945639662,0.011555124748854636,0.0029029557759634806,0.013097320004835235,0.028644008945639662,0.028644008945639662,0.011555124748854636,0.011555124748854636,0.013097320004835235,0.013097320004835235,0.028644008945639662,0.0029029557759634806,0.028644008945639662,0.011555124748854636,0.011555124748854636,0.0029029557759634806,0.028644008945639662,0.028644008945639662,0.028644008945639662,0.028644008945639662,0.028644008945639662,0.028644008945639662,0.028644008945639662,0.011555124748854636,0.028644008945639662,0.028644008945639662,0.028644008945639662,0.028644008945639662,0.028644008945639662,0.0029029557759634806,0.028644008945639662,0.028644008945639662,0.011555124748854636,0.028644008945639662,0.028644008945639662,0.028644008945639662,0.028644008945639662,0.028644008945639662,0.028644008945639662,0.013097320004835235,0.028644008945639662,0.028644008945639662,0.011555124748854636,0.028644008945639662,0.028644008945639662,0.028644008945639662,0.028644008945639662,0.028644008945639662,0.011555124748854636,0.013097320004835235,0.028644008945639662,0.028644008945639662,0.028644008945639662,0.028644008945639662,0.011555124748854636,0.013097320004835235,0.013097320004835235,0.013097320004835235,0.013097320004835235,0.013097320004835235,0.013097320004835235,0.013097320004835235,0.013097320004835235,0.013097320004835235,0.028644008945639662,0.011555124748854636,0.028644008945639662,0.028644008945639662,0.028644008945639662,0.028644008945639662,0.028644008945639662,0.011555124748854636,0.011555124748854636,0.011555124748854636,0.028644008945639662,0.011555124748854636,0.011555124748854636,0.013097320004835235,0.028644008945639662,0.028644008945639662,0.028644008945639662,0.028644008945639662,0.028644008945639662,0.013097320004835235,0.028644008945639662,0.028644008945639662,0.028644008945639662,0.013097320004835235,0.013097320004835235,0.013097320004835235,0.013097320004835235,0.011555124748854636,0.028644008945639662,0.0029029557759634806,0.013097320004835235,0.013097320004835235,0.013097320004835235,0.013097320004835235,0.028644008945639662,0.028644008945639662,0.011555124748854636,0.028644008945639662,0.011555124748854636,0.011555124748854636,0.013097320004835235,0.011555124748854636,0.011555124748854636,0.011555124748854636,0.011555124748854636,0.011555124748854636,0.013097320004835235,0.013097320004835235,0.028644008945639662,0.028644008945639662,0.028644008945639662,0.028644008945639662,0.028644008945639662,0.028644008945639662,0.011555124748854636,0.013097320004835235,0.011555124748854636,0.011555124748854636,0.028644008945639662,0.011555124748854636,0.013097320004835235,0.028644008945639662,0.028644008945639662,0.028644008945639662,0.028644008945639662,0.028644008945639662,0.011555124748854636,0.011555124748854636,0.028644008945639662,0.028644008945639662,0.028644008945639662,0.028644008945639662,0.028644008945639662,0.028644008945639662,0.028644008945639662,0.011555124748854636,0.0029029557759634806,0.0029029557759634806,0.028644008945639662,0.0029029557759634806,0.028644008945639662,0.028644008945639662,0.028644008945639662,0.028644008945639662,0.028644008945639662,0.028644008945639662,0.028644008945639662,0.028644008945639662,0.011555124748854636,0.011555124748854636,0.013097320004835235,0.013097320004835235,0.013097320004835235,0.013097320004835235,0.028644008945639662,0.028644008945639662,0.013097320004835235,0.013097320004835235,0.028644008945639662,0.0029029557759634806,0.028644008945639662,0.028644008945639662,0.028644008945639662,0.028644008945639662,0.013097320004835235,0.011555124748854636,0.011555124748854636,0.028644008945639662,0.028644008945639662,0.028644008945639662,0.028644008945639662,0.011555124748854636,0.011555124748854636,0.013097320004835235,0.013097320004835235,0.028644008945639662,0.0029029557759634806,0.028644008945639662,0.028644008945639662,0.028644008945639662,0.028644008945639662,0.028644008945639662,0.011555124748854636,0.013097320004835235,0.013097320004835235,0.013097320004835235,0.013097320004835235,0.013097320004835235,0.013097320004835235,0.013097320004835235,0.013097320004835235,0.013097320004835235,0.028644008945639662,0.011555124748854636,0.011555124748854636,0.011555124748854636,0.028644008945639662,0.028644008945639662,0.028644008945639662,0.028644008945639662,0.028644008945639662,0.0029029557759634806,0.013097320004835235,0.028644008945639662,0.028644008945639662,0.028644008945639662,0.011555124748854636,0.028644008945639662,0.028644008945639662,0.028644008945639662,0.013097320004835235,0.028644008945639662,0.028644008945639662,0.028644008945639662,0.011555124748854636,0.011555124748854636,0.028644008945639662,0.028644008945639662,0.011555124748854636,0.011555124748854636,0.028644008945639662,0.028644008945639662,0.028644008945639662,0.011555124748854636,0.011555124748854636,0.028644008945639662,0.028644008945639662,0.013097320004835235,0.013097320004835235,0.013097320004835235,0.028644008945639662,0.028644008945639662,0.028644008945639662,0.011555124748854636,0.013097320004835235,0.013097320004835235,0.013097320004835235,0.013097320004835235,0.013097320004835235,0.028644008945639662,0.028644008945639662,0.011555124748854636,0.011555124748854636,0.013097320004835235,0.013097320004835235,0.013097320004835235,0.028644008945639662,0.011555124748854636,0.0029029557759634806,0.028644008945639662,0.011555124748854636,0.028644008945639662,0.028644008945639662,0.028644008945639662,0.011555124748854636,0.0029029557759634806,0.028644008945639662,0.028644008945639662,0.028644008945639662,0.028644008945639662,0.028644008945639662,0.028644008945639662,0.028644008945639662,0.028644008945639662,0.013097320004835235,0.028644008945639662,0.028644008945639662,0.013097320004835235,0.013097320004835235,0.013097320004835235,0.013097320004835235,0.011555124748854636,0.028644008945639662,0.028644008945639662,0.011555124748854636,0.011555124748854636,0.011555124748854636,0.013097320004835235,0.028644008945639662,0.028644008945639662,0.028644008945639662,0.028644008945639662,0.028644008945639662,0.028644008945639662,0.028644008945639662,0.028644008945639662,0.028644008945639662,0.028644008945639662,0.011555124748854636,0.011555124748854636,0.013097320004835235,0.013097320004835235,0.013097320004835235,0.011555124748854636,0.028644008945639662,0.028644008945639662,0.028644008945639662,0.011555124748854636,0.011555124748854636,0.011555124748854636,0.011555124748854636,0.013097320004835235,0.028644008945639662,0.011555124748854636,0.028644008945639662,0.013097320004835235,0.013097320004835235,0.028644008945639662,0.011555124748854636,0.011555124748854636,0.011555124748854636,0.028644008945639662,0.013097320004835235,0.028644008945639662,0.011555124748854636,0.013097320004835235,0.028644008945639662,0.028644008945639662,0.011555124748854636,0.0029029557759634806,0.028644008945639662,0.011555124748854636,0.028644008945639662,0.011555124748854636,0.011555124748854636,0.013097320004835235,0.013097320004835235,0.028644008945639662,0.028644008945639662,0.028644008945639662,0.028644008945639662,0.028644008945639662,0.011555124748854636,0.011555124748854636,0.011555124748854636,0.028644008945639662,0.011555124748854636,0.028644008945639662,0.028644008945639662,0.013097320004835235,0.013097320004835235,0.013097320004835235,0.013097320004835235,0.028644008945639662,0.011555124748854636,0.011555124748854636,0.028644008945639662,0.028644008945639662,0.013097320004835235,0.028644008945639662,0.028644008945639662,0.028644008945639662,0.011555124748854636,0.011555124748854636,0.011555124748854636,0.013097320004835235,0.013097320004835235,0.013097320004835235,0.028644008945639662,0.013097320004835235,0.011555124748854636,0.028644008945639662,0.028644008945639662,0.028644008945639662,0.028644008945639662,0.028644008945639662,0.028644008945639662,0.028644008945639662,0.013097320004835235,0.028644008945639662,0.013097320004835235,0.028644008945639662,0.028644008945639662,0.013097320004835235,0.028644008945639662,0.028644008945639662,0.028644008945639662,0.028644008945639662,0.028644008945639662,0.028644008945639662,0.028644008945639662,0.013097320004835235,0.011555124748854636,0.028644008945639662,0.028644008945639662,0.028644008945639662,0.028644008945639662,0.028644008945639662,0.028644008945639662,0.028644008945639662,0.028644008945639662,0.028644008945639662,0.028644008945639662,0.013097320004835235,0.028644008945639662,0.011555124748854636,0.011555124748854636,0.028644008945639662,0.011555124748854636,0.028644008945639662,0.028644008945639662,0.028644008945639662,0.028644008945639662,0.013097320004835235,0.028644008945639662,0.028644008945639662,0.028644008945639662,0.028644008945639662,0.013097320004835235,0.028644008945639662,0.028644008945639662,0.013097320004835235,0.011555124748854636,0.011555124748854636,0.028644008945639662,0.011555124748854636,0.013097320004835235,0.028644008945639662,0.028644008945639662,0.028644008945639662,0.011555124748854636,0.028644008945639662,0.011555124748854636,0.028644008945639662,0.028644008945639662,0.011555124748854636,0.0029029557759634806,0.013097320004835235,0.013097320004835235,0.028644008945639662,0.013097320004835235,0.028644008945639662,0.028644008945639662,0.028644008945639662,0.013097320004835235,0.013097320004835235,0.011555124748854636,0.013097320004835235,0.013097320004835235,0.013097320004835235,0.013097320004835235,0.028644008945639662,0.013097320004835235,0.028644008945639662,0.011555124748854636,0.028644008945639662,0.028644008945639662,0.013097320004835235,0.013097320004835235,0.013097320004835235,0.013097320004835235,0.028644008945639662,0.028644008945639662,0.028644008945639662,0.028644008945639662,0.011555124748854636,0.0029029557759634806,0.013097320004835235,0.013097320004835235,0.028644008945639662,0.013097320004835235,0.0029029557759634806,0.013097320004835235,0.028644008945639662,0.028644008945639662,0.011555124748854636,0.028644008945639662,0.028644008945639662,0.028644008945639662,0.0029029557759634806,0.011555124748854636,0.011555124748854636,0.011555124748854636,0.013097320004835235,0.028644008945639662,0.028644008945639662,0.028644008945639662,0.028644008945639662,0.011555124748854636,0.011555124748854636,0.013097320004835235,0.013097320004835235,0.013097320004835235,0.028644008945639662,0.011555124748854636,0.011555124748854636,0.011555124748854636,0.011555124748854636,0.0029029557759634806,0.011555124748854636,0.028644008945639662,0.028644008945639662,0.011555124748854636,0.013097320004835235,0.013097320004835235,0.013097320004835235,0.028644008945639662,0.028644008945639662,0.0029029557759634806,0.0029029557759634806,0.0029029557759634806,0.028644008945639662,0.011555124748854636,0.013097320004835235,0.028644008945639662,0.028644008945639662,0.013097320004835235,0.013097320004835235,0.013097320004835235,0.013097320004835235,0.028644008945639662,0.028644008945639662,0.011555124748854636,0.013097320004835235,0.028644008945639662,0.028644008945639662,0.028644008945639662,0.028644008945639662,0.013097320004835235,0.013097320004835235,0.013097320004835235,0.013097320004835235,0.028644008945639662,0.028644008945639662,0.028644008945639662,0.028644008945639662,0.011555124748854636,0.011555124748854636,0.013097320004835235,0.028644008945639662,0.013097320004835235,0.028644008945639662,0.013097320004835235,0.028644008945639662,0.028644008945639662,0.011555124748854636,0.013097320004835235,0.028644008945639662,0.013097320004835235,0.013097320004835235,0.011555124748854636,0.013097320004835235,0.013097320004835235,0.013097320004835235,0.013097320004835235,0.028644008945639662,0.013097320004835235,0.0029029557759634806,0.028644008945639662,0.028644008945639662,0.028644008945639662,0.013097320004835235,0.011555124748854636,0.013097320004835235,0.011555124748854636,0.0029029557759634806,0.013097320004835235,0.013097320004835235,0.013097320004835235,0.013097320004835235,0.013097320004835235,0.028644008945639662,0.011555124748854636,0.028644008945639662,0.028644008945639662,0.028644008945639662,0.011555124748854636,0.013097320004835235,0.0029029557759634806,0.028644008945639662,0.011555124748854636,0.011555124748854636,0.011555124748854636,0.0029029557759634806,0.028644008945639662,0.011555124748854636,0.011555124748854636,0.013097320004835235,0.011555124748854636,0.013097320004835235,0.013097320004835235,0.013097320004835235,0.011555124748854636,0.013097320004835235,0.013097320004835235,0.028644008945639662,0.028644008945639662,0.011555124748854636,0.011555124748854636,0.028644008945639662,0.011555124748854636,0.011555124748854636,0.011555124748854636,0.011555124748854636,0.013097320004835235,0.011555124748854636,0.028644008945639662,0.028644008945639662,0.011555124748854636,0.011555124748854636,0.028644008945639662,0.028644008945639662,0.028644008945639662,0.028644008945639662,0.028644008945639662,0.028644008945639662,0.028644008945639662,0.028644008945639662,0.011555124748854636,0.013097320004835235,0.028644008945639662,0.013097320004835235,0.028644008945639662,0.028644008945639662,0.011555124748854636,0.011555124748854636,0.013097320004835235,0.028644008945639662,0.028644008945639662,0.013097320004835235,0.028644008945639662,0.028644008945639662,0.028644008945639662,0.011555124748854636,0.013097320004835235,0.028644008945639662,0.011555124748854636,0.028644008945639662,0.028644008945639662,0.011555124748854636,0.011555124748854636,0.013097320004835235,0.013097320004835235,0.013097320004835235,0.028644008945639662,0.028644008945639662,0.028644008945639662,0.028644008945639662,0.028644008945639662,0.028644008945639662,0.028644008945639662,0.028644008945639662,0.011555124748854636,0.028644008945639662,0.028644008945639662,0.011555124748854636,0.011555124748854636,0.011555124748854636,0.011555124748854636,0.013097320004835235,0.011555124748854636,0.011555124748854636,0.011555124748854636,0.011555124748854636,0.011555124748854636,0.028644008945639662,0.028644008945639662,0.013097320004835235,0.013097320004835235,0.011555124748854636,0.028644008945639662,0.028644008945639662,0.028644008945639662,0.028644008945639662,0.028644008945639662,0.028644008945639662,0.028644008945639662,0.011555124748854636,0.028644008945639662,0.028644008945639662,0.028644008945639662,0.028644008945639662,0.0029029557759634806,0.0029029557759634806,0.028644008945639662,0.028644008945639662,0.028644008945639662,0.028644008945639662,0.028644008945639662,0.028644008945639662,0.028644008945639662,0.028644008945639662,0.028644008945639662,0.028644008945639662,0.011555124748854636,0.011555124748854636,0.028644008945639662,0.028644008945639662,0.011555124748854636,0.0029029557759634806,0.028644008945639662,0.013097320004835235,0.013097320004835235,0.028644008945639662,0.013097320004835235,0.028644008945639662,0.011555124748854636,0.011555124748854636,0.013097320004835235,0.013097320004835235,0.011555124748854636,0.028644008945639662,0.011555124748854636,0.011555124748854636,0.0029029557759634806,0.013097320004835235,0.013097320004835235,0.013097320004835235,0.011555124748854636,0.011555124748854636,0.028644008945639662,0.028644008945639662,0.013097320004835235,0.013097320004835235,0.013097320004835235,0.013097320004835235,0.013097320004835235,0.013097320004835235,0.028644008945639662,0.011555124748854636,0.028644008945639662,0.011555124748854636,0.028644008945639662,0.028644008945639662,0.028644008945639662,0.013097320004835235,0.028644008945639662,0.028644008945639662,0.028644008945639662,0.028644008945639662,0.028644008945639662,0.028644008945639662,0.028644008945639662,0.028644008945639662,0.028644008945639662,0.011555124748854636,0.028644008945639662,0.028644008945639662,0.028644008945639662,0.028644008945639662,0.028644008945639662,0.028644008945639662,0.028644008945639662,0.028644008945639662,0.028644008945639662,0.028644008945639662,0.028644008945639662,0.028644008945639662,0.028644008945639662,0.028644008945639662,0.011555124748854636,0.011555124748854636,0.0029029557759634806,0.013097320004835235,0.013097320004835235,0.013097320004835235,0.011555124748854636,0.011555124748854636,0.028644008945639662,0.011555124748854636,0.028644008945639662,0.013097320004835235,0.013097320004835235,0.013097320004835235,0.011555124748854636,0.011555124748854636,0.028644008945639662,0.011555124748854636,0.011555124748854636,0.011555124748854636,0.011555124748854636,0.013097320004835235,0.013097320004835235,0.028644008945639662,0.011555124748854636,0.011555124748854636,0.011555124748854636,0.011555124748854636,0.011555124748854636,0.011555124748854636,0.011555124748854636,0.011555124748854636,0.011555124748854636,0.011555124748854636,0.011555124748854636,0.011555124748854636,0.028644008945639662,0.011555124748854636,0.011555124748854636,0.011555124748854636,0.011555124748854636,0.011555124748854636,0.011555124748854636,0.011555124748854636,0.011555124748854636,0.011555124748854636,0.028644008945639662,0.028644008945639662,0.028644008945639662,0.028644008945639662,0.028644008945639662,0.013097320004835235,0.013097320004835235,0.013097320004835235,0.013097320004835235,0.013097320004835235,0.013097320004835235,0.013097320004835235,0.013097320004835235,0.013097320004835235,0.013097320004835235,0.013097320004835235,0.013097320004835235,0.013097320004835235,0.028644008945639662,0.011555124748854636,0.013097320004835235,0.028644008945639662,0.011555124748854636,0.028644008945639662,0.028644008945639662,0.0029029557759634806,0.028644008945639662,0.028644008945639662,0.028644008945639662,0.028644008945639662,0.011555124748854636,0.028644008945639662,0.028644008945639662,0.028644008945639662,0.028644008945639662,0.028644008945639662,0.011555124748854636,0.011555124748854636,0.028644008945639662,0.013097320004835235,0.028644008945639662,0.011555124748854636,0.013097320004835235,0.013097320004835235,0.028644008945639662,0.028644008945639662,0.028644008945639662,0.013097320004835235,0.028644008945639662,0.028644008945639662,0.028644008945639662,0.011555124748854636,0.028644008945639662,0.028644008945639662,0.028644008945639662,0.028644008945639662,0.028644008945639662,0.028644008945639662,0.028644008945639662,0.028644008945639662,0.028644008945639662,0.028644008945639662,0.028644008945639662,0.011555124748854636,0.013097320004835235,0.013097320004835235,0.013097320004835235,0.013097320004835235,0.013097320004835235,0.013097320004835235,0.013097320004835235,0.013097320004835235,0.013097320004835235,0.013097320004835235,0.013097320004835235,0.028644008945639662,0.028644008945639662,0.028644008945639662,0.011555124748854636,0.013097320004835235,0.011555124748854636,0.028644008945639662,0.028644008945639662,0.028644008945639662,0.028644008945639662,0.013097320004835235,0.028644008945639662,0.028644008945639662,0.011555124748854636,0.028644008945639662,0.028644008945639662,0.011555124748854636,0.013097320004835235,0.013097320004835235,0.013097320004835235,0.013097320004835235,0.013097320004835235,0.013097320004835235,0.013097320004835235,0.028644008945639662,0.028644008945639662,0.028644008945639662,0.028644008945639662,0.013097320004835235,0.011555124748854636,0.011555124748854636,0.028644008945639662,0.028644008945639662,0.0029029557759634806,0.028644008945639662,0.028644008945639662,0.011555124748854636,0.028644008945639662,0.028644008945639662,0.028644008945639662,0.028644008945639662,0.028644008945639662,0.0029029557759634806,0.028644008945639662,0.028644008945639662,0.013097320004835235,0.028644008945639662,0.028644008945639662,0.028644008945639662,0.028644008945639662,0.028644008945639662,0.011555124748854636,0.028644008945639662,0.0029029557759634806,0.028644008945639662,0.028644008945639662,0.028644008945639662,0.028644008945639662,0.011555124748854636,0.013097320004835235,0.028644008945639662,0.011555124748854636,0.028644008945639662,0.011555124748854636,0.028644008945639662,0.011555124748854636,0.028644008945639662,0.028644008945639662,0.028644008945639662,0.0029029557759634806,0.028644008945639662,0.028644008945639662,0.028644008945639662,0.028644008945639662,0.028644008945639662,0.0029029557759634806,0.0029029557759634806,0.028644008945639662,0.028644008945639662,0.013097320004835235,0.011555124748854636,0.028644008945639662,0.028644008945639662,0.028644008945639662,0.028644008945639662,0.028644008945639662,0.028644008945639662,0.028644008945639662,0.028644008945639662,0.028644008945639662,0.0029029557759634806,0.011555124748854636,0.013097320004835235,0.011555124748854636,0.011555124748854636,0.028644008945639662,0.028644008945639662,0.028644008945639662,0.028644008945639662,0.028644008945639662,0.028644008945639662,0.028644008945639662,0.0029029557759634806,0.028644008945639662,0.028644008945639662,0.013097320004835235,0.0029029557759634806,0.028644008945639662,0.028644008945639662,0.011555124748854636,0.028644008945639662,0.0029029557759634806,0.028644008945639662,0.028644008945639662,0.028644008945639662,0.028644008945639662,0.028644008945639662,0.0029029557759634806,0.028644008945639662,0.011555124748854636,0.028644008945639662,0.013097320004835235,0.028644008945639662,0.013097320004835235,0.013097320004835235,0.013097320004835235],\"type\":\"pie\"}],                        {\"template\":{\"data\":{\"histogram2dcontour\":[{\"type\":\"histogram2dcontour\",\"colorbar\":{\"outlinewidth\":0,\"ticks\":\"\"},\"colorscale\":[[0.0,\"#0d0887\"],[0.1111111111111111,\"#46039f\"],[0.2222222222222222,\"#7201a8\"],[0.3333333333333333,\"#9c179e\"],[0.4444444444444444,\"#bd3786\"],[0.5555555555555556,\"#d8576b\"],[0.6666666666666666,\"#ed7953\"],[0.7777777777777778,\"#fb9f3a\"],[0.8888888888888888,\"#fdca26\"],[1.0,\"#f0f921\"]]}],\"choropleth\":[{\"type\":\"choropleth\",\"colorbar\":{\"outlinewidth\":0,\"ticks\":\"\"}}],\"histogram2d\":[{\"type\":\"histogram2d\",\"colorbar\":{\"outlinewidth\":0,\"ticks\":\"\"},\"colorscale\":[[0.0,\"#0d0887\"],[0.1111111111111111,\"#46039f\"],[0.2222222222222222,\"#7201a8\"],[0.3333333333333333,\"#9c179e\"],[0.4444444444444444,\"#bd3786\"],[0.5555555555555556,\"#d8576b\"],[0.6666666666666666,\"#ed7953\"],[0.7777777777777778,\"#fb9f3a\"],[0.8888888888888888,\"#fdca26\"],[1.0,\"#f0f921\"]]}],\"heatmap\":[{\"type\":\"heatmap\",\"colorbar\":{\"outlinewidth\":0,\"ticks\":\"\"},\"colorscale\":[[0.0,\"#0d0887\"],[0.1111111111111111,\"#46039f\"],[0.2222222222222222,\"#7201a8\"],[0.3333333333333333,\"#9c179e\"],[0.4444444444444444,\"#bd3786\"],[0.5555555555555556,\"#d8576b\"],[0.6666666666666666,\"#ed7953\"],[0.7777777777777778,\"#fb9f3a\"],[0.8888888888888888,\"#fdca26\"],[1.0,\"#f0f921\"]]}],\"heatmapgl\":[{\"type\":\"heatmapgl\",\"colorbar\":{\"outlinewidth\":0,\"ticks\":\"\"},\"colorscale\":[[0.0,\"#0d0887\"],[0.1111111111111111,\"#46039f\"],[0.2222222222222222,\"#7201a8\"],[0.3333333333333333,\"#9c179e\"],[0.4444444444444444,\"#bd3786\"],[0.5555555555555556,\"#d8576b\"],[0.6666666666666666,\"#ed7953\"],[0.7777777777777778,\"#fb9f3a\"],[0.8888888888888888,\"#fdca26\"],[1.0,\"#f0f921\"]]}],\"contourcarpet\":[{\"type\":\"contourcarpet\",\"colorbar\":{\"outlinewidth\":0,\"ticks\":\"\"}}],\"contour\":[{\"type\":\"contour\",\"colorbar\":{\"outlinewidth\":0,\"ticks\":\"\"},\"colorscale\":[[0.0,\"#0d0887\"],[0.1111111111111111,\"#46039f\"],[0.2222222222222222,\"#7201a8\"],[0.3333333333333333,\"#9c179e\"],[0.4444444444444444,\"#bd3786\"],[0.5555555555555556,\"#d8576b\"],[0.6666666666666666,\"#ed7953\"],[0.7777777777777778,\"#fb9f3a\"],[0.8888888888888888,\"#fdca26\"],[1.0,\"#f0f921\"]]}],\"surface\":[{\"type\":\"surface\",\"colorbar\":{\"outlinewidth\":0,\"ticks\":\"\"},\"colorscale\":[[0.0,\"#0d0887\"],[0.1111111111111111,\"#46039f\"],[0.2222222222222222,\"#7201a8\"],[0.3333333333333333,\"#9c179e\"],[0.4444444444444444,\"#bd3786\"],[0.5555555555555556,\"#d8576b\"],[0.6666666666666666,\"#ed7953\"],[0.7777777777777778,\"#fb9f3a\"],[0.8888888888888888,\"#fdca26\"],[1.0,\"#f0f921\"]]}],\"mesh3d\":[{\"type\":\"mesh3d\",\"colorbar\":{\"outlinewidth\":0,\"ticks\":\"\"}}],\"scatter\":[{\"fillpattern\":{\"fillmode\":\"overlay\",\"size\":10,\"solidity\":0.2},\"type\":\"scatter\"}],\"parcoords\":[{\"type\":\"parcoords\",\"line\":{\"colorbar\":{\"outlinewidth\":0,\"ticks\":\"\"}}}],\"scatterpolargl\":[{\"type\":\"scatterpolargl\",\"marker\":{\"colorbar\":{\"outlinewidth\":0,\"ticks\":\"\"}}}],\"bar\":[{\"error_x\":{\"color\":\"#2a3f5f\"},\"error_y\":{\"color\":\"#2a3f5f\"},\"marker\":{\"line\":{\"color\":\"#E5ECF6\",\"width\":0.5},\"pattern\":{\"fillmode\":\"overlay\",\"size\":10,\"solidity\":0.2}},\"type\":\"bar\"}],\"scattergeo\":[{\"type\":\"scattergeo\",\"marker\":{\"colorbar\":{\"outlinewidth\":0,\"ticks\":\"\"}}}],\"scatterpolar\":[{\"type\":\"scatterpolar\",\"marker\":{\"colorbar\":{\"outlinewidth\":0,\"ticks\":\"\"}}}],\"histogram\":[{\"marker\":{\"pattern\":{\"fillmode\":\"overlay\",\"size\":10,\"solidity\":0.2}},\"type\":\"histogram\"}],\"scattergl\":[{\"type\":\"scattergl\",\"marker\":{\"colorbar\":{\"outlinewidth\":0,\"ticks\":\"\"}}}],\"scatter3d\":[{\"type\":\"scatter3d\",\"line\":{\"colorbar\":{\"outlinewidth\":0,\"ticks\":\"\"}},\"marker\":{\"colorbar\":{\"outlinewidth\":0,\"ticks\":\"\"}}}],\"scattermapbox\":[{\"type\":\"scattermapbox\",\"marker\":{\"colorbar\":{\"outlinewidth\":0,\"ticks\":\"\"}}}],\"scatterternary\":[{\"type\":\"scatterternary\",\"marker\":{\"colorbar\":{\"outlinewidth\":0,\"ticks\":\"\"}}}],\"scattercarpet\":[{\"type\":\"scattercarpet\",\"marker\":{\"colorbar\":{\"outlinewidth\":0,\"ticks\":\"\"}}}],\"carpet\":[{\"aaxis\":{\"endlinecolor\":\"#2a3f5f\",\"gridcolor\":\"white\",\"linecolor\":\"white\",\"minorgridcolor\":\"white\",\"startlinecolor\":\"#2a3f5f\"},\"baxis\":{\"endlinecolor\":\"#2a3f5f\",\"gridcolor\":\"white\",\"linecolor\":\"white\",\"minorgridcolor\":\"white\",\"startlinecolor\":\"#2a3f5f\"},\"type\":\"carpet\"}],\"table\":[{\"cells\":{\"fill\":{\"color\":\"#EBF0F8\"},\"line\":{\"color\":\"white\"}},\"header\":{\"fill\":{\"color\":\"#C8D4E3\"},\"line\":{\"color\":\"white\"}},\"type\":\"table\"}],\"barpolar\":[{\"marker\":{\"line\":{\"color\":\"#E5ECF6\",\"width\":0.5},\"pattern\":{\"fillmode\":\"overlay\",\"size\":10,\"solidity\":0.2}},\"type\":\"barpolar\"}],\"pie\":[{\"automargin\":true,\"type\":\"pie\"}]},\"layout\":{\"autotypenumbers\":\"strict\",\"colorway\":[\"#636efa\",\"#EF553B\",\"#00cc96\",\"#ab63fa\",\"#FFA15A\",\"#19d3f3\",\"#FF6692\",\"#B6E880\",\"#FF97FF\",\"#FECB52\"],\"font\":{\"color\":\"#2a3f5f\"},\"hovermode\":\"closest\",\"hoverlabel\":{\"align\":\"left\"},\"paper_bgcolor\":\"white\",\"plot_bgcolor\":\"#E5ECF6\",\"polar\":{\"bgcolor\":\"#E5ECF6\",\"angularaxis\":{\"gridcolor\":\"white\",\"linecolor\":\"white\",\"ticks\":\"\"},\"radialaxis\":{\"gridcolor\":\"white\",\"linecolor\":\"white\",\"ticks\":\"\"}},\"ternary\":{\"bgcolor\":\"#E5ECF6\",\"aaxis\":{\"gridcolor\":\"white\",\"linecolor\":\"white\",\"ticks\":\"\"},\"baxis\":{\"gridcolor\":\"white\",\"linecolor\":\"white\",\"ticks\":\"\"},\"caxis\":{\"gridcolor\":\"white\",\"linecolor\":\"white\",\"ticks\":\"\"}},\"coloraxis\":{\"colorbar\":{\"outlinewidth\":0,\"ticks\":\"\"}},\"colorscale\":{\"sequential\":[[0.0,\"#0d0887\"],[0.1111111111111111,\"#46039f\"],[0.2222222222222222,\"#7201a8\"],[0.3333333333333333,\"#9c179e\"],[0.4444444444444444,\"#bd3786\"],[0.5555555555555556,\"#d8576b\"],[0.6666666666666666,\"#ed7953\"],[0.7777777777777778,\"#fb9f3a\"],[0.8888888888888888,\"#fdca26\"],[1.0,\"#f0f921\"]],\"sequentialminus\":[[0.0,\"#0d0887\"],[0.1111111111111111,\"#46039f\"],[0.2222222222222222,\"#7201a8\"],[0.3333333333333333,\"#9c179e\"],[0.4444444444444444,\"#bd3786\"],[0.5555555555555556,\"#d8576b\"],[0.6666666666666666,\"#ed7953\"],[0.7777777777777778,\"#fb9f3a\"],[0.8888888888888888,\"#fdca26\"],[1.0,\"#f0f921\"]],\"diverging\":[[0,\"#8e0152\"],[0.1,\"#c51b7d\"],[0.2,\"#de77ae\"],[0.3,\"#f1b6da\"],[0.4,\"#fde0ef\"],[0.5,\"#f7f7f7\"],[0.6,\"#e6f5d0\"],[0.7,\"#b8e186\"],[0.8,\"#7fbc41\"],[0.9,\"#4d9221\"],[1,\"#276419\"]]},\"xaxis\":{\"gridcolor\":\"white\",\"linecolor\":\"white\",\"ticks\":\"\",\"title\":{\"standoff\":15},\"zerolinecolor\":\"white\",\"automargin\":true,\"zerolinewidth\":2},\"yaxis\":{\"gridcolor\":\"white\",\"linecolor\":\"white\",\"ticks\":\"\",\"title\":{\"standoff\":15},\"zerolinecolor\":\"white\",\"automargin\":true,\"zerolinewidth\":2},\"scene\":{\"xaxis\":{\"backgroundcolor\":\"#E5ECF6\",\"gridcolor\":\"white\",\"linecolor\":\"white\",\"showbackground\":true,\"ticks\":\"\",\"zerolinecolor\":\"white\",\"gridwidth\":2},\"yaxis\":{\"backgroundcolor\":\"#E5ECF6\",\"gridcolor\":\"white\",\"linecolor\":\"white\",\"showbackground\":true,\"ticks\":\"\",\"zerolinecolor\":\"white\",\"gridwidth\":2},\"zaxis\":{\"backgroundcolor\":\"#E5ECF6\",\"gridcolor\":\"white\",\"linecolor\":\"white\",\"showbackground\":true,\"ticks\":\"\",\"zerolinecolor\":\"white\",\"gridwidth\":2}},\"shapedefaults\":{\"line\":{\"color\":\"#2a3f5f\"}},\"annotationdefaults\":{\"arrowcolor\":\"#2a3f5f\",\"arrowhead\":0,\"arrowwidth\":1},\"geo\":{\"bgcolor\":\"white\",\"landcolor\":\"#E5ECF6\",\"subunitcolor\":\"white\",\"showland\":true,\"showlakes\":true,\"lakecolor\":\"white\"},\"title\":{\"x\":0.05},\"mapbox\":{\"style\":\"light\"}}},\"legend\":{\"tracegroupgap\":0},\"title\":{\"text\":\"Ketchup Preference\"}},                        {\"responsive\": true}                    ).then(function(){\n",
              "                            \n",
              "var gd = document.getElementById('69f385e8-1f3a-4ced-8554-c652cf4e8a8f');\n",
              "var x = new MutationObserver(function (mutations, observer) {{\n",
              "        var display = window.getComputedStyle(gd).display;\n",
              "        if (!display || display === 'none') {{\n",
              "            console.log([gd, 'removed!']);\n",
              "            Plotly.purge(gd);\n",
              "            observer.disconnect();\n",
              "        }}\n",
              "}});\n",
              "\n",
              "// Listen for the removal of the full notebook cells\n",
              "var notebookContainer = gd.closest('#notebook-container');\n",
              "if (notebookContainer) {{\n",
              "    x.observe(notebookContainer, {childList: true});\n",
              "}}\n",
              "\n",
              "// Listen for the clearing of the current output cell\n",
              "var outputEl = gd.closest('.output');\n",
              "if (outputEl) {{\n",
              "    x.observe(outputEl, {childList: true});\n",
              "}}\n",
              "\n",
              "                        })                };                            </script>        </div>\n",
              "</body>\n",
              "</html>"
            ]
          },
          "metadata": {}
        }
      ]
    },
    {
      "cell_type": "markdown",
      "source": [
        "Dapat disimpulkan dari dua diagram di atas adalah bahwa Ketchup merk Heinz memiliki harga paling tinggi dan yang menjadi preferensi banyak orang. Berbanding terbalik dengan Delmonte yang harganya paling murah dan paling sedikit untuk jadi preferensi konsumen. Sedangkan untuk merk Hunts dan STB memiliki selisih yang sedikit sehingga hampir seri, namun masih tinggi merk STB dibandingkan merk Hunts."
      ],
      "metadata": {
        "id": "s90ygAoyV_rC"
      }
    },
    {
      "cell_type": "markdown",
      "source": [
        "##**Verify Data Quality**"
      ],
      "metadata": {
        "id": "BqwrKc6WXFpz"
      }
    },
    {
      "cell_type": "markdown",
      "source": [
        "####Missing Values"
      ],
      "metadata": {
        "id": "JrPhpE3VXTMR"
      }
    },
    {
      "cell_type": "code",
      "source": [
        "df.describe()"
      ],
      "metadata": {
        "id": "iq2vTmQJXhuj",
        "colab": {
          "base_uri": "https://localhost:8080/",
          "height": 300
        },
        "outputId": "b088ce94-07d0-4cc7-fad1-f0b45872f056"
      },
      "execution_count": 10,
      "outputs": [
        {
          "output_type": "execute_result",
          "data": {
            "text/plain": [
              "        Unnamed: 0  Ketchup.hid   Ketchup.id  price.heinz  price.hunts  \\\n",
              "count  4956.000000  4956.000000  4956.000000  4956.000000  4956.000000   \n",
              "mean   2478.500000   936.721550     3.095642     1.248900     1.343860   \n",
              "std    1430.818297   549.104119     3.065865     0.204913     0.176185   \n",
              "min       1.000000     1.000000     1.000000     0.790000     0.790000   \n",
              "25%    1239.750000   463.750000     1.000000     0.990000     1.360000   \n",
              "50%    2478.500000   923.000000     2.000000     1.190000     1.390000   \n",
              "75%    3717.250000  1406.000000     4.000000     1.460000     1.430000   \n",
              "max    4956.000000  1956.000000    24.000000     1.470000     1.530000   \n",
              "\n",
              "       price.delmonte    price.stb  preference_count  preference_percent  \n",
              "count     4956.000000  4956.000000       4956.000000         4956.000000  \n",
              "mean         1.426945     0.921178       1779.378128            0.020178  \n",
              "std          0.114157     0.068198        783.486622            0.008884  \n",
              "min          0.890000     0.750000        256.000000            0.002903  \n",
              "25%          1.390000     0.890000       1019.000000            0.011555  \n",
              "50%          1.460000     0.950000       2526.000000            0.028644  \n",
              "75%          1.490000     0.950000       2526.000000            0.028644  \n",
              "max          1.490000     0.990000       2526.000000            0.028644  "
            ],
            "text/html": [
              "\n",
              "  <div id=\"df-db504a5c-eb50-4c56-91ce-a85e0d3ea957\" class=\"colab-df-container\">\n",
              "    <div>\n",
              "<style scoped>\n",
              "    .dataframe tbody tr th:only-of-type {\n",
              "        vertical-align: middle;\n",
              "    }\n",
              "\n",
              "    .dataframe tbody tr th {\n",
              "        vertical-align: top;\n",
              "    }\n",
              "\n",
              "    .dataframe thead th {\n",
              "        text-align: right;\n",
              "    }\n",
              "</style>\n",
              "<table border=\"1\" class=\"dataframe\">\n",
              "  <thead>\n",
              "    <tr style=\"text-align: right;\">\n",
              "      <th></th>\n",
              "      <th>Unnamed: 0</th>\n",
              "      <th>Ketchup.hid</th>\n",
              "      <th>Ketchup.id</th>\n",
              "      <th>price.heinz</th>\n",
              "      <th>price.hunts</th>\n",
              "      <th>price.delmonte</th>\n",
              "      <th>price.stb</th>\n",
              "      <th>preference_count</th>\n",
              "      <th>preference_percent</th>\n",
              "    </tr>\n",
              "  </thead>\n",
              "  <tbody>\n",
              "    <tr>\n",
              "      <th>count</th>\n",
              "      <td>4956.000000</td>\n",
              "      <td>4956.000000</td>\n",
              "      <td>4956.000000</td>\n",
              "      <td>4956.000000</td>\n",
              "      <td>4956.000000</td>\n",
              "      <td>4956.000000</td>\n",
              "      <td>4956.000000</td>\n",
              "      <td>4956.000000</td>\n",
              "      <td>4956.000000</td>\n",
              "    </tr>\n",
              "    <tr>\n",
              "      <th>mean</th>\n",
              "      <td>2478.500000</td>\n",
              "      <td>936.721550</td>\n",
              "      <td>3.095642</td>\n",
              "      <td>1.248900</td>\n",
              "      <td>1.343860</td>\n",
              "      <td>1.426945</td>\n",
              "      <td>0.921178</td>\n",
              "      <td>1779.378128</td>\n",
              "      <td>0.020178</td>\n",
              "    </tr>\n",
              "    <tr>\n",
              "      <th>std</th>\n",
              "      <td>1430.818297</td>\n",
              "      <td>549.104119</td>\n",
              "      <td>3.065865</td>\n",
              "      <td>0.204913</td>\n",
              "      <td>0.176185</td>\n",
              "      <td>0.114157</td>\n",
              "      <td>0.068198</td>\n",
              "      <td>783.486622</td>\n",
              "      <td>0.008884</td>\n",
              "    </tr>\n",
              "    <tr>\n",
              "      <th>min</th>\n",
              "      <td>1.000000</td>\n",
              "      <td>1.000000</td>\n",
              "      <td>1.000000</td>\n",
              "      <td>0.790000</td>\n",
              "      <td>0.790000</td>\n",
              "      <td>0.890000</td>\n",
              "      <td>0.750000</td>\n",
              "      <td>256.000000</td>\n",
              "      <td>0.002903</td>\n",
              "    </tr>\n",
              "    <tr>\n",
              "      <th>25%</th>\n",
              "      <td>1239.750000</td>\n",
              "      <td>463.750000</td>\n",
              "      <td>1.000000</td>\n",
              "      <td>0.990000</td>\n",
              "      <td>1.360000</td>\n",
              "      <td>1.390000</td>\n",
              "      <td>0.890000</td>\n",
              "      <td>1019.000000</td>\n",
              "      <td>0.011555</td>\n",
              "    </tr>\n",
              "    <tr>\n",
              "      <th>50%</th>\n",
              "      <td>2478.500000</td>\n",
              "      <td>923.000000</td>\n",
              "      <td>2.000000</td>\n",
              "      <td>1.190000</td>\n",
              "      <td>1.390000</td>\n",
              "      <td>1.460000</td>\n",
              "      <td>0.950000</td>\n",
              "      <td>2526.000000</td>\n",
              "      <td>0.028644</td>\n",
              "    </tr>\n",
              "    <tr>\n",
              "      <th>75%</th>\n",
              "      <td>3717.250000</td>\n",
              "      <td>1406.000000</td>\n",
              "      <td>4.000000</td>\n",
              "      <td>1.460000</td>\n",
              "      <td>1.430000</td>\n",
              "      <td>1.490000</td>\n",
              "      <td>0.950000</td>\n",
              "      <td>2526.000000</td>\n",
              "      <td>0.028644</td>\n",
              "    </tr>\n",
              "    <tr>\n",
              "      <th>max</th>\n",
              "      <td>4956.000000</td>\n",
              "      <td>1956.000000</td>\n",
              "      <td>24.000000</td>\n",
              "      <td>1.470000</td>\n",
              "      <td>1.530000</td>\n",
              "      <td>1.490000</td>\n",
              "      <td>0.990000</td>\n",
              "      <td>2526.000000</td>\n",
              "      <td>0.028644</td>\n",
              "    </tr>\n",
              "  </tbody>\n",
              "</table>\n",
              "</div>\n",
              "    <div class=\"colab-df-buttons\">\n",
              "\n",
              "  <div class=\"colab-df-container\">\n",
              "    <button class=\"colab-df-convert\" onclick=\"convertToInteractive('df-db504a5c-eb50-4c56-91ce-a85e0d3ea957')\"\n",
              "            title=\"Convert this dataframe to an interactive table.\"\n",
              "            style=\"display:none;\">\n",
              "\n",
              "  <svg xmlns=\"http://www.w3.org/2000/svg\" height=\"24px\" viewBox=\"0 -960 960 960\">\n",
              "    <path d=\"M120-120v-720h720v720H120Zm60-500h600v-160H180v160Zm220 220h160v-160H400v160Zm0 220h160v-160H400v160ZM180-400h160v-160H180v160Zm440 0h160v-160H620v160ZM180-180h160v-160H180v160Zm440 0h160v-160H620v160Z\"/>\n",
              "  </svg>\n",
              "    </button>\n",
              "\n",
              "  <style>\n",
              "    .colab-df-container {\n",
              "      display:flex;\n",
              "      gap: 12px;\n",
              "    }\n",
              "\n",
              "    .colab-df-convert {\n",
              "      background-color: #E8F0FE;\n",
              "      border: none;\n",
              "      border-radius: 50%;\n",
              "      cursor: pointer;\n",
              "      display: none;\n",
              "      fill: #1967D2;\n",
              "      height: 32px;\n",
              "      padding: 0 0 0 0;\n",
              "      width: 32px;\n",
              "    }\n",
              "\n",
              "    .colab-df-convert:hover {\n",
              "      background-color: #E2EBFA;\n",
              "      box-shadow: 0px 1px 2px rgba(60, 64, 67, 0.3), 0px 1px 3px 1px rgba(60, 64, 67, 0.15);\n",
              "      fill: #174EA6;\n",
              "    }\n",
              "\n",
              "    .colab-df-buttons div {\n",
              "      margin-bottom: 4px;\n",
              "    }\n",
              "\n",
              "    [theme=dark] .colab-df-convert {\n",
              "      background-color: #3B4455;\n",
              "      fill: #D2E3FC;\n",
              "    }\n",
              "\n",
              "    [theme=dark] .colab-df-convert:hover {\n",
              "      background-color: #434B5C;\n",
              "      box-shadow: 0px 1px 3px 1px rgba(0, 0, 0, 0.15);\n",
              "      filter: drop-shadow(0px 1px 2px rgba(0, 0, 0, 0.3));\n",
              "      fill: #FFFFFF;\n",
              "    }\n",
              "  </style>\n",
              "\n",
              "    <script>\n",
              "      const buttonEl =\n",
              "        document.querySelector('#df-db504a5c-eb50-4c56-91ce-a85e0d3ea957 button.colab-df-convert');\n",
              "      buttonEl.style.display =\n",
              "        google.colab.kernel.accessAllowed ? 'block' : 'none';\n",
              "\n",
              "      async function convertToInteractive(key) {\n",
              "        const element = document.querySelector('#df-db504a5c-eb50-4c56-91ce-a85e0d3ea957');\n",
              "        const dataTable =\n",
              "          await google.colab.kernel.invokeFunction('convertToInteractive',\n",
              "                                                    [key], {});\n",
              "        if (!dataTable) return;\n",
              "\n",
              "        const docLinkHtml = 'Like what you see? Visit the ' +\n",
              "          '<a target=\"_blank\" href=https://colab.research.google.com/notebooks/data_table.ipynb>data table notebook</a>'\n",
              "          + ' to learn more about interactive tables.';\n",
              "        element.innerHTML = '';\n",
              "        dataTable['output_type'] = 'display_data';\n",
              "        await google.colab.output.renderOutput(dataTable, element);\n",
              "        const docLink = document.createElement('div');\n",
              "        docLink.innerHTML = docLinkHtml;\n",
              "        element.appendChild(docLink);\n",
              "      }\n",
              "    </script>\n",
              "  </div>\n",
              "\n",
              "\n",
              "<div id=\"df-d28c2619-ea7c-4b3c-981d-db07af0e8119\">\n",
              "  <button class=\"colab-df-quickchart\" onclick=\"quickchart('df-d28c2619-ea7c-4b3c-981d-db07af0e8119')\"\n",
              "            title=\"Suggest charts\"\n",
              "            style=\"display:none;\">\n",
              "\n",
              "<svg xmlns=\"http://www.w3.org/2000/svg\" height=\"24px\"viewBox=\"0 0 24 24\"\n",
              "     width=\"24px\">\n",
              "    <g>\n",
              "        <path d=\"M19 3H5c-1.1 0-2 .9-2 2v14c0 1.1.9 2 2 2h14c1.1 0 2-.9 2-2V5c0-1.1-.9-2-2-2zM9 17H7v-7h2v7zm4 0h-2V7h2v10zm4 0h-2v-4h2v4z\"/>\n",
              "    </g>\n",
              "</svg>\n",
              "  </button>\n",
              "\n",
              "<style>\n",
              "  .colab-df-quickchart {\n",
              "      --bg-color: #E8F0FE;\n",
              "      --fill-color: #1967D2;\n",
              "      --hover-bg-color: #E2EBFA;\n",
              "      --hover-fill-color: #174EA6;\n",
              "      --disabled-fill-color: #AAA;\n",
              "      --disabled-bg-color: #DDD;\n",
              "  }\n",
              "\n",
              "  [theme=dark] .colab-df-quickchart {\n",
              "      --bg-color: #3B4455;\n",
              "      --fill-color: #D2E3FC;\n",
              "      --hover-bg-color: #434B5C;\n",
              "      --hover-fill-color: #FFFFFF;\n",
              "      --disabled-bg-color: #3B4455;\n",
              "      --disabled-fill-color: #666;\n",
              "  }\n",
              "\n",
              "  .colab-df-quickchart {\n",
              "    background-color: var(--bg-color);\n",
              "    border: none;\n",
              "    border-radius: 50%;\n",
              "    cursor: pointer;\n",
              "    display: none;\n",
              "    fill: var(--fill-color);\n",
              "    height: 32px;\n",
              "    padding: 0;\n",
              "    width: 32px;\n",
              "  }\n",
              "\n",
              "  .colab-df-quickchart:hover {\n",
              "    background-color: var(--hover-bg-color);\n",
              "    box-shadow: 0 1px 2px rgba(60, 64, 67, 0.3), 0 1px 3px 1px rgba(60, 64, 67, 0.15);\n",
              "    fill: var(--button-hover-fill-color);\n",
              "  }\n",
              "\n",
              "  .colab-df-quickchart-complete:disabled,\n",
              "  .colab-df-quickchart-complete:disabled:hover {\n",
              "    background-color: var(--disabled-bg-color);\n",
              "    fill: var(--disabled-fill-color);\n",
              "    box-shadow: none;\n",
              "  }\n",
              "\n",
              "  .colab-df-spinner {\n",
              "    border: 2px solid var(--fill-color);\n",
              "    border-color: transparent;\n",
              "    border-bottom-color: var(--fill-color);\n",
              "    animation:\n",
              "      spin 1s steps(1) infinite;\n",
              "  }\n",
              "\n",
              "  @keyframes spin {\n",
              "    0% {\n",
              "      border-color: transparent;\n",
              "      border-bottom-color: var(--fill-color);\n",
              "      border-left-color: var(--fill-color);\n",
              "    }\n",
              "    20% {\n",
              "      border-color: transparent;\n",
              "      border-left-color: var(--fill-color);\n",
              "      border-top-color: var(--fill-color);\n",
              "    }\n",
              "    30% {\n",
              "      border-color: transparent;\n",
              "      border-left-color: var(--fill-color);\n",
              "      border-top-color: var(--fill-color);\n",
              "      border-right-color: var(--fill-color);\n",
              "    }\n",
              "    40% {\n",
              "      border-color: transparent;\n",
              "      border-right-color: var(--fill-color);\n",
              "      border-top-color: var(--fill-color);\n",
              "    }\n",
              "    60% {\n",
              "      border-color: transparent;\n",
              "      border-right-color: var(--fill-color);\n",
              "    }\n",
              "    80% {\n",
              "      border-color: transparent;\n",
              "      border-right-color: var(--fill-color);\n",
              "      border-bottom-color: var(--fill-color);\n",
              "    }\n",
              "    90% {\n",
              "      border-color: transparent;\n",
              "      border-bottom-color: var(--fill-color);\n",
              "    }\n",
              "  }\n",
              "</style>\n",
              "\n",
              "  <script>\n",
              "    async function quickchart(key) {\n",
              "      const quickchartButtonEl =\n",
              "        document.querySelector('#' + key + ' button');\n",
              "      quickchartButtonEl.disabled = true;  // To prevent multiple clicks.\n",
              "      quickchartButtonEl.classList.add('colab-df-spinner');\n",
              "      try {\n",
              "        const charts = await google.colab.kernel.invokeFunction(\n",
              "            'suggestCharts', [key], {});\n",
              "      } catch (error) {\n",
              "        console.error('Error during call to suggestCharts:', error);\n",
              "      }\n",
              "      quickchartButtonEl.classList.remove('colab-df-spinner');\n",
              "      quickchartButtonEl.classList.add('colab-df-quickchart-complete');\n",
              "    }\n",
              "    (() => {\n",
              "      let quickchartButtonEl =\n",
              "        document.querySelector('#df-d28c2619-ea7c-4b3c-981d-db07af0e8119 button');\n",
              "      quickchartButtonEl.style.display =\n",
              "        google.colab.kernel.accessAllowed ? 'block' : 'none';\n",
              "    })();\n",
              "  </script>\n",
              "</div>\n",
              "    </div>\n",
              "  </div>\n"
            ],
            "application/vnd.google.colaboratory.intrinsic+json": {
              "type": "dataframe",
              "summary": "{\n  \"name\": \"df\",\n  \"rows\": 8,\n  \"fields\": [\n    {\n      \"column\": \"Unnamed: 0\",\n      \"properties\": {\n        \"dtype\": \"number\",\n        \"std\": 1785.8615879683175,\n        \"min\": 1.0,\n        \"max\": 4956.0,\n        \"num_unique_values\": 6,\n        \"samples\": [\n          4956.0,\n          2478.5,\n          3717.25\n        ],\n        \"semantic_type\": \"\",\n        \"description\": \"\"\n      }\n    },\n    {\n      \"column\": \"Ketchup.hid\",\n      \"properties\": {\n        \"dtype\": \"number\",\n        \"std\": 1556.288805127486,\n        \"min\": 1.0,\n        \"max\": 4956.0,\n        \"num_unique_values\": 8,\n        \"samples\": [\n          936.7215496368038,\n          923.0,\n          4956.0\n        ],\n        \"semantic_type\": \"\",\n        \"description\": \"\"\n      }\n    },\n    {\n      \"column\": \"Ketchup.id\",\n      \"properties\": {\n        \"dtype\": \"number\",\n        \"std\": 1750.2998452537852,\n        \"min\": 1.0,\n        \"max\": 4956.0,\n        \"num_unique_values\": 7,\n        \"samples\": [\n          4956.0,\n          3.095641646489104,\n          4.0\n        ],\n        \"semantic_type\": \"\",\n        \"description\": \"\"\n      }\n    },\n    {\n      \"column\": \"price.heinz\",\n      \"properties\": {\n        \"dtype\": \"number\",\n        \"std\": 1751.8392286056885,\n        \"min\": 0.20491287152383075,\n        \"max\": 4956.0,\n        \"num_unique_values\": 8,\n        \"samples\": [\n          1.2489003228410007,\n          1.19,\n          4956.0\n        ],\n        \"semantic_type\": \"\",\n        \"description\": \"\"\n      }\n    },\n    {\n      \"column\": \"price.hunts\",\n      \"properties\": {\n        \"dtype\": \"number\",\n        \"std\": 1751.8055890732103,\n        \"min\": 0.17618450723266882,\n        \"max\": 4956.0,\n        \"num_unique_values\": 8,\n        \"samples\": [\n          1.3438599677159,\n          1.39,\n          4956.0\n        ],\n        \"semantic_type\": \"\",\n        \"description\": \"\"\n      }\n    },\n    {\n      \"column\": \"price.delmonte\",\n      \"properties\": {\n        \"dtype\": \"number\",\n        \"std\": 1751.7934202055405,\n        \"min\": 0.11415653836566307,\n        \"max\": 4956.0,\n        \"num_unique_values\": 7,\n        \"samples\": [\n          4956.0,\n          1.4269451170298628,\n          1.46\n        ],\n        \"semantic_type\": \"\",\n        \"description\": \"\"\n      }\n    },\n    {\n      \"column\": \"price.stb\",\n      \"properties\": {\n        \"dtype\": \"number\",\n        \"std\": 1751.9318593118642,\n        \"min\": 0.06819796423040723,\n        \"max\": 4956.0,\n        \"num_unique_values\": 7,\n        \"samples\": [\n          4956.0,\n          0.9211783696529461,\n          0.95\n        ],\n        \"semantic_type\": \"\",\n        \"description\": \"\"\n      }\n    },\n    {\n      \"column\": \"preference_count\",\n      \"properties\": {\n        \"dtype\": \"number\",\n        \"std\": 1467.9020201094509,\n        \"min\": 256.0,\n        \"max\": 4956.0,\n        \"num_unique_values\": 6,\n        \"samples\": [\n          4956.0,\n          1779.3781275221954,\n          2526.0\n        ],\n        \"semantic_type\": \"\",\n        \"description\": \"\"\n      }\n    },\n    {\n      \"column\": \"preference_percent\",\n      \"properties\": {\n        \"dtype\": \"number\",\n        \"std\": 1752.204065487657,\n        \"min\": 0.0029029557759634806,\n        \"max\": 4956.0,\n        \"num_unique_values\": 6,\n        \"samples\": [\n          4956.0,\n          0.020177562550443912,\n          0.028644008945639662\n        ],\n        \"semantic_type\": \"\",\n        \"description\": \"\"\n      }\n    }\n  ]\n}"
            }
          },
          "metadata": {},
          "execution_count": 10
        }
      ]
    },
    {
      "cell_type": "markdown",
      "source": [
        "Pada dataset Ketchup tidak terdapat missing values. Semua kolom dan baris memiliki value nya masing-masing."
      ],
      "metadata": {
        "id": "2qJ5hwEqXoLo"
      }
    },
    {
      "cell_type": "markdown",
      "source": [
        "####Outliers Values"
      ],
      "metadata": {
        "id": "jEeCU-vVXV84"
      }
    },
    {
      "cell_type": "code",
      "source": [
        "sns.boxplot(x='Ketchup.choice', y='price.heinz', data=df, palette='pastel')\n"
      ],
      "metadata": {
        "id": "HGiqZ6aOX6HY",
        "colab": {
          "base_uri": "https://localhost:8080/",
          "height": 612
        },
        "outputId": "5cfd7b14-37ce-49aa-c8ec-fb11f317a623"
      },
      "execution_count": 11,
      "outputs": [
        {
          "output_type": "stream",
          "name": "stderr",
          "text": [
            "<ipython-input-11-779446a26f73>:1: FutureWarning:\n",
            "\n",
            "\n",
            "\n",
            "Passing `palette` without assigning `hue` is deprecated and will be removed in v0.14.0. Assign the `x` variable to `hue` and set `legend=False` for the same effect.\n",
            "\n",
            "\n"
          ]
        },
        {
          "output_type": "execute_result",
          "data": {
            "text/plain": [
              "<Axes: xlabel='Ketchup.choice', ylabel='price.heinz'>"
            ]
          },
          "metadata": {},
          "execution_count": 11
        },
        {
          "output_type": "display_data",
          "data": {
            "text/plain": [
              "<Figure size 640x480 with 1 Axes>"
            ],
            "image/png": "[encoded data removed]"
          },
          "metadata": {}
        }
      ]
    },
    {
      "cell_type": "markdown",
      "source": [
        "Berdasarkan visualisasi boxplot yang menampilkan merk dan harga ketchup di atas dapat disimpulkan bahwa tidak terdapat outliers (pencilan) pada dataset yang ada."
      ],
      "metadata": {
        "id": "ggn0R2wCXuSC"
      }
    },
    {
      "cell_type": "markdown",
      "source": [
        "####Duplicated Values"
      ],
      "metadata": {
        "id": "vWjwGwZaXaod"
      }
    },
    {
      "cell_type": "code",
      "source": [
        "duplicate_rows = df[df.duplicated()]\n",
        "\n",
        "print(\"Data yang dupilkat didalam dataset:\")\n",
        "print(duplicate_rows)"
      ],
      "metadata": {
        "id": "7wcta1dbX8l3",
        "colab": {
          "base_uri": "https://localhost:8080/"
        },
        "outputId": "45ebcc32-463d-4c4c-bfd9-0582e68e2f51"
      },
      "execution_count": 12,
      "outputs": [
        {
          "output_type": "stream",
          "name": "stdout",
          "text": [
            "Data yang dupilkat didalam dataset:\n",
            "Empty DataFrame\n",
            "Columns: [Unnamed: 0, Ketchup.hid, Ketchup.id, Ketchup.choice, price.heinz, price.hunts, price.delmonte, price.stb, preference_count, preference_percent]\n",
            "Index: []\n"
          ]
        }
      ]
    },
    {
      "cell_type": "code",
      "source": [
        "df.duplicated()"
      ],
      "metadata": {
        "colab": {
          "base_uri": "https://localhost:8080/"
        },
        "id": "I-acL2mtzov-",
        "outputId": "707b2a25-f5a9-4d92-895c-08fa5e241c50"
      },
      "execution_count": 13,
      "outputs": [
        {
          "output_type": "execute_result",
          "data": {
            "text/plain": [
              "0       False\n",
              "1       False\n",
              "2       False\n",
              "3       False\n",
              "4       False\n",
              "        ...  \n",
              "4951    False\n",
              "4952    False\n",
              "4953    False\n",
              "4954    False\n",
              "4955    False\n",
              "Length: 4956, dtype: bool"
            ]
          },
          "metadata": {},
          "execution_count": 13
        }
      ]
    },
    {
      "cell_type": "markdown",
      "source": [
        "Setelah syntax dijalankan, outputnya yaitu tidak terdapat data yang dupilkat didalam dataset ini."
      ],
      "metadata": {
        "id": "VKTUrMJAX0fv"
      }
    },
    {
      "cell_type": "markdown",
      "source": [
        "####Inconsistent Values / Noise (Optional)"
      ],
      "metadata": {
        "id": "q0_lULWDX-y6"
      }
    },
    {
      "cell_type": "code",
      "source": [
        "#Tambahkan kode untuk mengecek apakah ada nilai inkosisten/noise pada tiap kolom di dataset kalian ya (OPSIONAL)"
      ],
      "metadata": {
        "id": "cnvHMqE3YawE"
      },
      "execution_count": 14,
      "outputs": []
    },
    {
      "cell_type": "markdown",
      "source": [
        "Jangan lupa juga untuk berikan penjelasan di sini (OPSIONAL)"
      ],
      "metadata": {
        "id": "zN9xijkWYhq2"
      }
    }
  ]
}